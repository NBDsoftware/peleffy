{
 "cells": [
  {
   "cell_type": "code",
   "execution_count": 2,
   "metadata": {},
   "outputs": [],
   "source": [
    "from offpele.topology import Molecule"
   ]
  },
  {
   "cell_type": "code",
   "execution_count": 3,
   "metadata": {},
   "outputs": [
    {
     "name": "stderr",
     "output_type": "stream",
     "text": [
      " - Initializing molecule from a SMILES tag\n",
      "   - Loading molecule from RDKit\n",
      "   - Setting molecule name to 'COC(O)OC'\n",
      "   - Representing molecule with the Open Force Field Toolkit\n",
      "Warning: Unable to load toolkit 'OpenEye Toolkit'. The Open Force Field Toolkit does not require the OpenEye Toolkits, and can use RDKit/AmberTools instead. However, if you have a valid license for the OpenEye Toolkits, consider installing them for faster performance and additional file format support: https://docs.eyesopen.com/toolkits/python/quickstart-python/linuxosx.html OpenEye offers free Toolkit licenses for academics: https://www.eyesopen.com/academic-licensing\n"
     ]
    },
    {
     "data": {
      "application/vnd.jupyter.widget-view+json": {
       "model_id": "6ba415030b614c0bbe33d6cc3f17a9e2",
       "version_major": 2,
       "version_minor": 0
      },
      "text/plain": []
     },
     "metadata": {},
     "output_type": "display_data"
    },
    {
     "name": "stderr",
     "output_type": "stream",
     "text": [
      " - Generating rotamer library\n",
      "   - Core set to the center of the molecule\n"
     ]
    }
   ],
   "source": [
    "mol = Molecule(smiles='COC(O)OC')"
   ]
  },
  {
   "cell_type": "code",
   "execution_count": 4,
   "metadata": {},
   "outputs": [
    {
     "data": {
      "image/png": "[encoded data removed]",
      "text/plain": [
       "<rdkit.Chem.rdchem.Mol at 0x7ff3499b84e0>"
      ]
     },
     "metadata": {},
     "output_type": "display_data"
    }
   ],
   "source": [
    "display(mol)"
   ]
  },
  {
   "cell_type": "code",
   "execution_count": 5,
   "metadata": {},
   "outputs": [
    {
     "name": "stderr",
     "output_type": "stream",
     "text": [
      " - Loading forcefield\n",
      " - Computing partial charges with gasteiger\n"
     ]
    },
    {
     "ename": "ValueError",
     "evalue": "Invalid value found: The expected value for idivf is 1 for propers, obtained 3.0",
     "output_type": "error",
     "traceback": [
      "\u001b[0;31m---------------------------------------------------------------------------\u001b[0m",
      "\u001b[0;31mAssertionError\u001b[0m                            Traceback (most recent call last)",
      "\u001b[0;32m/Users/martimunicoy/repos/BSC/offpele/offpele/topology/topology.py\u001b[0m in \u001b[0;36mto_PELE\u001b[0;34m(self)\u001b[0m\n\u001b[1;32m    696\u001b[0m         \u001b[0;32mtry\u001b[0m\u001b[0;34m:\u001b[0m\u001b[0;34m\u001b[0m\u001b[0;34m\u001b[0m\u001b[0m\n\u001b[0;32m--> 697\u001b[0;31m             \u001b[0mself\u001b[0m\u001b[0;34m.\u001b[0m\u001b[0m_check_up\u001b[0m\u001b[0;34m(\u001b[0m\u001b[0;34m)\u001b[0m\u001b[0;34m\u001b[0m\u001b[0;34m\u001b[0m\u001b[0m\n\u001b[0m\u001b[1;32m    698\u001b[0m         \u001b[0;32mexcept\u001b[0m \u001b[0mAssertionError\u001b[0m \u001b[0;32mas\u001b[0m \u001b[0me\u001b[0m\u001b[0;34m:\u001b[0m\u001b[0;34m\u001b[0m\u001b[0;34m\u001b[0m\u001b[0m\n",
      "\u001b[0;32m/Users/martimunicoy/repos/BSC/offpele/offpele/topology/topology.py\u001b[0m in \u001b[0;36m_check_up\u001b[0;34m(self)\u001b[0m\n\u001b[1;32m    765\u001b[0m         \u001b[0;32massert\u001b[0m \u001b[0mself\u001b[0m\u001b[0;34m.\u001b[0m\u001b[0midivf\u001b[0m \u001b[0;34m==\u001b[0m \u001b[0;36m1\u001b[0m\u001b[0;34m,\u001b[0m \u001b[0;34m'The expected value for idivf is 1 '\u001b[0m\u001b[0;31m \u001b[0m\u001b[0;31m\\\u001b[0m\u001b[0;34m\u001b[0m\u001b[0;34m\u001b[0m\u001b[0m\n\u001b[0;32m--> 766\u001b[0;31m             \u001b[0;34m'for propers, obtained {}'\u001b[0m\u001b[0;34m.\u001b[0m\u001b[0mformat\u001b[0m\u001b[0;34m(\u001b[0m\u001b[0mself\u001b[0m\u001b[0;34m.\u001b[0m\u001b[0midivf\u001b[0m\u001b[0;34m)\u001b[0m\u001b[0;34m\u001b[0m\u001b[0;34m\u001b[0m\u001b[0m\n\u001b[0m\u001b[1;32m    767\u001b[0m \u001b[0;34m\u001b[0m\u001b[0m\n",
      "\u001b[0;31mAssertionError\u001b[0m: The expected value for idivf is 1 for propers, obtained 3.0",
      "\nDuring handling of the above exception, another exception occurred:\n",
      "\u001b[0;31mValueError\u001b[0m                                Traceback (most recent call last)",
      "\u001b[0;32m<ipython-input-5-e09fbfa0e140>\u001b[0m in \u001b[0;36m<module>\u001b[0;34m()\u001b[0m\n\u001b[0;32m----> 1\u001b[0;31m \u001b[0mmol\u001b[0m\u001b[0;34m.\u001b[0m\u001b[0mparameterize\u001b[0m\u001b[0;34m(\u001b[0m\u001b[0;34m'openff_unconstrained-1.2.0.offxml'\u001b[0m\u001b[0;34m,\u001b[0m \u001b[0mcharges_method\u001b[0m\u001b[0;34m=\u001b[0m\u001b[0;34m'gasteiger'\u001b[0m\u001b[0;34m)\u001b[0m\u001b[0;34m\u001b[0m\u001b[0;34m\u001b[0m\u001b[0m\n\u001b[0m",
      "\u001b[0;32m/Users/martimunicoy/repos/BSC/offpele/offpele/topology/molecule.py\u001b[0m in \u001b[0;36mparameterize\u001b[0;34m(self, forcefield, charges_method, use_OPLS_nonbonding_params, use_OPLS_bonds_and_angles)\u001b[0m\n\u001b[1;32m    758\u001b[0m         \u001b[0mself\u001b[0m\u001b[0;34m.\u001b[0m\u001b[0m_build_angles\u001b[0m\u001b[0;34m(\u001b[0m\u001b[0;34m)\u001b[0m\u001b[0;34m\u001b[0m\u001b[0;34m\u001b[0m\u001b[0m\n\u001b[1;32m    759\u001b[0m \u001b[0;34m\u001b[0m\u001b[0m\n\u001b[0;32m--> 760\u001b[0;31m         \u001b[0mself\u001b[0m\u001b[0;34m.\u001b[0m\u001b[0m_build_propers\u001b[0m\u001b[0;34m(\u001b[0m\u001b[0;34m)\u001b[0m\u001b[0;34m\u001b[0m\u001b[0;34m\u001b[0m\u001b[0m\n\u001b[0m\u001b[1;32m    761\u001b[0m \u001b[0;34m\u001b[0m\u001b[0m\n\u001b[1;32m    762\u001b[0m         \u001b[0mself\u001b[0m\u001b[0;34m.\u001b[0m\u001b[0m_build_impropers\u001b[0m\u001b[0;34m(\u001b[0m\u001b[0;34m)\u001b[0m\u001b[0;34m\u001b[0m\u001b[0;34m\u001b[0m\u001b[0m\n",
      "\u001b[0;32m/Users/martimunicoy/repos/BSC/offpele/offpele/topology/molecule.py\u001b[0m in \u001b[0;36m_build_propers\u001b[0;34m(self)\u001b[0m\n\u001b[1;32m   1022\u001b[0m                                            idivf=idivf)\n\u001b[1;32m   1023\u001b[0m \u001b[0;34m\u001b[0m\u001b[0m\n\u001b[0;32m-> 1024\u001b[0;31m                     \u001b[0mPELE_proper\u001b[0m \u001b[0;34m=\u001b[0m \u001b[0moff_proper\u001b[0m\u001b[0;34m.\u001b[0m\u001b[0mto_PELE\u001b[0m\u001b[0;34m(\u001b[0m\u001b[0;34m)\u001b[0m\u001b[0;34m\u001b[0m\u001b[0;34m\u001b[0m\u001b[0m\n\u001b[0m\u001b[1;32m   1025\u001b[0m                     \u001b[0mself\u001b[0m\u001b[0;34m.\u001b[0m\u001b[0m_add_proper\u001b[0m\u001b[0;34m(\u001b[0m\u001b[0mPELE_proper\u001b[0m\u001b[0;34m)\u001b[0m\u001b[0;34m\u001b[0m\u001b[0;34m\u001b[0m\u001b[0m\n\u001b[1;32m   1026\u001b[0m                     \u001b[0mself\u001b[0m\u001b[0;34m.\u001b[0m\u001b[0m_add_OFF_proper\u001b[0m\u001b[0;34m(\u001b[0m\u001b[0moff_proper\u001b[0m\u001b[0;34m)\u001b[0m\u001b[0;34m\u001b[0m\u001b[0;34m\u001b[0m\u001b[0m\n",
      "\u001b[0;32m/Users/martimunicoy/repos/BSC/offpele/offpele/topology/topology.py\u001b[0m in \u001b[0;36mto_PELE\u001b[0;34m(self)\u001b[0m\n\u001b[1;32m    697\u001b[0m             \u001b[0mself\u001b[0m\u001b[0;34m.\u001b[0m\u001b[0m_check_up\u001b[0m\u001b[0;34m(\u001b[0m\u001b[0;34m)\u001b[0m\u001b[0;34m\u001b[0m\u001b[0;34m\u001b[0m\u001b[0m\n\u001b[1;32m    698\u001b[0m         \u001b[0;32mexcept\u001b[0m \u001b[0mAssertionError\u001b[0m \u001b[0;32mas\u001b[0m \u001b[0me\u001b[0m\u001b[0;34m:\u001b[0m\u001b[0;34m\u001b[0m\u001b[0;34m\u001b[0m\u001b[0m\n\u001b[0;32m--> 699\u001b[0;31m             \u001b[0;32mraise\u001b[0m \u001b[0mValueError\u001b[0m\u001b[0;34m(\u001b[0m\u001b[0;34m'Invalid value found: {}'\u001b[0m\u001b[0;34m.\u001b[0m\u001b[0mformat\u001b[0m\u001b[0;34m(\u001b[0m\u001b[0me\u001b[0m\u001b[0;34m)\u001b[0m\u001b[0;34m)\u001b[0m\u001b[0;34m\u001b[0m\u001b[0;34m\u001b[0m\u001b[0m\n\u001b[0m\u001b[1;32m    700\u001b[0m \u001b[0;34m\u001b[0m\u001b[0m\n\u001b[1;32m    701\u001b[0m         \u001b[0mPELE_phase\u001b[0m \u001b[0;34m=\u001b[0m \u001b[0mself\u001b[0m\u001b[0;34m.\u001b[0m\u001b[0mphase\u001b[0m\u001b[0;34m\u001b[0m\u001b[0;34m\u001b[0m\u001b[0m\n",
      "\u001b[0;31mValueError\u001b[0m: Invalid value found: The expected value for idivf is 1 for propers, obtained 3.0"
     ]
    }
   ],
   "source": [
    "mol.parameterize('openff_unconstrained-1.2.0.offxml', charges_method='gasteiger')"
   ]
  },
  {
   "cell_type": "code",
   "execution_count": 10,
   "metadata": {},
   "outputs": [
    {
     "data": {
      "text/plain": [
       "{(0,\n",
       "  1,\n",
       "  2,\n",
       "  3): <ProperTorsionType with smirks: [#6X4:1]-[#8X2:2]-[#6X4:3]-[#8X2:4]  periodicity1: 3  periodicity2: 2  periodicity3: 1  phase1: 0.0 deg  phase2: 180.0 deg  phase3: 180.0 deg  id: t89  k1: 0.3886494723617 kcal/mol  k2: 0.256767135836 kcal/mol  k3: 1.319621430449 kcal/mol  idivf1: 1.0  idivf2: 1.0  idivf3: 1.0  >,\n",
       " (0,\n",
       "  1,\n",
       "  2,\n",
       "  4): <ProperTorsionType with smirks: [#6X4:1]-[#8X2:2]-[#6X4:3]-[#8X2:4]  periodicity1: 3  periodicity2: 2  periodicity3: 1  phase1: 0.0 deg  phase2: 180.0 deg  phase3: 180.0 deg  id: t89  k1: 0.3886494723617 kcal/mol  k2: 0.256767135836 kcal/mol  k3: 1.319621430449 kcal/mol  idivf1: 1.0  idivf2: 1.0  idivf3: 1.0  >,\n",
       " (0,\n",
       "  1,\n",
       "  2,\n",
       "  9): <ProperTorsionType with smirks: [*:1]-[#6X4:2]-[#8X2H0:3]-[*:4]  periodicity1: 3  phase1: 0.0 deg  id: t86  k1: 0.6047501401814 kcal/mol  idivf1: 3.0  >,\n",
       " (1,\n",
       "  2,\n",
       "  3,\n",
       "  10): <ProperTorsionType with smirks: [*:1]-[#6X4:2]-[#8X2:3]-[#1:4]  periodicity1: 3  phase1: 0.0 deg  id: t84  k1: 0.7065108173684 kcal/mol  idivf1: 3.0  >,\n",
       " (1,\n",
       "  2,\n",
       "  4,\n",
       "  5): <ProperTorsionType with smirks: [#6X4:1]-[#8X2:2]-[#6X4:3]-[#8X2:4]  periodicity1: 3  periodicity2: 2  periodicity3: 1  phase1: 0.0 deg  phase2: 180.0 deg  phase3: 180.0 deg  id: t89  k1: 0.3886494723617 kcal/mol  k2: 0.256767135836 kcal/mol  k3: 1.319621430449 kcal/mol  idivf1: 1.0  idivf2: 1.0  idivf3: 1.0  >,\n",
       " (2,\n",
       "  1,\n",
       "  0,\n",
       "  6): <ProperTorsionType with smirks: [*:1]-[#6X4:2]-[#8X2H0:3]-[*:4]  periodicity1: 3  phase1: 0.0 deg  id: t86  k1: 0.6047501401814 kcal/mol  idivf1: 3.0  >,\n",
       " (2,\n",
       "  1,\n",
       "  0,\n",
       "  7): <ProperTorsionType with smirks: [*:1]-[#6X4:2]-[#8X2H0:3]-[*:4]  periodicity1: 3  phase1: 0.0 deg  id: t86  k1: 0.6047501401814 kcal/mol  idivf1: 3.0  >,\n",
       " (2,\n",
       "  1,\n",
       "  0,\n",
       "  8): <ProperTorsionType with smirks: [*:1]-[#6X4:2]-[#8X2H0:3]-[*:4]  periodicity1: 3  phase1: 0.0 deg  id: t86  k1: 0.6047501401814 kcal/mol  idivf1: 3.0  >,\n",
       " (2,\n",
       "  4,\n",
       "  5,\n",
       "  11): <ProperTorsionType with smirks: [*:1]-[#6X4:2]-[#8X2H0:3]-[*:4]  periodicity1: 3  phase1: 0.0 deg  id: t86  k1: 0.6047501401814 kcal/mol  idivf1: 3.0  >,\n",
       " (2,\n",
       "  4,\n",
       "  5,\n",
       "  12): <ProperTorsionType with smirks: [*:1]-[#6X4:2]-[#8X2H0:3]-[*:4]  periodicity1: 3  phase1: 0.0 deg  id: t86  k1: 0.6047501401814 kcal/mol  idivf1: 3.0  >,\n",
       " (2,\n",
       "  4,\n",
       "  5,\n",
       "  13): <ProperTorsionType with smirks: [*:1]-[#6X4:2]-[#8X2H0:3]-[*:4]  periodicity1: 3  phase1: 0.0 deg  id: t86  k1: 0.6047501401814 kcal/mol  idivf1: 3.0  >,\n",
       " (3,\n",
       "  2,\n",
       "  4,\n",
       "  5): <ProperTorsionType with smirks: [#6X4:1]-[#8X2:2]-[#6X4:3]-[#8X2:4]  periodicity1: 3  periodicity2: 2  periodicity3: 1  phase1: 0.0 deg  phase2: 180.0 deg  phase3: 180.0 deg  id: t89  k1: 0.3886494723617 kcal/mol  k2: 0.256767135836 kcal/mol  k3: 1.319621430449 kcal/mol  idivf1: 1.0  idivf2: 1.0  idivf3: 1.0  >,\n",
       " (4,\n",
       "  2,\n",
       "  3,\n",
       "  10): <ProperTorsionType with smirks: [*:1]-[#6X4:2]-[#8X2:3]-[#1:4]  periodicity1: 3  phase1: 0.0 deg  id: t84  k1: 0.7065108173684 kcal/mol  idivf1: 3.0  >,\n",
       " (5,\n",
       "  4,\n",
       "  2,\n",
       "  9): <ProperTorsionType with smirks: [*:1]-[#6X4:2]-[#8X2H0:3]-[*:4]  periodicity1: 3  phase1: 0.0 deg  id: t86  k1: 0.6047501401814 kcal/mol  idivf1: 3.0  >,\n",
       " (9,\n",
       "  2,\n",
       "  3,\n",
       "  10): <ProperTorsionType with smirks: [*:1]-[#6X4:2]-[#8X2:3]-[#1:4]  periodicity1: 3  phase1: 0.0 deg  id: t84  k1: 0.7065108173684 kcal/mol  idivf1: 3.0  >}"
      ]
     },
     "execution_count": 10,
     "metadata": {},
     "output_type": "execute_result"
    }
   ],
   "source": [
    "dict(mol.parameters['ProperTorsions'])"
   ]
  },
  {
   "cell_type": "code",
   "execution_count": 7,
   "metadata": {},
   "outputs": [],
   "source": [
    "mol._parameterized = True"
   ]
  },
  {
   "cell_type": "code",
   "execution_count": 9,
   "metadata": {},
   "outputs": [
    {
     "data": {
      "image/svg+xml": [
       "<svg baseProfile=\"full\" height=\"250px\" version=\"1.1\" viewBox=\"0 0 250 250\" width=\"250px\" xml:space=\"preserve\" xmlns=\"http://www.w3.org/2000/svg\" xmlns:rdkit=\"http://www.rdkit.org/xml\" xmlns:xlink=\"http://www.w3.org/1999/xlink\">\n",
       "<!-- END OF HEADER -->\n",
       "<rect height=\"250\" style=\"opacity:1.0;fill:#FFFFFF;stroke:none\" width=\"250\" x=\"0\" y=\"0\"> </rect>\n",
       "<ellipse cx=\"193.658\" cy=\"144.638\" rx=\"8.16966\" ry=\"8.16966\" style=\"fill:#FF7F7F;fill-rule:evenodd;stroke:#FF7F7F;stroke-width:2px;stroke-linecap:butt;stroke-linejoin:miter;stroke-opacity:1\"/>\n",
       "<ellipse cx=\"154.581\" cy=\"156.535\" rx=\"8.99233\" ry=\"9.62803\" style=\"fill:#FF7F7F;fill-rule:evenodd;stroke:#FF7F7F;stroke-width:2px;stroke-linecap:butt;stroke-linejoin:miter;stroke-opacity:1\"/>\n",
       "<ellipse cx=\"124.739\" cy=\"128.643\" rx=\"8.16966\" ry=\"8.16966\" style=\"fill:#FF7F7F;fill-rule:evenodd;stroke:#FF7F7F;stroke-width:2px;stroke-linecap:butt;stroke-linejoin:miter;stroke-opacity:1\"/>\n",
       "<ellipse cx=\"181.761\" cy=\"105.56\" rx=\"8.34507\" ry=\"9.62803\" style=\"fill:#FF7F7F;fill-rule:evenodd;stroke:#FF7F7F;stroke-width:2px;stroke-linecap:butt;stroke-linejoin:miter;stroke-opacity:1\"/>\n",
       "<path class=\"bond-0\" d=\"M 193.658,144.638 L 177.299,149.619\" style=\"fill:none;fill-rule:evenodd;stroke:#000000;stroke-width:2px;stroke-linecap:butt;stroke-linejoin:miter;stroke-opacity:1\"/>\n",
       "<path class=\"bond-0\" d=\"M 177.299,149.619 L 160.94,154.599\" style=\"fill:none;fill-rule:evenodd;stroke:#FF0000;stroke-width:2px;stroke-linecap:butt;stroke-linejoin:miter;stroke-opacity:1\"/>\n",
       "<path class=\"bond-5\" d=\"M 193.658,144.638 L 226.835,134.536\" style=\"fill:none;fill-rule:evenodd;stroke:#000000;stroke-width:2px;stroke-linecap:butt;stroke-linejoin:miter;stroke-opacity:1\"/>\n",
       "<path class=\"bond-6\" d=\"M 193.658,144.638 L 203.483,176.907\" style=\"fill:none;fill-rule:evenodd;stroke:#000000;stroke-width:2px;stroke-linecap:butt;stroke-linejoin:miter;stroke-opacity:1\"/>\n",
       "<path class=\"bond-7\" d=\"M 193.658,144.638 L 183.833,112.368\" style=\"fill:none;fill-rule:evenodd;stroke:#000000;stroke-width:2px;stroke-linecap:butt;stroke-linejoin:miter;stroke-opacity:1\"/>\n",
       "<path class=\"bond-1\" d=\"M 148.223,150.592 L 136.481,139.617\" style=\"fill:none;fill-rule:evenodd;stroke:#FF0000;stroke-width:2px;stroke-linecap:butt;stroke-linejoin:miter;stroke-opacity:1\"/>\n",
       "<path class=\"bond-1\" d=\"M 136.481,139.617 L 124.739,128.643\" style=\"fill:none;fill-rule:evenodd;stroke:#000000;stroke-width:2px;stroke-linecap:butt;stroke-linejoin:miter;stroke-opacity:1\"/>\n",
       "<path class=\"bond-2\" d=\"M 124.739,128.643 L 112.997,117.668\" style=\"fill:none;fill-rule:evenodd;stroke:#000000;stroke-width:2px;stroke-linecap:butt;stroke-linejoin:miter;stroke-opacity:1\"/>\n",
       "<path class=\"bond-2\" d=\"M 112.997,117.668 L 101.255,106.693\" style=\"fill:none;fill-rule:evenodd;stroke:#FF0000;stroke-width:2px;stroke-linecap:butt;stroke-linejoin:miter;stroke-opacity:1\"/>\n",
       "<path class=\"bond-3\" d=\"M 124.739,128.643 L 113.972,140.162\" style=\"fill:none;fill-rule:evenodd;stroke:#000000;stroke-width:2px;stroke-linecap:butt;stroke-linejoin:miter;stroke-opacity:1\"/>\n",
       "<path class=\"bond-3\" d=\"M 113.972,140.162 L 103.204,151.682\" style=\"fill:none;fill-rule:evenodd;stroke:#FF0000;stroke-width:2px;stroke-linecap:butt;stroke-linejoin:miter;stroke-opacity:1\"/>\n",
       "<path class=\"bond-8\" d=\"M 124.739,128.643 L 146.731,105.113\" style=\"fill:none;fill-rule:evenodd;stroke:#000000;stroke-width:2px;stroke-linecap:butt;stroke-linejoin:miter;stroke-opacity:1\"/>\n",
       "<path class=\"bond-9\" d=\"M 96.4764,93.9417 L 99.5137,80.8543\" style=\"fill:none;fill-rule:evenodd;stroke:#FF0000;stroke-width:2px;stroke-linecap:butt;stroke-linejoin:miter;stroke-opacity:1\"/>\n",
       "<path class=\"bond-9\" d=\"M 99.5137,80.8543 L 102.551,67.767\" style=\"fill:none;fill-rule:evenodd;stroke:#000000;stroke-width:2px;stroke-linecap:butt;stroke-linejoin:miter;stroke-opacity:1\"/>\n",
       "<path class=\"bond-4\" d=\"M 90.4874,157.009 L 73.7713,153.13\" style=\"fill:none;fill-rule:evenodd;stroke:#FF0000;stroke-width:2px;stroke-linecap:butt;stroke-linejoin:miter;stroke-opacity:1\"/>\n",
       "<path class=\"bond-4\" d=\"M 73.7713,153.13 L 57.0552,149.25\" style=\"fill:none;fill-rule:evenodd;stroke:#000000;stroke-width:2px;stroke-linecap:butt;stroke-linejoin:miter;stroke-opacity:1\"/>\n",
       "<path class=\"bond-10\" d=\"M 57.0552,149.25 L 23.1653,141.385\" style=\"fill:none;fill-rule:evenodd;stroke:#000000;stroke-width:2px;stroke-linecap:butt;stroke-linejoin:miter;stroke-opacity:1\"/>\n",
       "<path class=\"bond-11\" d=\"M 57.0552,149.25 L 49.4005,182.233\" style=\"fill:none;fill-rule:evenodd;stroke:#000000;stroke-width:2px;stroke-linecap:butt;stroke-linejoin:miter;stroke-opacity:1\"/>\n",
       "<path class=\"bond-12\" d=\"M 57.0552,149.25 L 64.7099,116.268\" style=\"fill:none;fill-rule:evenodd;stroke:#000000;stroke-width:2px;stroke-linecap:butt;stroke-linejoin:miter;stroke-opacity:1\"/>\n",
       "<text dominant-baseline=\"central\" style=\"font-size:13px;font-style:normal;font-weight:normal;fill-opacity:1;stroke:none;font-family:sans-serif;fill:#FF0000\" text-anchor=\"middle\" x=\"154.581\" y=\"158.578\"><tspan>O</tspan></text>\n",
       "<text dominant-baseline=\"central\" style=\"font-size:13px;font-style:normal;font-weight:normal;fill-opacity:1;stroke:none;font-family:sans-serif;fill:#FF0000\" text-anchor=\"end\" x=\"99.8933\" y=\"102.792\"><tspan>O</tspan></text>\n",
       "<text dominant-baseline=\"central\" style=\"font-size:13px;font-style:normal;font-weight:normal;fill-opacity:1;stroke:none;font-family:sans-serif;fill:#FF0000\" text-anchor=\"middle\" x=\"96.8459\" y=\"160.527\"><tspan>O</tspan></text>\n",
       "<text dominant-baseline=\"central\" style=\"font-size:13px;font-style:normal;font-weight:normal;fill-opacity:1;stroke:none;font-family:sans-serif;fill:#000000\" text-anchor=\"start\" x=\"228.196\" y=\"134.782\"><tspan>H</tspan></text>\n",
       "<text dominant-baseline=\"central\" style=\"font-size:13px;font-style:normal;font-weight:normal;fill-opacity:1;stroke:none;font-family:sans-serif;fill:#000000\" text-anchor=\"start\" x=\"201.017\" y=\"185.757\"><tspan>H</tspan></text>\n",
       "<text dominant-baseline=\"central\" style=\"font-size:13px;font-style:normal;font-weight:normal;fill-opacity:1;stroke:none;font-family:sans-serif;fill:#000000\" text-anchor=\"start\" x=\"177.221\" y=\"107.603\"><tspan>H</tspan></text>\n",
       "<text dominant-baseline=\"central\" style=\"font-size:13px;font-style:normal;font-weight:normal;fill-opacity:1;stroke:none;font-family:sans-serif;fill:#000000\" text-anchor=\"start\" x=\"148.092\" y=\"100.843\"><tspan>H</tspan></text>\n",
       "<text dominant-baseline=\"central\" style=\"font-size:13px;font-style:normal;font-weight:normal;fill-opacity:1;stroke:none;font-family:sans-serif;fill:#000000\" text-anchor=\"start\" x=\"99.5919\" y=\"63.0014\"><tspan>H</tspan></text>\n",
       "<text dominant-baseline=\"central\" style=\"font-size:13px;font-style:normal;font-weight:normal;fill-opacity:1;stroke:none;font-family:sans-serif;fill:#000000\" text-anchor=\"end\" x=\"21.8037\" y=\"142.058\"><tspan>H</tspan></text>\n",
       "<text dominant-baseline=\"central\" style=\"font-size:13px;font-style:normal;font-weight:normal;fill-opacity:1;stroke:none;font-family:sans-serif;fill:#000000\" text-anchor=\"start\" x=\"43.2813\" y=\"191.083\"><tspan>H</tspan></text>\n",
       "<text dominant-baseline=\"central\" style=\"font-size:13px;font-style:normal;font-weight:normal;fill-opacity:1;stroke:none;font-family:sans-serif;fill:#000000\" text-anchor=\"start\" x=\"61.7507\" y=\"111.502\"><tspan>H</tspan></text>\n",
       "</svg>"
      ],
      "text/plain": [
       "<IPython.core.display.SVG object>"
      ]
     },
     "metadata": {},
     "output_type": "display_data"
    }
   ],
   "source": [
    "from offpelebenchmarktools.dihedrals import DihedralBenchmark\n",
    "\n",
    "dihedral_benchmark = DihedralBenchmark((2, 1, 0, 8), mol)\n",
    "dihedral_benchmark.display_dihedral()"
   ]
  },
  {
   "cell_type": "code",
   "execution_count": 14,
   "metadata": {},
   "outputs": [],
   "source": [
    "import offpelebenchmarktools.dihedrals"
   ]
  },
  {
   "cell_type": "code",
   "execution_count": null,
   "metadata": {},
   "outputs": [],
   "source": []
  }
 ],
 "metadata": {
  "kernelspec": {
   "display_name": "Python 3",
   "language": "python",
   "name": "python3"
  }
 },
 "nbformat": 4,
 "nbformat_minor": 4
}
