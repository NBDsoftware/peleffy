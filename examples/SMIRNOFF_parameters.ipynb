{
 "cells": [
  {
   "cell_type": "code",
   "execution_count": 4,
   "metadata": {},
   "outputs": [],
   "source": [
    "from rdkit import Chem\n",
    "from rdkit.Chem.Draw import IPythonConsole\n",
    "from rdkit.Chem.Draw.MolDrawing import MolDrawing, DrawingOptions\n",
    "\n",
    "DrawingOptions.bondLineWidth=1.8\n",
    "\n",
    "from openforcefield.topology import Molecule\n",
    "from offpele.utils import get_data_file_path"
   ]
  },
  {
   "cell_type": "code",
   "execution_count": 5,
   "metadata": {},
   "outputs": [],
   "source": [
    "file_path = get_data_file_path('ligands/BNZ.pdb')\n",
    "ligand_rdkit_molecule = Chem.rdmolfiles.MolFromPDBFile(file_path, removeHs=False)\n",
    "ligand_molecule = Molecule.from_rdkit(ligand_rdkit_molecule)"
   ]
  },
  {
   "cell_type": "code",
   "execution_count": 6,
   "metadata": {},
   "outputs": [
    {
     "data": {
      "image/png": "[encoded data removed]",
      "text/plain": [
       "<PIL.Image.Image image mode=RGB size=300x300 at 0x7F93583D0050>"
      ]
     },
     "execution_count": 6,
     "metadata": {},
     "output_type": "execute_result"
    }
   ],
   "source": [
    "Chem.rdDepictor.Compute2DCoords(ligand_rdkit_molecule)\n",
    "Chem.Draw.MolToImage(ligand_rdkit_molecule)"
   ]
  },
  {
   "cell_type": "code",
   "execution_count": 4,
   "metadata": {},
   "outputs": [],
   "source": [
    "from openforcefield.typing.engines.smirnoff import ForceField\n",
    "forcefield = ForceField('openff-1.1.1.offxml')"
   ]
  },
  {
   "cell_type": "code",
   "execution_count": 5,
   "metadata": {},
   "outputs": [],
   "source": [
    "system = forcefield.create_openmm_system(ligand_molecule.to_topology())"
   ]
  },
  {
   "cell_type": "code",
   "execution_count": 6,
   "metadata": {},
   "outputs": [],
   "source": [
    "forces = system.getForces()"
   ]
  },
  {
   "cell_type": "code",
   "execution_count": 7,
   "metadata": {},
   "outputs": [],
   "source": [
    "force = forces[1]"
   ]
  },
  {
   "cell_type": "code",
   "execution_count": 8,
   "metadata": {},
   "outputs": [
    {
     "data": {
      "text/plain": [
       "[1,\n",
       " 2,\n",
       " 7,\n",
       " 0,\n",
       " 2,\n",
       " Quantity(value=3.141592653589793, unit=radian),\n",
       " Quantity(value=1.5341333333333336, unit=kilojoule/mole)]"
      ]
     },
     "execution_count": 8,
     "metadata": {},
     "output_type": "execute_result"
    }
   ],
   "source": [
    "force.getTorsionParameters(1)"
   ]
  },
  {
   "cell_type": "code",
   "execution_count": 9,
   "metadata": {},
   "outputs": [],
   "source": [
    "from simtk.openmm import XmlSerializer\n",
    "with open('complex.xml', 'w') as f:\n",
    "    f.write(XmlSerializer.serialize(system))"
   ]
  },
  {
   "cell_type": "markdown",
   "metadata": {},
   "source": [
    "## Get atomic mass"
   ]
  },
  {
   "cell_type": "code",
   "execution_count": 10,
   "metadata": {
    "scrolled": true
   },
   "outputs": [
    {
     "name": "stdout",
     "output_type": "stream",
     "text": [
      "TopologyAtom 0 with reference atom <Atom name='C1' atomic number='6'> and parent TopologyMolecule <openforcefield.topology.topology.TopologyMolecule object at 0x7f92bd4343d0>\n",
      "TopologyAtom 1 with reference atom <Atom name='C2' atomic number='6'> and parent TopologyMolecule <openforcefield.topology.topology.TopologyMolecule object at 0x7f92bd4343d0>\n",
      "TopologyAtom 2 with reference atom <Atom name='C3' atomic number='6'> and parent TopologyMolecule <openforcefield.topology.topology.TopologyMolecule object at 0x7f92bd4343d0>\n",
      "TopologyAtom 3 with reference atom <Atom name='C4' atomic number='6'> and parent TopologyMolecule <openforcefield.topology.topology.TopologyMolecule object at 0x7f92bd4343d0>\n",
      "TopologyAtom 4 with reference atom <Atom name='C5' atomic number='6'> and parent TopologyMolecule <openforcefield.topology.topology.TopologyMolecule object at 0x7f92bd4343d0>\n",
      "TopologyAtom 5 with reference atom <Atom name='C6' atomic number='6'> and parent TopologyMolecule <openforcefield.topology.topology.TopologyMolecule object at 0x7f92bd4343d0>\n",
      "TopologyAtom 6 with reference atom <Atom name='H1' atomic number='1'> and parent TopologyMolecule <openforcefield.topology.topology.TopologyMolecule object at 0x7f92bd4343d0>\n",
      "TopologyAtom 7 with reference atom <Atom name='H2' atomic number='1'> and parent TopologyMolecule <openforcefield.topology.topology.TopologyMolecule object at 0x7f92bd4343d0>\n",
      "TopologyAtom 8 with reference atom <Atom name='H3' atomic number='1'> and parent TopologyMolecule <openforcefield.topology.topology.TopologyMolecule object at 0x7f92bd4343d0>\n",
      "TopologyAtom 9 with reference atom <Atom name='H4' atomic number='1'> and parent TopologyMolecule <openforcefield.topology.topology.TopologyMolecule object at 0x7f92bd4343d0>\n",
      "TopologyAtom 10 with reference atom <Atom name='H5' atomic number='1'> and parent TopologyMolecule <openforcefield.topology.topology.TopologyMolecule object at 0x7f92bd4343d0>\n",
      "TopologyAtom 11 with reference atom <Atom name='H6' atomic number='1'> and parent TopologyMolecule <openforcefield.topology.topology.TopologyMolecule object at 0x7f92bd4343d0>\n"
     ]
    }
   ],
   "source": [
    "for atom in ligand_molecule.to_topology().topology_particles:\n",
    "    print(atom)\n",
    "    "
   ]
  },
  {
   "cell_type": "markdown",
   "metadata": {},
   "source": [
    "## Forcefield parameter handlers"
   ]
  },
  {
   "cell_type": "markdown",
   "metadata": {},
   "source": [
    "### Parameter handler dependencies"
   ]
  },
  {
   "cell_type": "code",
   "execution_count": 12,
   "metadata": {},
   "outputs": [
    {
     "name": "stdout",
     "output_type": "stream",
     "text": [
      "Constraints:\n",
      "Bonds:\n",
      " - Constraints\n",
      "Angles:\n",
      " - Constraints\n",
      "ProperTorsions:\n",
      "ImproperTorsions:\n",
      "vdW:\n",
      "Electrostatics:\n",
      " - vdW\n",
      "LibraryCharges:\n",
      " - vdW\n",
      " - Electrostatics\n",
      "ToolkitAM1BCC:\n",
      " - vdW\n",
      " - Electrostatics\n",
      " - LibraryCharges\n"
     ]
    }
   ],
   "source": [
    "for tagname, handler in forcefield._parameter_handlers.items():\n",
    "    print('{}:'.format(tagname))\n",
    "    if handler._DEPENDENCIES is not None:\n",
    "        for dep in handler._DEPENDENCIES:\n",
    "            print(' -', dep._TAGNAME)"
   ]
  },
  {
   "cell_type": "code",
   "execution_count": 13,
   "metadata": {},
   "outputs": [],
   "source": [
    "ordered_parameter_handlers = forcefield._resolve_parameter_handler_order()"
   ]
  },
  {
   "cell_type": "code",
   "execution_count": 14,
   "metadata": {},
   "outputs": [
    {
     "name": "stdout",
     "output_type": "stream",
     "text": [
      "vdW\n",
      "Electrostatics\n",
      "LibraryCharges\n",
      "ToolkitAM1BCC\n",
      "ImproperTorsions\n",
      "ProperTorsions\n",
      "Constraints\n",
      "Angles\n",
      "Bonds\n"
     ]
    }
   ],
   "source": [
    "for handler in ordered_parameter_handlers:\n",
    "    print(handler._TAGNAME)"
   ]
  },
  {
   "cell_type": "code",
   "execution_count": 15,
   "metadata": {},
   "outputs": [],
   "source": [
    "ligand_topology = ligand_molecule.to_topology()"
   ]
  },
  {
   "cell_type": "markdown",
   "metadata": {},
   "source": [
    "### Extract vdW parameters"
   ]
  },
  {
   "cell_type": "code",
   "execution_count": null,
   "metadata": {},
   "outputs": [],
   "source": [
    "from openforcefield.typing.engines.smirnoff.parameters import vdWHandler\n",
    "\n",
    "for handler in ordered_parameter_handlers:\n",
    "    if isinstance(handler, vdWHandler):\n",
    "        break\n",
    "\n",
    "vdW_handler = handler\n",
    "print(vdW_handler._TAGNAME)"
   ]
  },
  {
   "cell_type": "code",
   "execution_count": null,
   "metadata": {},
   "outputs": [],
   "source": [
    "vdW_matches = vdW_handler.find_matches(ligand_topology)"
   ]
  },
  {
   "cell_type": "code",
   "execution_count": null,
   "metadata": {},
   "outputs": [],
   "source": [
    "for topology_atom_indices, vdW_match in vdW_matches.items():\n",
    "    print(topology_atom_indices, vdW_match.parameter_type.epsilon, vdW_match.parameter_type.sigma,\n",
    "          vdW_match.parameter_type.rmin_half)"
   ]
  },
  {
   "cell_type": "markdown",
   "metadata": {},
   "source": [
    "### Extract electrostatic parameters"
   ]
  },
  {
   "cell_type": "code",
   "execution_count": null,
   "metadata": {},
   "outputs": [],
   "source": [
    "from openforcefield.typing.engines.smirnoff.parameters import ElectrostaticsHandler\n",
    "\n",
    "for handler in ordered_parameter_handlers:\n",
    "    if isinstance(handler, ElectrostaticsHandler):\n",
    "        break\n",
    "\n",
    "electrostatics_handler = handler\n",
    "print(electrostatics_handler._TAGNAME)"
   ]
  },
  {
   "cell_type": "code",
   "execution_count": null,
   "metadata": {},
   "outputs": [],
   "source": [
    "electrostatics_matches = electrostatics_handler.find_matches(ligand_topology)"
   ]
  },
  {
   "cell_type": "code",
   "execution_count": null,
   "metadata": {},
   "outputs": [],
   "source": [
    "for topology_atom_indices, electrostatics_match in electrostatics_matches.items():\n",
    "    print(topology_atom_indices, electrostatics_match.parameter_type.epsilon, electrostatics_match.parameter_type.sigma,\n",
    "          electrostatics_match.parameter_type.rmin_half)"
   ]
  },
  {
   "cell_type": "markdown",
   "metadata": {},
   "source": [
    "### Extract library charge parameters"
   ]
  },
  {
   "cell_type": "code",
   "execution_count": null,
   "metadata": {},
   "outputs": [],
   "source": [
    "from openforcefield.typing.engines.smirnoff.parameters import LibraryChargeHandler\n",
    "\n",
    "for handler in ordered_parameter_handlers:\n",
    "    if isinstance(handler, LibraryChargeHandler):\n",
    "        break\n",
    "\n",
    "library_charge_handler = handler\n",
    "print(library_charge_handler._TAGNAME)"
   ]
  },
  {
   "cell_type": "code",
   "execution_count": null,
   "metadata": {},
   "outputs": [],
   "source": [
    "library_charge_matches = library_charge_handler.find_matches(ligand_topology)"
   ]
  },
  {
   "cell_type": "code",
   "execution_count": null,
   "metadata": {},
   "outputs": [],
   "source": [
    "for topology_atom_indices, library_charge_match in library_charge_matches.items():\n",
    "    print(topology_atom_indices, library_charge_match.parameter_type.epsilon, library_charge_match.parameter_type.sigma,\n",
    "          library_charge_match.parameter_type.rmin_half)"
   ]
  },
  {
   "cell_type": "markdown",
   "metadata": {},
   "source": [
    "### Extract ToolkitAM1BCC parameters"
   ]
  },
  {
   "cell_type": "code",
   "execution_count": 16,
   "metadata": {},
   "outputs": [
    {
     "name": "stdout",
     "output_type": "stream",
     "text": [
      "ToolkitAM1BCC\n"
     ]
    }
   ],
   "source": [
    "from openforcefield.typing.engines.smirnoff.parameters import ToolkitAM1BCCHandler\n",
    "\n",
    "for handler in ordered_parameter_handlers:\n",
    "    if isinstance(handler, ToolkitAM1BCCHandler):\n",
    "        break\n",
    "\n",
    "toolkit_AM1BCC_handler = handler\n",
    "print(toolkit_AM1BCC_handler._TAGNAME)"
   ]
  },
  {
   "cell_type": "code",
   "execution_count": 17,
   "metadata": {},
   "outputs": [],
   "source": [
    "toolkit_AM1BCC_matches = toolkit_AM1BCC_handler.find_matches(ligand_topology)"
   ]
  },
  {
   "cell_type": "code",
   "execution_count": 18,
   "metadata": {},
   "outputs": [],
   "source": [
    "for topology_atom_indices, toolkit_AM1BCC_match in toolkit_AM1BCC_matches.items():\n",
    "    print(topology_atom_indices, library_charge_match.parameter_type.epsilon, library_charge_match.parameter_type.sigma,\n",
    "          library_charge_match.parameter_type.rmin_half)"
   ]
  },
  {
   "cell_type": "code",
   "execution_count": null,
   "metadata": {},
   "outputs": [],
   "source": [
    "toolkit_AM1BCC_match."
   ]
  },
  {
   "cell_type": "code",
   "execution_count": null,
   "metadata": {},
   "outputs": [],
   "source": [
    "ligand_topology"
   ]
  },
  {
   "cell_type": "code",
   "execution_count": 19,
   "metadata": {},
   "outputs": [
    {
     "name": "stdout",
     "output_type": "stream",
     "text": [
      "Molecule with name 'HYDROLASE' and SMILES '[H][c]1[c]([H])[c]([H])[c]([H])[c]([H])[c]1[H]'\n"
     ]
    }
   ],
   "source": [
    "for molecule in ligand_topology.reference_molecules:\n",
    "    print(molecule)"
   ]
  },
  {
   "cell_type": "code",
   "execution_count": 20,
   "metadata": {},
   "outputs": [],
   "source": [
    "molecule.compute_partial_charges_am1bcc()"
   ]
  },
  {
   "cell_type": "code",
   "execution_count": 22,
   "metadata": {},
   "outputs": [
    {
     "data": {
      "text/plain": [
       "Quantity(value=array([-0.13, -0.13, -0.13, -0.13, -0.13, -0.13,  0.13,  0.13,  0.13,\n",
       "        0.13,  0.13,  0.13]), unit=elementary charge)"
      ]
     },
     "execution_count": 22,
     "metadata": {},
     "output_type": "execute_result"
    }
   ],
   "source": [
    "molecule.partial_charges"
   ]
  },
  {
   "cell_type": "markdown",
   "metadata": {},
   "source": [
    "### Extract bond parameters"
   ]
  },
  {
   "cell_type": "code",
   "execution_count": 36,
   "metadata": {},
   "outputs": [
    {
     "name": "stdout",
     "output_type": "stream",
     "text": [
      "Bonds\n"
     ]
    }
   ],
   "source": [
    "from openforcefield.typing.engines.smirnoff.parameters import BondHandler\n",
    "\n",
    "for handler in ordered_parameter_handlers:\n",
    "    if isinstance(handler, BondHandler):\n",
    "        break\n",
    "\n",
    "bond_handler = handler\n",
    "print(bond_handler._TAGNAME)"
   ]
  },
  {
   "cell_type": "code",
   "execution_count": 37,
   "metadata": {},
   "outputs": [],
   "source": [
    "bond_matches = bond_handler.find_matches(ligand_topology)"
   ]
  },
  {
   "cell_type": "code",
   "execution_count": 38,
   "metadata": {},
   "outputs": [
    {
     "name": "stdout",
     "output_type": "stream",
     "text": [
      "(0, 1) 1.388684811982 A 703.7861640732 kcal/(A**2 mol)\n",
      "(0, 5) 1.388684811982 A 703.7861640732 kcal/(A**2 mol)\n",
      "(0, 6) 1.085028902395 A 808.0585583296 kcal/(A**2 mol)\n",
      "(1, 2) 1.388684811982 A 703.7861640732 kcal/(A**2 mol)\n",
      "(1, 7) 1.085028902395 A 808.0585583296 kcal/(A**2 mol)\n",
      "(2, 3) 1.388684811982 A 703.7861640732 kcal/(A**2 mol)\n",
      "(2, 8) 1.085028902395 A 808.0585583296 kcal/(A**2 mol)\n",
      "(3, 4) 1.388684811982 A 703.7861640732 kcal/(A**2 mol)\n",
      "(3, 9) 1.085028902395 A 808.0585583296 kcal/(A**2 mol)\n",
      "(4, 5) 1.388684811982 A 703.7861640732 kcal/(A**2 mol)\n",
      "(4, 10) 1.085028902395 A 808.0585583296 kcal/(A**2 mol)\n",
      "(5, 11) 1.085028902395 A 808.0585583296 kcal/(A**2 mol)\n"
     ]
    }
   ],
   "source": [
    "for topology_atom_indices, bond_match in bond_matches.items():\n",
    "    print(topology_atom_indices, bond_match.parameter_type.length, bond_match.parameter_type.k)"
   ]
  },
  {
   "cell_type": "markdown",
   "metadata": {},
   "source": [
    "### Extract angle parameters"
   ]
  },
  {
   "cell_type": "code",
   "execution_count": null,
   "metadata": {},
   "outputs": [],
   "source": [
    "from openforcefield.typing.engines.smirnoff.parameters import AngleHandler\n",
    "\n",
    "for handler in ordered_parameter_handlers:\n",
    "    if isinstance(handler, AngleHandler):\n",
    "        break\n",
    "\n",
    "angle_handler = handler\n",
    "print(angle_handler._TAGNAME)"
   ]
  },
  {
   "cell_type": "code",
   "execution_count": null,
   "metadata": {},
   "outputs": [],
   "source": [
    "angle_matches = angle_handler.find_matches(ligand_topology)"
   ]
  },
  {
   "cell_type": "code",
   "execution_count": null,
   "metadata": {},
   "outputs": [],
   "source": [
    "for topology_atom_indices, angle_match in angle_matches.items():\n",
    "    print(topology_atom_indices, angle_match.parameter_type.angle, angle_match.parameter_type.k)"
   ]
  },
  {
   "cell_type": "markdown",
   "metadata": {},
   "source": [
    "### Extract proper torsion parameters"
   ]
  },
  {
   "cell_type": "code",
   "execution_count": null,
   "metadata": {},
   "outputs": [],
   "source": [
    "from openforcefield.typing.engines.smirnoff.parameters import ProperTorsionHandler\n",
    "\n",
    "for handler in ordered_parameter_handlers:\n",
    "    if isinstance(handler, ProperTorsionHandler):\n",
    "        break\n",
    "\n",
    "proper_torsion_handler = handler\n",
    "print(proper_torsion_handler._TAGNAME)"
   ]
  },
  {
   "cell_type": "code",
   "execution_count": null,
   "metadata": {},
   "outputs": [],
   "source": [
    "proper_torsion_matches = proper_torsion_handler.find_matches(ligand_topology)"
   ]
  },
  {
   "cell_type": "code",
   "execution_count": null,
   "metadata": {},
   "outputs": [],
   "source": [
    "for topology_atom_indices, proper_torsion_match in proper_torsion_matches.items():\n",
    "    print(topology_atom_indices, proper_torsion_match.parameter_type.periodicity,\n",
    "          proper_torsion_match.parameter_type.phase, proper_torsion_match.parameter_type.k)"
   ]
  },
  {
   "cell_type": "markdown",
   "metadata": {},
   "source": [
    "### Extract improper torsion parameters"
   ]
  },
  {
   "cell_type": "code",
   "execution_count": null,
   "metadata": {},
   "outputs": [],
   "source": [
    "from openforcefield.typing.engines.smirnoff.parameters import ImproperTorsionHandler\n",
    "\n",
    "for handler in ordered_parameter_handlers:\n",
    "    if isinstance(handler, ImproperTorsionHandler):\n",
    "        break\n",
    "\n",
    "improper_torsion_handler = handler\n",
    "print(improper_torsion_handler._TAGNAME)"
   ]
  },
  {
   "cell_type": "code",
   "execution_count": null,
   "metadata": {},
   "outputs": [],
   "source": [
    "improper_torsion_matches = improper_torsion_handler.find_matches(ligand_topology)"
   ]
  },
  {
   "cell_type": "code",
   "execution_count": null,
   "metadata": {},
   "outputs": [],
   "source": [
    "for topology_atom_indices, improper_torsion_match in improper_torsion_matches.items():\n",
    "    print(topology_atom_indices, improper_torsion_match.parameter_type.periodicity,\n",
    "          improper_torsion_match.parameter_type.phase, improper_torsion_match.parameter_type.k)"
   ]
  },
  {
   "cell_type": "markdown",
   "metadata": {},
   "source": [
    "## Retrieving solvent parameters"
   ]
  },
  {
   "cell_type": "code",
   "execution_count": 28,
   "metadata": {},
   "outputs": [],
   "source": [
    "from openforcefield.typing.engines.smirnoff import ForceField\n",
    "forcefield = ForceField('openff-1.1.1.offxml', 'test_forcefields/GBSA_HCT-1.0.offxml')"
   ]
  },
  {
   "cell_type": "code",
   "execution_count": null,
   "metadata": {},
   "outputs": [],
   "source": []
  },
  {
   "cell_type": "code",
   "execution_count": 29,
   "metadata": {},
   "outputs": [
    {
     "name": "stdout",
     "output_type": "stream",
     "text": [
      "Constraints:\n",
      "Bonds:\n",
      " - Constraints\n",
      "Angles:\n",
      " - Constraints\n",
      "ProperTorsions:\n",
      "ImproperTorsions:\n",
      "vdW:\n",
      "Electrostatics:\n",
      " - vdW\n",
      "LibraryCharges:\n",
      " - vdW\n",
      " - Electrostatics\n",
      "ToolkitAM1BCC:\n",
      " - vdW\n",
      " - Electrostatics\n",
      " - LibraryCharges\n",
      "GBSA:\n",
      " - vdW\n",
      " - Electrostatics\n",
      " - ToolkitAM1BCC\n",
      " - ChargeIncrementModel\n",
      " - LibraryCharges\n"
     ]
    }
   ],
   "source": [
    "for tagname, handler in forcefield._parameter_handlers.items():\n",
    "    print('{}:'.format(tagname))\n",
    "    if handler._DEPENDENCIES is not None:\n",
    "        for dep in handler._DEPENDENCIES:\n",
    "            print(' -', dep._TAGNAME)"
   ]
  },
  {
   "cell_type": "code",
   "execution_count": 30,
   "metadata": {},
   "outputs": [],
   "source": [
    "ordered_parameter_handlers = forcefield._resolve_parameter_handler_order()"
   ]
  },
  {
   "cell_type": "code",
   "execution_count": 31,
   "metadata": {},
   "outputs": [],
   "source": [
    "ligand_topology = ligand_molecule.to_topology()"
   ]
  },
  {
   "cell_type": "markdown",
   "metadata": {},
   "source": [
    "### Extract GBSA parameters"
   ]
  },
  {
   "cell_type": "code",
   "execution_count": 32,
   "metadata": {},
   "outputs": [
    {
     "name": "stdout",
     "output_type": "stream",
     "text": [
      "GBSA\n"
     ]
    }
   ],
   "source": [
    "from openforcefield.typing.engines.smirnoff.parameters import GBSAHandler\n",
    "\n",
    "for handler in ordered_parameter_handlers:\n",
    "    if isinstance(handler, GBSAHandler):\n",
    "        break\n",
    "\n",
    "GBSA_handler = handler\n",
    "print(GBSA_handler._TAGNAME)"
   ]
  },
  {
   "cell_type": "code",
   "execution_count": 34,
   "metadata": {},
   "outputs": [],
   "source": [
    "GBSA_matches = GBSA_handler.find_matches(ligand_topology)"
   ]
  },
  {
   "cell_type": "code",
   "execution_count": 35,
   "metadata": {},
   "outputs": [
    {
     "name": "stdout",
     "output_type": "stream",
     "text": [
      "(0,) 0.17 nm 0.72\n",
      "(1,) 0.17 nm 0.72\n",
      "(2,) 0.17 nm 0.72\n",
      "(3,) 0.17 nm 0.72\n",
      "(4,) 0.17 nm 0.72\n",
      "(5,) 0.17 nm 0.72\n",
      "(6,) 0.13 nm 0.85\n",
      "(7,) 0.13 nm 0.85\n",
      "(8,) 0.13 nm 0.85\n",
      "(9,) 0.13 nm 0.85\n",
      "(10,) 0.13 nm 0.85\n",
      "(11,) 0.13 nm 0.85\n"
     ]
    }
   ],
   "source": [
    "for topology_atom_indices, GBSA_match in GBSA_matches.items():\n",
    "    print(topology_atom_indices, GBSA_match.parameter_type.radius,\n",
    "          GBSA_match.parameter_type.scale)"
   ]
  },
  {
   "cell_type": "code",
   "execution_count": 19,
   "metadata": {},
   "outputs": [
    {
     "data": {
      "text/plain": [
       "Quantity(value=0.17, unit=nanometer)"
      ]
     },
     "execution_count": 19,
     "metadata": {},
     "output_type": "execute_result"
    }
   ],
   "source": [
    "GBSA_match.parameter_type.radius"
   ]
  },
  {
   "cell_type": "code",
   "execution_count": 20,
   "metadata": {},
   "outputs": [
    {
     "data": {
      "text/plain": [
       "0.72"
      ]
     },
     "execution_count": 20,
     "metadata": {},
     "output_type": "execute_result"
    }
   ],
   "source": [
    "GBSA_match.parameter_type.scale"
   ]
  },
  {
   "cell_type": "code",
   "execution_count": null,
   "metadata": {},
   "outputs": [],
   "source": [
    "with open('')"
   ]
  },
  {
   "cell_type": "markdown",
   "metadata": {},
   "source": [
    "## Slide cells"
   ]
  },
  {
   "cell_type": "code",
   "execution_count": 5,
   "metadata": {},
   "outputs": [],
   "source": [
    "from offpele.utils import get_data_file_path"
   ]
  },
  {
   "cell_type": "code",
   "execution_count": 15,
   "metadata": {},
   "outputs": [],
   "source": [
    "from rdkit import Chem\n",
    "from openforcefield.topology import Molecule\n",
    "\n",
    "file_path = get_data_file_path('ligands/BNZ.pdb')\n",
    "ligand_rdkit_molecule = Chem.rdmolfiles.MolFromPDBFile(file_path, removeHs=False)\n",
    "ligand_molecule = Molecule.from_rdkit(ligand_rdkit_molecule)\n",
    "ligand_topology = ligand_molecule.to_topology()"
   ]
  },
  {
   "cell_type": "code",
   "execution_count": 16,
   "metadata": {},
   "outputs": [],
   "source": [
    "from openforcefield.typing.engines.smirnoff import ForceField\n",
    "\n",
    "forcefield = ForceField('openff-1.1.1.offxml')"
   ]
  },
  {
   "cell_type": "code",
   "execution_count": 17,
   "metadata": {},
   "outputs": [],
   "source": [
    "vdW_handler = forcefield.get_parameter_handler('vdW')"
   ]
  },
  {
   "cell_type": "code",
   "execution_count": 18,
   "metadata": {},
   "outputs": [],
   "source": [
    "vdW_matches = vdW_handler.find_matches(ligand_topology)"
   ]
  },
  {
   "cell_type": "code",
   "execution_count": 19,
   "metadata": {},
   "outputs": [
    {
     "name": "stdout",
     "output_type": "stream",
     "text": [
      "(0,) 0.086 kcal/mol None 1.908 A\n",
      "(1,) 0.086 kcal/mol None 1.908 A\n",
      "(2,) 0.086 kcal/mol None 1.908 A\n",
      "(3,) 0.086 kcal/mol None 1.908 A\n",
      "(4,) 0.086 kcal/mol None 1.908 A\n",
      "(5,) 0.086 kcal/mol None 1.908 A\n",
      "(6,) 0.015 kcal/mol None 1.459 A\n",
      "(7,) 0.015 kcal/mol None 1.459 A\n",
      "(8,) 0.015 kcal/mol None 1.459 A\n",
      "(9,) 0.015 kcal/mol None 1.459 A\n",
      "(10,) 0.015 kcal/mol None 1.459 A\n",
      "(11,) 0.015 kcal/mol None 1.459 A\n"
     ]
    }
   ],
   "source": [
    "for topology_atom_indices, vdW_match in vdW_matches.items():\n",
    "    print(topology_atom_indices, vdW_match.parameter_type.epsilon, vdW_match.parameter_type.sigma,\n",
    "          vdW_match.parameter_type.rmin_half)"
   ]
  },
  {
   "cell_type": "code",
   "execution_count": 21,
   "metadata": {},
   "outputs": [],
   "source": [
    "bond_handler = forcefield.get_parameter_handler('Bonds')"
   ]
  },
  {
   "cell_type": "code",
   "execution_count": 22,
   "metadata": {},
   "outputs": [],
   "source": [
    "bond_matches = bond_handler.find_matches(ligand_topology)"
   ]
  },
  {
   "cell_type": "code",
   "execution_count": 23,
   "metadata": {},
   "outputs": [
    {
     "name": "stdout",
     "output_type": "stream",
     "text": [
      "(0, 1) 1.388684811982 A 703.7861640732 kcal/(A**2 mol)\n",
      "(0, 5) 1.388684811982 A 703.7861640732 kcal/(A**2 mol)\n",
      "(0, 6) 1.085028902395 A 808.0585583296 kcal/(A**2 mol)\n",
      "(1, 2) 1.388684811982 A 703.7861640732 kcal/(A**2 mol)\n",
      "(1, 7) 1.085028902395 A 808.0585583296 kcal/(A**2 mol)\n",
      "(2, 3) 1.388684811982 A 703.7861640732 kcal/(A**2 mol)\n",
      "(2, 8) 1.085028902395 A 808.0585583296 kcal/(A**2 mol)\n",
      "(3, 4) 1.388684811982 A 703.7861640732 kcal/(A**2 mol)\n",
      "(3, 9) 1.085028902395 A 808.0585583296 kcal/(A**2 mol)\n",
      "(4, 5) 1.388684811982 A 703.7861640732 kcal/(A**2 mol)\n",
      "(4, 10) 1.085028902395 A 808.0585583296 kcal/(A**2 mol)\n",
      "(5, 11) 1.085028902395 A 808.0585583296 kcal/(A**2 mol)\n"
     ]
    }
   ],
   "source": [
    "for topology_atom_indices, bond_match in bond_matches.items():\n",
    "    print(topology_atom_indices, bond_match.parameter_type.length, bond_match.parameter_type.k)"
   ]
  },
  {
   "cell_type": "code",
   "execution_count": 24,
   "metadata": {},
   "outputs": [],
   "source": [
    "ligand_molecule.compute_partial_charges_am1bcc()"
   ]
  },
  {
   "cell_type": "code",
   "execution_count": 27,
   "metadata": {},
   "outputs": [
    {
     "name": "stdout",
     "output_type": "stream",
     "text": [
      "<Atom name='C1' atomic number='6'> -0.13 e\n",
      "<Atom name='C2' atomic number='6'> -0.13 e\n",
      "<Atom name='C3' atomic number='6'> -0.13 e\n",
      "<Atom name='C4' atomic number='6'> -0.13 e\n",
      "<Atom name='C5' atomic number='6'> -0.13 e\n",
      "<Atom name='C6' atomic number='6'> -0.13 e\n",
      "<Atom name='H1' atomic number='1'> 0.13 e\n",
      "<Atom name='H2' atomic number='1'> 0.13 e\n",
      "<Atom name='H3' atomic number='1'> 0.13 e\n",
      "<Atom name='H4' atomic number='1'> 0.13 e\n",
      "<Atom name='H5' atomic number='1'> 0.13 e\n",
      "<Atom name='H6' atomic number='1'> 0.13 e\n"
     ]
    }
   ],
   "source": [
    "for atom, partial_charge in zip(ligand_molecule.atoms, ligand_molecule.partial_charges):\n",
    "    print(atom, partial_charge)"
   ]
  },
  {
   "cell_type": "code",
   "execution_count": null,
   "metadata": {},
   "outputs": [],
   "source": []
  }
 ],
 "metadata": {
  "kernelspec": {
   "display_name": "Python 3",
   "language": "python",
   "name": "python3"
  },
  "language_info": {
   "codemirror_mode": {
    "name": "ipython",
    "version": 3
   },
   "file_extension": ".py",
   "mimetype": "text/x-python",
   "name": "python",
   "nbconvert_exporter": "python",
   "pygments_lexer": "ipython3",
   "version": "3.7.4"
  }
 },
 "nbformat": 4,
 "nbformat_minor": 4
}
