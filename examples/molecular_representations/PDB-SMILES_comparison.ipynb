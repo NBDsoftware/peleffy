{
 "cells": [
  {
   "cell_type": "markdown",
   "metadata": {},
   "source": [
    "# Molecular representations\n",
    "This notebook shows the two available methods that can be used to define a molecule object in `peleffy`. It can accept either a PDB file or a SMILES tag."
   ]
  },
  {
   "cell_type": "code",
   "execution_count": 1,
   "metadata": {},
   "outputs": [],
   "source": [
    "from peleffy.topology import Molecule\n",
    "from peleffy.utils import get_data_file_path\n",
    "from simtk import unit\n",
    "from rdkit.Chem import AllChem\n",
    "from copy import copy"
   ]
  },
  {
   "cell_type": "code",
   "execution_count": 2,
   "metadata": {},
   "outputs": [],
   "source": [
    "# Get paths to PDB files\n",
    "AMMONIUM_PDB = get_data_file_path('ligands/ammonium.pdb')\n",
    "MALONATE_PDB = get_data_file_path('ligands/malonate.pdb')\n",
    "TRIMETHYLGLYCINE_PDB = get_data_file_path('ligands/trimethylglycine.pdb')"
   ]
  },
  {
   "cell_type": "markdown",
   "metadata": {},
   "source": [
    "## Ammonium"
   ]
  },
  {
   "cell_type": "code",
   "execution_count": 3,
   "metadata": {},
   "outputs": [
    {
     "name": "stderr",
     "output_type": "stream",
     "text": [
      " - Initializing molecule from PDB\n",
      "   - Loading molecule from RDKit\n",
      "   - Assigning stereochemistry from 3D coordinates\n",
      "   - Setting molecule name to 'ammonium'\n",
      "   - Setting molecule tag to 'UNL'\n",
      "   - Representing molecule with the Open Force Field Toolkit\n",
      " - Generating rotamer library\n",
      "   - Core set to the center of the molecule\n"
     ]
    },
    {
     "data": {
      "image/svg+xml": [
       "<svg baseProfile=\"full\" height=\"500px\" version=\"1.1\" viewBox=\"0 0 500 500\" width=\"500px\" xml:space=\"preserve\" xmlns=\"http://www.w3.org/2000/svg\" xmlns:rdkit=\"http://www.rdkit.org/xml\" xmlns:xlink=\"http://www.w3.org/1999/xlink\">\n",
       "<!-- END OF HEADER -->\n",
       "<rect height=\"500\" style=\"opacity:1.0;fill:#FFFFFF;stroke:none\" width=\"500\" x=\"0\" y=\"0\"> </rect>\n",
       "<path class=\"bond-0 atom-0 atom-1\" d=\"M 280.805,250 L 364.769,250\" style=\"fill:none;fill-rule:evenodd;stroke:#0000FF;stroke-width:4.0px;stroke-linecap:butt;stroke-linejoin:miter;stroke-opacity:1\"/>\n",
       "<path class=\"bond-0 atom-0 atom-1\" d=\"M 364.769,250 L 448.732,250\" style=\"fill:none;fill-rule:evenodd;stroke:#000000;stroke-width:4.0px;stroke-linecap:butt;stroke-linejoin:miter;stroke-opacity:1\"/>\n",
       "<path class=\"bond-1 atom-0 atom-2\" d=\"M 233.9,250 L 142.768,250\" style=\"fill:none;fill-rule:evenodd;stroke:#0000FF;stroke-width:4.0px;stroke-linecap:butt;stroke-linejoin:miter;stroke-opacity:1\"/>\n",
       "<path class=\"bond-1 atom-0 atom-2\" d=\"M 142.768,250 L 51.6353,250\" style=\"fill:none;fill-rule:evenodd;stroke:#000000;stroke-width:4.0px;stroke-linecap:butt;stroke-linejoin:miter;stroke-opacity:1\"/>\n",
       "<path class=\"bond-2 atom-0 atom-3\" d=\"M 250,230.48 L 250,142.555\" style=\"fill:none;fill-rule:evenodd;stroke:#0000FF;stroke-width:4.0px;stroke-linecap:butt;stroke-linejoin:miter;stroke-opacity:1\"/>\n",
       "<path class=\"bond-2 atom-0 atom-3\" d=\"M 250,142.555 L 250,54.6298\" style=\"fill:none;fill-rule:evenodd;stroke:#000000;stroke-width:4.0px;stroke-linecap:butt;stroke-linejoin:miter;stroke-opacity:1\"/>\n",
       "<path class=\"bond-3 atom-0 atom-4\" d=\"M 250,269.52 L 250,357.445\" style=\"fill:none;fill-rule:evenodd;stroke:#0000FF;stroke-width:4.0px;stroke-linecap:butt;stroke-linejoin:miter;stroke-opacity:1\"/>\n",
       "<path class=\"bond-3 atom-0 atom-4\" d=\"M 250,357.445 L 250,445.37\" style=\"fill:none;fill-rule:evenodd;stroke:#000000;stroke-width:4.0px;stroke-linecap:butt;stroke-linejoin:miter;stroke-opacity:1\"/>\n",
       "<path class=\"atom-0\" d=\"M 243.74 235.84 L 253.02 250.84 Q 253.94 252.32, 255.42 255 Q 256.9 257.68, 256.98 257.84 L 256.98 235.84 L 260.74 235.84 L 260.74 264.16 L 256.86 264.16 L 246.9 247.76 Q 245.74 245.84, 244.5 243.64 Q 243.3 241.44, 242.94 240.76 L 242.94 264.16 L 239.26 264.16 L 239.26 235.84 L 243.74 235.84 \" fill=\"#0000FF\"/>\n",
       "<path class=\"atom-0\" d=\"M 263.116 240.945 L 268.106 240.945 L 268.106 235.691 L 270.323 235.691 L 270.323 240.945 L 275.445 240.945 L 275.445 242.846 L 270.323 242.846 L 270.323 248.126 L 268.106 248.126 L 268.106 242.846 L 263.116 242.846 L 263.116 240.945 \" fill=\"#0000FF\"/>\n",
       "<path class=\"atom-1\" d=\"M 453.322 235.84 L 457.162 235.84 L 457.162 247.88 L 471.642 247.88 L 471.642 235.84 L 475.482 235.84 L 475.482 264.16 L 471.642 264.16 L 471.642 251.08 L 457.162 251.08 L 457.162 264.16 L 453.322 264.16 L 453.322 235.84 \" fill=\"#000000\"/>\n",
       "<path class=\"atom-2\" d=\"M 24.5178 235.84 L 28.3578 235.84 L 28.3578 247.88 L 42.8378 247.88 L 42.8378 235.84 L 46.6778 235.84 L 46.6778 264.16 L 42.8378 264.16 L 42.8378 251.08 L 28.3578 251.08 L 28.3578 264.16 L 24.5178 264.16 L 24.5178 235.84 \" fill=\"#000000\"/>\n",
       "<path class=\"atom-3\" d=\"M 238.92 21.4378 L 242.76 21.4378 L 242.76 33.4778 L 257.24 33.4778 L 257.24 21.4378 L 261.08 21.4378 L 261.08 49.7578 L 257.24 49.7578 L 257.24 36.6778 L 242.76 36.6778 L 242.76 49.7578 L 238.92 49.7578 L 238.92 21.4378 \" fill=\"#000000\"/>\n",
       "<path class=\"atom-4\" d=\"M 238.92 450.242 L 242.76 450.242 L 242.76 462.282 L 257.24 462.282 L 257.24 450.242 L 261.08 450.242 L 261.08 478.562 L 257.24 478.562 L 257.24 465.482 L 242.76 465.482 L 242.76 478.562 L 238.92 478.562 L 238.92 450.242 \" fill=\"#000000\"/>\n",
       "</svg>"
      ],
      "text/plain": [
       "<IPython.core.display.SVG object>"
      ]
     },
     "metadata": {},
     "output_type": "display_data"
    }
   ],
   "source": [
    "m = Molecule(AMMONIUM_PDB)\n",
    "display(m)"
   ]
  },
  {
   "cell_type": "code",
   "execution_count": 4,
   "metadata": {},
   "outputs": [
    {
     "name": "stderr",
     "output_type": "stream",
     "text": [
      " - Initializing molecule from a SMILES tag\n",
      "   - Loading molecule from RDKit\n",
      "   - Setting molecule name to '[NH4+]'\n",
      "   - Representing molecule with the Open Force Field Toolkit\n",
      " - Generating rotamer library\n",
      "   - Core set to the center of the molecule\n"
     ]
    },
    {
     "data": {
      "image/svg+xml": [
       "<svg baseProfile=\"full\" height=\"500px\" version=\"1.1\" viewBox=\"0 0 500 500\" width=\"500px\" xml:space=\"preserve\" xmlns=\"http://www.w3.org/2000/svg\" xmlns:rdkit=\"http://www.rdkit.org/xml\" xmlns:xlink=\"http://www.w3.org/1999/xlink\">\n",
       "<!-- END OF HEADER -->\n",
       "<rect height=\"500\" style=\"opacity:1.0;fill:#FFFFFF;stroke:none\" width=\"500\" x=\"0\" y=\"0\"> </rect>\n",
       "<path class=\"bond-0 atom-0 atom-1\" d=\"M 280.805,250 L 364.769,250\" style=\"fill:none;fill-rule:evenodd;stroke:#0000FF;stroke-width:4.0px;stroke-linecap:butt;stroke-linejoin:miter;stroke-opacity:1\"/>\n",
       "<path class=\"bond-0 atom-0 atom-1\" d=\"M 364.769,250 L 448.732,250\" style=\"fill:none;fill-rule:evenodd;stroke:#000000;stroke-width:4.0px;stroke-linecap:butt;stroke-linejoin:miter;stroke-opacity:1\"/>\n",
       "<path class=\"bond-1 atom-0 atom-2\" d=\"M 233.9,250 L 142.768,250\" style=\"fill:none;fill-rule:evenodd;stroke:#0000FF;stroke-width:4.0px;stroke-linecap:butt;stroke-linejoin:miter;stroke-opacity:1\"/>\n",
       "<path class=\"bond-1 atom-0 atom-2\" d=\"M 142.768,250 L 51.6353,250\" style=\"fill:none;fill-rule:evenodd;stroke:#000000;stroke-width:4.0px;stroke-linecap:butt;stroke-linejoin:miter;stroke-opacity:1\"/>\n",
       "<path class=\"bond-2 atom-0 atom-3\" d=\"M 250,230.48 L 250,142.555\" style=\"fill:none;fill-rule:evenodd;stroke:#0000FF;stroke-width:4.0px;stroke-linecap:butt;stroke-linejoin:miter;stroke-opacity:1\"/>\n",
       "<path class=\"bond-2 atom-0 atom-3\" d=\"M 250,142.555 L 250,54.6298\" style=\"fill:none;fill-rule:evenodd;stroke:#000000;stroke-width:4.0px;stroke-linecap:butt;stroke-linejoin:miter;stroke-opacity:1\"/>\n",
       "<path class=\"bond-3 atom-0 atom-4\" d=\"M 250,269.52 L 250,357.445\" style=\"fill:none;fill-rule:evenodd;stroke:#0000FF;stroke-width:4.0px;stroke-linecap:butt;stroke-linejoin:miter;stroke-opacity:1\"/>\n",
       "<path class=\"bond-3 atom-0 atom-4\" d=\"M 250,357.445 L 250,445.37\" style=\"fill:none;fill-rule:evenodd;stroke:#000000;stroke-width:4.0px;stroke-linecap:butt;stroke-linejoin:miter;stroke-opacity:1\"/>\n",
       "<path class=\"atom-0\" d=\"M 243.74 235.84 L 253.02 250.84 Q 253.94 252.32, 255.42 255 Q 256.9 257.68, 256.98 257.84 L 256.98 235.84 L 260.74 235.84 L 260.74 264.16 L 256.86 264.16 L 246.9 247.76 Q 245.74 245.84, 244.5 243.64 Q 243.3 241.44, 242.94 240.76 L 242.94 264.16 L 239.26 264.16 L 239.26 235.84 L 243.74 235.84 \" fill=\"#0000FF\"/>\n",
       "<path class=\"atom-0\" d=\"M 263.116 240.945 L 268.106 240.945 L 268.106 235.691 L 270.323 235.691 L 270.323 240.945 L 275.445 240.945 L 275.445 242.846 L 270.323 242.846 L 270.323 248.126 L 268.106 248.126 L 268.106 242.846 L 263.116 242.846 L 263.116 240.945 \" fill=\"#0000FF\"/>\n",
       "<path class=\"atom-1\" d=\"M 453.322 235.84 L 457.162 235.84 L 457.162 247.88 L 471.642 247.88 L 471.642 235.84 L 475.482 235.84 L 475.482 264.16 L 471.642 264.16 L 471.642 251.08 L 457.162 251.08 L 457.162 264.16 L 453.322 264.16 L 453.322 235.84 \" fill=\"#000000\"/>\n",
       "<path class=\"atom-2\" d=\"M 24.5178 235.84 L 28.3578 235.84 L 28.3578 247.88 L 42.8378 247.88 L 42.8378 235.84 L 46.6778 235.84 L 46.6778 264.16 L 42.8378 264.16 L 42.8378 251.08 L 28.3578 251.08 L 28.3578 264.16 L 24.5178 264.16 L 24.5178 235.84 \" fill=\"#000000\"/>\n",
       "<path class=\"atom-3\" d=\"M 238.92 21.4378 L 242.76 21.4378 L 242.76 33.4778 L 257.24 33.4778 L 257.24 21.4378 L 261.08 21.4378 L 261.08 49.7578 L 257.24 49.7578 L 257.24 36.6778 L 242.76 36.6778 L 242.76 49.7578 L 238.92 49.7578 L 238.92 21.4378 \" fill=\"#000000\"/>\n",
       "<path class=\"atom-4\" d=\"M 238.92 450.242 L 242.76 450.242 L 242.76 462.282 L 257.24 462.282 L 257.24 450.242 L 261.08 450.242 L 261.08 478.562 L 257.24 478.562 L 257.24 465.482 L 242.76 465.482 L 242.76 478.562 L 238.92 478.562 L 238.92 450.242 \" fill=\"#000000\"/>\n",
       "</svg>"
      ],
      "text/plain": [
       "<IPython.core.display.SVG object>"
      ]
     },
     "metadata": {},
     "output_type": "display_data"
    }
   ],
   "source": [
    "m = Molecule(smiles='[NH4+]', hydrogens_are_explicit=False)\n",
    "display(m)"
   ]
  },
  {
   "cell_type": "markdown",
   "metadata": {},
   "source": [
    "## Malonate"
   ]
  },
  {
   "cell_type": "code",
   "execution_count": 5,
   "metadata": {},
   "outputs": [
    {
     "name": "stderr",
     "output_type": "stream",
     "text": [
      " - Initializing molecule from PDB\n",
      "   - Loading molecule from RDKit\n",
      "   - Assigning stereochemistry from 3D coordinates\n",
      "   - Setting molecule name to 'malonate'\n",
      "   - Setting molecule tag to 'UNL'\n",
      "   - Representing molecule with the Open Force Field Toolkit\n",
      " - Generating rotamer library\n",
      "   - Core set to the center of the molecule\n"
     ]
    },
    {
     "data": {
      "image/svg+xml": [
       "<svg baseProfile=\"full\" height=\"500px\" version=\"1.1\" viewBox=\"0 0 500 500\" width=\"500px\" xml:space=\"preserve\" xmlns=\"http://www.w3.org/2000/svg\" xmlns:rdkit=\"http://www.rdkit.org/xml\" xmlns:xlink=\"http://www.w3.org/1999/xlink\">\n",
       "<!-- END OF HEADER -->\n",
       "<rect height=\"500\" style=\"opacity:1.0;fill:#FFFFFF;stroke:none\" width=\"500\" x=\"0\" y=\"0\"> </rect>\n",
       "<path class=\"bond-0 atom-0 atom-1\" d=\"M 56.4471,300.558 L 82.1029,269.76\" style=\"fill:none;fill-rule:evenodd;stroke:#FF0000;stroke-width:4.0px;stroke-linecap:butt;stroke-linejoin:miter;stroke-opacity:1\"/>\n",
       "<path class=\"bond-0 atom-0 atom-1\" d=\"M 82.1029,269.76 L 107.759,238.962\" style=\"fill:none;fill-rule:evenodd;stroke:#000000;stroke-width:4.0px;stroke-linecap:butt;stroke-linejoin:miter;stroke-opacity:1\"/>\n",
       "<path class=\"bond-0 atom-0 atom-1\" d=\"M 40.7532,287.484 L 66.409,256.686\" style=\"fill:none;fill-rule:evenodd;stroke:#FF0000;stroke-width:4.0px;stroke-linecap:butt;stroke-linejoin:miter;stroke-opacity:1\"/>\n",
       "<path class=\"bond-0 atom-0 atom-1\" d=\"M 66.409,256.686 L 92.0649,225.888\" style=\"fill:none;fill-rule:evenodd;stroke:#000000;stroke-width:4.0px;stroke-linecap:butt;stroke-linejoin:miter;stroke-opacity:1\"/>\n",
       "<path class=\"bond-1 atom-1 atom-2\" d=\"M 99.9118,232.425 L 85.4612,193.159\" style=\"fill:none;fill-rule:evenodd;stroke:#000000;stroke-width:4.0px;stroke-linecap:butt;stroke-linejoin:miter;stroke-opacity:1\"/>\n",
       "<path class=\"bond-1 atom-1 atom-2\" d=\"M 85.4612,193.159 L 71.0106,153.893\" style=\"fill:none;fill-rule:evenodd;stroke:#FF0000;stroke-width:4.0px;stroke-linecap:butt;stroke-linejoin:miter;stroke-opacity:1\"/>\n",
       "<path class=\"bond-2 atom-1 atom-3\" d=\"M 99.9118,232.425 L 200.552,249.8\" style=\"fill:none;fill-rule:evenodd;stroke:#000000;stroke-width:4.0px;stroke-linecap:butt;stroke-linejoin:miter;stroke-opacity:1\"/>\n",
       "<path class=\"bond-3 atom-3 atom-4\" d=\"M 200.552,249.8 L 301.193,267.175\" style=\"fill:none;fill-rule:evenodd;stroke:#000000;stroke-width:4.0px;stroke-linecap:butt;stroke-linejoin:miter;stroke-opacity:1\"/>\n",
       "<path class=\"bond-4 atom-3 atom-7\" d=\"M 200.552,249.8 L 215.042,165.873\" style=\"fill:none;fill-rule:evenodd;stroke:#000000;stroke-width:4.0px;stroke-linecap:butt;stroke-linejoin:miter;stroke-opacity:1\"/>\n",
       "<path class=\"bond-5 atom-3 atom-8\" d=\"M 200.552,249.8 L 186.063,333.727\" style=\"fill:none;fill-rule:evenodd;stroke:#000000;stroke-width:4.0px;stroke-linecap:butt;stroke-linejoin:miter;stroke-opacity:1\"/>\n",
       "<path class=\"bond-6 atom-4 atom-5\" d=\"M 301.193,267.175 L 326.665,236.597\" style=\"fill:none;fill-rule:evenodd;stroke:#000000;stroke-width:4.0px;stroke-linecap:butt;stroke-linejoin:miter;stroke-opacity:1\"/>\n",
       "<path class=\"bond-6 atom-4 atom-5\" d=\"M 326.665,236.597 L 352.138,206.019\" style=\"fill:none;fill-rule:evenodd;stroke:#FF0000;stroke-width:4.0px;stroke-linecap:butt;stroke-linejoin:miter;stroke-opacity:1\"/>\n",
       "<path class=\"bond-7 atom-4 atom-6\" d=\"M 291.608,270.703 L 306.14,310.188\" style=\"fill:none;fill-rule:evenodd;stroke:#000000;stroke-width:4.0px;stroke-linecap:butt;stroke-linejoin:miter;stroke-opacity:1\"/>\n",
       "<path class=\"bond-7 atom-4 atom-6\" d=\"M 306.14,310.188 L 320.672,349.674\" style=\"fill:none;fill-rule:evenodd;stroke:#FF0000;stroke-width:4.0px;stroke-linecap:butt;stroke-linejoin:miter;stroke-opacity:1\"/>\n",
       "<path class=\"bond-7 atom-4 atom-6\" d=\"M 310.777,263.648 L 325.309,303.134\" style=\"fill:none;fill-rule:evenodd;stroke:#000000;stroke-width:4.0px;stroke-linecap:butt;stroke-linejoin:miter;stroke-opacity:1\"/>\n",
       "<path class=\"bond-7 atom-4 atom-6\" d=\"M 325.309,303.134 L 339.841,342.62\" style=\"fill:none;fill-rule:evenodd;stroke:#FF0000;stroke-width:4.0px;stroke-linecap:butt;stroke-linejoin:miter;stroke-opacity:1\"/>\n",
       "<path class=\"bond-8 atom-5 atom-9\" d=\"M 382.114,191.391 L 418.038,197.593\" style=\"fill:none;fill-rule:evenodd;stroke:#FF0000;stroke-width:4.0px;stroke-linecap:butt;stroke-linejoin:miter;stroke-opacity:1\"/>\n",
       "<path class=\"bond-8 atom-5 atom-9\" d=\"M 418.038,197.593 L 453.962,203.795\" style=\"fill:none;fill-rule:evenodd;stroke:#000000;stroke-width:4.0px;stroke-linecap:butt;stroke-linejoin:miter;stroke-opacity:1\"/>\n",
       "<path class=\"atom-0\" d=\"M 21.5442 310.974 Q 21.5442 304.174, 24.9042 300.374 Q 28.2642 296.574, 34.5442 296.574 Q 40.8242 296.574, 44.1842 300.374 Q 47.5442 304.174, 47.5442 310.974 Q 47.5442 317.854, 44.1442 321.774 Q 40.7442 325.654, 34.5442 325.654 Q 28.3042 325.654, 24.9042 321.774 Q 21.5442 317.894, 21.5442 310.974 M 34.5442 322.454 Q 38.8642 322.454, 41.1842 319.574 Q 43.5442 316.654, 43.5442 310.974 Q 43.5442 305.414, 41.1842 302.614 Q 38.8642 299.774, 34.5442 299.774 Q 30.2242 299.774, 27.8642 302.574 Q 25.5442 305.374, 25.5442 310.974 Q 25.5442 316.694, 27.8642 319.574 Q 30.2242 322.454, 34.5442 322.454 \" fill=\"#FF0000\"/>\n",
       "<path class=\"atom-2\" d=\"M 51.639 136.66 Q 51.639 129.86, 54.999 126.06 Q 58.359 122.26, 64.639 122.26 Q 70.919 122.26, 74.279 126.06 Q 77.639 129.86, 77.639 136.66 Q 77.639 143.54, 74.239 147.46 Q 70.839 151.34, 64.639 151.34 Q 58.399 151.34, 54.999 147.46 Q 51.639 143.58, 51.639 136.66 M 64.639 148.14 Q 68.959 148.14, 71.279 145.26 Q 73.639 142.34, 73.639 136.66 Q 73.639 131.1, 71.279 128.3 Q 68.959 125.46, 64.639 125.46 Q 60.319 125.46, 57.959 128.26 Q 55.639 131.06, 55.639 136.66 Q 55.639 142.38, 57.959 145.26 Q 60.319 148.14, 64.639 148.14 \" fill=\"#FF0000\"/>\n",
       "<path class=\"atom-2\" d=\"M 78.959 126.882 L 88.6478 126.882 L 88.6478 128.994 L 78.959 128.994 L 78.959 126.882 \" fill=\"#FF0000\"/>\n",
       "<path class=\"atom-5\" d=\"M 353.561 188.786 Q 353.561 181.986, 356.921 178.186 Q 360.281 174.386, 366.561 174.386 Q 372.841 174.386, 376.201 178.186 Q 379.561 181.986, 379.561 188.786 Q 379.561 195.666, 376.161 199.586 Q 372.761 203.466, 366.561 203.466 Q 360.321 203.466, 356.921 199.586 Q 353.561 195.706, 353.561 188.786 M 366.561 200.266 Q 370.881 200.266, 373.201 197.386 Q 375.561 194.466, 375.561 188.786 Q 375.561 183.226, 373.201 180.426 Q 370.881 177.586, 366.561 177.586 Q 362.241 177.586, 359.881 180.386 Q 357.561 183.186, 357.561 188.786 Q 357.561 194.506, 359.881 197.386 Q 362.241 200.266, 366.561 200.266 \" fill=\"#FF0000\"/>\n",
       "<path class=\"atom-6\" d=\"M 323.466 363.1 Q 323.466 356.3, 326.826 352.5 Q 330.186 348.7, 336.466 348.7 Q 342.746 348.7, 346.106 352.5 Q 349.466 356.3, 349.466 363.1 Q 349.466 369.98, 346.066 373.9 Q 342.666 377.78, 336.466 377.78 Q 330.226 377.78, 326.826 373.9 Q 323.466 370.02, 323.466 363.1 M 336.466 374.58 Q 340.786 374.58, 343.106 371.7 Q 345.466 368.78, 345.466 363.1 Q 345.466 357.54, 343.106 354.74 Q 340.786 351.9, 336.466 351.9 Q 332.146 351.9, 329.786 354.7 Q 327.466 357.5, 327.466 363.1 Q 327.466 368.82, 329.786 371.7 Q 332.146 374.58, 336.466 374.58 \" fill=\"#FF0000\"/>\n",
       "<path class=\"atom-7\" d=\"M 206.848 134.999 L 210.688 134.999 L 210.688 147.039 L 225.168 147.039 L 225.168 134.999 L 229.008 134.999 L 229.008 163.319 L 225.168 163.319 L 225.168 150.239 L 210.688 150.239 L 210.688 163.319 L 206.848 163.319 L 206.848 134.999 \" fill=\"#000000\"/>\n",
       "<path class=\"atom-8\" d=\"M 172.097 336.281 L 175.937 336.281 L 175.937 348.321 L 190.417 348.321 L 190.417 336.281 L 194.257 336.281 L 194.257 364.601 L 190.417 364.601 L 190.417 351.521 L 175.937 351.521 L 175.937 364.601 L 172.097 364.601 L 172.097 336.281 \" fill=\"#000000\"/>\n",
       "<path class=\"atom-9\" d=\"M 456.121 191.921 L 459.961 191.921 L 459.961 203.961 L 474.441 203.961 L 474.441 191.921 L 478.281 191.921 L 478.281 220.241 L 474.441 220.241 L 474.441 207.161 L 459.961 207.161 L 459.961 220.241 L 456.121 220.241 L 456.121 191.921 \" fill=\"#000000\"/>\n",
       "</svg>"
      ],
      "text/plain": [
       "<IPython.core.display.SVG object>"
      ]
     },
     "metadata": {},
     "output_type": "display_data"
    }
   ],
   "source": [
    "m = Molecule(MALONATE_PDB)\n",
    "display(m)"
   ]
  },
  {
   "cell_type": "code",
   "execution_count": 6,
   "metadata": {},
   "outputs": [
    {
     "name": "stderr",
     "output_type": "stream",
     "text": [
      " - Initializing molecule from a SMILES tag\n",
      "   - Loading molecule from RDKit\n",
      "   - Setting molecule name to 'O=C([O-])CC(O)=O'\n",
      "   - Representing molecule with the Open Force Field Toolkit\n",
      " - Generating rotamer library\n",
      "   - Core set to the center of the molecule\n"
     ]
    },
    {
     "data": {
      "image/svg+xml": [
       "<svg baseProfile=\"full\" height=\"500px\" version=\"1.1\" viewBox=\"0 0 500 500\" width=\"500px\" xml:space=\"preserve\" xmlns=\"http://www.w3.org/2000/svg\" xmlns:rdkit=\"http://www.rdkit.org/xml\" xmlns:xlink=\"http://www.w3.org/1999/xlink\">\n",
       "<!-- END OF HEADER -->\n",
       "<rect height=\"500\" style=\"opacity:1.0;fill:#FFFFFF;stroke:none\" width=\"500\" x=\"0\" y=\"0\"> </rect>\n",
       "<path class=\"bond-0 atom-0 atom-1\" d=\"M 41.1197,212.556 L 66.5923,243.134\" style=\"fill:none;fill-rule:evenodd;stroke:#FF0000;stroke-width:4.0px;stroke-linecap:butt;stroke-linejoin:miter;stroke-opacity:1\"/>\n",
       "<path class=\"bond-0 atom-0 atom-1\" d=\"M 66.5923,243.134 L 92.0649,273.712\" style=\"fill:none;fill-rule:evenodd;stroke:#000000;stroke-width:4.0px;stroke-linecap:butt;stroke-linejoin:miter;stroke-opacity:1\"/>\n",
       "<path class=\"bond-0 atom-0 atom-1\" d=\"M 56.8136,199.482 L 82.2862,230.06\" style=\"fill:none;fill-rule:evenodd;stroke:#FF0000;stroke-width:4.0px;stroke-linecap:butt;stroke-linejoin:miter;stroke-opacity:1\"/>\n",
       "<path class=\"bond-0 atom-0 atom-1\" d=\"M 82.2862,230.06 L 107.759,260.638\" style=\"fill:none;fill-rule:evenodd;stroke:#000000;stroke-width:4.0px;stroke-linecap:butt;stroke-linejoin:miter;stroke-opacity:1\"/>\n",
       "<path class=\"bond-1 atom-1 atom-2\" d=\"M 99.9118,267.175 L 85.3802,306.661\" style=\"fill:none;fill-rule:evenodd;stroke:#000000;stroke-width:4.0px;stroke-linecap:butt;stroke-linejoin:miter;stroke-opacity:1\"/>\n",
       "<path class=\"bond-1 atom-1 atom-2\" d=\"M 85.3802,306.661 L 70.8487,346.147\" style=\"fill:none;fill-rule:evenodd;stroke:#FF0000;stroke-width:4.0px;stroke-linecap:butt;stroke-linejoin:miter;stroke-opacity:1\"/>\n",
       "<path class=\"bond-2 atom-1 atom-3\" d=\"M 99.9118,267.175 L 200.552,249.8\" style=\"fill:none;fill-rule:evenodd;stroke:#000000;stroke-width:4.0px;stroke-linecap:butt;stroke-linejoin:miter;stroke-opacity:1\"/>\n",
       "<path class=\"bond-3 atom-3 atom-4\" d=\"M 200.552,249.8 L 301.193,232.425\" style=\"fill:none;fill-rule:evenodd;stroke:#000000;stroke-width:4.0px;stroke-linecap:butt;stroke-linejoin:miter;stroke-opacity:1\"/>\n",
       "<path class=\"bond-6 atom-3 atom-7\" d=\"M 200.552,249.8 L 215.042,333.727\" style=\"fill:none;fill-rule:evenodd;stroke:#000000;stroke-width:4.0px;stroke-linecap:butt;stroke-linejoin:miter;stroke-opacity:1\"/>\n",
       "<path class=\"bond-7 atom-3 atom-8\" d=\"M 200.552,249.8 L 186.063,165.873\" style=\"fill:none;fill-rule:evenodd;stroke:#000000;stroke-width:4.0px;stroke-linecap:butt;stroke-linejoin:miter;stroke-opacity:1\"/>\n",
       "<path class=\"bond-4 atom-4 atom-5\" d=\"M 301.193,232.425 L 326.849,263.223\" style=\"fill:none;fill-rule:evenodd;stroke:#000000;stroke-width:4.0px;stroke-linecap:butt;stroke-linejoin:miter;stroke-opacity:1\"/>\n",
       "<path class=\"bond-4 atom-4 atom-5\" d=\"M 326.849,263.223 L 352.505,294.021\" style=\"fill:none;fill-rule:evenodd;stroke:#FF0000;stroke-width:4.0px;stroke-linecap:butt;stroke-linejoin:miter;stroke-opacity:1\"/>\n",
       "<path class=\"bond-5 atom-4 atom-6\" d=\"M 310.777,235.952 L 325.228,196.686\" style=\"fill:none;fill-rule:evenodd;stroke:#000000;stroke-width:4.0px;stroke-linecap:butt;stroke-linejoin:miter;stroke-opacity:1\"/>\n",
       "<path class=\"bond-5 atom-4 atom-6\" d=\"M 325.228,196.686 L 339.679,157.42\" style=\"fill:none;fill-rule:evenodd;stroke:#FF0000;stroke-width:4.0px;stroke-linecap:butt;stroke-linejoin:miter;stroke-opacity:1\"/>\n",
       "<path class=\"bond-5 atom-4 atom-6\" d=\"M 291.608,228.898 L 306.059,189.632\" style=\"fill:none;fill-rule:evenodd;stroke:#000000;stroke-width:4.0px;stroke-linecap:butt;stroke-linejoin:miter;stroke-opacity:1\"/>\n",
       "<path class=\"bond-5 atom-4 atom-6\" d=\"M 306.059,189.632 L 320.51,150.366\" style=\"fill:none;fill-rule:evenodd;stroke:#FF0000;stroke-width:4.0px;stroke-linecap:butt;stroke-linejoin:miter;stroke-opacity:1\"/>\n",
       "<path class=\"bond-8 atom-5 atom-9\" d=\"M 382.114,308.209 L 418.038,302.007\" style=\"fill:none;fill-rule:evenodd;stroke:#FF0000;stroke-width:4.0px;stroke-linecap:butt;stroke-linejoin:miter;stroke-opacity:1\"/>\n",
       "<path class=\"bond-8 atom-5 atom-9\" d=\"M 418.038,302.007 L 453.962,295.805\" style=\"fill:none;fill-rule:evenodd;stroke:#000000;stroke-width:4.0px;stroke-linecap:butt;stroke-linejoin:miter;stroke-opacity:1\"/>\n",
       "<path class=\"atom-0\" d=\"M 21.5442 188.786 Q 21.5442 181.986, 24.9042 178.186 Q 28.2642 174.386, 34.5442 174.386 Q 40.8242 174.386, 44.1842 178.186 Q 47.5442 181.986, 47.5442 188.786 Q 47.5442 195.666, 44.1442 199.586 Q 40.7442 203.466, 34.5442 203.466 Q 28.3042 203.466, 24.9042 199.586 Q 21.5442 195.706, 21.5442 188.786 M 34.5442 200.266 Q 38.8642 200.266, 41.1842 197.386 Q 43.5442 194.466, 43.5442 188.786 Q 43.5442 183.226, 41.1842 180.426 Q 38.8642 177.586, 34.5442 177.586 Q 30.2242 177.586, 27.8642 180.386 Q 25.5442 183.186, 25.5442 188.786 Q 25.5442 194.506, 27.8642 197.386 Q 30.2242 200.266, 34.5442 200.266 \" fill=\"#FF0000\"/>\n",
       "<path class=\"atom-2\" d=\"M 51.639 363.1 Q 51.639 356.3, 54.999 352.5 Q 58.359 348.7, 64.639 348.7 Q 70.919 348.7, 74.279 352.5 Q 77.639 356.3, 77.639 363.1 Q 77.639 369.98, 74.239 373.9 Q 70.839 377.78, 64.639 377.78 Q 58.399 377.78, 54.999 373.9 Q 51.639 370.02, 51.639 363.1 M 64.639 374.58 Q 68.959 374.58, 71.279 371.7 Q 73.639 368.78, 73.639 363.1 Q 73.639 357.54, 71.279 354.74 Q 68.959 351.9, 64.639 351.9 Q 60.319 351.9, 57.959 354.7 Q 55.639 357.5, 55.639 363.1 Q 55.639 368.82, 57.959 371.7 Q 60.319 374.58, 64.639 374.58 \" fill=\"#FF0000\"/>\n",
       "<path class=\"atom-2\" d=\"M 78.959 353.322 L 88.6478 353.322 L 88.6478 355.434 L 78.959 355.434 L 78.959 353.322 \" fill=\"#FF0000\"/>\n",
       "<path class=\"atom-5\" d=\"M 353.561 310.974 Q 353.561 304.174, 356.921 300.374 Q 360.281 296.574, 366.561 296.574 Q 372.841 296.574, 376.201 300.374 Q 379.561 304.174, 379.561 310.974 Q 379.561 317.854, 376.161 321.774 Q 372.761 325.654, 366.561 325.654 Q 360.321 325.654, 356.921 321.774 Q 353.561 317.894, 353.561 310.974 M 366.561 322.454 Q 370.881 322.454, 373.201 319.574 Q 375.561 316.654, 375.561 310.974 Q 375.561 305.414, 373.201 302.614 Q 370.881 299.774, 366.561 299.774 Q 362.241 299.774, 359.881 302.574 Q 357.561 305.374, 357.561 310.974 Q 357.561 316.694, 359.881 319.574 Q 362.241 322.454, 366.561 322.454 \" fill=\"#FF0000\"/>\n",
       "<path class=\"atom-6\" d=\"M 323.466 136.66 Q 323.466 129.86, 326.826 126.06 Q 330.186 122.26, 336.466 122.26 Q 342.746 122.26, 346.106 126.06 Q 349.466 129.86, 349.466 136.66 Q 349.466 143.54, 346.066 147.46 Q 342.666 151.34, 336.466 151.34 Q 330.226 151.34, 326.826 147.46 Q 323.466 143.58, 323.466 136.66 M 336.466 148.14 Q 340.786 148.14, 343.106 145.26 Q 345.466 142.34, 345.466 136.66 Q 345.466 131.1, 343.106 128.3 Q 340.786 125.46, 336.466 125.46 Q 332.146 125.46, 329.786 128.26 Q 327.466 131.06, 327.466 136.66 Q 327.466 142.38, 329.786 145.26 Q 332.146 148.14, 336.466 148.14 \" fill=\"#FF0000\"/>\n",
       "<path class=\"atom-7\" d=\"M 206.848 336.281 L 210.688 336.281 L 210.688 348.321 L 225.168 348.321 L 225.168 336.281 L 229.008 336.281 L 229.008 364.601 L 225.168 364.601 L 225.168 351.521 L 210.688 351.521 L 210.688 364.601 L 206.848 364.601 L 206.848 336.281 \" fill=\"#000000\"/>\n",
       "<path class=\"atom-8\" d=\"M 172.097 134.999 L 175.937 134.999 L 175.937 147.039 L 190.417 147.039 L 190.417 134.999 L 194.257 134.999 L 194.257 163.319 L 190.417 163.319 L 190.417 150.239 L 175.937 150.239 L 175.937 163.319 L 172.097 163.319 L 172.097 134.999 \" fill=\"#000000\"/>\n",
       "<path class=\"atom-9\" d=\"M 456.121 279.359 L 459.961 279.359 L 459.961 291.399 L 474.441 291.399 L 474.441 279.359 L 478.281 279.359 L 478.281 307.679 L 474.441 307.679 L 474.441 294.599 L 459.961 294.599 L 459.961 307.679 L 456.121 307.679 L 456.121 279.359 \" fill=\"#000000\"/>\n",
       "</svg>"
      ],
      "text/plain": [
       "<IPython.core.display.SVG object>"
      ]
     },
     "metadata": {},
     "output_type": "display_data"
    }
   ],
   "source": [
    "m = Molecule(smiles='O=C([O-])CC(O)=O', hydrogens_are_explicit=False)\n",
    "display(m)"
   ]
  },
  {
   "cell_type": "markdown",
   "metadata": {},
   "source": [
    "## Trimethylglycine"
   ]
  },
  {
   "cell_type": "code",
   "execution_count": 7,
   "metadata": {},
   "outputs": [
    {
     "name": "stderr",
     "output_type": "stream",
     "text": [
      " - Initializing molecule from PDB\n",
      "   - Loading molecule from RDKit\n",
      "   - Assigning stereochemistry from 3D coordinates\n",
      "   - Setting molecule name to 'trimethylglycine'\n",
      "   - Setting molecule tag to 'UNL'\n",
      "   - Representing molecule with the Open Force Field Toolkit\n",
      " - Generating rotamer library\n",
      "   - Core set to the center of the molecule\n"
     ]
    },
    {
     "data": {
      "image/svg+xml": [
       "<svg baseProfile=\"full\" height=\"500px\" version=\"1.1\" viewBox=\"0 0 500 500\" width=\"500px\" xml:space=\"preserve\" xmlns=\"http://www.w3.org/2000/svg\" xmlns:rdkit=\"http://www.rdkit.org/xml\" xmlns:xlink=\"http://www.w3.org/1999/xlink\">\n",
       "<!-- END OF HEADER -->\n",
       "<rect height=\"500\" style=\"opacity:1.0;fill:#FFFFFF;stroke:none\" width=\"500\" x=\"0\" y=\"0\"> </rect>\n",
       "<path class=\"bond-0 atom-0 atom-1\" d=\"M 286.457,155.459 L 282.985,194.823\" style=\"fill:none;fill-rule:evenodd;stroke:#000000;stroke-width:4.0px;stroke-linecap:butt;stroke-linejoin:miter;stroke-opacity:1\"/>\n",
       "<path class=\"bond-0 atom-0 atom-1\" d=\"M 282.985,194.823 L 279.513,234.188\" style=\"fill:none;fill-rule:evenodd;stroke:#0000FF;stroke-width:4.0px;stroke-linecap:butt;stroke-linejoin:miter;stroke-opacity:1\"/>\n",
       "<path class=\"bond-1 atom-0 atom-8\" d=\"M 286.457,155.459 L 330.549,153.949\" style=\"fill:none;fill-rule:evenodd;stroke:#000000;stroke-width:4.0px;stroke-linecap:butt;stroke-linejoin:miter;stroke-opacity:1\"/>\n",
       "<path class=\"bond-2 atom-0 atom-9\" d=\"M 286.457,155.459 L 243.564,146.309\" style=\"fill:none;fill-rule:evenodd;stroke:#000000;stroke-width:4.0px;stroke-linecap:butt;stroke-linejoin:miter;stroke-opacity:1\"/>\n",
       "<path class=\"bond-3 atom-0 atom-10\" d=\"M 286.457,155.459 L 293.4,76.7291\" style=\"fill:none;fill-rule:evenodd;stroke:#000000;stroke-width:4.0px;stroke-linecap:butt;stroke-linejoin:miter;stroke-opacity:1\"/>\n",
       "<path class=\"bond-4 atom-1 atom-2\" d=\"M 276.724,265.812 L 273.252,305.177\" style=\"fill:none;fill-rule:evenodd;stroke:#0000FF;stroke-width:4.0px;stroke-linecap:butt;stroke-linejoin:miter;stroke-opacity:1\"/>\n",
       "<path class=\"bond-4 atom-1 atom-2\" d=\"M 273.252,305.177 L 269.78,344.541\" style=\"fill:none;fill-rule:evenodd;stroke:#000000;stroke-width:4.0px;stroke-linecap:butt;stroke-linejoin:miter;stroke-opacity:1\"/>\n",
       "<path class=\"bond-5 atom-1 atom-3\" d=\"M 290.684,251.108 L 331.672,254.723\" style=\"fill:none;fill-rule:evenodd;stroke:#0000FF;stroke-width:4.0px;stroke-linecap:butt;stroke-linejoin:miter;stroke-opacity:1\"/>\n",
       "<path class=\"bond-5 atom-1 atom-3\" d=\"M 331.672,254.723 L 372.66,258.338\" style=\"fill:none;fill-rule:evenodd;stroke:#000000;stroke-width:4.0px;stroke-linecap:butt;stroke-linejoin:miter;stroke-opacity:1\"/>\n",
       "<path class=\"bond-6 atom-1 atom-4\" d=\"M 265.553,248.892 L 224.565,245.277\" style=\"fill:none;fill-rule:evenodd;stroke:#0000FF;stroke-width:4.0px;stroke-linecap:butt;stroke-linejoin:miter;stroke-opacity:1\"/>\n",
       "<path class=\"bond-6 atom-1 atom-4\" d=\"M 224.565,245.277 L 183.577,241.662\" style=\"fill:none;fill-rule:evenodd;stroke:#000000;stroke-width:4.0px;stroke-linecap:butt;stroke-linejoin:miter;stroke-opacity:1\"/>\n",
       "<path class=\"bond-7 atom-2 atom-11\" d=\"M 269.78,344.541 L 312.673,353.691\" style=\"fill:none;fill-rule:evenodd;stroke:#000000;stroke-width:4.0px;stroke-linecap:butt;stroke-linejoin:miter;stroke-opacity:1\"/>\n",
       "<path class=\"bond-8 atom-2 atom-12\" d=\"M 269.78,344.541 L 187.816,347.348\" style=\"fill:none;fill-rule:evenodd;stroke:#000000;stroke-width:4.0px;stroke-linecap:butt;stroke-linejoin:miter;stroke-opacity:1\"/>\n",
       "<path class=\"bond-9 atom-2 atom-13\" d=\"M 269.78,344.541 L 262.837,423.271\" style=\"fill:none;fill-rule:evenodd;stroke:#000000;stroke-width:4.0px;stroke-linecap:butt;stroke-linejoin:miter;stroke-opacity:1\"/>\n",
       "<path class=\"bond-10 atom-3 atom-14\" d=\"M 372.66,258.338 L 374.07,299.508\" style=\"fill:none;fill-rule:evenodd;stroke:#000000;stroke-width:4.0px;stroke-linecap:butt;stroke-linejoin:miter;stroke-opacity:1\"/>\n",
       "<path class=\"bond-11 atom-3 atom-15\" d=\"M 372.66,258.338 L 381.186,218.369\" style=\"fill:none;fill-rule:evenodd;stroke:#000000;stroke-width:4.0px;stroke-linecap:butt;stroke-linejoin:miter;stroke-opacity:1\"/>\n",
       "<path class=\"bond-12 atom-3 atom-16\" d=\"M 372.66,258.338 L 454.313,265.54\" style=\"fill:none;fill-rule:evenodd;stroke:#000000;stroke-width:4.0px;stroke-linecap:butt;stroke-linejoin:miter;stroke-opacity:1\"/>\n",
       "<path class=\"bond-13 atom-4 atom-5\" d=\"M 183.577,241.662 L 89.0359,233.324\" style=\"fill:none;fill-rule:evenodd;stroke:#000000;stroke-width:4.0px;stroke-linecap:butt;stroke-linejoin:miter;stroke-opacity:1\"/>\n",
       "<path class=\"bond-14 atom-4 atom-17\" d=\"M 183.577,241.662 L 182.167,200.492\" style=\"fill:none;fill-rule:evenodd;stroke:#000000;stroke-width:4.0px;stroke-linecap:butt;stroke-linejoin:miter;stroke-opacity:1\"/>\n",
       "<path class=\"bond-15 atom-4 atom-18\" d=\"M 183.577,241.662 L 167.15,318.67\" style=\"fill:none;fill-rule:evenodd;stroke:#000000;stroke-width:4.0px;stroke-linecap:butt;stroke-linejoin:miter;stroke-opacity:1\"/>\n",
       "<path class=\"bond-16 atom-5 atom-6\" d=\"M 81.2653,227.874 L 59.6167,258.746\" style=\"fill:none;fill-rule:evenodd;stroke:#000000;stroke-width:4.0px;stroke-linecap:butt;stroke-linejoin:miter;stroke-opacity:1\"/>\n",
       "<path class=\"bond-16 atom-5 atom-6\" d=\"M 59.6167,258.746 L 37.9681,289.617\" style=\"fill:none;fill-rule:evenodd;stroke:#FF0000;stroke-width:4.0px;stroke-linecap:butt;stroke-linejoin:miter;stroke-opacity:1\"/>\n",
       "<path class=\"bond-16 atom-5 atom-6\" d=\"M 96.8065,238.773 L 75.1579,269.644\" style=\"fill:none;fill-rule:evenodd;stroke:#000000;stroke-width:4.0px;stroke-linecap:butt;stroke-linejoin:miter;stroke-opacity:1\"/>\n",
       "<path class=\"bond-16 atom-5 atom-6\" d=\"M 75.1579,269.644 L 53.5093,300.515\" style=\"fill:none;fill-rule:evenodd;stroke:#FF0000;stroke-width:4.0px;stroke-linecap:butt;stroke-linejoin:miter;stroke-opacity:1\"/>\n",
       "<path class=\"bond-17 atom-5 atom-7\" d=\"M 89.0359,233.324 L 72.8235,198.492\" style=\"fill:none;fill-rule:evenodd;stroke:#000000;stroke-width:4.0px;stroke-linecap:butt;stroke-linejoin:miter;stroke-opacity:1\"/>\n",
       "<path class=\"bond-17 atom-5 atom-7\" d=\"M 72.8235,198.492 L 56.611,163.661\" style=\"fill:none;fill-rule:evenodd;stroke:#FF0000;stroke-width:4.0px;stroke-linecap:butt;stroke-linejoin:miter;stroke-opacity:1\"/>\n",
       "<path class=\"atom-1\" d=\"M 272.177 236.561 L 280.985 250.797 Q 281.858 252.202, 283.263 254.745 Q 284.667 257.289, 284.743 257.441 L 284.743 236.561 L 288.312 236.561 L 288.312 263.439 L 284.629 263.439 L 275.176 247.874 Q 274.075 246.052, 272.899 243.964 Q 271.76 241.876, 271.418 241.23 L 271.418 263.439 L 267.925 263.439 L 267.925 236.561 L 272.177 236.561 \" fill=\"#0000FF\"/>\n",
       "<path class=\"atom-1\" d=\"M 290.567 241.406 L 295.302 241.406 L 295.302 236.42 L 297.407 236.42 L 297.407 241.406 L 302.268 241.406 L 302.268 243.21 L 297.407 243.21 L 297.407 248.221 L 295.302 248.221 L 295.302 243.21 L 290.567 243.21 L 290.567 241.406 \" fill=\"#0000FF\"/>\n",
       "<path class=\"atom-6\" d=\"M 22.2061 311.106 Q 22.2061 304.652, 25.395 301.045 Q 28.584 297.439, 34.5442 297.439 Q 40.5044 297.439, 43.6934 301.045 Q 46.8823 304.652, 46.8823 311.106 Q 46.8823 317.635, 43.6554 321.356 Q 40.4285 325.038, 34.5442 325.038 Q 28.6219 325.038, 25.395 321.356 Q 22.2061 317.673, 22.2061 311.106 M 34.5442 322.001 Q 38.6442 322.001, 40.8461 319.268 Q 43.0859 316.496, 43.0859 311.106 Q 43.0859 305.829, 40.8461 303.171 Q 38.6442 300.476, 34.5442 300.476 Q 30.4442 300.476, 28.2043 303.133 Q 26.0025 305.791, 26.0025 311.106 Q 26.0025 316.534, 28.2043 319.268 Q 30.4442 322.001, 34.5442 322.001 \" fill=\"#FF0000\"/>\n",
       "<path class=\"atom-7\" d=\"M 36.6483 147.355 Q 36.6483 140.902, 39.8372 137.295 Q 43.0261 133.689, 48.9863 133.689 Q 54.9466 133.689, 58.1355 137.295 Q 61.3244 140.902, 61.3244 147.355 Q 61.3244 153.885, 58.0975 157.605 Q 54.8707 161.288, 48.9863 161.288 Q 43.0641 161.288, 39.8372 157.605 Q 36.6483 153.923, 36.6483 147.355 M 48.9863 158.251 Q 53.0864 158.251, 55.2883 155.517 Q 57.5281 152.746, 57.5281 147.355 Q 57.5281 142.078, 55.2883 139.421 Q 53.0864 136.726, 48.9863 136.726 Q 44.8863 136.726, 42.6465 139.383 Q 40.4446 142.04, 40.4446 147.355 Q 40.4446 152.784, 42.6465 155.517 Q 44.8863 158.251, 48.9863 158.251 \" fill=\"#FF0000\"/>\n",
       "<path class=\"atom-7\" d=\"M 62.5772 138.076 L 71.7727 138.076 L 71.7727 140.08 L 62.5772 140.08 L 62.5772 138.076 \" fill=\"#FF0000\"/>\n",
       "<path class=\"atom-8\" d=\"M 331.95 140.102 L 335.595 140.102 L 335.595 151.529 L 349.338 151.529 L 349.338 140.102 L 352.982 140.102 L 352.982 166.98 L 349.338 166.98 L 349.338 154.566 L 335.595 154.566 L 335.595 166.98 L 331.95 166.98 L 331.95 140.102 \" fill=\"#000000\"/>\n",
       "<path class=\"atom-9\" d=\"M 221.132 130.328 L 224.776 130.328 L 224.776 141.755 L 238.519 141.755 L 238.519 130.328 L 242.163 130.328 L 242.163 157.206 L 238.519 157.206 L 238.519 144.792 L 224.776 144.792 L 224.776 157.206 L 221.132 157.206 L 221.132 130.328 \" fill=\"#000000\"/>\n",
       "<path class=\"atom-10\" d=\"M 284.279 47.4784 L 287.923 47.4784 L 287.923 58.9054 L 301.666 58.9054 L 301.666 47.4784 L 305.311 47.4784 L 305.311 74.3564 L 301.666 74.3564 L 301.666 61.9424 L 287.923 61.9424 L 287.923 74.3564 L 284.279 74.3564 L 284.279 47.4784 \" fill=\"#000000\"/>\n",
       "<path class=\"atom-11\" d=\"M 314.074 342.794 L 317.718 342.794 L 317.718 354.221 L 331.461 354.221 L 331.461 342.794 L 335.105 342.794 L 335.105 369.672 L 331.461 369.672 L 331.461 357.258 L 317.718 357.258 L 317.718 369.672 L 314.074 369.672 L 314.074 342.794 \" fill=\"#000000\"/>\n",
       "<path class=\"atom-12\" d=\"M 164.412 334.35 L 168.056 334.35 L 168.056 345.777 L 181.799 345.777 L 181.799 334.35 L 185.443 334.35 L 185.443 361.229 L 181.799 361.229 L 181.799 348.815 L 168.056 348.815 L 168.056 361.229 L 164.412 361.229 L 164.412 334.35 \" fill=\"#000000\"/>\n",
       "<path class=\"atom-13\" d=\"M 250.926 425.644 L 254.571 425.644 L 254.571 437.071 L 268.314 437.071 L 268.314 425.644 L 271.958 425.644 L 271.958 452.522 L 268.314 452.522 L 268.314 440.108 L 254.571 440.108 L 254.571 452.522 L 250.926 452.522 L 250.926 425.644 \" fill=\"#000000\"/>\n",
       "<path class=\"atom-14\" d=\"M 364.062 300.909 L 367.706 300.909 L 367.706 312.336 L 381.449 312.336 L 381.449 300.909 L 385.094 300.909 L 385.094 327.787 L 381.449 327.787 L 381.449 315.373 L 367.706 315.373 L 367.706 327.787 L 364.062 327.787 L 364.062 300.909 \" fill=\"#000000\"/>\n",
       "<path class=\"atom-15\" d=\"M 373.836 190.09 L 377.48 190.09 L 377.48 201.517 L 391.223 201.517 L 391.223 190.09 L 394.867 190.09 L 394.867 216.968 L 391.223 216.968 L 391.223 204.554 L 377.48 204.554 L 377.48 216.968 L 373.836 216.968 L 373.836 190.09 \" fill=\"#000000\"/>\n",
       "<path class=\"atom-16\" d=\"M 456.685 253.237 L 460.33 253.237 L 460.33 264.664 L 474.072 264.664 L 474.072 253.237 L 477.717 253.237 L 477.717 280.115 L 474.072 280.115 L 474.072 267.701 L 460.33 267.701 L 460.33 280.115 L 456.685 280.115 L 456.685 253.237 \" fill=\"#000000\"/>\n",
       "<path class=\"atom-17\" d=\"M 171.143 172.213 L 174.788 172.213 L 174.788 183.64 L 188.531 183.64 L 188.531 172.213 L 192.175 172.213 L 192.175 199.091 L 188.531 199.091 L 188.531 186.677 L 174.788 186.677 L 174.788 199.091 L 171.143 199.091 L 171.143 172.213 \" fill=\"#000000\"/>\n",
       "<path class=\"atom-18\" d=\"M 153.261 321.043 L 156.906 321.043 L 156.906 332.47 L 170.648 332.47 L 170.648 321.043 L 174.293 321.043 L 174.293 347.921 L 170.648 347.921 L 170.648 335.507 L 156.906 335.507 L 156.906 347.921 L 153.261 347.921 L 153.261 321.043 \" fill=\"#000000\"/>\n",
       "</svg>"
      ],
      "text/plain": [
       "<IPython.core.display.SVG object>"
      ]
     },
     "metadata": {},
     "output_type": "display_data"
    }
   ],
   "source": [
    "m = Molecule(TRIMETHYLGLYCINE_PDB)\n",
    "display(m)"
   ]
  },
  {
   "cell_type": "code",
   "execution_count": 8,
   "metadata": {},
   "outputs": [
    {
     "name": "stderr",
     "output_type": "stream",
     "text": [
      " - Initializing molecule from a SMILES tag\n",
      "   - Loading molecule from RDKit\n",
      "   - Setting molecule name to 'C[N+](C)(C)CC(=O)[O-]'\n",
      "   - Representing molecule with the Open Force Field Toolkit\n",
      " - Generating rotamer library\n",
      "   - Core set to the center of the molecule\n"
     ]
    },
    {
     "data": {
      "image/svg+xml": [
       "<svg baseProfile=\"full\" height=\"500px\" version=\"1.1\" viewBox=\"0 0 500 500\" width=\"500px\" xml:space=\"preserve\" xmlns=\"http://www.w3.org/2000/svg\" xmlns:rdkit=\"http://www.rdkit.org/xml\" xmlns:xlink=\"http://www.w3.org/1999/xlink\">\n",
       "<!-- END OF HEADER -->\n",
       "<rect height=\"500\" style=\"opacity:1.0;fill:#FFFFFF;stroke:none\" width=\"500\" x=\"0\" y=\"0\"> </rect>\n",
       "<path class=\"bond-0 atom-0 atom-1\" d=\"M 269.78,155.459 L 273.252,194.823\" style=\"fill:none;fill-rule:evenodd;stroke:#000000;stroke-width:4.0px;stroke-linecap:butt;stroke-linejoin:miter;stroke-opacity:1\"/>\n",
       "<path class=\"bond-0 atom-0 atom-1\" d=\"M 273.252,194.823 L 276.724,234.188\" style=\"fill:none;fill-rule:evenodd;stroke:#0000FF;stroke-width:4.0px;stroke-linecap:butt;stroke-linejoin:miter;stroke-opacity:1\"/>\n",
       "<path class=\"bond-7 atom-0 atom-8\" d=\"M 269.78,155.459 L 262.837,76.7291\" style=\"fill:none;fill-rule:evenodd;stroke:#000000;stroke-width:4.0px;stroke-linecap:butt;stroke-linejoin:miter;stroke-opacity:1\"/>\n",
       "<path class=\"bond-8 atom-0 atom-9\" d=\"M 269.78,155.459 L 312.673,146.309\" style=\"fill:none;fill-rule:evenodd;stroke:#000000;stroke-width:4.0px;stroke-linecap:butt;stroke-linejoin:miter;stroke-opacity:1\"/>\n",
       "<path class=\"bond-9 atom-0 atom-10\" d=\"M 269.78,155.459 L 187.816,152.652\" style=\"fill:none;fill-rule:evenodd;stroke:#000000;stroke-width:4.0px;stroke-linecap:butt;stroke-linejoin:miter;stroke-opacity:1\"/>\n",
       "<path class=\"bond-1 atom-1 atom-2\" d=\"M 279.513,265.812 L 282.985,305.177\" style=\"fill:none;fill-rule:evenodd;stroke:#0000FF;stroke-width:4.0px;stroke-linecap:butt;stroke-linejoin:miter;stroke-opacity:1\"/>\n",
       "<path class=\"bond-1 atom-1 atom-2\" d=\"M 282.985,305.177 L 286.457,344.541\" style=\"fill:none;fill-rule:evenodd;stroke:#000000;stroke-width:4.0px;stroke-linecap:butt;stroke-linejoin:miter;stroke-opacity:1\"/>\n",
       "<path class=\"bond-2 atom-1 atom-3\" d=\"M 304.64,247.661 L 338.65,244.661\" style=\"fill:none;fill-rule:evenodd;stroke:#0000FF;stroke-width:4.0px;stroke-linecap:butt;stroke-linejoin:miter;stroke-opacity:1\"/>\n",
       "<path class=\"bond-2 atom-1 atom-3\" d=\"M 338.65,244.661 L 372.66,241.662\" style=\"fill:none;fill-rule:evenodd;stroke:#000000;stroke-width:4.0px;stroke-linecap:butt;stroke-linejoin:miter;stroke-opacity:1\"/>\n",
       "<path class=\"bond-3 atom-1 atom-4\" d=\"M 265.553,251.108 L 224.565,254.723\" style=\"fill:none;fill-rule:evenodd;stroke:#0000FF;stroke-width:4.0px;stroke-linecap:butt;stroke-linejoin:miter;stroke-opacity:1\"/>\n",
       "<path class=\"bond-3 atom-1 atom-4\" d=\"M 224.565,254.723 L 183.577,258.338\" style=\"fill:none;fill-rule:evenodd;stroke:#000000;stroke-width:4.0px;stroke-linecap:butt;stroke-linejoin:miter;stroke-opacity:1\"/>\n",
       "<path class=\"bond-10 atom-2 atom-11\" d=\"M 286.457,344.541 L 293.4,423.271\" style=\"fill:none;fill-rule:evenodd;stroke:#000000;stroke-width:4.0px;stroke-linecap:butt;stroke-linejoin:miter;stroke-opacity:1\"/>\n",
       "<path class=\"bond-11 atom-2 atom-12\" d=\"M 286.457,344.541 L 330.549,346.051\" style=\"fill:none;fill-rule:evenodd;stroke:#000000;stroke-width:4.0px;stroke-linecap:butt;stroke-linejoin:miter;stroke-opacity:1\"/>\n",
       "<path class=\"bond-12 atom-2 atom-13\" d=\"M 286.457,344.541 L 243.564,353.691\" style=\"fill:none;fill-rule:evenodd;stroke:#000000;stroke-width:4.0px;stroke-linecap:butt;stroke-linejoin:miter;stroke-opacity:1\"/>\n",
       "<path class=\"bond-13 atom-3 atom-14\" d=\"M 372.66,241.662 L 454.313,234.46\" style=\"fill:none;fill-rule:evenodd;stroke:#000000;stroke-width:4.0px;stroke-linecap:butt;stroke-linejoin:miter;stroke-opacity:1\"/>\n",
       "<path class=\"bond-14 atom-3 atom-15\" d=\"M 372.66,241.662 L 381.186,281.631\" style=\"fill:none;fill-rule:evenodd;stroke:#000000;stroke-width:4.0px;stroke-linecap:butt;stroke-linejoin:miter;stroke-opacity:1\"/>\n",
       "<path class=\"bond-15 atom-3 atom-16\" d=\"M 372.66,241.662 L 374.07,200.492\" style=\"fill:none;fill-rule:evenodd;stroke:#000000;stroke-width:4.0px;stroke-linecap:butt;stroke-linejoin:miter;stroke-opacity:1\"/>\n",
       "<path class=\"bond-4 atom-4 atom-5\" d=\"M 183.577,258.338 L 89.0359,266.676\" style=\"fill:none;fill-rule:evenodd;stroke:#000000;stroke-width:4.0px;stroke-linecap:butt;stroke-linejoin:miter;stroke-opacity:1\"/>\n",
       "<path class=\"bond-16 atom-4 atom-17\" d=\"M 183.577,258.338 L 182.167,299.508\" style=\"fill:none;fill-rule:evenodd;stroke:#000000;stroke-width:4.0px;stroke-linecap:butt;stroke-linejoin:miter;stroke-opacity:1\"/>\n",
       "<path class=\"bond-17 atom-4 atom-18\" d=\"M 183.577,258.338 L 167.15,181.33\" style=\"fill:none;fill-rule:evenodd;stroke:#000000;stroke-width:4.0px;stroke-linecap:butt;stroke-linejoin:miter;stroke-opacity:1\"/>\n",
       "<path class=\"bond-5 atom-5 atom-6\" d=\"M 96.8065,261.227 L 75.3043,230.565\" style=\"fill:none;fill-rule:evenodd;stroke:#000000;stroke-width:4.0px;stroke-linecap:butt;stroke-linejoin:miter;stroke-opacity:1\"/>\n",
       "<path class=\"bond-5 atom-5 atom-6\" d=\"M 75.3043,230.565 L 53.8022,199.902\" style=\"fill:none;fill-rule:evenodd;stroke:#FF0000;stroke-width:4.0px;stroke-linecap:butt;stroke-linejoin:miter;stroke-opacity:1\"/>\n",
       "<path class=\"bond-5 atom-5 atom-6\" d=\"M 81.2653,272.126 L 59.7631,241.463\" style=\"fill:none;fill-rule:evenodd;stroke:#000000;stroke-width:4.0px;stroke-linecap:butt;stroke-linejoin:miter;stroke-opacity:1\"/>\n",
       "<path class=\"bond-5 atom-5 atom-6\" d=\"M 59.7631,241.463 L 38.261,210.801\" style=\"fill:none;fill-rule:evenodd;stroke:#FF0000;stroke-width:4.0px;stroke-linecap:butt;stroke-linejoin:miter;stroke-opacity:1\"/>\n",
       "<path class=\"bond-6 atom-5 atom-7\" d=\"M 89.0359,266.676 L 72.7263,301.717\" style=\"fill:none;fill-rule:evenodd;stroke:#000000;stroke-width:4.0px;stroke-linecap:butt;stroke-linejoin:miter;stroke-opacity:1\"/>\n",
       "<path class=\"bond-6 atom-5 atom-7\" d=\"M 72.7263,301.717 L 56.4166,336.757\" style=\"fill:none;fill-rule:evenodd;stroke:#FF0000;stroke-width:4.0px;stroke-linecap:butt;stroke-linejoin:miter;stroke-opacity:1\"/>\n",
       "<path class=\"atom-1\" d=\"M 272.177 236.561 L 280.985 250.797 Q 281.858 252.202, 283.263 254.745 Q 284.667 257.289, 284.743 257.441 L 284.743 236.561 L 288.312 236.561 L 288.312 263.439 L 284.629 263.439 L 275.176 247.874 Q 274.075 246.052, 272.899 243.964 Q 271.76 241.876, 271.418 241.23 L 271.418 263.439 L 267.925 263.439 L 267.925 236.561 L 272.177 236.561 \" fill=\"#0000FF\"/>\n",
       "<path class=\"atom-1\" d=\"M 290.567 241.406 L 295.302 241.406 L 295.302 236.42 L 297.407 236.42 L 297.407 241.406 L 302.268 241.406 L 302.268 243.21 L 297.407 243.21 L 297.407 248.221 L 295.302 248.221 L 295.302 243.21 L 290.567 243.21 L 290.567 241.406 \" fill=\"#0000FF\"/>\n",
       "<path class=\"atom-6\" d=\"M 22.2061 189.046 Q 22.2061 182.592, 25.395 178.986 Q 28.584 175.379, 34.5442 175.379 Q 40.5044 175.379, 43.6934 178.986 Q 46.8823 182.592, 46.8823 189.046 Q 46.8823 195.576, 43.6554 199.296 Q 40.4285 202.979, 34.5442 202.979 Q 28.6219 202.979, 25.395 199.296 Q 22.2061 195.614, 22.2061 189.046 M 34.5442 199.942 Q 38.6442 199.942, 40.8461 197.208 Q 43.0859 194.437, 43.0859 189.046 Q 43.0859 183.769, 40.8461 181.112 Q 38.6442 178.416, 34.5442 178.416 Q 30.4442 178.416, 28.2043 181.074 Q 26.0025 183.731, 26.0025 189.046 Q 26.0025 194.475, 28.2043 197.208 Q 30.4442 199.942, 34.5442 199.942 \" fill=\"#FF0000\"/>\n",
       "<path class=\"atom-7\" d=\"M 36.6483 352.797 Q 36.6483 346.343, 39.8372 342.736 Q 43.0261 339.13, 48.9863 339.13 Q 54.9466 339.13, 58.1355 342.736 Q 61.3244 346.343, 61.3244 352.797 Q 61.3244 359.326, 58.0975 363.047 Q 54.8707 366.729, 48.9863 366.729 Q 43.0641 366.729, 39.8372 363.047 Q 36.6483 359.364, 36.6483 352.797 M 48.9863 363.692 Q 53.0864 363.692, 55.2883 360.959 Q 57.5281 358.187, 57.5281 352.797 Q 57.5281 347.52, 55.2883 344.862 Q 53.0864 342.167, 48.9863 342.167 Q 44.8863 342.167, 42.6465 344.824 Q 40.4446 347.482, 40.4446 352.797 Q 40.4446 358.225, 42.6465 360.959 Q 44.8863 363.692, 48.9863 363.692 \" fill=\"#FF0000\"/>\n",
       "<path class=\"atom-7\" d=\"M 62.5772 343.517 L 71.7727 343.517 L 71.7727 345.521 L 62.5772 345.521 L 62.5772 343.517 \" fill=\"#FF0000\"/>\n",
       "<path class=\"atom-8\" d=\"M 250.926 47.4784 L 254.571 47.4784 L 254.571 58.9054 L 268.314 58.9054 L 268.314 47.4784 L 271.958 47.4784 L 271.958 74.3564 L 268.314 74.3564 L 268.314 61.9424 L 254.571 61.9424 L 254.571 74.3564 L 250.926 74.3564 L 250.926 47.4784 \" fill=\"#000000\"/>\n",
       "<path class=\"atom-9\" d=\"M 314.074 130.328 L 317.718 130.328 L 317.718 141.755 L 331.461 141.755 L 331.461 130.328 L 335.105 130.328 L 335.105 157.206 L 331.461 157.206 L 331.461 144.792 L 317.718 144.792 L 317.718 157.206 L 314.074 157.206 L 314.074 130.328 \" fill=\"#000000\"/>\n",
       "<path class=\"atom-10\" d=\"M 164.412 138.771 L 168.056 138.771 L 168.056 150.198 L 181.799 150.198 L 181.799 138.771 L 185.443 138.771 L 185.443 165.65 L 181.799 165.65 L 181.799 153.236 L 168.056 153.236 L 168.056 165.65 L 164.412 165.65 L 164.412 138.771 \" fill=\"#000000\"/>\n",
       "<path class=\"atom-11\" d=\"M 284.279 425.644 L 287.923 425.644 L 287.923 437.071 L 301.666 437.071 L 301.666 425.644 L 305.311 425.644 L 305.311 452.522 L 301.666 452.522 L 301.666 440.108 L 287.923 440.108 L 287.923 452.522 L 284.279 452.522 L 284.279 425.644 \" fill=\"#000000\"/>\n",
       "<path class=\"atom-12\" d=\"M 331.95 333.02 L 335.595 333.02 L 335.595 344.447 L 349.338 344.447 L 349.338 333.02 L 352.982 333.02 L 352.982 359.898 L 349.338 359.898 L 349.338 347.484 L 335.595 347.484 L 335.595 359.898 L 331.95 359.898 L 331.95 333.02 \" fill=\"#000000\"/>\n",
       "<path class=\"atom-13\" d=\"M 221.132 342.794 L 224.776 342.794 L 224.776 354.221 L 238.519 354.221 L 238.519 342.794 L 242.163 342.794 L 242.163 369.672 L 238.519 369.672 L 238.519 357.258 L 224.776 357.258 L 224.776 369.672 L 221.132 369.672 L 221.132 342.794 \" fill=\"#000000\"/>\n",
       "<path class=\"atom-14\" d=\"M 456.685 219.885 L 460.33 219.885 L 460.33 231.312 L 474.072 231.312 L 474.072 219.885 L 477.717 219.885 L 477.717 246.763 L 474.072 246.763 L 474.072 234.349 L 460.33 234.349 L 460.33 246.763 L 456.685 246.763 L 456.685 219.885 \" fill=\"#000000\"/>\n",
       "<path class=\"atom-15\" d=\"M 373.836 283.032 L 377.48 283.032 L 377.48 294.459 L 391.223 294.459 L 391.223 283.032 L 394.867 283.032 L 394.867 309.91 L 391.223 309.91 L 391.223 297.496 L 377.48 297.496 L 377.48 309.91 L 373.836 309.91 L 373.836 283.032 \" fill=\"#000000\"/>\n",
       "<path class=\"atom-16\" d=\"M 364.062 172.213 L 367.706 172.213 L 367.706 183.64 L 381.449 183.64 L 381.449 172.213 L 385.094 172.213 L 385.094 199.091 L 381.449 199.091 L 381.449 186.677 L 367.706 186.677 L 367.706 199.091 L 364.062 199.091 L 364.062 172.213 \" fill=\"#000000\"/>\n",
       "<path class=\"atom-17\" d=\"M 171.143 300.909 L 174.788 300.909 L 174.788 312.336 L 188.531 312.336 L 188.531 300.909 L 192.175 300.909 L 192.175 327.787 L 188.531 327.787 L 188.531 315.373 L 174.788 315.373 L 174.788 327.787 L 171.143 327.787 L 171.143 300.909 \" fill=\"#000000\"/>\n",
       "<path class=\"atom-18\" d=\"M 153.261 152.079 L 156.906 152.079 L 156.906 163.506 L 170.648 163.506 L 170.648 152.079 L 174.293 152.079 L 174.293 178.957 L 170.648 178.957 L 170.648 166.543 L 156.906 166.543 L 156.906 178.957 L 153.261 178.957 L 153.261 152.079 \" fill=\"#000000\"/>\n",
       "</svg>"
      ],
      "text/plain": [
       "<IPython.core.display.SVG object>"
      ]
     },
     "metadata": {},
     "output_type": "display_data"
    }
   ],
   "source": [
    "m = Molecule(smiles='C[N+](C)(C)CC(=O)[O-]', hydrogens_are_explicit=False)\n",
    "display(m)"
   ]
  }
 ],
 "metadata": {
  "kernelspec": {
   "display_name": "Python 3",
   "language": "python",
   "name": "python3"
  },
  "language_info": {
   "codemirror_mode": {
    "name": "ipython",
    "version": 3
   },
   "file_extension": ".py",
   "mimetype": "text/x-python",
   "name": "python",
   "nbconvert_exporter": "python",
   "pygments_lexer": "ipython3",
   "version": "3.7.10"
  }
 },
 "nbformat": 4,
 "nbformat_minor": 4
}
