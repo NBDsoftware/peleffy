{
 "cells": [
  {
   "cell_type": "markdown",
   "metadata": {},
   "source": [
    "# Molecular representations\n",
    "This notebook shows the two available methods that can be used to define a molecule object in `peleffy`. It can accept either a PDB file or a SMILES tag."
   ]
  },
  {
   "cell_type": "code",
   "execution_count": 1,
   "metadata": {},
   "outputs": [],
   "source": [
    "from peleffy.topology import Molecule\n",
    "from peleffy.utils import get_data_file_path\n",
    "from simtk import unit\n",
    "from rdkit.Chem import AllChem\n",
    "from copy import copy"
   ]
  },
  {
   "cell_type": "code",
   "execution_count": 2,
   "metadata": {},
   "outputs": [],
   "source": [
    "# Get paths to PDB files\n",
    "AMMONIUM_PDB = get_data_file_path('ligands/ammonium.pdb')\n",
    "MALONATE_PDB = get_data_file_path('ligands/malonate.pdb')\n",
    "TRIMETHYLGLYCINE_PDB = get_data_file_path('ligands/trimethylglycine.pdb')"
   ]
  },
  {
   "cell_type": "markdown",
   "metadata": {},
   "source": [
    "## Ammonium"
   ]
  },
  {
   "cell_type": "code",
   "execution_count": 3,
   "metadata": {},
   "outputs": [
    {
     "name": "stderr",
     "output_type": "stream",
     "text": [
      " - Initializing molecule from PDB\n",
      "   - Loading molecule from RDKit\n",
      "   - Assigning stereochemistry from 3D coordinates\n",
      "   - Setting molecule name to 'ammonium'\n",
      "   - Setting molecule tag to 'UNL'\n",
      "   - Representing molecule with the Open Force Field Toolkit\n",
      "Warning: Unable to load toolkit 'OpenEye Toolkit'. The Open Force Field Toolkit does not require the OpenEye Toolkits, and can use RDKit/AmberTools instead. However, if you have a valid license for the OpenEye Toolkits, consider installing them for faster performance and additional file format support: https://docs.eyesopen.com/toolkits/python/quickstart-python/linuxosx.html OpenEye offers free Toolkit licenses for academics: https://www.eyesopen.com/academic-licensing\n"
     ]
    },
    {
     "data": {
      "application/vnd.jupyter.widget-view+json": {
       "model_id": "f4bb0d76c9dd4194a61acf6612e722ba",
       "version_major": 2,
       "version_minor": 0
      },
      "text/plain": []
     },
     "metadata": {},
     "output_type": "display_data"
    },
    {
     "name": "stderr",
     "output_type": "stream",
     "text": [
      " - Generating rotamer library\n",
      "   - Core set to the center of the molecule\n"
     ]
    },
    {
     "data": {
      "image/png": "[encoded data removed]",
      "text/plain": [
       "<rdkit.Chem.rdchem.Mol at 0x7fbcc06ec4e0>"
      ]
     },
     "metadata": {},
     "output_type": "display_data"
    }
   ],
   "source": [
    "m = Molecule(AMMONIUM_PDB)\n",
    "display(m)"
   ]
  },
  {
   "cell_type": "code",
   "execution_count": 4,
   "metadata": {},
   "outputs": [
    {
     "name": "stderr",
     "output_type": "stream",
     "text": [
      " - Initializing molecule from a SMILES tag\n",
      "   - Loading molecule from RDKit\n",
      "   - Setting molecule name to '[NH4+]'\n",
      "   - Representing molecule with the Open Force Field Toolkit\n",
      " - Generating rotamer library\n",
      "   - Core set to the center of the molecule\n"
     ]
    },
    {
     "data": {
      "image/png": "[encoded data removed]",
      "text/plain": [
       "<rdkit.Chem.rdchem.Mol at 0x7fbcc07286c0>"
      ]
     },
     "metadata": {},
     "output_type": "display_data"
    }
   ],
   "source": [
    "m = Molecule(smiles='[NH4+]')\n",
    "display(m)"
   ]
  },
  {
   "cell_type": "markdown",
   "metadata": {},
   "source": [
    "## Malonate"
   ]
  },
  {
   "cell_type": "code",
   "execution_count": 5,
   "metadata": {},
   "outputs": [
    {
     "name": "stderr",
     "output_type": "stream",
     "text": [
      " - Initializing molecule from PDB\n",
      "   - Loading molecule from RDKit\n",
      "   - Assigning stereochemistry from 3D coordinates\n",
      "   - Setting molecule name to 'malonate'\n",
      "   - Setting molecule tag to 'UNL'\n",
      "   - Representing molecule with the Open Force Field Toolkit\n",
      " - Generating rotamer library\n",
      "   - Core set to the center of the molecule\n"
     ]
    },
    {
     "data": {
      "image/png": "[encoded data removed]",
      "text/plain": [
       "<rdkit.Chem.rdchem.Mol at 0x7fbcc0739f80>"
      ]
     },
     "metadata": {},
     "output_type": "display_data"
    }
   ],
   "source": [
    "m = Molecule(MALONATE_PDB)\n",
    "display(m)"
   ]
  },
  {
   "cell_type": "code",
   "execution_count": 6,
   "metadata": {},
   "outputs": [
    {
     "name": "stderr",
     "output_type": "stream",
     "text": [
      " - Initializing molecule from a SMILES tag\n",
      "   - Loading molecule from RDKit\n",
      "   - Setting molecule name to 'O=C([O-])CC(O)=O'\n",
      "   - Representing molecule with the Open Force Field Toolkit\n",
      " - Generating rotamer library\n",
      "   - Core set to the center of the molecule\n"
     ]
    },
    {
     "data": {
      "image/png": "[encoded data removed]",
      "text/plain": [
       "<rdkit.Chem.rdchem.Mol at 0x7fbcc073b2b0>"
      ]
     },
     "metadata": {},
     "output_type": "display_data"
    }
   ],
   "source": [
    "m = Molecule(smiles='O=C([O-])CC(O)=O')\n",
    "display(m)"
   ]
  },
  {
   "cell_type": "markdown",
   "metadata": {},
   "source": [
    "## Trimethylglycine"
   ]
  },
  {
   "cell_type": "code",
   "execution_count": 7,
   "metadata": {},
   "outputs": [
    {
     "name": "stderr",
     "output_type": "stream",
     "text": [
      " - Initializing molecule from PDB\n",
      "   - Loading molecule from RDKit\n",
      "   - Assigning stereochemistry from 3D coordinates\n",
      "   - Setting molecule name to 'trimethylglycine'\n",
      "   - Setting molecule tag to 'UNL'\n",
      "   - Representing molecule with the Open Force Field Toolkit\n",
      " - Generating rotamer library\n",
      "   - Core set to the center of the molecule\n"
     ]
    },
    {
     "data": {
      "image/png": "[encoded data removed]",
      "text/plain": [
       "<rdkit.Chem.rdchem.Mol at 0x7fbcc0751ee0>"
      ]
     },
     "metadata": {},
     "output_type": "display_data"
    }
   ],
   "source": [
    "m = Molecule(TRIMETHYLGLYCINE_PDB)\n",
    "display(m)"
   ]
  },
  {
   "cell_type": "code",
   "execution_count": 8,
   "metadata": {},
   "outputs": [
    {
     "name": "stderr",
     "output_type": "stream",
     "text": [
      " - Initializing molecule from a SMILES tag\n",
      "   - Loading molecule from RDKit\n",
      "   - Setting molecule name to 'C[N+](C)(C)CC(=O)[O-]'\n",
      "   - Representing molecule with the Open Force Field Toolkit\n",
      " - Generating rotamer library\n",
      "   - Core set to the center of the molecule\n"
     ]
    },
    {
     "data": {
      "image/png": "[encoded data removed]",
      "text/plain": [
       "<rdkit.Chem.rdchem.Mol at 0x7fbcc075bc60>"
      ]
     },
     "metadata": {},
     "output_type": "display_data"
    }
   ],
   "source": [
    "m = Molecule(smiles='C[N+](C)(C)CC(=O)[O-]')\n",
    "display(m)"
   ]
  }
 ],
 "metadata": {
  "kernelspec": {
   "display_name": "Python 3",
   "language": "python",
   "name": "python3"
  },
  "language_info": {
   "codemirror_mode": {
    "name": "ipython",
    "version": 3
   },
   "file_extension": ".py",
   "mimetype": "text/x-python",
   "name": "python",
   "nbconvert_exporter": "python",
   "pygments_lexer": "ipython3",
   "version": "3.7.8"
  }
 },
 "nbformat": 4,
 "nbformat_minor": 4
}
