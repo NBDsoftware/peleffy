{
 "cells": [
  {
   "cell_type": "code",
   "execution_count": 1,
   "metadata": {},
   "outputs": [],
   "source": [
    "from offpele.topology import Molecule, RotamerLibrary\n",
    "from offpele.template import Impact\n",
    "from offpele.solvent import OBC2"
   ]
  },
  {
   "cell_type": "code",
   "execution_count": 2,
   "metadata": {},
   "outputs": [
    {
     "name": "stderr",
     "output_type": "stream",
     "text": [
      "Warning: Unable to load toolkit 'OpenEye Toolkit'. The Open Force Field Toolkit does not require the OpenEye Toolkits, and can use RDKit/AmberTools instead. However, if you have a valid license for the OpenEye Toolkits, consider installing them for faster performance and additional file format support: https://docs.eyesopen.com/toolkits/python/quickstart-python/linuxosx.html OpenEye offers free Toolkit licenses for academics: https://www.eyesopen.com/academic-licensing\n"
     ]
    },
    {
     "name": "stdout",
     "output_type": "stream",
     "text": [
      " - Loading molecule from RDKit\n"
     ]
    },
    {
     "data": {
      "application/vnd.jupyter.widget-view+json": {
       "model_id": "6611b69506ef4041b8db2a94d1575718",
       "version_major": 2,
       "version_minor": 0
      },
      "text/plain": []
     },
     "metadata": {},
     "output_type": "display_data"
    },
    {
     "name": "stdout",
     "output_type": "stream",
     "text": [
      " - Generating rotamer library\n"
     ]
    },
    {
     "data": {
      "application/vnd.jupyter.widget-view+json": {
       "model_id": "097ca2c09122475abd7c336b65412aef",
       "version_major": 2,
       "version_minor": 0
      },
      "text/plain": [
       "NGLWidget()"
      ]
     },
     "metadata": {},
     "output_type": "display_data"
    },
    {
     "name": "stdout",
     "output_type": "stream",
     "text": [
      " - Loading forcefield\n",
      " - Computing partial charges with am1bcc\n"
     ]
    }
   ],
   "source": [
    "NAME = 'BNZ'\n",
    "EXTENSION = '.pdb'\n",
    "FORCEFIELD = 'openff_unconstrained-1.1.1.offxml'\n",
    "CHARGES_METHOD = 'am1bcc'\n",
    "\n",
    "# Load molecule\n",
    "molecule = Molecule('../data/ligands/' + NAME.upper() + EXTENSION,\n",
    "                    rotamer_resolution=30)\n",
    "display(molecule.off_molecule)\n",
    "\n",
    "# Generate its rotamer library\n",
    "rotamer_library = RotamerLibrary(molecule)\n",
    "rotamer_library.to_file('../data/templates/' + NAME.upper() + '.rot.assign')\n",
    "\n",
    "# Generate its parameters and template file\n",
    "molecule.parameterize(FORCEFIELD, charges_method=CHARGES_METHOD)\n",
    "impact = Impact(molecule)\n",
    "impact.write('../data/templates/' + NAME.lower() + 'z')"
   ]
  },
  {
   "cell_type": "code",
   "execution_count": 3,
   "metadata": {},
   "outputs": [
    {
     "name": "stdout",
     "output_type": "stream",
     "text": [
      " - Loading molecule from RDKit\n",
      " - Generating rotamer library\n"
     ]
    },
    {
     "data": {
      "application/vnd.jupyter.widget-view+json": {
       "model_id": "96d4741edabc48899e798d00ce079009",
       "version_major": 2,
       "version_minor": 0
      },
      "text/plain": [
       "NGLWidget()"
      ]
     },
     "metadata": {},
     "output_type": "display_data"
    },
    {
     "name": "stdout",
     "output_type": "stream",
     "text": [
      " - Loading forcefield\n",
      " - Computing partial charges with gasteiger\n"
     ]
    }
   ],
   "source": [
    "NAME = 'OLC'\n",
    "EXTENSION = '.pdb'\n",
    "FORCEFIELD = 'openff_unconstrained-1.1.1.offxml' \n",
    "CHARGES_METHOD = 'gasteiger'\n",
    "\n",
    "# Load molecule\n",
    "molecule = Molecule('../data/ligands/' + NAME.upper() + EXTENSION,\n",
    "                    rotamer_resolution=30)\n",
    "display(molecule.off_molecule)\n",
    "\n",
    "# Generate its rotamer library\n",
    "rotamer_library = RotamerLibrary(molecule)\n",
    "rotamer_library.to_file('../data/templates/' + NAME.upper() + '.rot.assign')\n",
    "\n",
    "# Generate its parameters and template file\n",
    "molecule.parameterize(FORCEFIELD, charges_method=CHARGES_METHOD)\n",
    "impact = Impact(molecule)\n",
    "impact.write('../data/templates/' + NAME.lower() + 'z')"
   ]
  },
  {
   "cell_type": "code",
   "execution_count": 4,
   "metadata": {},
   "outputs": [
    {
     "name": "stdout",
     "output_type": "stream",
     "text": [
      " - Loading molecule from RDKit\n",
      " - Generating rotamer library\n"
     ]
    },
    {
     "data": {
      "application/vnd.jupyter.widget-view+json": {
       "model_id": "abe2a90957b94339ab25c332d2ef0030",
       "version_major": 2,
       "version_minor": 0
      },
      "text/plain": [
       "NGLWidget()"
      ]
     },
     "metadata": {},
     "output_type": "display_data"
    },
    {
     "name": "stdout",
     "output_type": "stream",
     "text": [
      " - Loading forcefield\n",
      " - Computing partial charges with am1bcc\n",
      " - Loading solvent parameters\n"
     ]
    }
   ],
   "source": [
    "NAME = 'TOL'\n",
    "EXTENSION = '.pdb'\n",
    "FORCEFIELD = 'openff_unconstrained-1.1.1.offxml'\n",
    "CHARGES_METHOD = 'am1bcc'\n",
    "\n",
    "# Load molecule\n",
    "molecule = Molecule('../data/ligands/' + NAME.upper() + EXTENSION,\n",
    "                    rotamer_resolution=30)\n",
    "display(molecule.off_molecule)\n",
    "\n",
    "# Generate its rotamer library\n",
    "rotamer_library = RotamerLibrary(molecule)\n",
    "rotamer_library.to_file('../data/templates/' + NAME.upper() + '.rot.assign')\n",
    "\n",
    "# Generate its parameters and template file\n",
    "molecule.parameterize(FORCEFIELD, charges_method=CHARGES_METHOD)\n",
    "impact = Impact(molecule)\n",
    "impact.write('../data/templates/' + NAME.lower() + 'z')\n",
    "\n",
    "# Generate its solvent parameters\n",
    "solvent = OBC2(molecule)\n",
    "solvent.to_json_file('ligandParams.txt')"
   ]
  }
 ],
 "metadata": {
  "kernelspec": {
   "display_name": "Python 3",
   "language": "python",
   "name": "python3"
  },
  "language_info": {
   "codemirror_mode": {
    "name": "ipython",
    "version": 3
   },
   "file_extension": ".py",
   "mimetype": "text/x-python",
   "name": "python",
   "nbconvert_exporter": "python",
   "pygments_lexer": "ipython3",
   "version": "3.7.8"
  }
 },
 "nbformat": 4,
 "nbformat_minor": 4
}
