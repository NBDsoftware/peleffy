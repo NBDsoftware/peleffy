{
 "cells": [
  {
   "cell_type": "markdown",
   "metadata": {},
   "source": [
    "# Parameterization with the Open Force Field Toolkit\n",
    "This notebook shows how to use the API of `peleffy` to combine the parameters from OPLS2005 and force fields from the Open Force Field initiative. There are several possible combinations that are displayed below."
   ]
  },
  {
   "cell_type": "markdown",
   "metadata": {},
   "source": [
    "## Example 1: Open Force Field parameters with OPLS2005 charges\n",
    "This example shows how to parameterize a molecule by combining the parameters from the Open Force Field initiative with OPLS2005 partial charges."
   ]
  },
  {
   "cell_type": "markdown",
   "metadata": {},
   "source": [
    "### `peleffy` requires the Schrodinger Toolkit to use the OPLS2005 parameters\n",
    "To indicate the path to the Schrodinger's installation `peleffy` needs the following environment variable to be set."
   ]
  },
  {
   "cell_type": "code",
   "execution_count": 1,
   "metadata": {},
   "outputs": [],
   "source": [
    "import os\n",
    "os.environ['SCHRODINGER'] = '/opt/schrodinger/suites2020-2/'"
   ]
  },
  {
   "cell_type": "markdown",
   "metadata": {},
   "source": [
    "### Load `peleffy`'s molecule representation with a PDB file of anthracene"
   ]
  },
  {
   "cell_type": "code",
   "execution_count": 2,
   "metadata": {},
   "outputs": [],
   "source": [
    "from peleffy.topology import Molecule"
   ]
  },
  {
   "cell_type": "code",
   "execution_count": 3,
   "metadata": {},
   "outputs": [
    {
     "name": "stderr",
     "output_type": "stream",
     "text": [
      " - Initializing molecule from a SMILES tag\n",
      "   - Loading molecule from RDKit\n",
      "   - Setting molecule name to 'c1ccc2cc3ccccc3cc2c1'\n",
      "   - Representing molecule with the Open Force Field Toolkit\n"
     ]
    },
    {
     "data": {
      "application/vnd.jupyter.widget-view+json": {
       "model_id": "868f3b8c27214edfabdc42b75b623119",
       "version_major": 2,
       "version_minor": 0
      },
      "text/plain": []
     },
     "metadata": {},
     "output_type": "display_data"
    },
    {
     "name": "stderr",
     "output_type": "stream",
     "text": [
      " - Generating rotamer library\n",
      "   - Core set to the center of the molecule\n"
     ]
    },
    {
     "data": {
      "image/png": "[encoded data removed]",
      "text/plain": [
       "<rdkit.Chem.rdchem.Mol at 0x7ffed747bd50>"
      ]
     },
     "metadata": {},
     "output_type": "display_data"
    }
   ],
   "source": [
    "molecule = Molecule(smiles='c1ccc2cc3ccccc3cc2c1')\n",
    "display(molecule)"
   ]
  },
  {
   "cell_type": "markdown",
   "metadata": {},
   "source": [
    "### Parameterize with `Open Force Field Toolkit` and `ffld_server`, and generate the Impact template\n",
    "Please, note that to use OPLS2005 partial charges from OPLS2005 we need to select the `OPLS2005` option in the `charges_method` parameter when calling the `OpenForceField.parameterize()` function.\n",
    "Then, the Impact template, named __antz__, can be generated."
   ]
  },
  {
   "cell_type": "code",
   "execution_count": 4,
   "metadata": {},
   "outputs": [],
   "source": [
    "from peleffy.forcefield import OpenForceField\n",
    "from peleffy.topology import Topology\n",
    "from peleffy.template import Impact"
   ]
  },
  {
   "cell_type": "code",
   "execution_count": 5,
   "metadata": {},
   "outputs": [],
   "source": [
    "openff = OpenForceField('openff_unconstrained-1.2.0.offxml')\n",
    "parameters = openff.parameterize(molecule, charge_method='OPLS2005')"
   ]
  },
  {
   "cell_type": "code",
   "execution_count": 6,
   "metadata": {},
   "outputs": [],
   "source": [
    "topology = Topology(molecule, parameters)"
   ]
  },
  {
   "cell_type": "code",
   "execution_count": 7,
   "metadata": {},
   "outputs": [],
   "source": [
    "impact = Impact(topology)\n",
    "impact.to_file('antz')"
   ]
  },
  {
   "cell_type": "markdown",
   "metadata": {},
   "source": [
    "## Example 2: OPLS2005 parameters with OpenFF torsions\n",
    "This example shows how to parameterize a molecule by combining the parameters from the `OPLS2005` parameters with `OpenFF` torsions. This combination of parameters allows PELE to use its SGB implicit solvent model (which requires OPLS2005 atom types to be assigned)."
   ]
  },
  {
   "cell_type": "markdown",
   "metadata": {},
   "source": [
    "### `peleffy` requires the Schrodinger Toolkit to use the OPLS2005 parameters\n",
    "To indicate the path to the Schrodinger's installation `peleffy` needs the following environment variable to be set."
   ]
  },
  {
   "cell_type": "code",
   "execution_count": 8,
   "metadata": {},
   "outputs": [],
   "source": [
    "import os\n",
    "os.environ['SCHRODINGER'] = '/opt/schrodinger/suites2020-2/'"
   ]
  },
  {
   "cell_type": "markdown",
   "metadata": {},
   "source": [
    "### Load `peleffy`'s molecule representation with a PDB file of aldicarb"
   ]
  },
  {
   "cell_type": "code",
   "execution_count": 9,
   "metadata": {},
   "outputs": [],
   "source": [
    "from peleffy.topology import Molecule"
   ]
  },
  {
   "cell_type": "code",
   "execution_count": 10,
   "metadata": {},
   "outputs": [
    {
     "name": "stderr",
     "output_type": "stream",
     "text": [
      " - Initializing molecule from a SMILES tag\n",
      "   - Loading molecule from RDKit\n",
      "   - Setting molecule name to 'CC(C)(/C=N\\OC(=O)NC)SC'\n",
      "   - Representing molecule with the Open Force Field Toolkit\n",
      " - Generating rotamer library\n",
      "   - Core set to the center of the molecule\n"
     ]
    },
    {
     "data": {
      "image/png": "[encoded data removed]",
      "text/plain": [
       "<rdkit.Chem.rdchem.Mol at 0x7ffed85c56c0>"
      ]
     },
     "metadata": {},
     "output_type": "display_data"
    }
   ],
   "source": [
    "molecule = Molecule(smiles='CC(C)(/C=N\\OC(=O)NC)SC')\n",
    "display(molecule)"
   ]
  },
  {
   "cell_type": "markdown",
   "metadata": {},
   "source": [
    "### Parameterize with `Open Force Field Toolkit` and `ffld_server`\n",
    "To work with OPLS2005 non-bonding parameters, we need work with a special force field called `OpenFFOPLS2005ForceField`."
   ]
  },
  {
   "cell_type": "code",
   "execution_count": 11,
   "metadata": {},
   "outputs": [],
   "source": [
    "from peleffy.forcefield import OpenFFOPLS2005ForceField\n",
    "\n",
    "hybridff = OpenFFOPLS2005ForceField('openff_unconstrained-1.2.0.offxml')"
   ]
  },
  {
   "cell_type": "markdown",
   "metadata": {},
   "source": [
    "### Set up the hybrid force field\n",
    "This force field allows us to combine `OpenFF` and `OPLS2005` parameters through its methods. There are several parameter types that can be combined:\n",
    "- Non bonding parameters: with `set_nonbonding_parameters()`\n",
    "- Bond parameters: with `set_bond_parameters()`\n",
    "- Angle parameters: with `set_angle_parameters()`\n",
    "- Torsion parameters: with `set_torsion_parameters()`\n",
    "\n",
    "Please, note that partial charges are assigned by using the `charge_method` parameter from the `OpenFFOPLS2005ForceField.parameterize()` method.\n",
    "\n",
    "Below, we are setting up the hybrid force field to parameterize the ligand with the nonbonding, bond and angles terms from the `OPLS2005` force field and assign the torsion parameters with the `OpenFF` force field."
   ]
  },
  {
   "cell_type": "code",
   "execution_count": 12,
   "metadata": {},
   "outputs": [],
   "source": [
    "hybridff.set_nonbonding_parameters('OPLS2005')\n",
    "hybridff.set_bond_parameters('OPLS2005')\n",
    "hybridff.set_angle_parameters('OPLS2005')\n",
    "hybridff.set_torsion_parameters('OpenFF')"
   ]
  },
  {
   "cell_type": "markdown",
   "metadata": {},
   "source": [
    "### Generate the Impact template\n",
    "Finally, the Impact template, named __aldz__, can be generated."
   ]
  },
  {
   "cell_type": "code",
   "execution_count": 13,
   "metadata": {},
   "outputs": [],
   "source": [
    "from peleffy.topology import Topology\n",
    "from peleffy.template import Impact"
   ]
  },
  {
   "cell_type": "code",
   "execution_count": 14,
   "metadata": {},
   "outputs": [],
   "source": [
    "parameters = hybridff.parameterize(molecule, charge_method='OPLS2005')\n",
    "topology = Topology(molecule, parameters)"
   ]
  },
  {
   "cell_type": "code",
   "execution_count": 15,
   "metadata": {},
   "outputs": [],
   "source": [
    "impact = Impact(topology)\n",
    "impact.to_file('aldz')"
   ]
  },
  {
   "cell_type": "markdown",
   "metadata": {},
   "source": [
    "## Example 3: OpenFF terms with OPLS2005 non-bonding parameters\n",
    "This example shows how to parameterize a molecule by combining the parameters from the `OpenFF` with non bonding terms from the `OPLS2005`force field. This combination of parameters also allows PELE to use its SGB implicit solvent model (which requires OPLS2005 atom types to be assigned)."
   ]
  },
  {
   "cell_type": "markdown",
   "metadata": {},
   "source": [
    "### `peleffy` requires the Schrodinger Toolkit to use the OPLS2005 parameters\n",
    "To indicate the path to the Schrodinger's installation `peleffy` needs the following environment variable to be set."
   ]
  },
  {
   "cell_type": "code",
   "execution_count": 16,
   "metadata": {},
   "outputs": [],
   "source": [
    "import os\n",
    "os.environ['SCHRODINGER'] = '/opt/schrodinger/suites2020-2/'"
   ]
  },
  {
   "cell_type": "markdown",
   "metadata": {},
   "source": [
    "### Load `peleffy`'s molecule representation with a PDB file of diazinon"
   ]
  },
  {
   "cell_type": "code",
   "execution_count": 17,
   "metadata": {},
   "outputs": [],
   "source": [
    "from peleffy.topology import Molecule"
   ]
  },
  {
   "cell_type": "code",
   "execution_count": 18,
   "metadata": {
    "scrolled": true
   },
   "outputs": [
    {
     "name": "stderr",
     "output_type": "stream",
     "text": [
      " - Initializing molecule from a SMILES tag\n",
      "   - Loading molecule from RDKit\n",
      "   - Setting molecule name to 'CCOP(=S)(OCC)Oc1cc(nc(n1)C(C)C)C'\n",
      "   - Representing molecule with the Open Force Field Toolkit\n",
      " - Generating rotamer library\n",
      "   - Core set to the center of the molecule\n"
     ]
    },
    {
     "data": {
      "image/png": "[encoded data removed]",
      "text/plain": [
       "<rdkit.Chem.rdchem.Mol at 0x7ffed83f6620>"
      ]
     },
     "metadata": {},
     "output_type": "display_data"
    }
   ],
   "source": [
    "molecule = Molecule(smiles='CCOP(=S)(OCC)Oc1cc(nc(n1)C(C)C)C')\n",
    "display(molecule)"
   ]
  },
  {
   "cell_type": "markdown",
   "metadata": {},
   "source": [
    "### Parameterize with `Open Force Field Toolkit` and `ffld_server`\n",
    "To work with OPLS2005 non-bonding parameters, we need work with a special force field called `OpenFFOPLS2005ForceField`."
   ]
  },
  {
   "cell_type": "code",
   "execution_count": 19,
   "metadata": {},
   "outputs": [],
   "source": [
    "from peleffy.forcefield import OpenFFOPLS2005ForceField\n",
    "\n",
    "hybridff = OpenFFOPLS2005ForceField('openff_unconstrained-1.2.0.offxml')"
   ]
  },
  {
   "cell_type": "markdown",
   "metadata": {},
   "source": [
    "### Set up the hybrid force field\n",
    "This force field allows us to combine `OpenFF` and `OPLS2005` parameters through its methods. There are several parameter types that can be combined:\n",
    "- Non bonding parameters: with `set_nonbonding_parameters()`\n",
    "- Bond parameters: with `set_bond_parameters()`\n",
    "- Angle parameters: with `set_angle_parameters()`\n",
    "- Torsion parameters: with `set_torsion_parameters()`\n",
    "\n",
    "Please, note that partial charges are assigned by using the `charge_method` parameter from the `OpenFFOPLS2005ForceField.parameterize()` method.\n",
    "\n",
    "Below, we are setting up the hybrid force field to parameterize the ligand with the nonbonding, bond and angles terms from the `OPLS2005` force field and assign the torsion parameters with the `OpenFF` force field."
   ]
  },
  {
   "cell_type": "code",
   "execution_count": 20,
   "metadata": {},
   "outputs": [],
   "source": [
    "hybridff.set_nonbonding_parameters('OPLS2005')\n",
    "hybridff.set_bond_parameters('OpenFF')\n",
    "hybridff.set_angle_parameters('OpenFF')\n",
    "hybridff.set_torsion_parameters('OpenFF')"
   ]
  },
  {
   "cell_type": "markdown",
   "metadata": {},
   "source": [
    "### Generate the Impact template\n",
    "Finally, the Impact template, named __diaz__, can be generated."
   ]
  },
  {
   "cell_type": "code",
   "execution_count": 21,
   "metadata": {},
   "outputs": [],
   "source": [
    "from peleffy.topology import Topology\n",
    "from peleffy.template import Impact"
   ]
  },
  {
   "cell_type": "code",
   "execution_count": 22,
   "metadata": {},
   "outputs": [],
   "source": [
    "parameters = hybridff.parameterize(molecule, charge_method='OPLS2005')\n",
    "topology = Topology(molecule, parameters)"
   ]
  },
  {
   "cell_type": "code",
   "execution_count": 23,
   "metadata": {},
   "outputs": [],
   "source": [
    "impact = Impact(topology)\n",
    "impact.to_file('diaz')"
   ]
  }
 ],
 "metadata": {
  "kernelspec": {
   "display_name": "Python 3",
   "language": "python",
   "name": "python3"
  },
  "language_info": {
   "codemirror_mode": {
    "name": "ipython",
    "version": 3
   },
   "file_extension": ".py",
   "mimetype": "text/x-python",
   "name": "python",
   "nbconvert_exporter": "python",
   "pygments_lexer": "ipython3",
   "version": "3.7.8"
  }
 },
 "nbformat": 4,
 "nbformat_minor": 4
}
