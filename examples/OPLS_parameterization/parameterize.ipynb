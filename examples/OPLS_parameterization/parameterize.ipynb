{
 "cells": [
  {
   "cell_type": "markdown",
   "metadata": {},
   "source": [
    "# Parameterization with the Open Force Field Toolkit\n",
    "This notebook shows how to use the API of `peleffy` to combine the parameters from OPLS2005 and force fields from the Open Force Field initiative. There are several possible combinations that are displayed below."
   ]
  },
  {
   "cell_type": "markdown",
   "metadata": {},
   "source": [
    "## Example 1: Open Force Field parameters with OPLS2005 charges\n",
    "This example shows how to parameterize a molecule by combining the parameters from the Open Force Field initiative with OPLS2005 partial charges."
   ]
  },
  {
   "cell_type": "markdown",
   "metadata": {},
   "source": [
    "### `peleffy` requires the Schrodinger Toolkit to use the OPLS2005 parameters\n",
    "To indicate the path to the Schrodinger's installation `peleffy` needs the following environment variable to be set."
   ]
  },
  {
   "cell_type": "code",
   "execution_count": 1,
   "metadata": {},
   "outputs": [],
   "source": [
    "import os\n",
    "os.environ['SCHRODINGER'] = '/opt/schrodinger/suites2021-1/'"
   ]
  },
  {
   "cell_type": "markdown",
   "metadata": {},
   "source": [
    "### Load `peleffy`'s molecule representation with a PDB file of anthracene"
   ]
  },
  {
   "cell_type": "code",
   "execution_count": 2,
   "metadata": {},
   "outputs": [],
   "source": [
    "from peleffy.topology import Molecule"
   ]
  },
  {
   "cell_type": "code",
   "execution_count": 3,
   "metadata": {},
   "outputs": [
    {
     "name": "stderr",
     "output_type": "stream",
     "text": [
      " - Initializing molecule from a SMILES tag\n",
      "   - Loading molecule from RDKit\n",
      "   - Setting molecule name to 'c1ccc2cc3ccccc3cc2c1'\n",
      "   - Representing molecule with the Open Force Field Toolkit\n",
      " - Generating rotamer library\n",
      "   - Core set to the center of the molecule\n"
     ]
    },
    {
     "data": {
      "image/svg+xml": [
       "<svg baseProfile=\"full\" height=\"500px\" version=\"1.1\" viewBox=\"0 0 500 500\" width=\"500px\" xml:space=\"preserve\" xmlns=\"http://www.w3.org/2000/svg\" xmlns:rdkit=\"http://www.rdkit.org/xml\" xmlns:xlink=\"http://www.w3.org/1999/xlink\">\n",
       "<!-- END OF HEADER -->\n",
       "<rect height=\"500\" style=\"opacity:1.0;fill:#FFFFFF;stroke:none\" width=\"500\" x=\"0\" y=\"0\"> </rect>\n",
       "<path class=\"bond-0 atom-0 atom-1\" d=\"M 84.8285,281.787 L 84.8285,218.213\" style=\"fill:none;fill-rule:evenodd;stroke:#000000;stroke-width:4.0px;stroke-linecap:butt;stroke-linejoin:miter;stroke-opacity:1\"/>\n",
       "<path class=\"bond-0 atom-0 atom-1\" d=\"M 97.5434,272.251 L 97.5434,227.749\" style=\"fill:none;fill-rule:evenodd;stroke:#000000;stroke-width:4.0px;stroke-linecap:butt;stroke-linejoin:miter;stroke-opacity:1\"/>\n",
       "<path class=\"bond-13 atom-13 atom-0\" d=\"M 139.886,313.575 L 84.8285,281.787\" style=\"fill:none;fill-rule:evenodd;stroke:#000000;stroke-width:4.0px;stroke-linecap:butt;stroke-linejoin:miter;stroke-opacity:1\"/>\n",
       "<path class=\"bond-16 atom-0 atom-14\" d=\"M 84.8285,281.787 L 38.4048,308.59\" style=\"fill:none;fill-rule:evenodd;stroke:#000000;stroke-width:4.0px;stroke-linecap:butt;stroke-linejoin:miter;stroke-opacity:1\"/>\n",
       "<path class=\"bond-1 atom-1 atom-2\" d=\"M 84.8285,218.213 L 139.886,186.425\" style=\"fill:none;fill-rule:evenodd;stroke:#000000;stroke-width:4.0px;stroke-linecap:butt;stroke-linejoin:miter;stroke-opacity:1\"/>\n",
       "<path class=\"bond-17 atom-1 atom-15\" d=\"M 84.8285,218.213 L 38.4048,191.41\" style=\"fill:none;fill-rule:evenodd;stroke:#000000;stroke-width:4.0px;stroke-linecap:butt;stroke-linejoin:miter;stroke-opacity:1\"/>\n",
       "<path class=\"bond-2 atom-2 atom-3\" d=\"M 139.886,186.425 L 194.943,218.213\" style=\"fill:none;fill-rule:evenodd;stroke:#000000;stroke-width:4.0px;stroke-linecap:butt;stroke-linejoin:miter;stroke-opacity:1\"/>\n",
       "<path class=\"bond-2 atom-2 atom-3\" d=\"M 141.787,202.205 L 180.327,224.456\" style=\"fill:none;fill-rule:evenodd;stroke:#000000;stroke-width:4.0px;stroke-linecap:butt;stroke-linejoin:miter;stroke-opacity:1\"/>\n",
       "<path class=\"bond-18 atom-2 atom-16\" d=\"M 139.886,186.425 L 139.886,133.442\" style=\"fill:none;fill-rule:evenodd;stroke:#000000;stroke-width:4.0px;stroke-linecap:butt;stroke-linejoin:miter;stroke-opacity:1\"/>\n",
       "<path class=\"bond-3 atom-3 atom-4\" d=\"M 194.943,218.213 L 250,186.425\" style=\"fill:none;fill-rule:evenodd;stroke:#000000;stroke-width:4.0px;stroke-linecap:butt;stroke-linejoin:miter;stroke-opacity:1\"/>\n",
       "<path class=\"bond-14 atom-12 atom-3\" d=\"M 194.943,281.787 L 194.943,218.213\" style=\"fill:none;fill-rule:evenodd;stroke:#000000;stroke-width:4.0px;stroke-linecap:butt;stroke-linejoin:miter;stroke-opacity:1\"/>\n",
       "<path class=\"bond-4 atom-4 atom-5\" d=\"M 250,186.425 L 305.057,218.213\" style=\"fill:none;fill-rule:evenodd;stroke:#000000;stroke-width:4.0px;stroke-linecap:butt;stroke-linejoin:miter;stroke-opacity:1\"/>\n",
       "<path class=\"bond-4 atom-4 atom-5\" d=\"M 251.901,202.205 L 290.441,224.456\" style=\"fill:none;fill-rule:evenodd;stroke:#000000;stroke-width:4.0px;stroke-linecap:butt;stroke-linejoin:miter;stroke-opacity:1\"/>\n",
       "<path class=\"bond-19 atom-4 atom-17\" d=\"M 250,186.425 L 250,133.442\" style=\"fill:none;fill-rule:evenodd;stroke:#000000;stroke-width:4.0px;stroke-linecap:butt;stroke-linejoin:miter;stroke-opacity:1\"/>\n",
       "<path class=\"bond-5 atom-5 atom-6\" d=\"M 305.057,218.213 L 360.114,186.425\" style=\"fill:none;fill-rule:evenodd;stroke:#000000;stroke-width:4.0px;stroke-linecap:butt;stroke-linejoin:miter;stroke-opacity:1\"/>\n",
       "<path class=\"bond-15 atom-10 atom-5\" d=\"M 305.057,281.787 L 305.057,218.213\" style=\"fill:none;fill-rule:evenodd;stroke:#000000;stroke-width:4.0px;stroke-linecap:butt;stroke-linejoin:miter;stroke-opacity:1\"/>\n",
       "<path class=\"bond-6 atom-6 atom-7\" d=\"M 360.114,186.425 L 415.172,218.213\" style=\"fill:none;fill-rule:evenodd;stroke:#000000;stroke-width:4.0px;stroke-linecap:butt;stroke-linejoin:miter;stroke-opacity:1\"/>\n",
       "<path class=\"bond-6 atom-6 atom-7\" d=\"M 362.015,202.205 L 400.555,224.456\" style=\"fill:none;fill-rule:evenodd;stroke:#000000;stroke-width:4.0px;stroke-linecap:butt;stroke-linejoin:miter;stroke-opacity:1\"/>\n",
       "<path class=\"bond-20 atom-6 atom-18\" d=\"M 360.114,186.425 L 360.114,133.442\" style=\"fill:none;fill-rule:evenodd;stroke:#000000;stroke-width:4.0px;stroke-linecap:butt;stroke-linejoin:miter;stroke-opacity:1\"/>\n",
       "<path class=\"bond-7 atom-7 atom-8\" d=\"M 415.172,218.213 L 415.172,281.787\" style=\"fill:none;fill-rule:evenodd;stroke:#000000;stroke-width:4.0px;stroke-linecap:butt;stroke-linejoin:miter;stroke-opacity:1\"/>\n",
       "<path class=\"bond-21 atom-7 atom-19\" d=\"M 415.172,218.213 L 461.595,191.41\" style=\"fill:none;fill-rule:evenodd;stroke:#000000;stroke-width:4.0px;stroke-linecap:butt;stroke-linejoin:miter;stroke-opacity:1\"/>\n",
       "<path class=\"bond-8 atom-8 atom-9\" d=\"M 415.172,281.787 L 360.114,313.575\" style=\"fill:none;fill-rule:evenodd;stroke:#000000;stroke-width:4.0px;stroke-linecap:butt;stroke-linejoin:miter;stroke-opacity:1\"/>\n",
       "<path class=\"bond-8 atom-8 atom-9\" d=\"M 400.555,275.544 L 362.015,297.795\" style=\"fill:none;fill-rule:evenodd;stroke:#000000;stroke-width:4.0px;stroke-linecap:butt;stroke-linejoin:miter;stroke-opacity:1\"/>\n",
       "<path class=\"bond-22 atom-8 atom-20\" d=\"M 415.172,281.787 L 461.595,308.59\" style=\"fill:none;fill-rule:evenodd;stroke:#000000;stroke-width:4.0px;stroke-linecap:butt;stroke-linejoin:miter;stroke-opacity:1\"/>\n",
       "<path class=\"bond-9 atom-9 atom-10\" d=\"M 360.114,313.575 L 305.057,281.787\" style=\"fill:none;fill-rule:evenodd;stroke:#000000;stroke-width:4.0px;stroke-linecap:butt;stroke-linejoin:miter;stroke-opacity:1\"/>\n",
       "<path class=\"bond-23 atom-9 atom-21\" d=\"M 360.114,313.575 L 360.114,366.558\" style=\"fill:none;fill-rule:evenodd;stroke:#000000;stroke-width:4.0px;stroke-linecap:butt;stroke-linejoin:miter;stroke-opacity:1\"/>\n",
       "<path class=\"bond-10 atom-10 atom-11\" d=\"M 305.057,281.787 L 250,313.575\" style=\"fill:none;fill-rule:evenodd;stroke:#000000;stroke-width:4.0px;stroke-linecap:butt;stroke-linejoin:miter;stroke-opacity:1\"/>\n",
       "<path class=\"bond-10 atom-10 atom-11\" d=\"M 290.441,275.544 L 251.901,297.795\" style=\"fill:none;fill-rule:evenodd;stroke:#000000;stroke-width:4.0px;stroke-linecap:butt;stroke-linejoin:miter;stroke-opacity:1\"/>\n",
       "<path class=\"bond-11 atom-11 atom-12\" d=\"M 250,313.575 L 194.943,281.787\" style=\"fill:none;fill-rule:evenodd;stroke:#000000;stroke-width:4.0px;stroke-linecap:butt;stroke-linejoin:miter;stroke-opacity:1\"/>\n",
       "<path class=\"bond-24 atom-11 atom-22\" d=\"M 250,313.575 L 250,366.558\" style=\"fill:none;fill-rule:evenodd;stroke:#000000;stroke-width:4.0px;stroke-linecap:butt;stroke-linejoin:miter;stroke-opacity:1\"/>\n",
       "<path class=\"bond-12 atom-12 atom-13\" d=\"M 194.943,281.787 L 139.886,313.575\" style=\"fill:none;fill-rule:evenodd;stroke:#000000;stroke-width:4.0px;stroke-linecap:butt;stroke-linejoin:miter;stroke-opacity:1\"/>\n",
       "<path class=\"bond-12 atom-12 atom-13\" d=\"M 180.327,275.544 L 141.787,297.795\" style=\"fill:none;fill-rule:evenodd;stroke:#000000;stroke-width:4.0px;stroke-linecap:butt;stroke-linejoin:miter;stroke-opacity:1\"/>\n",
       "<path class=\"bond-25 atom-13 atom-23\" d=\"M 139.886,313.575 L 139.886,366.558\" style=\"fill:none;fill-rule:evenodd;stroke:#000000;stroke-width:4.0px;stroke-linecap:butt;stroke-linejoin:miter;stroke-opacity:1\"/>\n",
       "<path class=\"atom-14\" d=\"M 22.7273 304.572 L 25.1685 304.572 L 25.1685 312.227 L 34.3741 312.227 L 34.3741 304.572 L 36.8154 304.572 L 36.8154 322.577 L 34.3741 322.577 L 34.3741 314.261 L 25.1685 314.261 L 25.1685 322.577 L 22.7273 322.577 L 22.7273 304.572 \" fill=\"#000000\"/>\n",
       "<path class=\"atom-15\" d=\"M 22.7273 177.423 L 25.1685 177.423 L 25.1685 185.078 L 34.3741 185.078 L 34.3741 177.423 L 36.8154 177.423 L 36.8154 195.428 L 34.3741 195.428 L 34.3741 187.112 L 25.1685 187.112 L 25.1685 195.428 L 22.7273 195.428 L 22.7273 177.423 \" fill=\"#000000\"/>\n",
       "<path class=\"atom-16\" d=\"M 132.842 113.849 L 135.283 113.849 L 135.283 121.503 L 144.488 121.503 L 144.488 113.849 L 146.93 113.849 L 146.93 131.853 L 144.488 131.853 L 144.488 123.538 L 135.283 123.538 L 135.283 131.853 L 132.842 131.853 L 132.842 113.849 \" fill=\"#000000\"/>\n",
       "<path class=\"atom-17\" d=\"M 242.956 113.849 L 245.397 113.849 L 245.397 121.503 L 254.603 121.503 L 254.603 113.849 L 257.044 113.849 L 257.044 131.853 L 254.603 131.853 L 254.603 123.538 L 245.397 123.538 L 245.397 131.853 L 242.956 131.853 L 242.956 113.849 \" fill=\"#000000\"/>\n",
       "<path class=\"atom-18\" d=\"M 353.07 113.849 L 355.512 113.849 L 355.512 121.503 L 364.717 121.503 L 364.717 113.849 L 367.158 113.849 L 367.158 131.853 L 364.717 131.853 L 364.717 123.538 L 355.512 123.538 L 355.512 131.853 L 353.07 131.853 L 353.07 113.849 \" fill=\"#000000\"/>\n",
       "<path class=\"atom-19\" d=\"M 463.185 177.423 L 465.626 177.423 L 465.626 185.078 L 474.831 185.078 L 474.831 177.423 L 477.273 177.423 L 477.273 195.428 L 474.831 195.428 L 474.831 187.112 L 465.626 187.112 L 465.626 195.428 L 463.185 195.428 L 463.185 177.423 \" fill=\"#000000\"/>\n",
       "<path class=\"atom-20\" d=\"M 463.185 304.572 L 465.626 304.572 L 465.626 312.227 L 474.831 312.227 L 474.831 304.572 L 477.273 304.572 L 477.273 322.577 L 474.831 322.577 L 474.831 314.261 L 465.626 314.261 L 465.626 322.577 L 463.185 322.577 L 463.185 304.572 \" fill=\"#000000\"/>\n",
       "<path class=\"atom-21\" d=\"M 353.07 368.147 L 355.512 368.147 L 355.512 375.801 L 364.717 375.801 L 364.717 368.147 L 367.158 368.147 L 367.158 386.151 L 364.717 386.151 L 364.717 377.836 L 355.512 377.836 L 355.512 386.151 L 353.07 386.151 L 353.07 368.147 \" fill=\"#000000\"/>\n",
       "<path class=\"atom-22\" d=\"M 242.956 368.147 L 245.397 368.147 L 245.397 375.801 L 254.603 375.801 L 254.603 368.147 L 257.044 368.147 L 257.044 386.151 L 254.603 386.151 L 254.603 377.836 L 245.397 377.836 L 245.397 386.151 L 242.956 386.151 L 242.956 368.147 \" fill=\"#000000\"/>\n",
       "<path class=\"atom-23\" d=\"M 132.842 368.147 L 135.283 368.147 L 135.283 375.801 L 144.488 375.801 L 144.488 368.147 L 146.93 368.147 L 146.93 386.151 L 144.488 386.151 L 144.488 377.836 L 135.283 377.836 L 135.283 386.151 L 132.842 386.151 L 132.842 368.147 \" fill=\"#000000\"/>\n",
       "</svg>"
      ],
      "text/plain": [
       "<IPython.core.display.SVG object>"
      ]
     },
     "metadata": {},
     "output_type": "display_data"
    }
   ],
   "source": [
    "molecule = Molecule(smiles='c1ccc2cc3ccccc3cc2c1', hydrogens_are_explicit=False)\n",
    "display(molecule)"
   ]
  },
  {
   "cell_type": "markdown",
   "metadata": {},
   "source": [
    "### Parameterize with `Open Force Field Toolkit` and `ffld_server`, and generate the Impact template\n",
    "Please, note that to use OPLS2005 partial charges from OPLS2005 we need to select the `OPLS2005` option in the `charges_method` parameter when calling the `OpenForceField.parameterize()` function.\n",
    "Then, the Impact template, named __antz__, can be generated."
   ]
  },
  {
   "cell_type": "code",
   "execution_count": 4,
   "metadata": {},
   "outputs": [],
   "source": [
    "from peleffy.forcefield import OpenForceField\n",
    "from peleffy.topology import Topology\n",
    "from peleffy.template import Impact"
   ]
  },
  {
   "cell_type": "code",
   "execution_count": 5,
   "metadata": {},
   "outputs": [],
   "source": [
    "openff = OpenForceField('openff_unconstrained-1.2.0.offxml')\n",
    "parameters = openff.parameterize(molecule, charge_method='OPLS2005')"
   ]
  },
  {
   "cell_type": "code",
   "execution_count": 6,
   "metadata": {},
   "outputs": [],
   "source": [
    "topology = Topology(molecule, parameters)"
   ]
  },
  {
   "cell_type": "code",
   "execution_count": 7,
   "metadata": {},
   "outputs": [],
   "source": [
    "impact = Impact(topology)\n",
    "impact.to_file('antz')"
   ]
  },
  {
   "cell_type": "markdown",
   "metadata": {},
   "source": [
    "## Example 2: OPLS2005 parameters with OpenFF dihedrals\n",
    "This example shows how to parameterize a molecule by combining the parameters from the `OPLS2005` parameters with `OpenFF` dihedrals. This combination of parameters allows PELE to use its SGB implicit solvent model (which requires OPLS2005 atom types to be assigned)."
   ]
  },
  {
   "cell_type": "markdown",
   "metadata": {},
   "source": [
    "### `peleffy` requires the Schrodinger Toolkit to use the OPLS2005 parameters\n",
    "To indicate the path to the Schrodinger's installation `peleffy` needs the following environment variable to be set."
   ]
  },
  {
   "cell_type": "code",
   "execution_count": 8,
   "metadata": {},
   "outputs": [],
   "source": [
    "import os\n",
    "os.environ['SCHRODINGER'] = '/opt/schrodinger/suites2021-1/'"
   ]
  },
  {
   "cell_type": "markdown",
   "metadata": {},
   "source": [
    "### Load `peleffy`'s molecule representation with a PDB file of aldicarb"
   ]
  },
  {
   "cell_type": "code",
   "execution_count": 9,
   "metadata": {},
   "outputs": [],
   "source": [
    "from peleffy.topology import Molecule"
   ]
  },
  {
   "cell_type": "code",
   "execution_count": 10,
   "metadata": {},
   "outputs": [
    {
     "name": "stderr",
     "output_type": "stream",
     "text": [
      " - Initializing molecule from a SMILES tag\n",
      "   - Loading molecule from RDKit\n",
      "   - Setting molecule name to 'CC(C)(/C=N\\OC(=O)NC)SC'\n",
      "   - Representing molecule with the Open Force Field Toolkit\n",
      " - Generating rotamer library\n",
      "   - Core set to the center of the molecule\n"
     ]
    },
    {
     "data": {
      "image/svg+xml": [
       "<svg baseProfile=\"full\" height=\"500px\" version=\"1.1\" viewBox=\"0 0 500 500\" width=\"500px\" xml:space=\"preserve\" xmlns=\"http://www.w3.org/2000/svg\" xmlns:rdkit=\"http://www.rdkit.org/xml\" xmlns:xlink=\"http://www.w3.org/1999/xlink\">\n",
       "<!-- END OF HEADER -->\n",
       "<rect height=\"500\" style=\"opacity:1.0;fill:#FFFFFF;stroke:none\" width=\"500\" x=\"0\" y=\"0\"> </rect>\n",
       "<path class=\"bond-0 atom-0 atom-1\" d=\"M 263.319,241.918 L 324.474,261.793\" style=\"fill:none;fill-rule:evenodd;stroke:#000000;stroke-width:4.0px;stroke-linecap:butt;stroke-linejoin:miter;stroke-opacity:1\"/>\n",
       "<path class=\"bond-11 atom-0 atom-12\" d=\"M 263.319,241.918 L 279.712,191.476\" style=\"fill:none;fill-rule:evenodd;stroke:#000000;stroke-width:4.0px;stroke-linecap:butt;stroke-linejoin:miter;stroke-opacity:1\"/>\n",
       "<path class=\"bond-12 atom-0 atom-13\" d=\"M 263.319,241.918 L 244.896,271.392\" style=\"fill:none;fill-rule:evenodd;stroke:#000000;stroke-width:4.0px;stroke-linecap:butt;stroke-linejoin:miter;stroke-opacity:1\"/>\n",
       "<path class=\"bond-13 atom-0 atom-14\" d=\"M 263.319,241.918 L 219.442,221.453\" style=\"fill:none;fill-rule:evenodd;stroke:#000000;stroke-width:4.0px;stroke-linecap:butt;stroke-linejoin:miter;stroke-opacity:1\"/>\n",
       "<path class=\"bond-1 atom-1 atom-2\" d=\"M 324.474,261.793 L 385.629,281.668\" style=\"fill:none;fill-rule:evenodd;stroke:#000000;stroke-width:4.0px;stroke-linecap:butt;stroke-linejoin:miter;stroke-opacity:1\"/>\n",
       "<path class=\"bond-2 atom-1 atom-3\" d=\"M 324.474,261.793 L 304.599,322.948\" style=\"fill:none;fill-rule:evenodd;stroke:#000000;stroke-width:4.0px;stroke-linecap:butt;stroke-linejoin:miter;stroke-opacity:1\"/>\n",
       "<path class=\"bond-9 atom-1 atom-10\" d=\"M 324.474,261.793 L 332.595,236.804\" style=\"fill:none;fill-rule:evenodd;stroke:#000000;stroke-width:4.0px;stroke-linecap:butt;stroke-linejoin:miter;stroke-opacity:1\"/>\n",
       "<path class=\"bond-9 atom-1 atom-10\" d=\"M 332.595,236.804 L 340.717,211.814\" style=\"fill:none;fill-rule:evenodd;stroke:#CCCC00;stroke-width:4.0px;stroke-linecap:butt;stroke-linejoin:miter;stroke-opacity:1\"/>\n",
       "<path class=\"bond-14 atom-2 atom-15\" d=\"M 385.629,281.668 L 399.16,264.964\" style=\"fill:none;fill-rule:evenodd;stroke:#000000;stroke-width:4.0px;stroke-linecap:butt;stroke-linejoin:miter;stroke-opacity:1\"/>\n",
       "<path class=\"bond-15 atom-2 atom-16\" d=\"M 385.629,281.668 L 375.439,334.077\" style=\"fill:none;fill-rule:evenodd;stroke:#000000;stroke-width:4.0px;stroke-linecap:butt;stroke-linejoin:miter;stroke-opacity:1\"/>\n",
       "<path class=\"bond-16 atom-2 atom-17\" d=\"M 385.629,281.668 L 438.051,298.706\" style=\"fill:none;fill-rule:evenodd;stroke:#000000;stroke-width:4.0px;stroke-linecap:butt;stroke-linejoin:miter;stroke-opacity:1\"/>\n",
       "<path class=\"bond-3 atom-3 atom-4\" d=\"M 304.599,322.948 L 277.406,328.726\" style=\"fill:none;fill-rule:evenodd;stroke:#000000;stroke-width:4.0px;stroke-linecap:butt;stroke-linejoin:miter;stroke-opacity:1\"/>\n",
       "<path class=\"bond-3 atom-3 atom-4\" d=\"M 277.406,328.726 L 250.213,334.504\" style=\"fill:none;fill-rule:evenodd;stroke:#0000FF;stroke-width:4.0px;stroke-linecap:butt;stroke-linejoin:miter;stroke-opacity:1\"/>\n",
       "<path class=\"bond-3 atom-3 atom-4\" d=\"M 293.768,312.102 L 274.733,316.146\" style=\"fill:none;fill-rule:evenodd;stroke:#000000;stroke-width:4.0px;stroke-linecap:butt;stroke-linejoin:miter;stroke-opacity:1\"/>\n",
       "<path class=\"bond-3 atom-3 atom-4\" d=\"M 274.733,316.146 L 255.698,320.191\" style=\"fill:none;fill-rule:evenodd;stroke:#0000FF;stroke-width:4.0px;stroke-linecap:butt;stroke-linejoin:miter;stroke-opacity:1\"/>\n",
       "<path class=\"bond-17 atom-3 atom-18\" d=\"M 304.599,322.948 L 333.977,364.913\" style=\"fill:none;fill-rule:evenodd;stroke:#000000;stroke-width:4.0px;stroke-linecap:butt;stroke-linejoin:miter;stroke-opacity:1\"/>\n",
       "<path class=\"bond-4 atom-4 atom-5\" d=\"M 233.185,326.856 L 220.755,313.049\" style=\"fill:none;fill-rule:evenodd;stroke:#0000FF;stroke-width:4.0px;stroke-linecap:butt;stroke-linejoin:miter;stroke-opacity:1\"/>\n",
       "<path class=\"bond-4 atom-4 atom-5\" d=\"M 220.755,313.049 L 208.324,299.241\" style=\"fill:none;fill-rule:evenodd;stroke:#FF0000;stroke-width:4.0px;stroke-linecap:butt;stroke-linejoin:miter;stroke-opacity:1\"/>\n",
       "<path class=\"bond-5 atom-5 atom-6\" d=\"M 188.708,290.641 L 162.242,296.265\" style=\"fill:none;fill-rule:evenodd;stroke:#FF0000;stroke-width:4.0px;stroke-linecap:butt;stroke-linejoin:miter;stroke-opacity:1\"/>\n",
       "<path class=\"bond-5 atom-5 atom-6\" d=\"M 162.242,296.265 L 135.776,301.888\" style=\"fill:none;fill-rule:evenodd;stroke:#000000;stroke-width:4.0px;stroke-linecap:butt;stroke-linejoin:miter;stroke-opacity:1\"/>\n",
       "<path class=\"bond-6 atom-6 atom-7\" d=\"M 129.66,299.901 L 121.48,325.07\" style=\"fill:none;fill-rule:evenodd;stroke:#000000;stroke-width:4.0px;stroke-linecap:butt;stroke-linejoin:miter;stroke-opacity:1\"/>\n",
       "<path class=\"bond-6 atom-6 atom-7\" d=\"M 121.48,325.07 L 113.3,350.24\" style=\"fill:none;fill-rule:evenodd;stroke:#FF0000;stroke-width:4.0px;stroke-linecap:butt;stroke-linejoin:miter;stroke-opacity:1\"/>\n",
       "<path class=\"bond-6 atom-6 atom-7\" d=\"M 141.891,303.876 L 133.711,329.045\" style=\"fill:none;fill-rule:evenodd;stroke:#000000;stroke-width:4.0px;stroke-linecap:butt;stroke-linejoin:miter;stroke-opacity:1\"/>\n",
       "<path class=\"bond-6 atom-6 atom-7\" d=\"M 133.711,329.045 L 125.531,354.215\" style=\"fill:none;fill-rule:evenodd;stroke:#FF0000;stroke-width:4.0px;stroke-linecap:butt;stroke-linejoin:miter;stroke-opacity:1\"/>\n",
       "<path class=\"bond-7 atom-6 atom-8\" d=\"M 135.776,301.888 L 118.52,282.722\" style=\"fill:none;fill-rule:evenodd;stroke:#000000;stroke-width:4.0px;stroke-linecap:butt;stroke-linejoin:miter;stroke-opacity:1\"/>\n",
       "<path class=\"bond-7 atom-6 atom-8\" d=\"M 118.52,282.722 L 101.265,263.555\" style=\"fill:none;fill-rule:evenodd;stroke:#0000FF;stroke-width:4.0px;stroke-linecap:butt;stroke-linejoin:miter;stroke-opacity:1\"/>\n",
       "<path class=\"bond-8 atom-8 atom-9\" d=\"M 96.2332,243.385 L 104.43,218.164\" style=\"fill:none;fill-rule:evenodd;stroke:#0000FF;stroke-width:4.0px;stroke-linecap:butt;stroke-linejoin:miter;stroke-opacity:1\"/>\n",
       "<path class=\"bond-8 atom-8 atom-9\" d=\"M 104.43,218.164 L 112.627,192.943\" style=\"fill:none;fill-rule:evenodd;stroke:#000000;stroke-width:4.0px;stroke-linecap:butt;stroke-linejoin:miter;stroke-opacity:1\"/>\n",
       "<path class=\"bond-18 atom-8 atom-19\" d=\"M 84.2377,255.907 L 61.3023,260.781\" style=\"fill:none;fill-rule:evenodd;stroke:#0000FF;stroke-width:4.0px;stroke-linecap:butt;stroke-linejoin:miter;stroke-opacity:1\"/>\n",
       "<path class=\"bond-18 atom-8 atom-19\" d=\"M 61.3023,260.781 L 38.367,265.654\" style=\"fill:none;fill-rule:evenodd;stroke:#000000;stroke-width:4.0px;stroke-linecap:butt;stroke-linejoin:miter;stroke-opacity:1\"/>\n",
       "<path class=\"bond-19 atom-9 atom-20\" d=\"M 112.627,192.943 L 60.2042,175.906\" style=\"fill:none;fill-rule:evenodd;stroke:#000000;stroke-width:4.0px;stroke-linecap:butt;stroke-linejoin:miter;stroke-opacity:1\"/>\n",
       "<path class=\"bond-20 atom-9 atom-21\" d=\"M 112.627,192.943 L 160.865,202.322\" style=\"fill:none;fill-rule:evenodd;stroke:#000000;stroke-width:4.0px;stroke-linecap:butt;stroke-linejoin:miter;stroke-opacity:1\"/>\n",
       "<path class=\"bond-21 atom-9 atom-22\" d=\"M 112.627,192.943 L 129.02,142.501\" style=\"fill:none;fill-rule:evenodd;stroke:#000000;stroke-width:4.0px;stroke-linecap:butt;stroke-linejoin:miter;stroke-opacity:1\"/>\n",
       "<path class=\"bond-10 atom-10 atom-11\" d=\"M 351.795,199.056 L 379.522,193.165\" style=\"fill:none;fill-rule:evenodd;stroke:#CCCC00;stroke-width:4.0px;stroke-linecap:butt;stroke-linejoin:miter;stroke-opacity:1\"/>\n",
       "<path class=\"bond-10 atom-10 atom-11\" d=\"M 379.522,193.165 L 407.248,187.273\" style=\"fill:none;fill-rule:evenodd;stroke:#000000;stroke-width:4.0px;stroke-linecap:butt;stroke-linejoin:miter;stroke-opacity:1\"/>\n",
       "<path class=\"bond-22 atom-11 atom-23\" d=\"M 407.248,187.273 L 396.16,135.087\" style=\"fill:none;fill-rule:evenodd;stroke:#000000;stroke-width:4.0px;stroke-linecap:butt;stroke-linejoin:miter;stroke-opacity:1\"/>\n",
       "<path class=\"bond-23 atom-11 atom-24\" d=\"M 407.248,187.273 L 414.944,209.626\" style=\"fill:none;fill-rule:evenodd;stroke:#000000;stroke-width:4.0px;stroke-linecap:butt;stroke-linejoin:miter;stroke-opacity:1\"/>\n",
       "<path class=\"bond-24 atom-11 atom-25\" d=\"M 407.248,187.273 L 461.415,175.764\" style=\"fill:none;fill-rule:evenodd;stroke:#000000;stroke-width:4.0px;stroke-linecap:butt;stroke-linejoin:miter;stroke-opacity:1\"/>\n",
       "<path class=\"atom-4\" d=\"M 237.674 327.208 L 243.641 336.853 Q 244.233 337.805, 245.184 339.528 Q 246.136 341.252, 246.188 341.355 L 246.188 327.208 L 248.605 327.208 L 248.605 345.419 L 246.11 345.419 L 239.706 334.873 Q 238.96 333.638, 238.163 332.224 Q 237.391 330.809, 237.159 330.372 L 237.159 345.419 L 234.793 345.419 L 234.793 327.208 L 237.674 327.208 \" fill=\"#0000FF\"/>\n",
       "<path class=\"atom-5\" d=\"M 190.316 288.575 Q 190.316 284.202, 192.476 281.759 Q 194.637 279.315, 198.675 279.315 Q 202.713 279.315, 204.874 281.759 Q 207.035 284.202, 207.035 288.575 Q 207.035 292.999, 204.848 295.519 Q 202.662 298.014, 198.675 298.014 Q 194.663 298.014, 192.476 295.519 Q 190.316 293.025, 190.316 288.575 M 198.675 295.957 Q 201.453 295.957, 202.945 294.105 Q 204.462 292.227, 204.462 288.575 Q 204.462 284.999, 202.945 283.199 Q 201.453 281.373, 198.675 281.373 Q 195.897 281.373, 194.38 283.173 Q 192.888 284.974, 192.888 288.575 Q 192.888 292.253, 194.38 294.105 Q 195.897 295.957, 198.675 295.957 \" fill=\"#FF0000\"/>\n",
       "<path class=\"atom-7\" d=\"M 107.541 363.095 Q 107.541 358.722, 109.702 356.279 Q 111.862 353.835, 115.9 353.835 Q 119.939 353.835, 122.099 356.279 Q 124.26 358.722, 124.26 363.095 Q 124.26 367.519, 122.074 370.04 Q 119.887 372.535, 115.9 372.535 Q 111.888 372.535, 109.702 370.04 Q 107.541 367.545, 107.541 363.095 M 115.9 370.477 Q 118.678 370.477, 120.17 368.625 Q 121.688 366.747, 121.688 363.095 Q 121.688 359.519, 120.17 357.719 Q 118.678 355.893, 115.9 355.893 Q 113.123 355.893, 111.605 357.693 Q 110.113 359.494, 110.113 363.095 Q 110.113 366.773, 111.605 368.625 Q 113.123 370.477, 115.9 370.477 \" fill=\"#FF0000\"/>\n",
       "<path class=\"atom-8\" d=\"M 88.7261 244.993 L 94.6935 254.638 Q 95.2851 255.59, 96.2368 257.314 Q 97.1885 259.037, 97.2399 259.14 L 97.2399 244.993 L 99.6577 244.993 L 99.6577 263.204 L 97.1627 263.204 L 90.7581 252.658 Q 90.0122 251.423, 89.2148 250.009 Q 88.4432 248.594, 88.2117 248.157 L 88.2117 263.204 L 85.8453 263.204 L 85.8453 244.993 L 88.7261 244.993 \" fill=\"#0000FF\"/>\n",
       "<path class=\"atom-10\" d=\"M 339.205 206.889 Q 339.411 206.966, 340.259 207.326 Q 341.108 207.686, 342.034 207.917 Q 342.986 208.123, 343.912 208.123 Q 345.635 208.123, 346.638 207.3 Q 347.641 206.451, 347.641 204.985 Q 347.641 203.982, 347.127 203.365 Q 346.638 202.747, 345.867 202.413 Q 345.095 202.079, 343.809 201.693 Q 342.188 201.204, 341.211 200.741 Q 340.259 200.278, 339.565 199.301 Q 338.896 198.323, 338.896 196.677 Q 338.896 194.388, 340.439 192.973 Q 342.008 191.559, 345.095 191.559 Q 347.204 191.559, 349.596 192.562 L 349.005 194.542 Q 346.818 193.642, 345.172 193.642 Q 343.397 193.642, 342.42 194.388 Q 341.443 195.108, 341.468 196.368 Q 341.468 197.346, 341.957 197.937 Q 342.471 198.529, 343.192 198.863 Q 343.938 199.198, 345.172 199.584 Q 346.818 200.098, 347.796 200.612 Q 348.773 201.127, 349.468 202.181 Q 350.188 203.21, 350.188 204.985 Q 350.188 207.506, 348.49 208.869 Q 346.818 210.207, 344.015 210.207 Q 342.394 210.207, 341.16 209.846 Q 339.951 209.512, 338.51 208.921 L 339.205 206.889 \" fill=\"#CCCC00\"/>\n",
       "<path class=\"atom-12\" d=\"M 276.069 171.658 L 278.539 171.658 L 278.539 179.4 L 287.85 179.4 L 287.85 171.658 L 290.319 171.658 L 290.319 189.868 L 287.85 189.868 L 287.85 181.457 L 278.539 181.457 L 278.539 189.868 L 276.069 189.868 L 276.069 171.658 \" fill=\"#000000\"/>\n",
       "<path class=\"atom-13\" d=\"M 231.348 272.564 L 233.817 272.564 L 233.817 280.306 L 243.128 280.306 L 243.128 272.564 L 245.598 272.564 L 245.598 290.775 L 243.128 290.775 L 243.128 282.364 L 233.817 282.364 L 233.817 290.775 L 231.348 290.775 L 231.348 272.564 \" fill=\"#000000\"/>\n",
       "<path class=\"atom-14\" d=\"M 203.745 208.349 L 206.215 208.349 L 206.215 216.091 L 215.526 216.091 L 215.526 208.349 L 217.995 208.349 L 217.995 226.56 L 215.526 226.56 L 215.526 218.149 L 206.215 218.149 L 206.215 226.56 L 203.745 226.56 L 203.745 208.349 \" fill=\"#000000\"/>\n",
       "<path class=\"atom-15\" d=\"M 400.014 246.008 L 402.483 246.008 L 402.483 253.751 L 411.795 253.751 L 411.795 246.008 L 414.264 246.008 L 414.264 264.219 L 411.795 264.219 L 411.795 255.808 L 402.483 255.808 L 402.483 264.219 L 400.014 264.219 L 400.014 246.008 \" fill=\"#000000\"/>\n",
       "<path class=\"atom-16\" d=\"M 366.232 335.685 L 368.701 335.685 L 368.701 343.427 L 378.012 343.427 L 378.012 335.685 L 380.481 335.685 L 380.481 353.895 L 378.012 353.895 L 378.012 345.485 L 368.701 345.485 L 368.701 353.895 L 366.232 353.895 L 366.232 335.685 \" fill=\"#000000\"/>\n",
       "<path class=\"atom-17\" d=\"M 439.659 292.438 L 442.128 292.438 L 442.128 300.18 L 451.439 300.18 L 451.439 292.438 L 453.909 292.438 L 453.909 310.649 L 451.439 310.649 L 451.439 302.238 L 442.128 302.238 L 442.128 310.649 L 439.659 310.649 L 439.659 292.438 \" fill=\"#000000\"/>\n",
       "<path class=\"atom-18\" d=\"M 334.352 366.521 L 336.821 366.521 L 336.821 374.263 L 346.132 374.263 L 346.132 366.521 L 348.601 366.521 L 348.601 384.732 L 346.132 384.732 L 346.132 376.321 L 336.821 376.321 L 336.821 384.732 L 334.352 384.732 L 334.352 366.521 \" fill=\"#000000\"/>\n",
       "<path class=\"atom-19\" d=\"M 22.7273 258.358 L 25.1965 258.358 L 25.1965 266.1 L 34.5077 266.1 L 34.5077 258.358 L 36.977 258.358 L 36.977 276.569 L 34.5077 276.569 L 34.5077 268.158 L 25.1965 268.158 L 25.1965 276.569 L 22.7273 276.569 L 22.7273 258.358 \" fill=\"#000000\"/>\n",
       "<path class=\"atom-20\" d=\"M 44.3469 163.963 L 46.8162 163.963 L 46.8162 171.705 L 56.1273 171.705 L 56.1273 163.963 L 58.5966 163.963 L 58.5966 182.174 L 56.1273 182.174 L 56.1273 173.763 L 46.8162 173.763 L 46.8162 182.174 L 44.3469 182.174 L 44.3469 163.963 \" fill=\"#000000\"/>\n",
       "<path class=\"atom-21\" d=\"M 162.311 194.883 L 164.781 194.883 L 164.781 202.625 L 174.092 202.625 L 174.092 194.883 L 176.561 194.883 L 176.561 213.094 L 174.092 213.094 L 174.092 204.683 L 164.781 204.683 L 164.781 213.094 L 162.311 213.094 L 162.311 194.883 \" fill=\"#000000\"/>\n",
       "<path class=\"atom-22\" d=\"M 125.377 122.683 L 127.846 122.683 L 127.846 130.425 L 137.158 130.425 L 137.158 122.683 L 139.627 122.683 L 139.627 140.894 L 137.158 140.894 L 137.158 132.483 L 127.846 132.483 L 127.846 140.894 L 125.377 140.894 L 125.377 122.683 \" fill=\"#000000\"/>\n",
       "<path class=\"atom-23\" d=\"M 386.759 115.268 L 389.228 115.268 L 389.228 123.011 L 398.539 123.011 L 398.539 115.268 L 401.008 115.268 L 401.008 133.479 L 398.539 133.479 L 398.539 125.068 L 389.228 125.068 L 389.228 133.479 L 386.759 133.479 L 386.759 115.268 \" fill=\"#000000\"/>\n",
       "<path class=\"atom-24\" d=\"M 411.248 210.48 L 413.717 210.48 L 413.717 218.222 L 423.028 218.222 L 423.028 210.48 L 425.498 210.48 L 425.498 228.691 L 423.028 228.691 L 423.028 220.28 L 413.717 220.28 L 413.717 228.691 L 411.248 228.691 L 411.248 210.48 \" fill=\"#000000\"/>\n",
       "<path class=\"atom-25\" d=\"M 463.023 164.803 L 465.492 164.803 L 465.492 172.545 L 474.803 172.545 L 474.803 164.803 L 477.273 164.803 L 477.273 183.014 L 474.803 183.014 L 474.803 174.603 L 465.492 174.603 L 465.492 183.014 L 463.023 183.014 L 463.023 164.803 \" fill=\"#000000\"/>\n",
       "</svg>"
      ],
      "text/plain": [
       "<IPython.core.display.SVG object>"
      ]
     },
     "metadata": {},
     "output_type": "display_data"
    }
   ],
   "source": [
    "molecule = Molecule(smiles='CC(C)(/C=N\\OC(=O)NC)SC', hydrogens_are_explicit=False)\n",
    "display(molecule)"
   ]
  },
  {
   "cell_type": "markdown",
   "metadata": {},
   "source": [
    "### Parameterize with `Open Force Field Toolkit` and `ffld_server`\n",
    "To work with OPLS2005 non-bonding parameters, we need work with a special force field called `OpenFFOPLS2005ForceField`."
   ]
  },
  {
   "cell_type": "code",
   "execution_count": 11,
   "metadata": {},
   "outputs": [],
   "source": [
    "from peleffy.forcefield import OpenFFOPLS2005ForceField\n",
    "\n",
    "hybridff = OpenFFOPLS2005ForceField('openff_unconstrained-1.2.0.offxml')"
   ]
  },
  {
   "cell_type": "markdown",
   "metadata": {},
   "source": [
    "### Set up the hybrid force field\n",
    "This force field allows us to combine `OpenFF` and `OPLS2005` parameters through its methods. There are several parameter types that can be combined:\n",
    "- Non bonding parameters: with `set_nonbonding_parameters()`\n",
    "- Bond parameters: with `set_bond_parameters()`\n",
    "- Angle parameters: with `set_angle_parameters()`\n",
    "- Dihedral parameters: with `set_dihedral_parameters()`\n",
    "\n",
    "Please, note that partial charges are assigned by using the `charge_method` parameter from the `OpenFFOPLS2005ForceField.parameterize()` method.\n",
    "\n",
    "Below, we are setting up the hybrid force field to parameterize the ligand with the nonbonding, bond and angles terms from the `OPLS2005` force field and assign the dihedral parameters with the `OpenFF` force field."
   ]
  },
  {
   "cell_type": "code",
   "execution_count": 12,
   "metadata": {},
   "outputs": [],
   "source": [
    "hybridff.set_nonbonding_parameters('OPLS2005')\n",
    "hybridff.set_bond_parameters('OPLS2005')\n",
    "hybridff.set_angle_parameters('OPLS2005')\n",
    "hybridff.set_dihedral_parameters('OpenFF')"
   ]
  },
  {
   "cell_type": "markdown",
   "metadata": {},
   "source": [
    "### Generate the Impact template\n",
    "Finally, the Impact template, named __aldz__, can be generated."
   ]
  },
  {
   "cell_type": "code",
   "execution_count": 13,
   "metadata": {},
   "outputs": [],
   "source": [
    "from peleffy.topology import Topology\n",
    "from peleffy.template import Impact"
   ]
  },
  {
   "cell_type": "code",
   "execution_count": 14,
   "metadata": {},
   "outputs": [],
   "source": [
    "parameters = hybridff.parameterize(molecule, charge_method='OPLS2005')\n",
    "topology = Topology(molecule, parameters)"
   ]
  },
  {
   "cell_type": "code",
   "execution_count": 15,
   "metadata": {},
   "outputs": [],
   "source": [
    "impact = Impact(topology)\n",
    "impact.to_file('aldz')"
   ]
  },
  {
   "cell_type": "markdown",
   "metadata": {},
   "source": [
    "## Example 3: OpenFF terms with OPLS2005 non-bonding parameters\n",
    "This example shows how to parameterize a molecule by combining the parameters from the `OpenFF` with non bonding terms from the `OPLS2005`force field. This combination of parameters also allows PELE to use its SGB implicit solvent model (which requires OPLS2005 atom types to be assigned)."
   ]
  },
  {
   "cell_type": "markdown",
   "metadata": {},
   "source": [
    "### `peleffy` requires the Schrodinger Toolkit to use the OPLS2005 parameters\n",
    "To indicate the path to the Schrodinger's installation `peleffy` needs the following environment variable to be set."
   ]
  },
  {
   "cell_type": "code",
   "execution_count": 16,
   "metadata": {},
   "outputs": [],
   "source": [
    "import os\n",
    "os.environ['SCHRODINGER'] = '/opt/schrodinger/suites2021-1/'"
   ]
  },
  {
   "cell_type": "markdown",
   "metadata": {},
   "source": [
    "### Load `peleffy`'s molecule representation with a PDB file of diazinon"
   ]
  },
  {
   "cell_type": "code",
   "execution_count": 17,
   "metadata": {},
   "outputs": [],
   "source": [
    "from peleffy.topology import Molecule"
   ]
  },
  {
   "cell_type": "code",
   "execution_count": 18,
   "metadata": {
    "scrolled": true
   },
   "outputs": [
    {
     "name": "stderr",
     "output_type": "stream",
     "text": [
      " - Initializing molecule from a SMILES tag\n",
      "   - Loading molecule from RDKit\n",
      "   - Setting molecule name to 'CCOP(=S)(OCC)Oc1cc(nc(n1)C(C)C)C'\n",
      "   - Representing molecule with the Open Force Field Toolkit\n",
      " - Generating rotamer library\n",
      "   - Core set to the center of the molecule\n"
     ]
    },
    {
     "data": {
      "image/svg+xml": [
       "<svg baseProfile=\"full\" height=\"500px\" version=\"1.1\" viewBox=\"0 0 500 500\" width=\"500px\" xml:space=\"preserve\" xmlns=\"http://www.w3.org/2000/svg\" xmlns:rdkit=\"http://www.rdkit.org/xml\" xmlns:xlink=\"http://www.w3.org/1999/xlink\">\n",
       "<!-- END OF HEADER -->\n",
       "<rect height=\"500\" style=\"opacity:1.0;fill:#FFFFFF;stroke:none\" width=\"500\" x=\"0\" y=\"0\"> </rect>\n",
       "<path class=\"bond-0 atom-0 atom-1\" d=\"M 144.654,171.368 L 173.022,208.164\" style=\"fill:none;fill-rule:evenodd;stroke:#000000;stroke-width:4.0px;stroke-linecap:butt;stroke-linejoin:miter;stroke-opacity:1\"/>\n",
       "<path class=\"bond-19 atom-0 atom-19\" d=\"M 144.654,171.368 L 122.253,142.313\" style=\"fill:none;fill-rule:evenodd;stroke:#000000;stroke-width:4.0px;stroke-linecap:butt;stroke-linejoin:miter;stroke-opacity:1\"/>\n",
       "<path class=\"bond-20 atom-0 atom-20\" d=\"M 144.654,171.368 L 114.167,194.872\" style=\"fill:none;fill-rule:evenodd;stroke:#000000;stroke-width:4.0px;stroke-linecap:butt;stroke-linejoin:miter;stroke-opacity:1\"/>\n",
       "<path class=\"bond-21 atom-0 atom-21\" d=\"M 144.654,171.368 L 175.14,147.865\" style=\"fill:none;fill-rule:evenodd;stroke:#000000;stroke-width:4.0px;stroke-linecap:butt;stroke-linejoin:miter;stroke-opacity:1\"/>\n",
       "<path class=\"bond-1 atom-1 atom-2\" d=\"M 173.022,208.164 L 184.193,222.654\" style=\"fill:none;fill-rule:evenodd;stroke:#000000;stroke-width:4.0px;stroke-linecap:butt;stroke-linejoin:miter;stroke-opacity:1\"/>\n",
       "<path class=\"bond-1 atom-1 atom-2\" d=\"M 184.193,222.654 L 195.365,237.145\" style=\"fill:none;fill-rule:evenodd;stroke:#FF0000;stroke-width:4.0px;stroke-linecap:butt;stroke-linejoin:miter;stroke-opacity:1\"/>\n",
       "<path class=\"bond-22 atom-1 atom-22\" d=\"M 173.022,208.164 L 142.535,231.667\" style=\"fill:none;fill-rule:evenodd;stroke:#000000;stroke-width:4.0px;stroke-linecap:butt;stroke-linejoin:miter;stroke-opacity:1\"/>\n",
       "<path class=\"bond-23 atom-1 atom-23\" d=\"M 173.022,208.164 L 203.508,184.66\" style=\"fill:none;fill-rule:evenodd;stroke:#000000;stroke-width:4.0px;stroke-linecap:butt;stroke-linejoin:miter;stroke-opacity:1\"/>\n",
       "<path class=\"bond-2 atom-2 atom-3\" d=\"M 198.089,252.979 L 192.446,266.69\" style=\"fill:none;fill-rule:evenodd;stroke:#FF0000;stroke-width:4.0px;stroke-linecap:butt;stroke-linejoin:miter;stroke-opacity:1\"/>\n",
       "<path class=\"bond-2 atom-2 atom-3\" d=\"M 192.446,266.69 L 186.804,280.401\" style=\"fill:none;fill-rule:evenodd;stroke:#FF7F00;stroke-width:4.0px;stroke-linecap:butt;stroke-linejoin:miter;stroke-opacity:1\"/>\n",
       "<path class=\"bond-3 atom-3 atom-4\" d=\"M 180.114,281.422 L 163.93,274.761\" style=\"fill:none;fill-rule:evenodd;stroke:#FF7F00;stroke-width:4.0px;stroke-linecap:butt;stroke-linejoin:miter;stroke-opacity:1\"/>\n",
       "<path class=\"bond-3 atom-3 atom-4\" d=\"M 163.93,274.761 L 147.746,268.101\" style=\"fill:none;fill-rule:evenodd;stroke:#CCCC00;stroke-width:4.0px;stroke-linecap:butt;stroke-linejoin:miter;stroke-opacity:1\"/>\n",
       "<path class=\"bond-3 atom-3 atom-4\" d=\"M 176.577,290.015 L 160.393,283.354\" style=\"fill:none;fill-rule:evenodd;stroke:#FF7F00;stroke-width:4.0px;stroke-linecap:butt;stroke-linejoin:miter;stroke-opacity:1\"/>\n",
       "<path class=\"bond-3 atom-3 atom-4\" d=\"M 160.393,283.354 L 144.209,276.694\" style=\"fill:none;fill-rule:evenodd;stroke:#CCCC00;stroke-width:4.0px;stroke-linecap:butt;stroke-linejoin:miter;stroke-opacity:1\"/>\n",
       "<path class=\"bond-4 atom-3 atom-5\" d=\"M 180.522,295.665 L 174.839,309.475\" style=\"fill:none;fill-rule:evenodd;stroke:#FF7F00;stroke-width:4.0px;stroke-linecap:butt;stroke-linejoin:miter;stroke-opacity:1\"/>\n",
       "<path class=\"bond-4 atom-3 atom-5\" d=\"M 174.839,309.475 L 169.155,323.284\" style=\"fill:none;fill-rule:evenodd;stroke:#FF0000;stroke-width:4.0px;stroke-linecap:butt;stroke-linejoin:miter;stroke-opacity:1\"/>\n",
       "<path class=\"bond-7 atom-3 atom-8\" d=\"M 189.069,290.131 L 204.342,296.417\" style=\"fill:none;fill-rule:evenodd;stroke:#FF7F00;stroke-width:4.0px;stroke-linecap:butt;stroke-linejoin:miter;stroke-opacity:1\"/>\n",
       "<path class=\"bond-7 atom-3 atom-8\" d=\"M 204.342,296.417 L 219.616,302.703\" style=\"fill:none;fill-rule:evenodd;stroke:#FF0000;stroke-width:4.0px;stroke-linecap:butt;stroke-linejoin:miter;stroke-opacity:1\"/>\n",
       "<path class=\"bond-5 atom-5 atom-6\" d=\"M 158.824,331.855 L 139.399,334.457\" style=\"fill:none;fill-rule:evenodd;stroke:#FF0000;stroke-width:4.0px;stroke-linecap:butt;stroke-linejoin:miter;stroke-opacity:1\"/>\n",
       "<path class=\"bond-5 atom-5 atom-6\" d=\"M 139.399,334.457 L 119.975,337.059\" style=\"fill:none;fill-rule:evenodd;stroke:#000000;stroke-width:4.0px;stroke-linecap:butt;stroke-linejoin:miter;stroke-opacity:1\"/>\n",
       "<path class=\"bond-6 atom-6 atom-7\" d=\"M 119.975,337.059 L 73.9252,343.229\" style=\"fill:none;fill-rule:evenodd;stroke:#000000;stroke-width:4.0px;stroke-linecap:butt;stroke-linejoin:miter;stroke-opacity:1\"/>\n",
       "<path class=\"bond-24 atom-6 atom-24\" d=\"M 119.975,337.059 L 114.843,298.75\" style=\"fill:none;fill-rule:evenodd;stroke:#000000;stroke-width:4.0px;stroke-linecap:butt;stroke-linejoin:miter;stroke-opacity:1\"/>\n",
       "<path class=\"bond-25 atom-6 atom-25\" d=\"M 119.975,337.059 L 125.108,375.369\" style=\"fill:none;fill-rule:evenodd;stroke:#000000;stroke-width:4.0px;stroke-linecap:butt;stroke-linejoin:miter;stroke-opacity:1\"/>\n",
       "<path class=\"bond-26 atom-7 atom-26\" d=\"M 73.9252,343.229 L 34.1847,348.553\" style=\"fill:none;fill-rule:evenodd;stroke:#000000;stroke-width:4.0px;stroke-linecap:butt;stroke-linejoin:miter;stroke-opacity:1\"/>\n",
       "<path class=\"bond-27 atom-7 atom-27\" d=\"M 73.9252,343.229 L 68.7928,304.919\" style=\"fill:none;fill-rule:evenodd;stroke:#000000;stroke-width:4.0px;stroke-linecap:butt;stroke-linejoin:miter;stroke-opacity:1\"/>\n",
       "<path class=\"bond-28 atom-7 atom-28\" d=\"M 73.9252,343.229 L 79.0576,381.538\" style=\"fill:none;fill-rule:evenodd;stroke:#000000;stroke-width:4.0px;stroke-linecap:butt;stroke-linejoin:miter;stroke-opacity:1\"/>\n",
       "<path class=\"bond-8 atom-8 atom-9\" d=\"M 233.874,300.055 L 248.671,288.647\" style=\"fill:none;fill-rule:evenodd;stroke:#FF0000;stroke-width:4.0px;stroke-linecap:butt;stroke-linejoin:miter;stroke-opacity:1\"/>\n",
       "<path class=\"bond-8 atom-8 atom-9\" d=\"M 248.671,288.647 L 263.468,277.239\" style=\"fill:none;fill-rule:evenodd;stroke:#000000;stroke-width:4.0px;stroke-linecap:butt;stroke-linejoin:miter;stroke-opacity:1\"/>\n",
       "<path class=\"bond-9 atom-9 atom-10\" d=\"M 263.468,277.239 L 257.299,231.189\" style=\"fill:none;fill-rule:evenodd;stroke:#000000;stroke-width:4.0px;stroke-linecap:butt;stroke-linejoin:miter;stroke-opacity:1\"/>\n",
       "<path class=\"bond-9 atom-9 atom-10\" d=\"M 271.753,269.098 L 267.434,236.863\" style=\"fill:none;fill-rule:evenodd;stroke:#000000;stroke-width:4.0px;stroke-linecap:butt;stroke-linejoin:miter;stroke-opacity:1\"/>\n",
       "<path class=\"bond-18 atom-14 atom-9\" d=\"M 300.282,292.39 L 281.875,284.814\" style=\"fill:none;fill-rule:evenodd;stroke:#0000FF;stroke-width:4.0px;stroke-linecap:butt;stroke-linejoin:miter;stroke-opacity:1\"/>\n",
       "<path class=\"bond-18 atom-14 atom-9\" d=\"M 281.875,284.814 L 263.468,277.239\" style=\"fill:none;fill-rule:evenodd;stroke:#000000;stroke-width:4.0px;stroke-linecap:butt;stroke-linejoin:miter;stroke-opacity:1\"/>\n",
       "<path class=\"bond-10 atom-10 atom-11\" d=\"M 257.299,231.189 L 294.095,202.821\" style=\"fill:none;fill-rule:evenodd;stroke:#000000;stroke-width:4.0px;stroke-linecap:butt;stroke-linejoin:miter;stroke-opacity:1\"/>\n",
       "<path class=\"bond-29 atom-10 atom-29\" d=\"M 257.299,231.189 L 220.643,216.104\" style=\"fill:none;fill-rule:evenodd;stroke:#000000;stroke-width:4.0px;stroke-linecap:butt;stroke-linejoin:miter;stroke-opacity:1\"/>\n",
       "<path class=\"bond-11 atom-11 atom-12\" d=\"M 294.095,202.821 L 312.501,210.396\" style=\"fill:none;fill-rule:evenodd;stroke:#000000;stroke-width:4.0px;stroke-linecap:butt;stroke-linejoin:miter;stroke-opacity:1\"/>\n",
       "<path class=\"bond-11 atom-11 atom-12\" d=\"M 312.501,210.396 L 330.908,217.972\" style=\"fill:none;fill-rule:evenodd;stroke:#0000FF;stroke-width:4.0px;stroke-linecap:butt;stroke-linejoin:miter;stroke-opacity:1\"/>\n",
       "<path class=\"bond-11 atom-11 atom-12\" d=\"M 296.08,213.687 L 308.965,218.989\" style=\"fill:none;fill-rule:evenodd;stroke:#000000;stroke-width:4.0px;stroke-linecap:butt;stroke-linejoin:miter;stroke-opacity:1\"/>\n",
       "<path class=\"bond-11 atom-11 atom-12\" d=\"M 308.965,218.989 L 321.85,224.292\" style=\"fill:none;fill-rule:evenodd;stroke:#0000FF;stroke-width:4.0px;stroke-linecap:butt;stroke-linejoin:miter;stroke-opacity:1\"/>\n",
       "<path class=\"bond-17 atom-11 atom-18\" d=\"M 294.095,202.821 L 287.925,156.771\" style=\"fill:none;fill-rule:evenodd;stroke:#000000;stroke-width:4.0px;stroke-linecap:butt;stroke-linejoin:miter;stroke-opacity:1\"/>\n",
       "<path class=\"bond-12 atom-12 atom-13\" d=\"M 338.097,228.244 L 340.663,247.399\" style=\"fill:none;fill-rule:evenodd;stroke:#0000FF;stroke-width:4.0px;stroke-linecap:butt;stroke-linejoin:miter;stroke-opacity:1\"/>\n",
       "<path class=\"bond-12 atom-12 atom-13\" d=\"M 340.663,247.399 L 343.229,266.553\" style=\"fill:none;fill-rule:evenodd;stroke:#000000;stroke-width:4.0px;stroke-linecap:butt;stroke-linejoin:miter;stroke-opacity:1\"/>\n",
       "<path class=\"bond-13 atom-13 atom-14\" d=\"M 343.229,266.553 L 327.907,278.366\" style=\"fill:none;fill-rule:evenodd;stroke:#000000;stroke-width:4.0px;stroke-linecap:butt;stroke-linejoin:miter;stroke-opacity:1\"/>\n",
       "<path class=\"bond-13 atom-13 atom-14\" d=\"M 327.907,278.366 L 312.585,290.179\" style=\"fill:none;fill-rule:evenodd;stroke:#0000FF;stroke-width:4.0px;stroke-linecap:butt;stroke-linejoin:miter;stroke-opacity:1\"/>\n",
       "<path class=\"bond-13 atom-13 atom-14\" d=\"M 332.959,262.738 L 322.234,271.007\" style=\"fill:none;fill-rule:evenodd;stroke:#000000;stroke-width:4.0px;stroke-linecap:butt;stroke-linejoin:miter;stroke-opacity:1\"/>\n",
       "<path class=\"bond-13 atom-13 atom-14\" d=\"M 322.234,271.007 L 311.508,279.276\" style=\"fill:none;fill-rule:evenodd;stroke:#0000FF;stroke-width:4.0px;stroke-linecap:butt;stroke-linejoin:miter;stroke-opacity:1\"/>\n",
       "<path class=\"bond-14 atom-13 atom-15\" d=\"M 343.229,266.553 L 386.194,284.235\" style=\"fill:none;fill-rule:evenodd;stroke:#000000;stroke-width:4.0px;stroke-linecap:butt;stroke-linejoin:miter;stroke-opacity:1\"/>\n",
       "<path class=\"bond-15 atom-15 atom-16\" d=\"M 386.194,284.235 L 429.16,301.918\" style=\"fill:none;fill-rule:evenodd;stroke:#000000;stroke-width:4.0px;stroke-linecap:butt;stroke-linejoin:miter;stroke-opacity:1\"/>\n",
       "<path class=\"bond-16 atom-15 atom-17\" d=\"M 386.194,284.235 L 368.512,327.201\" style=\"fill:none;fill-rule:evenodd;stroke:#000000;stroke-width:4.0px;stroke-linecap:butt;stroke-linejoin:miter;stroke-opacity:1\"/>\n",
       "<path class=\"bond-30 atom-15 atom-30\" d=\"M 386.194,284.235 L 400.691,249.011\" style=\"fill:none;fill-rule:evenodd;stroke:#000000;stroke-width:4.0px;stroke-linecap:butt;stroke-linejoin:miter;stroke-opacity:1\"/>\n",
       "<path class=\"bond-31 atom-16 atom-31\" d=\"M 429.16,301.918 L 465.815,317.003\" style=\"fill:none;fill-rule:evenodd;stroke:#000000;stroke-width:4.0px;stroke-linecap:butt;stroke-linejoin:miter;stroke-opacity:1\"/>\n",
       "<path class=\"bond-32 atom-16 atom-32\" d=\"M 429.16,301.918 L 443.656,266.693\" style=\"fill:none;fill-rule:evenodd;stroke:#000000;stroke-width:4.0px;stroke-linecap:butt;stroke-linejoin:miter;stroke-opacity:1\"/>\n",
       "<path class=\"bond-33 atom-16 atom-33\" d=\"M 429.16,301.918 L 423.886,321.107\" style=\"fill:none;fill-rule:evenodd;stroke:#000000;stroke-width:4.0px;stroke-linecap:butt;stroke-linejoin:miter;stroke-opacity:1\"/>\n",
       "<path class=\"bond-34 atom-17 atom-34\" d=\"M 368.512,327.201 L 354.016,362.425\" style=\"fill:none;fill-rule:evenodd;stroke:#000000;stroke-width:4.0px;stroke-linecap:butt;stroke-linejoin:miter;stroke-opacity:1\"/>\n",
       "<path class=\"bond-35 atom-17 atom-35\" d=\"M 368.512,327.201 L 386.587,337.373\" style=\"fill:none;fill-rule:evenodd;stroke:#000000;stroke-width:4.0px;stroke-linecap:butt;stroke-linejoin:miter;stroke-opacity:1\"/>\n",
       "<path class=\"bond-36 atom-17 atom-36\" d=\"M 368.512,327.201 L 328.855,321.368\" style=\"fill:none;fill-rule:evenodd;stroke:#000000;stroke-width:4.0px;stroke-linecap:butt;stroke-linejoin:miter;stroke-opacity:1\"/>\n",
       "<path class=\"bond-37 atom-18 atom-37\" d=\"M 287.925,156.771 L 282.793,118.462\" style=\"fill:none;fill-rule:evenodd;stroke:#000000;stroke-width:4.0px;stroke-linecap:butt;stroke-linejoin:miter;stroke-opacity:1\"/>\n",
       "<path class=\"bond-38 atom-18 atom-38\" d=\"M 287.925,156.771 L 327.666,151.447\" style=\"fill:none;fill-rule:evenodd;stroke:#000000;stroke-width:4.0px;stroke-linecap:butt;stroke-linejoin:miter;stroke-opacity:1\"/>\n",
       "<path class=\"bond-39 atom-18 atom-39\" d=\"M 287.925,156.771 L 248.185,162.095\" style=\"fill:none;fill-rule:evenodd;stroke:#000000;stroke-width:4.0px;stroke-linecap:butt;stroke-linejoin:miter;stroke-opacity:1\"/>\n",
       "<path class=\"atom-2\" d=\"M 195.349 244.997 Q 195.349 241.837, 196.911 240.072 Q 198.472 238.306, 201.389 238.306 Q 204.307 238.306, 205.868 240.072 Q 207.429 241.837, 207.429 244.997 Q 207.429 248.193, 205.85 250.015 Q 204.27 251.817, 201.389 251.817 Q 198.49 251.817, 196.911 250.015 Q 195.349 248.212, 195.349 244.997 M 201.389 250.331 Q 203.397 250.331, 204.475 248.992 Q 205.571 247.636, 205.571 244.997 Q 205.571 242.414, 204.475 241.113 Q 203.397 239.793, 201.389 239.793 Q 199.382 239.793, 198.286 241.094 Q 197.208 242.395, 197.208 244.997 Q 197.208 247.654, 198.286 248.992 Q 199.382 250.331, 201.389 250.331 \" fill=\"#FF0000\"/>\n",
       "<path class=\"atom-3\" d=\"M 183.391 281.346 Q 185.64 281.346, 186.774 282.368 Q 187.907 283.372, 187.907 285.211 Q 187.907 287.033, 186.737 288.073 Q 185.584 289.096, 183.391 289.096 L 181.291 289.096 L 181.291 294.504 L 179.507 294.504 L 179.507 281.346 L 183.391 281.346 M 183.391 287.609 Q 184.674 287.609, 185.361 286.996 Q 186.049 286.382, 186.049 285.211 Q 186.049 284.041, 185.361 283.446 Q 184.692 282.833, 183.391 282.833 L 181.291 282.833 L 181.291 287.609 L 183.391 287.609 \" fill=\"#FF7F00\"/>\n",
       "<path class=\"atom-4\" d=\"M 137.025 274.759 Q 137.174 274.814, 137.787 275.075 Q 138.401 275.335, 139.07 275.502 Q 139.757 275.651, 140.426 275.651 Q 141.671 275.651, 142.396 275.056 Q 143.121 274.443, 143.121 273.383 Q 143.121 272.659, 142.749 272.213 Q 142.396 271.767, 141.839 271.525 Q 141.281 271.283, 140.352 271.005 Q 139.181 270.652, 138.475 270.317 Q 137.787 269.982, 137.285 269.276 Q 136.802 268.57, 136.802 267.381 Q 136.802 265.727, 137.917 264.704 Q 139.051 263.682, 141.281 263.682 Q 142.805 263.682, 144.533 264.407 L 144.106 265.838 Q 142.526 265.188, 141.337 265.188 Q 140.055 265.188, 139.348 265.727 Q 138.642 266.247, 138.661 267.158 Q 138.661 267.864, 139.014 268.291 Q 139.385 268.719, 139.906 268.96 Q 140.445 269.202, 141.337 269.481 Q 142.526 269.852, 143.232 270.224 Q 143.939 270.596, 144.44 271.358 Q 144.961 272.101, 144.961 273.383 Q 144.961 275.205, 143.734 276.19 Q 142.526 277.156, 140.501 277.156 Q 139.33 277.156, 138.438 276.896 Q 137.564 276.654, 136.523 276.227 L 137.025 274.759 \" fill=\"#CCCC00\"/>\n",
       "<path class=\"atom-5\" d=\"M 159.985 330.927 Q 159.985 327.768, 161.546 326.002 Q 163.107 324.237, 166.025 324.237 Q 168.943 324.237, 170.504 326.002 Q 172.065 327.768, 172.065 330.927 Q 172.065 334.124, 170.486 335.945 Q 168.906 337.748, 166.025 337.748 Q 163.126 337.748, 161.546 335.945 Q 159.985 334.142, 159.985 330.927 M 166.025 336.261 Q 168.032 336.261, 169.11 334.923 Q 170.207 333.566, 170.207 330.927 Q 170.207 328.344, 169.11 327.043 Q 168.032 325.723, 166.025 325.723 Q 164.018 325.723, 162.922 327.024 Q 161.844 328.325, 161.844 330.927 Q 161.844 333.585, 162.922 334.923 Q 164.018 336.261, 166.025 336.261 \" fill=\"#FF0000\"/>\n",
       "<path class=\"atom-8\" d=\"M 220.633 305.644 Q 220.633 302.485, 222.194 300.719 Q 223.755 298.954, 226.673 298.954 Q 229.59 298.954, 231.151 300.719 Q 232.713 302.485, 232.713 305.644 Q 232.713 308.841, 231.133 310.662 Q 229.553 312.465, 226.673 312.465 Q 223.773 312.465, 222.194 310.662 Q 220.633 308.859, 220.633 305.644 M 226.673 310.978 Q 228.68 310.978, 229.758 309.64 Q 230.854 308.283, 230.854 305.644 Q 230.854 303.061, 229.758 301.76 Q 228.68 300.44, 226.673 300.44 Q 224.665 300.44, 223.569 301.741 Q 222.491 303.042, 222.491 305.644 Q 222.491 308.302, 223.569 309.64 Q 224.665 310.978, 226.673 310.978 \" fill=\"#FF0000\"/>\n",
       "<path class=\"atom-12\" d=\"M 334.151 213.924 L 338.463 220.894 Q 338.89 221.581, 339.578 222.826 Q 340.266 224.072, 340.303 224.146 L 340.303 213.924 L 342.05 213.924 L 342.05 227.082 L 340.247 227.082 L 335.62 219.463 Q 335.081 218.571, 334.504 217.548 Q 333.947 216.526, 333.78 216.21 L 333.78 227.082 L 332.07 227.082 L 332.07 213.924 L 334.151 213.924 \" fill=\"#0000FF\"/>\n",
       "<path class=\"atom-14\" d=\"M 303.525 288.342 L 307.837 295.311 Q 308.264 295.999, 308.952 297.244 Q 309.639 298.489, 309.676 298.564 L 309.676 288.342 L 311.423 288.342 L 311.423 301.5 L 309.621 301.5 L 304.993 293.88 Q 304.454 292.988, 303.878 291.966 Q 303.321 290.944, 303.153 290.628 L 303.153 301.5 L 301.444 301.5 L 301.444 288.342 L 303.525 288.342 \" fill=\"#0000FF\"/>\n",
       "<path class=\"atom-19\" d=\"M 111.138 127.993 L 112.922 127.993 L 112.922 133.587 L 119.65 133.587 L 119.65 127.993 L 121.434 127.993 L 121.434 141.151 L 119.65 141.151 L 119.65 135.074 L 112.922 135.074 L 112.922 141.151 L 111.138 141.151 L 111.138 127.993 \" fill=\"#000000\"/>\n",
       "<path class=\"atom-20\" d=\"M 102.71 193.157 L 104.494 193.157 L 104.494 198.751 L 111.222 198.751 L 111.222 193.157 L 113.006 193.157 L 113.006 206.315 L 111.222 206.315 L 111.222 200.238 L 104.494 200.238 L 104.494 206.315 L 102.71 206.315 L 102.71 193.157 \" fill=\"#000000\"/>\n",
       "<path class=\"atom-21\" d=\"M 176.302 136.421 L 178.086 136.421 L 178.086 142.015 L 184.813 142.015 L 184.813 136.421 L 186.597 136.421 L 186.597 149.579 L 184.813 149.579 L 184.813 143.502 L 178.086 143.502 L 178.086 149.579 L 176.302 149.579 L 176.302 136.421 \" fill=\"#000000\"/>\n",
       "<path class=\"atom-22\" d=\"M 131.078 229.953 L 132.862 229.953 L 132.862 235.547 L 139.59 235.547 L 139.59 229.953 L 141.374 229.953 L 141.374 243.111 L 139.59 243.111 L 139.59 237.034 L 132.862 237.034 L 132.862 243.111 L 131.078 243.111 L 131.078 229.953 \" fill=\"#000000\"/>\n",
       "<path class=\"atom-23\" d=\"M 204.669 173.217 L 206.454 173.217 L 206.454 178.811 L 213.181 178.811 L 213.181 173.217 L 214.965 173.217 L 214.965 186.375 L 213.181 186.375 L 213.181 180.298 L 206.454 180.298 L 206.454 186.375 L 204.669 186.375 L 204.669 173.217 \" fill=\"#000000\"/>\n",
       "<path class=\"atom-24\" d=\"M 108.658 284.43 L 110.442 284.43 L 110.442 290.024 L 117.17 290.024 L 117.17 284.43 L 118.954 284.43 L 118.954 297.588 L 117.17 297.588 L 117.17 291.511 L 110.442 291.511 L 110.442 297.588 L 108.658 297.588 L 108.658 284.43 \" fill=\"#000000\"/>\n",
       "<path class=\"atom-25\" d=\"M 120.997 376.53 L 122.781 376.53 L 122.781 382.124 L 129.508 382.124 L 129.508 376.53 L 131.293 376.53 L 131.293 389.688 L 129.508 389.688 L 129.508 383.611 L 122.781 383.611 L 122.781 389.688 L 120.997 389.688 L 120.997 376.53 \" fill=\"#000000\"/>\n",
       "<path class=\"atom-26\" d=\"M 22.7273 342.819 L 24.5114 342.819 L 24.5114 348.413 L 31.239 348.413 L 31.239 342.819 L 33.0231 342.819 L 33.0231 355.977 L 31.239 355.977 L 31.239 349.9 L 24.5114 349.9 L 24.5114 355.977 L 22.7273 355.977 L 22.7273 342.819 \" fill=\"#000000\"/>\n",
       "<path class=\"atom-27\" d=\"M 62.6079 290.6 L 64.392 290.6 L 64.392 296.194 L 71.1196 296.194 L 71.1196 290.6 L 72.9037 290.6 L 72.9037 303.758 L 71.1196 303.758 L 71.1196 297.681 L 64.392 297.681 L 64.392 303.758 L 62.6079 303.758 L 62.6079 290.6 \" fill=\"#000000\"/>\n",
       "<path class=\"atom-28\" d=\"M 74.9467 382.7 L 76.7308 382.7 L 76.7308 388.294 L 83.4584 388.294 L 83.4584 382.7 L 85.2425 382.7 L 85.2425 395.858 L 83.4584 395.858 L 83.4584 389.781 L 76.7308 389.781 L 76.7308 395.858 L 74.9467 395.858 L 74.9467 382.7 \" fill=\"#000000\"/>\n",
       "<path class=\"atom-29\" d=\"M 209.186 206.928 L 210.97 206.928 L 210.97 212.522 L 217.698 212.522 L 217.698 206.928 L 219.482 206.928 L 219.482 220.086 L 217.698 220.086 L 217.698 214.009 L 210.97 214.009 L 210.97 220.086 L 209.186 220.086 L 209.186 206.928 \" fill=\"#000000\"/>\n",
       "<path class=\"atom-30\" d=\"M 398.729 234.691 L 400.513 234.691 L 400.513 240.285 L 407.24 240.285 L 407.24 234.691 L 409.024 234.691 L 409.024 247.849 L 407.24 247.849 L 407.24 241.772 L 400.513 241.772 L 400.513 247.849 L 398.729 247.849 L 398.729 234.691 \" fill=\"#000000\"/>\n",
       "<path class=\"atom-31\" d=\"M 466.977 313.021 L 468.761 313.021 L 468.761 318.615 L 475.489 318.615 L 475.489 313.021 L 477.273 313.021 L 477.273 326.179 L 475.489 326.179 L 475.489 320.101 L 468.761 320.101 L 468.761 326.179 L 466.977 326.179 L 466.977 313.021 \" fill=\"#000000\"/>\n",
       "<path class=\"atom-32\" d=\"M 441.694 252.373 L 443.478 252.373 L 443.478 257.967 L 450.206 257.967 L 450.206 252.373 L 451.99 252.373 L 451.99 265.531 L 450.206 265.531 L 450.206 259.454 L 443.478 259.454 L 443.478 265.531 L 441.694 265.531 L 441.694 252.373 \" fill=\"#000000\"/>\n",
       "<path class=\"atom-33\" d=\"M 416.741 321.793 L 418.525 321.793 L 418.525 327.387 L 425.253 327.387 L 425.253 321.793 L 427.037 321.793 L 427.037 334.951 L 425.253 334.951 L 425.253 328.873 L 418.525 328.873 L 418.525 334.951 L 416.741 334.951 L 416.741 321.793 \" fill=\"#000000\"/>\n",
       "<path class=\"atom-34\" d=\"M 345.682 363.587 L 347.466 363.587 L 347.466 369.181 L 354.194 369.181 L 354.194 363.587 L 355.978 363.587 L 355.978 376.745 L 354.194 376.745 L 354.194 370.668 L 347.466 370.668 L 347.466 376.745 L 345.682 376.745 L 345.682 363.587 \" fill=\"#000000\"/>\n",
       "<path class=\"atom-35\" d=\"M 387.273 334.078 L 389.057 334.078 L 389.057 339.671 L 395.785 339.671 L 395.785 334.078 L 397.569 334.078 L 397.569 347.235 L 395.785 347.235 L 395.785 341.158 L 389.057 341.158 L 389.057 347.235 L 387.273 347.235 L 387.273 334.078 \" fill=\"#000000\"/>\n",
       "<path class=\"atom-36\" d=\"M 317.397 313.861 L 319.182 313.861 L 319.182 319.455 L 325.909 319.455 L 325.909 313.861 L 327.693 313.861 L 327.693 327.019 L 325.909 327.019 L 325.909 320.942 L 319.182 320.942 L 319.182 327.019 L 317.397 327.019 L 317.397 313.861 \" fill=\"#000000\"/>\n",
       "<path class=\"atom-37\" d=\"M 276.608 104.142 L 278.392 104.142 L 278.392 109.736 L 285.12 109.736 L 285.12 104.142 L 286.904 104.142 L 286.904 117.3 L 285.12 117.3 L 285.12 111.223 L 278.392 111.223 L 278.392 117.3 L 276.608 117.3 L 276.608 104.142 \" fill=\"#000000\"/>\n",
       "<path class=\"atom-38\" d=\"M 328.827 144.023 L 330.611 144.023 L 330.611 149.617 L 337.339 149.617 L 337.339 144.023 L 339.123 144.023 L 339.123 157.181 L 337.339 157.181 L 337.339 151.104 L 330.611 151.104 L 330.611 157.181 L 328.827 157.181 L 328.827 144.023 \" fill=\"#000000\"/>\n",
       "<path class=\"atom-39\" d=\"M 236.727 156.362 L 238.511 156.362 L 238.511 161.956 L 245.239 161.956 L 245.239 156.362 L 247.023 156.362 L 247.023 169.52 L 245.239 169.52 L 245.239 163.442 L 238.511 163.442 L 238.511 169.52 L 236.727 169.52 L 236.727 156.362 \" fill=\"#000000\"/>\n",
       "</svg>"
      ],
      "text/plain": [
       "<IPython.core.display.SVG object>"
      ]
     },
     "metadata": {},
     "output_type": "display_data"
    }
   ],
   "source": [
    "molecule = Molecule(smiles='CCOP(=S)(OCC)Oc1cc(nc(n1)C(C)C)C',\n",
    "                    hydrogens_are_explicit=False)\n",
    "display(molecule)"
   ]
  },
  {
   "cell_type": "markdown",
   "metadata": {},
   "source": [
    "### Parameterize with `Open Force Field Toolkit` and `ffld_server`\n",
    "To work with OPLS2005 non-bonding parameters, we need work with a special force field called `OpenFFOPLS2005ForceField`."
   ]
  },
  {
   "cell_type": "code",
   "execution_count": 19,
   "metadata": {},
   "outputs": [],
   "source": [
    "from peleffy.forcefield import OpenFFOPLS2005ForceField\n",
    "\n",
    "hybridff = OpenFFOPLS2005ForceField('openff_unconstrained-1.2.0.offxml')"
   ]
  },
  {
   "cell_type": "markdown",
   "metadata": {},
   "source": [
    "### Set up the hybrid force field\n",
    "This force field allows us to combine `OpenFF` and `OPLS2005` parameters through its methods. There are several parameter types that can be combined:\n",
    "- Non bonding parameters: with `set_nonbonding_parameters()`\n",
    "- Bond parameters: with `set_bond_parameters()`\n",
    "- Angle parameters: with `set_angle_parameters()`\n",
    "- Dihedral parameters: with `set_dihedral_parameters()`\n",
    "\n",
    "Please, note that partial charges are assigned by using the `charge_method` parameter from the `OpenFFOPLS2005ForceField.parameterize()` method.\n",
    "\n",
    "Below, we are setting up the hybrid force field to parameterize the ligand with the nonbonding, bond and angles terms from the `OPLS2005` force field and assign the dihedral parameters with the `OpenFF` force field."
   ]
  },
  {
   "cell_type": "code",
   "execution_count": 20,
   "metadata": {},
   "outputs": [],
   "source": [
    "hybridff.set_nonbonding_parameters('OPLS2005')\n",
    "hybridff.set_bond_parameters('OpenFF')\n",
    "hybridff.set_angle_parameters('OpenFF')\n",
    "hybridff.set_dihedral_parameters('OpenFF')"
   ]
  },
  {
   "cell_type": "markdown",
   "metadata": {},
   "source": [
    "### Generate the Impact template\n",
    "Finally, the Impact template, named __diaz__, can be generated."
   ]
  },
  {
   "cell_type": "code",
   "execution_count": 21,
   "metadata": {},
   "outputs": [],
   "source": [
    "from peleffy.topology import Topology\n",
    "from peleffy.template import Impact"
   ]
  },
  {
   "cell_type": "code",
   "execution_count": 22,
   "metadata": {},
   "outputs": [],
   "source": [
    "parameters = hybridff.parameterize(molecule, charge_method='OPLS2005')\n",
    "topology = Topology(molecule, parameters)"
   ]
  },
  {
   "cell_type": "code",
   "execution_count": 23,
   "metadata": {},
   "outputs": [],
   "source": [
    "impact = Impact(topology)\n",
    "impact.to_file('diaz')"
   ]
  }
 ],
 "metadata": {
  "kernelspec": {
   "display_name": "Python 3",
   "language": "python",
   "name": "python3"
  },
  "language_info": {
   "codemirror_mode": {
    "name": "ipython",
    "version": 3
   },
   "file_extension": ".py",
   "mimetype": "text/x-python",
   "name": "python",
   "nbconvert_exporter": "python",
   "pygments_lexer": "ipython3",
   "version": "3.7.10"
  }
 },
 "nbformat": 4,
 "nbformat_minor": 4
}
