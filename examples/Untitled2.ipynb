{
 "cells": [
  {
   "cell_type": "code",
   "execution_count": 1,
   "metadata": {},
   "outputs": [],
   "source": [
    "from offpele.topology import Molecule\n",
    "from offpele.utils.toolkits import OpenForceFieldToolkitWrapper\n",
    "from offpele.forcefield import OpenForceFieldParameterWrapper"
   ]
  },
  {
   "cell_type": "code",
   "execution_count": 2,
   "metadata": {},
   "outputs": [],
   "source": [
    "from offpele.utils import get_data_file_path"
   ]
  },
  {
   "cell_type": "code",
   "execution_count": 3,
   "metadata": {},
   "outputs": [],
   "source": [
    "import os\n",
    "os.environ[\"SCHRODINGER\"] = '/opt/schrodinger/suites2020-2'"
   ]
  },
  {
   "cell_type": "code",
   "execution_count": 4,
   "metadata": {},
   "outputs": [
    {
     "name": "stderr",
     "output_type": "stream",
     "text": [
      " - Initializing molecule from PDB\n",
      "   - Loading molecule from RDKit\n",
      "   - Assigning stereochemistry from 3D coordinates\n",
      "   - Setting molecule name to 'ethylene'\n",
      "   - Setting molecule tag to 'UNK'\n",
      "   - Representing molecule with the Open Force Field Toolkit\n",
      "Warning: Unable to load toolkit 'OpenEye Toolkit'. The Open Force Field Toolkit does not require the OpenEye Toolkits, and can use RDKit/AmberTools instead. However, if you have a valid license for the OpenEye Toolkits, consider installing them for faster performance and additional file format support: https://docs.eyesopen.com/toolkits/python/quickstart-python/linuxosx.html OpenEye offers free Toolkit licenses for academics: https://www.eyesopen.com/academic-licensing\n"
     ]
    },
    {
     "data": {
      "application/vnd.jupyter.widget-view+json": {
       "model_id": "9da48ec133d8431290f831e767e1420b",
       "version_major": 2,
       "version_minor": 0
      },
      "text/plain": []
     },
     "metadata": {},
     "output_type": "display_data"
    },
    {
     "name": "stderr",
     "output_type": "stream",
     "text": [
      " - Generating rotamer library\n",
      "   - Core set to the center of the molecule\n"
     ]
    }
   ],
   "source": [
    "molecule = Molecule(get_data_file_path('ligands/ethylene.pdb'))"
   ]
  },
  {
   "cell_type": "code",
   "execution_count": 10,
   "metadata": {},
   "outputs": [
    {
     "name": "stderr",
     "output_type": "stream",
     "text": [
      " - Loading forcefield\n",
      " - Computing partial charges with gasteiger\n"
     ]
    }
   ],
   "source": [
    "molecule.parameterize('opls2005', charge_method='gasteiger')"
   ]
  },
  {
   "cell_type": "code",
   "execution_count": 11,
   "metadata": {},
   "outputs": [],
   "source": [
    "from offpele.template import Impact"
   ]
  },
  {
   "cell_type": "code",
   "execution_count": 12,
   "metadata": {},
   "outputs": [],
   "source": [
    "impact = Impact(molecule)\n",
    "impact.write('etlz')"
   ]
  },
  {
   "cell_type": "code",
   "execution_count": 13,
   "metadata": {},
   "outputs": [
    {
     "name": "stdout",
     "output_type": "stream",
     "text": [
      "* LIGAND DATABASE FILE (opls2005)\n",
      "* File generated with offpele-0.3.1+50.gd6eac47.dirty\n",
      "*\n",
      "UNK       6     5     6       6       0\n",
      "    1     0 M  CM    _C1_     0    0.375358   58.428399  -18.105831\n",
      "    2     1 M  CM    _C2_     0    1.317567  175.445160   81.849744\n",
      "    3     1 M  HC    _H3_     0    1.093548  164.351605   72.102200\n",
      "    4     1 M  HC    _H4_     0    1.085214  159.989210 -104.040125\n",
      "    5     2 M  HC    _H5_     0    1.077760  147.312594   -6.798446\n",
      "    6     2 M  HC    _H6_     0    1.073941  145.566151  173.153836\n",
      "NBON\n",
      "     1   3.5500   0.0760  -0.106311   2.0020   1.7750   0.023028004  -0.852763146\n",
      "     2   3.5500   0.0760  -0.106311   2.0020   1.7750   0.023028004  -0.852763146\n",
      "     3   2.4200   0.0300   0.053156   1.4250   1.2500   0.008598240   0.268726247\n",
      "     4   2.4200   0.0300   0.053156   1.4250   1.2500   0.008598240   0.268726247\n",
      "     5   2.4200   0.0300   0.053156   1.4250   1.2500   0.008598240   0.268726247\n",
      "     6   2.4200   0.0300   0.053156   1.4250   1.2500   0.008598240   0.268726247\n",
      "BOND\n",
      "     1     2   549.000  1.340\n",
      "     1     3   340.000  1.080\n",
      "     1     4   340.000  1.080\n",
      "     2     5   340.000  1.080\n",
      "     2     6   340.000  1.080\n",
      "THET\n",
      "     2     1     3    35.00000  120.00000\n",
      "     2     1     4    35.00000  120.00000\n",
      "     3     1     4    35.00000  117.00000\n",
      "     1     2     5    35.00000  120.00000\n",
      "     1     2     6    35.00000  120.00000\n",
      "     5     2     6    35.00000  117.00000\n",
      "PHI\n",
      "    3     1     2     5   7.00000 -1.0 2.0\n",
      "    3     1     2     6   7.00000 -1.0 2.0\n",
      "    4     1     2     5   7.00000 -1.0 2.0\n",
      "    4     1     2     6   7.00000 -1.0 2.0\n",
      "IPHI\n",
      "     3     4     1     2  15.00000 -1.0 2.0\n",
      "     5     6     2     1  15.00000 -1.0 2.0\n",
      "END\n",
      "\n"
     ]
    }
   ],
   "source": [
    "with open('etlz') as f:\n",
    "    print(f.read())"
   ]
  },
  {
   "cell_type": "code",
   "execution_count": 18,
   "metadata": {},
   "outputs": [
    {
     "name": "stdout",
     "output_type": "stream",
     "text": [
      "[1, 2, 5, 34.202963712735, 133.1339832262]\n",
      "[1, 2, 6, 34.202963712735, 133.1339832262]\n",
      "[2, 1, 3, 34.202963712735, 133.1339832262]\n",
      "[2, 1, 4, 34.202963712735, 133.1339832262]\n",
      "[3, 1, 4, 27.86109944498, 134.0642036482]\n",
      "[5, 2, 6, 27.86109944498, 134.0642036482]\n"
     ]
    }
   ],
   "source": [
    "from offpele.template.impact import WritableAngle\n",
    "for atom in molecule.angles:\n",
    "    w_atom = WritableAngle(atom)\n",
    "    print([attr[1] for attr in list(w_atom)])"
   ]
  },
  {
   "cell_type": "code",
   "execution_count": null,
   "metadata": {},
   "outputs": [],
   "source": []
  }
 ],
 "metadata": {
  "kernelspec": {
   "display_name": "Python 3",
   "language": "python",
   "name": "python3"
  },
  "language_info": {
   "codemirror_mode": {
    "name": "ipython",
    "version": 3
   },
   "file_extension": ".py",
   "mimetype": "text/x-python",
   "name": "python",
   "nbconvert_exporter": "python",
   "pygments_lexer": "ipython3",
   "version": "3.7.8"
  }
 },
 "nbformat": 4,
 "nbformat_minor": 4
}
