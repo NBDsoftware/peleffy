{
 "cells": [
  {
   "cell_type": "markdown",
   "metadata": {},
   "source": [
    "# Generate template for PELE's side chain perturbation\n",
    "This example shows how to generate a template with `peleffy` for `PELE`'s `side chain perturbation` workflow."
   ]
  },
  {
   "cell_type": "code",
   "execution_count": 1,
   "metadata": {},
   "outputs": [],
   "source": [
    "from peleffy.topology import Molecule, Topology, RotamerLibrary\n",
    "from peleffy.forcefield import OpenForceField, OPLS2005ForceField\n",
    "from peleffy.template import Impact\n",
    "from peleffy.utils import get_data_file_path"
   ]
  },
  {
   "cell_type": "markdown",
   "metadata": {},
   "source": [
    "## Exclude terminal rotamers"
   ]
  },
  {
   "cell_type": "code",
   "execution_count": 2,
   "metadata": {},
   "outputs": [
    {
     "name": "stderr",
     "output_type": "stream",
     "text": [
      " - Initializing molecule from PDB\n",
      "   - Loading molecule from RDKit\n",
      "   - Assigning stereochemistry from 3D coordinates\n",
      "   - Setting molecule name to 'modified_sidechain'\n",
      "   - Representing molecule with the Open Force Field Toolkit\n"
     ]
    },
    {
     "data": {
      "application/vnd.jupyter.widget-view+json": {
       "model_id": "596f50bad40648a7b44b66dcf0b9bd86",
       "version_major": 2,
       "version_minor": 0
      },
      "text/plain": []
     },
     "metadata": {},
     "output_type": "display_data"
    },
    {
     "name": "stderr",
     "output_type": "stream",
     "text": [
      " - Generating rotamer library\n",
      "   - Core forced to contain atoms: CA, C, N\n"
     ]
    }
   ],
   "source": [
    "ligand_path = get_data_file_path('ligands/modified_sidechain.pdb')\n",
    "molecule = Molecule(ligand_path, tag='GRW',\n",
    "                    core_constraints=[' CA ', ' C  ', ' N  '],\n",
    "                    exclude_terminal_rotamers=True)"
   ]
  },
  {
   "cell_type": "code",
   "execution_count": 3,
   "metadata": {},
   "outputs": [
    {
     "data": {
      "image/png": "[encoded data removed]",
      "text/plain": [
       "<rdkit.Chem.rdchem.Mol at 0x7f8d2f07e260>"
      ]
     },
     "metadata": {},
     "output_type": "display_data"
    }
   ],
   "source": [
    "display(molecule)"
   ]
  },
  {
   "cell_type": "code",
   "execution_count": 4,
   "metadata": {},
   "outputs": [],
   "source": [
    "rotamer_library = RotamerLibrary(molecule)"
   ]
  },
  {
   "cell_type": "code",
   "execution_count": 5,
   "metadata": {},
   "outputs": [],
   "source": [
    "rotamer_library.to_file(molecule.tag.upper() + '.rot.assign')"
   ]
  },
  {
   "cell_type": "code",
   "execution_count": 6,
   "metadata": {},
   "outputs": [
    {
     "data": {
      "image/svg+xml": [
       "<svg baseProfile=\"full\" height=\"500px\" version=\"1.1\" viewBox=\"0 0 500 500\" width=\"500px\" xml:space=\"preserve\" xmlns=\"http://www.w3.org/2000/svg\" xmlns:rdkit=\"http://www.rdkit.org/xml\" xmlns:xlink=\"http://www.w3.org/1999/xlink\">\n",
       "<!-- END OF HEADER -->\n",
       "<rect height=\"500\" style=\"opacity:1.0;fill:#FFFFFF;stroke:none\" width=\"500\" x=\"0\" y=\"0\"> </rect>\n",
       "<path d=\"M 393.086,266.185 L 349.075,265.536\" style=\"fill:none;fill-rule:evenodd;stroke:#52D7FF;stroke-width:18.8px;stroke-linecap:butt;stroke-linejoin:miter;stroke-opacity:1\"/>\n",
       "<path d=\"M 349.075,265.536 L 305.063,264.887\" style=\"fill:none;fill-rule:evenodd;stroke:#52D7FF;stroke-width:18.8px;stroke-linecap:butt;stroke-linejoin:miter;stroke-opacity:1\"/>\n",
       "<path d=\"M 305.063,264.887 L 283.619,226.447\" style=\"fill:none;fill-rule:evenodd;stroke:#52D7FF;stroke-width:18.8px;stroke-linecap:butt;stroke-linejoin:miter;stroke-opacity:1\"/>\n",
       "<path d=\"M 239.607,225.798 L 283.619,226.447\" style=\"fill:none;fill-rule:evenodd;stroke:#52D7FF;stroke-width:18.8px;stroke-linecap:butt;stroke-linejoin:miter;stroke-opacity:1\"/>\n",
       "<path d=\"M 171.556,246.805 L 135.568,272.149\" style=\"fill:none;fill-rule:evenodd;stroke:#52D7FF;stroke-width:18.8px;stroke-linecap:butt;stroke-linejoin:miter;stroke-opacity:1\"/>\n",
       "<path d=\"M 135.568,272.149 L 99.5799,297.494\" style=\"fill:none;fill-rule:evenodd;stroke:#52D7FF;stroke-width:18.8px;stroke-linecap:butt;stroke-linejoin:miter;stroke-opacity:1\"/>\n",
       "<ellipse cx=\"437.098\" cy=\"266.835\" rx=\"17.6066\" ry=\"17.6066\" style=\"fill:#FFF385;fill-rule:evenodd;stroke:#FFF385;stroke-width:1px;stroke-linecap:butt;stroke-linejoin:miter;stroke-opacity:1\"/>\n",
       "<ellipse cx=\"393.086\" cy=\"266.185\" rx=\"17.6066\" ry=\"17.6066\" style=\"fill:#FFF385;fill-rule:evenodd;stroke:#FFF385;stroke-width:1px;stroke-linecap:butt;stroke-linejoin:miter;stroke-opacity:1\"/>\n",
       "<ellipse cx=\"392.437\" cy=\"310.197\" rx=\"17.6066\" ry=\"17.6066\" style=\"fill:#FFF385;fill-rule:evenodd;stroke:#FFF385;stroke-width:1px;stroke-linecap:butt;stroke-linejoin:miter;stroke-opacity:1\"/>\n",
       "<ellipse cx=\"430.228\" cy=\"332.862\" rx=\"17.6066\" ry=\"17.6066\" style=\"fill:#FFF385;fill-rule:evenodd;stroke:#FFF385;stroke-width:1px;stroke-linecap:butt;stroke-linejoin:miter;stroke-opacity:1\"/>\n",
       "<ellipse cx=\"459.666\" cy=\"229.044\" rx=\"17.6066\" ry=\"17.6066\" style=\"fill:#FFF385;fill-rule:evenodd;stroke:#FFF385;stroke-width:1px;stroke-linecap:butt;stroke-linejoin:miter;stroke-opacity:1\"/>\n",
       "<ellipse cx=\"393.735\" cy=\"222.174\" rx=\"17.6066\" ry=\"17.6066\" style=\"fill:#FFF385;fill-rule:evenodd;stroke:#FFF385;stroke-width:1px;stroke-linecap:butt;stroke-linejoin:miter;stroke-opacity:1\"/>\n",
       "<ellipse cx=\"458.542\" cy=\"305.274\" rx=\"17.6066\" ry=\"17.6066\" style=\"fill:#FFF385;fill-rule:evenodd;stroke:#FFF385;stroke-width:1px;stroke-linecap:butt;stroke-linejoin:miter;stroke-opacity:1\"/>\n",
       "<ellipse cx=\"356.898\" cy=\"336.167\" rx=\"17.6066\" ry=\"17.6066\" style=\"fill:#FFF385;fill-rule:evenodd;stroke:#FFF385;stroke-width:1px;stroke-linecap:butt;stroke-linejoin:miter;stroke-opacity:1\"/>\n",
       "<path class=\"bond-0\" d=\"M 431.27,266.749 L 412.178,266.467\" style=\"fill:none;fill-rule:evenodd;stroke:#0000FF;stroke-width:4.0px;stroke-linecap:butt;stroke-linejoin:miter;stroke-opacity:1\"/>\n",
       "<path class=\"bond-0\" d=\"M 412.178,266.467 L 393.086,266.185\" style=\"fill:none;fill-rule:evenodd;stroke:#000000;stroke-width:4.0px;stroke-linecap:butt;stroke-linejoin:miter;stroke-opacity:1\"/>\n",
       "<path class=\"bond-1\" d=\"M 441.477,259.501 L 448.446,247.832\" style=\"fill:none;fill-rule:evenodd;stroke:#0000FF;stroke-width:4.0px;stroke-linecap:butt;stroke-linejoin:miter;stroke-opacity:1\"/>\n",
       "<path class=\"bond-1\" d=\"M 448.446,247.832 L 455.414,236.163\" style=\"fill:none;fill-rule:evenodd;stroke:#000000;stroke-width:4.0px;stroke-linecap:butt;stroke-linejoin:miter;stroke-opacity:1\"/>\n",
       "<path class=\"bond-2\" d=\"M 441.189,274.168 L 447.878,286.159\" style=\"fill:none;fill-rule:evenodd;stroke:#0000FF;stroke-width:4.0px;stroke-linecap:butt;stroke-linejoin:miter;stroke-opacity:1\"/>\n",
       "<path class=\"bond-2\" d=\"M 447.878,286.159 L 454.568,298.151\" style=\"fill:none;fill-rule:evenodd;stroke:#000000;stroke-width:4.0px;stroke-linecap:butt;stroke-linejoin:miter;stroke-opacity:1\"/>\n",
       "<path class=\"bond-3\" d=\"M 393.086,266.185 L 392.437,310.197\" style=\"fill:none;fill-rule:evenodd;stroke:#000000;stroke-width:4.0px;stroke-linecap:butt;stroke-linejoin:miter;stroke-opacity:1\"/>\n",
       "<path class=\"bond-4\" d=\"M 393.086,266.185 L 349.075,265.536\" style=\"fill:none;fill-rule:evenodd;stroke:#000000;stroke-width:4.0px;stroke-linecap:butt;stroke-linejoin:miter;stroke-opacity:1\"/>\n",
       "<path class=\"bond-5\" d=\"M 393.086,266.185 L 398.028,229.572 L 389.226,229.442 Z\" style=\"fill:#000000;fill-rule:evenodd;fill-opacity:1;stroke:#000000;stroke-width:4px;stroke-linecap:butt;stroke-linejoin:miter;stroke-opacity:1;\"/>\n",
       "<path class=\"bond-6\" d=\"M 390.18,313.976 L 405.664,323.223\" style=\"fill:none;fill-rule:evenodd;stroke:#000000;stroke-width:4.0px;stroke-linecap:butt;stroke-linejoin:miter;stroke-opacity:1\"/>\n",
       "<path class=\"bond-6\" d=\"M 405.664,323.223 L 421.149,332.47\" style=\"fill:none;fill-rule:evenodd;stroke:#FF0000;stroke-width:4.0px;stroke-linecap:butt;stroke-linejoin:miter;stroke-opacity:1\"/>\n",
       "<path class=\"bond-6\" d=\"M 394.694,306.418 L 410.178,315.665\" style=\"fill:none;fill-rule:evenodd;stroke:#000000;stroke-width:4.0px;stroke-linecap:butt;stroke-linejoin:miter;stroke-opacity:1\"/>\n",
       "<path class=\"bond-6\" d=\"M 410.178,315.665 L 425.662,324.912\" style=\"fill:none;fill-rule:evenodd;stroke:#FF0000;stroke-width:4.0px;stroke-linecap:butt;stroke-linejoin:miter;stroke-opacity:1\"/>\n",
       "<path class=\"bond-7\" d=\"M 392.437,310.197 L 362.875,331.799\" style=\"fill:none;fill-rule:evenodd;stroke:#000000;stroke-width:4.0px;stroke-linecap:butt;stroke-linejoin:miter;stroke-opacity:1\"/>\n",
       "<path class=\"bond-8\" d=\"M 349.075,265.536 L 329.617,265.249\" style=\"fill:none;fill-rule:evenodd;stroke:#000000;stroke-width:4.0px;stroke-linecap:butt;stroke-linejoin:miter;stroke-opacity:1\"/>\n",
       "<path class=\"bond-8\" d=\"M 329.617,265.249 L 310.16,264.962\" style=\"fill:none;fill-rule:evenodd;stroke:#CCCC00;stroke-width:4.0px;stroke-linecap:butt;stroke-linejoin:miter;stroke-opacity:1\"/>\n",
       "<path class=\"bond-9\" d=\"M 349.075,265.536 L 344.076,301.808\" style=\"fill:none;fill-rule:evenodd;stroke:#000000;stroke-width:4.0px;stroke-linecap:butt;stroke-linejoin:miter;stroke-opacity:1\"/>\n",
       "<path class=\"bond-10\" d=\"M 349.075,265.536 L 349.615,228.858\" style=\"fill:none;fill-rule:evenodd;stroke:#000000;stroke-width:4.0px;stroke-linecap:butt;stroke-linejoin:miter;stroke-opacity:1\"/>\n",
       "<path class=\"bond-11\" d=\"M 300.982,257.572 L 292.3,242.009\" style=\"fill:none;fill-rule:evenodd;stroke:#CCCC00;stroke-width:4.0px;stroke-linecap:butt;stroke-linejoin:miter;stroke-opacity:1\"/>\n",
       "<path class=\"bond-11\" d=\"M 292.3,242.009 L 283.619,226.447\" style=\"fill:none;fill-rule:evenodd;stroke:#000000;stroke-width:4.0px;stroke-linecap:butt;stroke-linejoin:miter;stroke-opacity:1\"/>\n",
       "<path class=\"bond-12\" d=\"M 239.607,225.798 L 229.517,211.471\" style=\"fill:none;fill-rule:evenodd;stroke:#000000;stroke-width:4.0px;stroke-linecap:butt;stroke-linejoin:miter;stroke-opacity:1\"/>\n",
       "<path class=\"bond-12\" d=\"M 229.517,211.471 L 219.427,197.144\" style=\"fill:none;fill-rule:evenodd;stroke:#0000FF;stroke-width:4.0px;stroke-linecap:butt;stroke-linejoin:miter;stroke-opacity:1\"/>\n",
       "<path class=\"bond-12\" d=\"M 229.383,226.569 L 222.32,216.54\" style=\"fill:none;fill-rule:evenodd;stroke:#000000;stroke-width:4.0px;stroke-linecap:butt;stroke-linejoin:miter;stroke-opacity:1\"/>\n",
       "<path class=\"bond-12\" d=\"M 222.32,216.54 L 215.257,206.511\" style=\"fill:none;fill-rule:evenodd;stroke:#0000FF;stroke-width:4.0px;stroke-linecap:butt;stroke-linejoin:miter;stroke-opacity:1\"/>\n",
       "<path class=\"bond-13\" d=\"M 239.607,225.798 L 229.184,239.709\" style=\"fill:none;fill-rule:evenodd;stroke:#000000;stroke-width:4.0px;stroke-linecap:butt;stroke-linejoin:miter;stroke-opacity:1\"/>\n",
       "<path class=\"bond-13\" d=\"M 229.184,239.709 L 218.76,253.619\" style=\"fill:none;fill-rule:evenodd;stroke:#FF0000;stroke-width:4.0px;stroke-linecap:butt;stroke-linejoin:miter;stroke-opacity:1\"/>\n",
       "<path class=\"bond-14\" d=\"M 239.607,225.798 L 283.619,226.447\" style=\"fill:none;fill-rule:evenodd;stroke:#000000;stroke-width:4.0px;stroke-linecap:butt;stroke-linejoin:miter;stroke-opacity:1\"/>\n",
       "<path class=\"bond-15\" d=\"M 208.435,191.609 L 190.32,197.201\" style=\"fill:none;fill-rule:evenodd;stroke:#0000FF;stroke-width:4.0px;stroke-linecap:butt;stroke-linejoin:miter;stroke-opacity:1\"/>\n",
       "<path class=\"bond-15\" d=\"M 190.32,197.201 L 172.205,202.793\" style=\"fill:none;fill-rule:evenodd;stroke:#000000;stroke-width:4.0px;stroke-linecap:butt;stroke-linejoin:miter;stroke-opacity:1\"/>\n",
       "<path class=\"bond-16\" d=\"M 172.205,202.793 L 171.556,246.805\" style=\"fill:none;fill-rule:evenodd;stroke:#000000;stroke-width:4.0px;stroke-linecap:butt;stroke-linejoin:miter;stroke-opacity:1\"/>\n",
       "<path class=\"bond-16\" d=\"M 180.91,209.525 L 180.455,240.333\" style=\"fill:none;fill-rule:evenodd;stroke:#000000;stroke-width:4.0px;stroke-linecap:butt;stroke-linejoin:miter;stroke-opacity:1\"/>\n",
       "<path class=\"bond-17\" d=\"M 172.205,202.793 L 136.98,176.399\" style=\"fill:none;fill-rule:evenodd;stroke:#000000;stroke-width:4.0px;stroke-linecap:butt;stroke-linejoin:miter;stroke-opacity:1\"/>\n",
       "<path class=\"bond-18\" d=\"M 171.556,246.805 L 188.973,252.75\" style=\"fill:none;fill-rule:evenodd;stroke:#000000;stroke-width:4.0px;stroke-linecap:butt;stroke-linejoin:miter;stroke-opacity:1\"/>\n",
       "<path class=\"bond-18\" d=\"M 188.973,252.75 L 206.39,258.694\" style=\"fill:none;fill-rule:evenodd;stroke:#FF0000;stroke-width:4.0px;stroke-linecap:butt;stroke-linejoin:miter;stroke-opacity:1\"/>\n",
       "<path class=\"bond-19\" d=\"M 171.556,246.805 L 135.568,272.149\" style=\"fill:none;fill-rule:evenodd;stroke:#000000;stroke-width:4.0px;stroke-linecap:butt;stroke-linejoin:miter;stroke-opacity:1\"/>\n",
       "<path class=\"bond-20\" d=\"M 283.619,226.447 L 292.713,211.219\" style=\"fill:none;fill-rule:evenodd;stroke:#000000;stroke-width:4.0px;stroke-linecap:butt;stroke-linejoin:miter;stroke-opacity:1\"/>\n",
       "<path class=\"bond-20\" d=\"M 292.713,211.219 L 301.808,195.99\" style=\"fill:none;fill-rule:evenodd;stroke:#0000FF;stroke-width:4.0px;stroke-linecap:butt;stroke-linejoin:miter;stroke-opacity:1\"/>\n",
       "<path class=\"bond-20\" d=\"M 293.906,226.392 L 300.272,215.732\" style=\"fill:none;fill-rule:evenodd;stroke:#000000;stroke-width:4.0px;stroke-linecap:butt;stroke-linejoin:miter;stroke-opacity:1\"/>\n",
       "<path class=\"bond-20\" d=\"M 300.272,215.732 L 306.638,205.072\" style=\"fill:none;fill-rule:evenodd;stroke:#0000FF;stroke-width:4.0px;stroke-linecap:butt;stroke-linejoin:miter;stroke-opacity:1\"/>\n",
       "<path class=\"bond-21\" d=\"M 302.096,181.323 L 295.407,169.332\" style=\"fill:none;fill-rule:evenodd;stroke:#0000FF;stroke-width:4.0px;stroke-linecap:butt;stroke-linejoin:miter;stroke-opacity:1\"/>\n",
       "<path class=\"bond-21\" d=\"M 295.407,169.332 L 288.717,157.34\" style=\"fill:none;fill-rule:evenodd;stroke:#000000;stroke-width:4.0px;stroke-linecap:butt;stroke-linejoin:miter;stroke-opacity:1\"/>\n",
       "<path class=\"bond-22\" d=\"M 135.568,272.149 L 155.748,300.804\" style=\"fill:none;fill-rule:evenodd;stroke:#000000;stroke-width:4.0px;stroke-linecap:butt;stroke-linejoin:miter;stroke-opacity:1\"/>\n",
       "<path class=\"bond-23\" d=\"M 135.568,272.149 L 112.003,246.122\" style=\"fill:none;fill-rule:evenodd;stroke:#000000;stroke-width:4.0px;stroke-linecap:butt;stroke-linejoin:miter;stroke-opacity:1\"/>\n",
       "<path class=\"bond-24\" d=\"M 135.568,272.149 L 99.5799,297.494\" style=\"fill:none;fill-rule:evenodd;stroke:#000000;stroke-width:4.0px;stroke-linecap:butt;stroke-linejoin:miter;stroke-opacity:1\"/>\n",
       "<path class=\"bond-25\" d=\"M 136.98,176.399 L 157.88,148.507\" style=\"fill:none;fill-rule:evenodd;stroke:#000000;stroke-width:4.0px;stroke-linecap:butt;stroke-linejoin:miter;stroke-opacity:1\"/>\n",
       "<path class=\"bond-26\" d=\"M 136.98,176.399 L 112.466,201.92\" style=\"fill:none;fill-rule:evenodd;stroke:#000000;stroke-width:4.0px;stroke-linecap:butt;stroke-linejoin:miter;stroke-opacity:1\"/>\n",
       "<path class=\"bond-27\" d=\"M 136.98,176.399 L 107.733,154.483\" style=\"fill:none;fill-rule:evenodd;stroke:#000000;stroke-width:4.0px;stroke-linecap:butt;stroke-linejoin:miter;stroke-opacity:1\"/>\n",
       "<path class=\"bond-28\" d=\"M 99.5799,297.494 L 63.5921,322.838\" style=\"fill:none;fill-rule:evenodd;stroke:#000000;stroke-width:4.0px;stroke-linecap:butt;stroke-linejoin:miter;stroke-opacity:1\"/>\n",
       "<path class=\"bond-29\" d=\"M 99.5799,297.494 L 79.4,268.839\" style=\"fill:none;fill-rule:evenodd;stroke:#000000;stroke-width:4.0px;stroke-linecap:butt;stroke-linejoin:miter;stroke-opacity:1\"/>\n",
       "<path class=\"bond-30\" d=\"M 99.5799,297.494 L 119.76,326.148\" style=\"fill:none;fill-rule:evenodd;stroke:#000000;stroke-width:4.0px;stroke-linecap:butt;stroke-linejoin:miter;stroke-opacity:1\"/>\n",
       "<path class=\"bond-31\" d=\"M 63.5921,322.838 L 83.7721,351.493\" style=\"fill:none;fill-rule:evenodd;stroke:#000000;stroke-width:4.0px;stroke-linecap:butt;stroke-linejoin:miter;stroke-opacity:1\"/>\n",
       "<path class=\"bond-32\" d=\"M 63.5921,322.838 L 43.4122,294.183\" style=\"fill:none;fill-rule:evenodd;stroke:#000000;stroke-width:4.0px;stroke-linecap:butt;stroke-linejoin:miter;stroke-opacity:1\"/>\n",
       "<path class=\"bond-33\" d=\"M 63.5921,322.838 L 33.5818,343.973\" style=\"fill:none;fill-rule:evenodd;stroke:#000000;stroke-width:4.0px;stroke-linecap:butt;stroke-linejoin:miter;stroke-opacity:1\"/>\n",
       "<path class=\"atom-0\" d=\"M 434.343 260.602 L 438.427 267.204 Q 438.832 267.856, 439.484 269.035 Q 440.135 270.215, 440.17 270.285 L 440.17 260.602 L 441.825 260.602 L 441.825 273.067 L 440.118 273.067 L 435.734 265.849 Q 435.223 265.003, 434.677 264.035 Q 434.149 263.067, 433.99 262.767 L 433.99 273.067 L 432.371 273.067 L 432.371 260.602 L 434.343 260.602 \" fill=\"#0000FF\"/>\n",
       "<path class=\"atom-3\" d=\"M 424.506 332.8 Q 424.506 329.807, 425.985 328.135 Q 427.464 326.462, 430.228 326.462 Q 432.992 326.462, 434.471 328.135 Q 435.95 329.807, 435.95 332.8 Q 435.95 335.829, 434.454 337.554 Q 432.957 339.262, 430.228 339.262 Q 427.481 339.262, 425.985 337.554 Q 424.506 335.846, 424.506 332.8 M 430.228 337.854 Q 432.129 337.854, 433.151 336.586 Q 434.189 335.301, 434.189 332.8 Q 434.189 330.353, 433.151 329.121 Q 432.129 327.871, 430.228 327.871 Q 428.326 327.871, 427.288 329.103 Q 426.266 330.336, 426.266 332.8 Q 426.266 335.318, 427.288 336.586 Q 428.326 337.854, 430.228 337.854 \" fill=\"#FF0000\"/>\n",
       "<path class=\"atom-5\" d=\"M 301.541 269.166 Q 301.682 269.218, 302.263 269.465 Q 302.844 269.711, 303.478 269.87 Q 304.13 270.011, 304.763 270.011 Q 305.943 270.011, 306.63 269.447 Q 307.316 268.866, 307.316 267.863 Q 307.316 267.176, 306.964 266.753 Q 306.63 266.331, 306.102 266.102 Q 305.573 265.873, 304.693 265.609 Q 303.584 265.275, 302.915 264.958 Q 302.263 264.641, 301.788 263.972 Q 301.33 263.303, 301.33 262.176 Q 301.33 260.609, 302.387 259.64 Q 303.461 258.672, 305.573 258.672 Q 307.017 258.672, 308.655 259.359 L 308.25 260.714 Q 306.753 260.098, 305.626 260.098 Q 304.411 260.098, 303.742 260.609 Q 303.073 261.102, 303.091 261.964 Q 303.091 262.634, 303.425 263.038 Q 303.777 263.443, 304.27 263.672 Q 304.781 263.901, 305.626 264.165 Q 306.753 264.517, 307.422 264.87 Q 308.091 265.222, 308.566 265.944 Q 309.059 266.648, 309.059 267.863 Q 309.059 269.588, 307.897 270.521 Q 306.753 271.437, 304.834 271.437 Q 303.725 271.437, 302.88 271.19 Q 302.052 270.961, 301.066 270.557 L 301.541 269.166 \" fill=\"#CCCC00\"/>\n",
       "<path class=\"atom-7\" d=\"M 211.508 183.578 L 215.592 190.18 Q 215.997 190.832, 216.649 192.011 Q 217.3 193.191, 217.335 193.261 L 217.335 183.578 L 218.99 183.578 L 218.99 196.043 L 217.282 196.043 L 212.898 188.824 Q 212.388 187.979, 211.842 187.011 Q 211.314 186.043, 211.155 185.743 L 211.155 196.043 L 209.536 196.043 L 209.536 183.578 L 211.508 183.578 \" fill=\"#0000FF\"/>\n",
       "<path class=\"atom-10\" d=\"M 207.49 261.058 Q 207.49 258.065, 208.969 256.392 Q 210.448 254.72, 213.213 254.72 Q 215.977 254.72, 217.456 256.392 Q 218.935 258.065, 218.935 261.058 Q 218.935 264.086, 217.438 265.812 Q 215.942 267.52, 213.213 267.52 Q 210.466 267.52, 208.969 265.812 Q 207.49 264.104, 207.49 261.058 M 213.213 266.111 Q 215.114 266.111, 216.135 264.844 Q 217.174 263.558, 217.174 261.058 Q 217.174 258.611, 216.135 257.378 Q 215.114 256.128, 213.213 256.128 Q 211.311 256.128, 210.272 257.361 Q 209.251 258.593, 209.251 261.058 Q 209.251 263.576, 210.272 264.844 Q 211.311 266.111, 213.213 266.111 \" fill=\"#FF0000\"/>\n",
       "<path class=\"atom-12\" d=\"M 303.432 182.424 L 307.516 189.026 Q 307.921 189.678, 308.573 190.857 Q 309.224 192.037, 309.259 192.107 L 309.259 182.424 L 310.914 182.424 L 310.914 194.889 L 309.207 194.889 L 304.823 187.671 Q 304.312 186.825, 303.766 185.857 Q 303.238 184.889, 303.08 184.589 L 303.08 194.889 L 301.46 194.889 L 301.46 182.424 L 303.432 182.424 \" fill=\"#0000FF\"/>\n",
       "<path class=\"atom-17\" d=\"M 454.789 222.811 L 456.479 222.811 L 456.479 228.111 L 462.853 228.111 L 462.853 222.811 L 464.543 222.811 L 464.543 235.277 L 462.853 235.277 L 462.853 229.519 L 456.479 229.519 L 456.479 235.277 L 454.789 235.277 L 454.789 222.811 \" fill=\"#000000\"/>\n",
       "<path class=\"atom-18\" d=\"M 388.858 215.941 L 390.549 215.941 L 390.549 221.241 L 396.922 221.241 L 396.922 215.941 L 398.612 215.941 L 398.612 228.406 L 396.922 228.406 L 396.922 222.649 L 390.549 222.649 L 390.549 228.406 L 388.858 228.406 L 388.858 215.941 \" fill=\"#000000\"/>\n",
       "<path class=\"atom-19\" d=\"M 338.188 302.908 L 339.879 302.908 L 339.879 308.208 L 346.252 308.208 L 346.252 302.908 L 347.942 302.908 L 347.942 315.374 L 346.252 315.374 L 346.252 309.616 L 339.879 309.616 L 339.879 315.374 L 338.188 315.374 L 338.188 302.908 \" fill=\"#000000\"/>\n",
       "<path class=\"atom-20\" d=\"M 344.847 215.292 L 346.537 215.292 L 346.537 220.591 L 352.91 220.591 L 352.91 215.292 L 354.601 215.292 L 354.601 227.757 L 352.91 227.757 L 352.91 222 L 346.537 222 L 346.537 227.757 L 344.847 227.757 L 344.847 215.292 \" fill=\"#000000\"/>\n",
       "<path class=\"atom-21\" d=\"M 156.035 301.905 L 157.725 301.905 L 157.725 307.204 L 164.099 307.204 L 164.099 301.905 L 165.789 301.905 L 165.789 314.37 L 164.099 314.37 L 164.099 308.613 L 157.725 308.613 L 157.725 314.37 L 156.035 314.37 L 156.035 301.905 \" fill=\"#000000\"/>\n",
       "<path class=\"atom-22\" d=\"M 101.149 233.287 L 102.839 233.287 L 102.839 238.586 L 109.212 238.586 L 109.212 233.287 L 110.903 233.287 L 110.903 245.752 L 109.212 245.752 L 109.212 239.995 L 102.839 239.995 L 102.839 245.752 L 101.149 245.752 L 101.149 233.287 \" fill=\"#000000\"/>\n",
       "<path class=\"atom-23\" d=\"M 158.498 134.941 L 160.188 134.941 L 160.188 140.241 L 166.561 140.241 L 166.561 134.941 L 168.252 134.941 L 168.252 147.407 L 166.561 147.407 L 166.561 141.649 L 160.188 141.649 L 160.188 147.407 L 158.498 147.407 L 158.498 134.941 \" fill=\"#000000\"/>\n",
       "<path class=\"atom-24\" d=\"M 101.611 201.911 L 103.302 201.911 L 103.302 207.21 L 109.675 207.21 L 109.675 201.911 L 111.365 201.911 L 111.365 214.376 L 109.675 214.376 L 109.675 208.619 L 103.302 208.619 L 103.302 214.376 L 101.611 214.376 L 101.611 201.911 \" fill=\"#000000\"/>\n",
       "<path class=\"atom-25\" d=\"M 96.8782 143.771 L 98.5684 143.771 L 98.5684 149.071 L 104.942 149.071 L 104.942 143.771 L 106.632 143.771 L 106.632 156.237 L 104.942 156.237 L 104.942 150.48 L 98.5684 150.48 L 98.5684 156.237 L 96.8782 156.237 L 96.8782 143.771 \" fill=\"#000000\"/>\n",
       "<path class=\"atom-26\" d=\"M 279.866 143.984 L 281.557 143.984 L 281.557 149.284 L 287.93 149.284 L 287.93 143.984 L 289.62 143.984 L 289.62 156.449 L 287.93 156.449 L 287.93 150.692 L 281.557 150.692 L 281.557 156.449 L 279.866 156.449 L 279.866 143.984 \" fill=\"#000000\"/>\n",
       "<path class=\"atom-27\" d=\"M 69.3586 255.273 L 71.0488 255.273 L 71.0488 260.573 L 77.4224 260.573 L 77.4224 255.273 L 79.1127 255.273 L 79.1127 267.739 L 77.4224 267.739 L 77.4224 261.981 L 71.0488 261.981 L 71.0488 267.739 L 69.3586 267.739 L 69.3586 255.273 \" fill=\"#000000\"/>\n",
       "<path class=\"atom-28\" d=\"M 120.047 327.249 L 121.737 327.249 L 121.737 332.548 L 128.111 332.548 L 128.111 327.249 L 129.801 327.249 L 129.801 339.714 L 128.111 339.714 L 128.111 333.957 L 121.737 333.957 L 121.737 339.714 L 120.047 339.714 L 120.047 327.249 \" fill=\"#000000\"/>\n",
       "<path class=\"atom-29\" d=\"M 84.0594 352.593 L 85.7496 352.593 L 85.7496 357.893 L 92.1232 357.893 L 92.1232 352.593 L 93.8135 352.593 L 93.8135 365.059 L 92.1232 365.059 L 92.1232 359.301 L 85.7496 359.301 L 85.7496 365.059 L 84.0594 365.059 L 84.0594 352.593 \" fill=\"#000000\"/>\n",
       "<path class=\"atom-30\" d=\"M 33.3708 280.618 L 35.061 280.618 L 35.061 285.917 L 41.4346 285.917 L 41.4346 280.618 L 43.1248 280.618 L 43.1248 293.083 L 41.4346 293.083 L 41.4346 287.326 L 35.061 287.326 L 35.061 293.083 L 33.3708 293.083 L 33.3708 280.618 \" fill=\"#000000\"/>\n",
       "<path class=\"atom-31\" d=\"M 22.7273 341.95 L 24.4175 341.95 L 24.4175 347.249 L 30.7911 347.249 L 30.7911 341.95 L 32.4813 341.95 L 32.4813 354.415 L 30.7911 354.415 L 30.7911 348.658 L 24.4175 348.658 L 24.4175 354.415 L 22.7273 354.415 L 22.7273 341.95 \" fill=\"#000000\"/>\n",
       "<path class=\"atom-32\" d=\"M 453.665 299.042 L 455.355 299.042 L 455.355 304.341 L 461.729 304.341 L 461.729 299.042 L 463.419 299.042 L 463.419 311.507 L 461.729 311.507 L 461.729 305.75 L 455.355 305.75 L 455.355 311.507 L 453.665 311.507 L 453.665 299.042 \" fill=\"#000000\"/>\n",
       "<path class=\"atom-33\" d=\"M 352.021 329.934 L 353.711 329.934 L 353.711 335.234 L 360.085 335.234 L 360.085 329.934 L 361.775 329.934 L 361.775 342.399 L 360.085 342.399 L 360.085 336.642 L 353.711 336.642 L 353.711 342.399 L 352.021 342.399 L 352.021 329.934 \" fill=\"#000000\"/>\n",
       "</svg>"
      ],
      "text/plain": [
       "<IPython.core.display.SVG object>"
      ]
     },
     "metadata": {},
     "output_type": "display_data"
    }
   ],
   "source": [
    "display(rotamer_library)"
   ]
  },
  {
   "cell_type": "code",
   "execution_count": 7,
   "metadata": {},
   "outputs": [],
   "source": [
    "openff = OpenForceField('openff_unconstrained-1.2.1.offxml')"
   ]
  },
  {
   "cell_type": "code",
   "execution_count": 8,
   "metadata": {},
   "outputs": [],
   "source": [
    "parameters = openff.parameterize(molecule)"
   ]
  },
  {
   "cell_type": "code",
   "execution_count": 9,
   "metadata": {},
   "outputs": [],
   "source": [
    "topology = Topology(molecule, parameters)"
   ]
  },
  {
   "cell_type": "code",
   "execution_count": 10,
   "metadata": {},
   "outputs": [],
   "source": [
    "impact_template = Impact(topology)"
   ]
  },
  {
   "cell_type": "code",
   "execution_count": 11,
   "metadata": {},
   "outputs": [],
   "source": [
    "impact_template.to_file(molecule.tag.lower() + 'z')"
   ]
  },
  {
   "cell_type": "markdown",
   "metadata": {},
   "source": [
    "## Include terminal rotamers"
   ]
  },
  {
   "cell_type": "code",
   "execution_count": 12,
   "metadata": {},
   "outputs": [
    {
     "name": "stderr",
     "output_type": "stream",
     "text": [
      " - Initializing molecule from PDB\n",
      "   - Loading molecule from RDKit\n",
      "   - Assigning stereochemistry from 3D coordinates\n",
      "   - Setting molecule name to 'modified_sidechain'\n",
      "   - Representing molecule with the Open Force Field Toolkit\n",
      " - Generating rotamer library\n",
      "   - Core forced to contain atoms: CA, C, N\n"
     ]
    }
   ],
   "source": [
    "ligand_path = get_data_file_path('ligands/modified_sidechain.pdb')\n",
    "molecule = Molecule(ligand_path, tag='GRW',\n",
    "                    core_constraints=[' CA ', ' C  ', ' N  '],\n",
    "                    exclude_terminal_rotamers=False)"
   ]
  },
  {
   "cell_type": "code",
   "execution_count": 13,
   "metadata": {},
   "outputs": [
    {
     "data": {
      "image/png": "[encoded data removed]",
      "text/plain": [
       "<rdkit.Chem.rdchem.Mol at 0x7f8d2f3f3a80>"
      ]
     },
     "metadata": {},
     "output_type": "display_data"
    }
   ],
   "source": [
    "display(molecule)"
   ]
  },
  {
   "cell_type": "code",
   "execution_count": 14,
   "metadata": {},
   "outputs": [],
   "source": [
    "rotamer_library = RotamerLibrary(molecule)"
   ]
  },
  {
   "cell_type": "code",
   "execution_count": 15,
   "metadata": {},
   "outputs": [],
   "source": [
    "rotamer_library.to_file(molecule.tag.upper() + '.rot.assign_2')"
   ]
  },
  {
   "cell_type": "code",
   "execution_count": 16,
   "metadata": {},
   "outputs": [
    {
     "data": {
      "image/svg+xml": [
       "<svg baseProfile=\"full\" height=\"500px\" version=\"1.1\" viewBox=\"0 0 500 500\" width=\"500px\" xml:space=\"preserve\" xmlns=\"http://www.w3.org/2000/svg\" xmlns:rdkit=\"http://www.rdkit.org/xml\" xmlns:xlink=\"http://www.w3.org/1999/xlink\">\n",
       "<!-- END OF HEADER -->\n",
       "<rect height=\"500\" style=\"opacity:1.0;fill:#FFFFFF;stroke:none\" width=\"500\" x=\"0\" y=\"0\"> </rect>\n",
       "<path d=\"M 393.086,266.185 L 349.075,265.536\" style=\"fill:none;fill-rule:evenodd;stroke:#52D7FF;stroke-width:18.8px;stroke-linecap:butt;stroke-linejoin:miter;stroke-opacity:1\"/>\n",
       "<path d=\"M 349.075,265.536 L 305.063,264.887\" style=\"fill:none;fill-rule:evenodd;stroke:#52D7FF;stroke-width:18.8px;stroke-linecap:butt;stroke-linejoin:miter;stroke-opacity:1\"/>\n",
       "<path d=\"M 305.063,264.887 L 283.619,226.447\" style=\"fill:none;fill-rule:evenodd;stroke:#52D7FF;stroke-width:18.8px;stroke-linecap:butt;stroke-linejoin:miter;stroke-opacity:1\"/>\n",
       "<path d=\"M 239.607,225.798 L 283.619,226.447\" style=\"fill:none;fill-rule:evenodd;stroke:#52D7FF;stroke-width:18.8px;stroke-linecap:butt;stroke-linejoin:miter;stroke-opacity:1\"/>\n",
       "<path d=\"M 172.205,202.793 L 136.98,176.399\" style=\"fill:none;fill-rule:evenodd;stroke:#52D7FF;stroke-width:18.8px;stroke-linecap:butt;stroke-linejoin:miter;stroke-opacity:1\"/>\n",
       "<path d=\"M 171.556,246.805 L 135.568,272.149\" style=\"fill:none;fill-rule:evenodd;stroke:#52D7FF;stroke-width:18.8px;stroke-linecap:butt;stroke-linejoin:miter;stroke-opacity:1\"/>\n",
       "<path d=\"M 135.568,272.149 L 99.5799,297.494\" style=\"fill:none;fill-rule:evenodd;stroke:#52D7FF;stroke-width:18.8px;stroke-linecap:butt;stroke-linejoin:miter;stroke-opacity:1\"/>\n",
       "<path d=\"M 99.5799,297.494 L 63.5921,322.838\" style=\"fill:none;fill-rule:evenodd;stroke:#52D7FF;stroke-width:18.8px;stroke-linecap:butt;stroke-linejoin:miter;stroke-opacity:1\"/>\n",
       "<ellipse cx=\"437.098\" cy=\"266.835\" rx=\"17.6066\" ry=\"17.6066\" style=\"fill:#FFF385;fill-rule:evenodd;stroke:#FFF385;stroke-width:1px;stroke-linecap:butt;stroke-linejoin:miter;stroke-opacity:1\"/>\n",
       "<ellipse cx=\"393.086\" cy=\"266.185\" rx=\"17.6066\" ry=\"17.6066\" style=\"fill:#FFF385;fill-rule:evenodd;stroke:#FFF385;stroke-width:1px;stroke-linecap:butt;stroke-linejoin:miter;stroke-opacity:1\"/>\n",
       "<ellipse cx=\"392.437\" cy=\"310.197\" rx=\"17.6066\" ry=\"17.6066\" style=\"fill:#FFF385;fill-rule:evenodd;stroke:#FFF385;stroke-width:1px;stroke-linecap:butt;stroke-linejoin:miter;stroke-opacity:1\"/>\n",
       "<ellipse cx=\"430.228\" cy=\"332.862\" rx=\"17.6066\" ry=\"17.6066\" style=\"fill:#FFF385;fill-rule:evenodd;stroke:#FFF385;stroke-width:1px;stroke-linecap:butt;stroke-linejoin:miter;stroke-opacity:1\"/>\n",
       "<ellipse cx=\"459.666\" cy=\"229.044\" rx=\"17.6066\" ry=\"17.6066\" style=\"fill:#FFF385;fill-rule:evenodd;stroke:#FFF385;stroke-width:1px;stroke-linecap:butt;stroke-linejoin:miter;stroke-opacity:1\"/>\n",
       "<ellipse cx=\"393.735\" cy=\"222.174\" rx=\"17.6066\" ry=\"17.6066\" style=\"fill:#FFF385;fill-rule:evenodd;stroke:#FFF385;stroke-width:1px;stroke-linecap:butt;stroke-linejoin:miter;stroke-opacity:1\"/>\n",
       "<ellipse cx=\"458.542\" cy=\"305.274\" rx=\"17.6066\" ry=\"17.6066\" style=\"fill:#FFF385;fill-rule:evenodd;stroke:#FFF385;stroke-width:1px;stroke-linecap:butt;stroke-linejoin:miter;stroke-opacity:1\"/>\n",
       "<ellipse cx=\"356.898\" cy=\"336.167\" rx=\"17.6066\" ry=\"17.6066\" style=\"fill:#FFF385;fill-rule:evenodd;stroke:#FFF385;stroke-width:1px;stroke-linecap:butt;stroke-linejoin:miter;stroke-opacity:1\"/>\n",
       "<path class=\"bond-0\" d=\"M 431.27,266.749 L 412.178,266.467\" style=\"fill:none;fill-rule:evenodd;stroke:#0000FF;stroke-width:4.0px;stroke-linecap:butt;stroke-linejoin:miter;stroke-opacity:1\"/>\n",
       "<path class=\"bond-0\" d=\"M 412.178,266.467 L 393.086,266.185\" style=\"fill:none;fill-rule:evenodd;stroke:#000000;stroke-width:4.0px;stroke-linecap:butt;stroke-linejoin:miter;stroke-opacity:1\"/>\n",
       "<path class=\"bond-1\" d=\"M 441.477,259.501 L 448.446,247.832\" style=\"fill:none;fill-rule:evenodd;stroke:#0000FF;stroke-width:4.0px;stroke-linecap:butt;stroke-linejoin:miter;stroke-opacity:1\"/>\n",
       "<path class=\"bond-1\" d=\"M 448.446,247.832 L 455.414,236.163\" style=\"fill:none;fill-rule:evenodd;stroke:#000000;stroke-width:4.0px;stroke-linecap:butt;stroke-linejoin:miter;stroke-opacity:1\"/>\n",
       "<path class=\"bond-2\" d=\"M 441.189,274.168 L 447.878,286.159\" style=\"fill:none;fill-rule:evenodd;stroke:#0000FF;stroke-width:4.0px;stroke-linecap:butt;stroke-linejoin:miter;stroke-opacity:1\"/>\n",
       "<path class=\"bond-2\" d=\"M 447.878,286.159 L 454.568,298.151\" style=\"fill:none;fill-rule:evenodd;stroke:#000000;stroke-width:4.0px;stroke-linecap:butt;stroke-linejoin:miter;stroke-opacity:1\"/>\n",
       "<path class=\"bond-3\" d=\"M 393.086,266.185 L 392.437,310.197\" style=\"fill:none;fill-rule:evenodd;stroke:#000000;stroke-width:4.0px;stroke-linecap:butt;stroke-linejoin:miter;stroke-opacity:1\"/>\n",
       "<path class=\"bond-4\" d=\"M 393.086,266.185 L 349.075,265.536\" style=\"fill:none;fill-rule:evenodd;stroke:#000000;stroke-width:4.0px;stroke-linecap:butt;stroke-linejoin:miter;stroke-opacity:1\"/>\n",
       "<path class=\"bond-5\" d=\"M 393.086,266.185 L 398.028,229.572 L 389.226,229.442 Z\" style=\"fill:#000000;fill-rule:evenodd;fill-opacity:1;stroke:#000000;stroke-width:4px;stroke-linecap:butt;stroke-linejoin:miter;stroke-opacity:1;\"/>\n",
       "<path class=\"bond-6\" d=\"M 390.18,313.976 L 405.664,323.223\" style=\"fill:none;fill-rule:evenodd;stroke:#000000;stroke-width:4.0px;stroke-linecap:butt;stroke-linejoin:miter;stroke-opacity:1\"/>\n",
       "<path class=\"bond-6\" d=\"M 405.664,323.223 L 421.149,332.47\" style=\"fill:none;fill-rule:evenodd;stroke:#FF0000;stroke-width:4.0px;stroke-linecap:butt;stroke-linejoin:miter;stroke-opacity:1\"/>\n",
       "<path class=\"bond-6\" d=\"M 394.694,306.418 L 410.178,315.665\" style=\"fill:none;fill-rule:evenodd;stroke:#000000;stroke-width:4.0px;stroke-linecap:butt;stroke-linejoin:miter;stroke-opacity:1\"/>\n",
       "<path class=\"bond-6\" d=\"M 410.178,315.665 L 425.662,324.912\" style=\"fill:none;fill-rule:evenodd;stroke:#FF0000;stroke-width:4.0px;stroke-linecap:butt;stroke-linejoin:miter;stroke-opacity:1\"/>\n",
       "<path class=\"bond-7\" d=\"M 392.437,310.197 L 362.875,331.799\" style=\"fill:none;fill-rule:evenodd;stroke:#000000;stroke-width:4.0px;stroke-linecap:butt;stroke-linejoin:miter;stroke-opacity:1\"/>\n",
       "<path class=\"bond-8\" d=\"M 349.075,265.536 L 329.617,265.249\" style=\"fill:none;fill-rule:evenodd;stroke:#000000;stroke-width:4.0px;stroke-linecap:butt;stroke-linejoin:miter;stroke-opacity:1\"/>\n",
       "<path class=\"bond-8\" d=\"M 329.617,265.249 L 310.16,264.962\" style=\"fill:none;fill-rule:evenodd;stroke:#CCCC00;stroke-width:4.0px;stroke-linecap:butt;stroke-linejoin:miter;stroke-opacity:1\"/>\n",
       "<path class=\"bond-9\" d=\"M 349.075,265.536 L 344.076,301.808\" style=\"fill:none;fill-rule:evenodd;stroke:#000000;stroke-width:4.0px;stroke-linecap:butt;stroke-linejoin:miter;stroke-opacity:1\"/>\n",
       "<path class=\"bond-10\" d=\"M 349.075,265.536 L 349.615,228.858\" style=\"fill:none;fill-rule:evenodd;stroke:#000000;stroke-width:4.0px;stroke-linecap:butt;stroke-linejoin:miter;stroke-opacity:1\"/>\n",
       "<path class=\"bond-11\" d=\"M 300.982,257.572 L 292.3,242.009\" style=\"fill:none;fill-rule:evenodd;stroke:#CCCC00;stroke-width:4.0px;stroke-linecap:butt;stroke-linejoin:miter;stroke-opacity:1\"/>\n",
       "<path class=\"bond-11\" d=\"M 292.3,242.009 L 283.619,226.447\" style=\"fill:none;fill-rule:evenodd;stroke:#000000;stroke-width:4.0px;stroke-linecap:butt;stroke-linejoin:miter;stroke-opacity:1\"/>\n",
       "<path class=\"bond-12\" d=\"M 239.607,225.798 L 229.517,211.471\" style=\"fill:none;fill-rule:evenodd;stroke:#000000;stroke-width:4.0px;stroke-linecap:butt;stroke-linejoin:miter;stroke-opacity:1\"/>\n",
       "<path class=\"bond-12\" d=\"M 229.517,211.471 L 219.427,197.144\" style=\"fill:none;fill-rule:evenodd;stroke:#0000FF;stroke-width:4.0px;stroke-linecap:butt;stroke-linejoin:miter;stroke-opacity:1\"/>\n",
       "<path class=\"bond-12\" d=\"M 229.383,226.569 L 222.32,216.54\" style=\"fill:none;fill-rule:evenodd;stroke:#000000;stroke-width:4.0px;stroke-linecap:butt;stroke-linejoin:miter;stroke-opacity:1\"/>\n",
       "<path class=\"bond-12\" d=\"M 222.32,216.54 L 215.257,206.511\" style=\"fill:none;fill-rule:evenodd;stroke:#0000FF;stroke-width:4.0px;stroke-linecap:butt;stroke-linejoin:miter;stroke-opacity:1\"/>\n",
       "<path class=\"bond-13\" d=\"M 239.607,225.798 L 229.184,239.709\" style=\"fill:none;fill-rule:evenodd;stroke:#000000;stroke-width:4.0px;stroke-linecap:butt;stroke-linejoin:miter;stroke-opacity:1\"/>\n",
       "<path class=\"bond-13\" d=\"M 229.184,239.709 L 218.76,253.619\" style=\"fill:none;fill-rule:evenodd;stroke:#FF0000;stroke-width:4.0px;stroke-linecap:butt;stroke-linejoin:miter;stroke-opacity:1\"/>\n",
       "<path class=\"bond-14\" d=\"M 239.607,225.798 L 283.619,226.447\" style=\"fill:none;fill-rule:evenodd;stroke:#000000;stroke-width:4.0px;stroke-linecap:butt;stroke-linejoin:miter;stroke-opacity:1\"/>\n",
       "<path class=\"bond-15\" d=\"M 208.435,191.609 L 190.32,197.201\" style=\"fill:none;fill-rule:evenodd;stroke:#0000FF;stroke-width:4.0px;stroke-linecap:butt;stroke-linejoin:miter;stroke-opacity:1\"/>\n",
       "<path class=\"bond-15\" d=\"M 190.32,197.201 L 172.205,202.793\" style=\"fill:none;fill-rule:evenodd;stroke:#000000;stroke-width:4.0px;stroke-linecap:butt;stroke-linejoin:miter;stroke-opacity:1\"/>\n",
       "<path class=\"bond-16\" d=\"M 172.205,202.793 L 171.556,246.805\" style=\"fill:none;fill-rule:evenodd;stroke:#000000;stroke-width:4.0px;stroke-linecap:butt;stroke-linejoin:miter;stroke-opacity:1\"/>\n",
       "<path class=\"bond-16\" d=\"M 180.91,209.525 L 180.455,240.333\" style=\"fill:none;fill-rule:evenodd;stroke:#000000;stroke-width:4.0px;stroke-linecap:butt;stroke-linejoin:miter;stroke-opacity:1\"/>\n",
       "<path class=\"bond-17\" d=\"M 172.205,202.793 L 136.98,176.399\" style=\"fill:none;fill-rule:evenodd;stroke:#000000;stroke-width:4.0px;stroke-linecap:butt;stroke-linejoin:miter;stroke-opacity:1\"/>\n",
       "<path class=\"bond-18\" d=\"M 171.556,246.805 L 188.973,252.75\" style=\"fill:none;fill-rule:evenodd;stroke:#000000;stroke-width:4.0px;stroke-linecap:butt;stroke-linejoin:miter;stroke-opacity:1\"/>\n",
       "<path class=\"bond-18\" d=\"M 188.973,252.75 L 206.39,258.694\" style=\"fill:none;fill-rule:evenodd;stroke:#FF0000;stroke-width:4.0px;stroke-linecap:butt;stroke-linejoin:miter;stroke-opacity:1\"/>\n",
       "<path class=\"bond-19\" d=\"M 171.556,246.805 L 135.568,272.149\" style=\"fill:none;fill-rule:evenodd;stroke:#000000;stroke-width:4.0px;stroke-linecap:butt;stroke-linejoin:miter;stroke-opacity:1\"/>\n",
       "<path class=\"bond-20\" d=\"M 283.619,226.447 L 292.713,211.219\" style=\"fill:none;fill-rule:evenodd;stroke:#000000;stroke-width:4.0px;stroke-linecap:butt;stroke-linejoin:miter;stroke-opacity:1\"/>\n",
       "<path class=\"bond-20\" d=\"M 292.713,211.219 L 301.808,195.99\" style=\"fill:none;fill-rule:evenodd;stroke:#0000FF;stroke-width:4.0px;stroke-linecap:butt;stroke-linejoin:miter;stroke-opacity:1\"/>\n",
       "<path class=\"bond-20\" d=\"M 293.906,226.392 L 300.272,215.732\" style=\"fill:none;fill-rule:evenodd;stroke:#000000;stroke-width:4.0px;stroke-linecap:butt;stroke-linejoin:miter;stroke-opacity:1\"/>\n",
       "<path class=\"bond-20\" d=\"M 300.272,215.732 L 306.638,205.072\" style=\"fill:none;fill-rule:evenodd;stroke:#0000FF;stroke-width:4.0px;stroke-linecap:butt;stroke-linejoin:miter;stroke-opacity:1\"/>\n",
       "<path class=\"bond-21\" d=\"M 302.096,181.323 L 295.407,169.332\" style=\"fill:none;fill-rule:evenodd;stroke:#0000FF;stroke-width:4.0px;stroke-linecap:butt;stroke-linejoin:miter;stroke-opacity:1\"/>\n",
       "<path class=\"bond-21\" d=\"M 295.407,169.332 L 288.717,157.34\" style=\"fill:none;fill-rule:evenodd;stroke:#000000;stroke-width:4.0px;stroke-linecap:butt;stroke-linejoin:miter;stroke-opacity:1\"/>\n",
       "<path class=\"bond-22\" d=\"M 135.568,272.149 L 155.748,300.804\" style=\"fill:none;fill-rule:evenodd;stroke:#000000;stroke-width:4.0px;stroke-linecap:butt;stroke-linejoin:miter;stroke-opacity:1\"/>\n",
       "<path class=\"bond-23\" d=\"M 135.568,272.149 L 112.003,246.122\" style=\"fill:none;fill-rule:evenodd;stroke:#000000;stroke-width:4.0px;stroke-linecap:butt;stroke-linejoin:miter;stroke-opacity:1\"/>\n",
       "<path class=\"bond-24\" d=\"M 135.568,272.149 L 99.5799,297.494\" style=\"fill:none;fill-rule:evenodd;stroke:#000000;stroke-width:4.0px;stroke-linecap:butt;stroke-linejoin:miter;stroke-opacity:1\"/>\n",
       "<path class=\"bond-25\" d=\"M 136.98,176.399 L 157.88,148.507\" style=\"fill:none;fill-rule:evenodd;stroke:#000000;stroke-width:4.0px;stroke-linecap:butt;stroke-linejoin:miter;stroke-opacity:1\"/>\n",
       "<path class=\"bond-26\" d=\"M 136.98,176.399 L 112.466,201.92\" style=\"fill:none;fill-rule:evenodd;stroke:#000000;stroke-width:4.0px;stroke-linecap:butt;stroke-linejoin:miter;stroke-opacity:1\"/>\n",
       "<path class=\"bond-27\" d=\"M 136.98,176.399 L 107.733,154.483\" style=\"fill:none;fill-rule:evenodd;stroke:#000000;stroke-width:4.0px;stroke-linecap:butt;stroke-linejoin:miter;stroke-opacity:1\"/>\n",
       "<path class=\"bond-28\" d=\"M 99.5799,297.494 L 63.5921,322.838\" style=\"fill:none;fill-rule:evenodd;stroke:#000000;stroke-width:4.0px;stroke-linecap:butt;stroke-linejoin:miter;stroke-opacity:1\"/>\n",
       "<path class=\"bond-29\" d=\"M 99.5799,297.494 L 79.4,268.839\" style=\"fill:none;fill-rule:evenodd;stroke:#000000;stroke-width:4.0px;stroke-linecap:butt;stroke-linejoin:miter;stroke-opacity:1\"/>\n",
       "<path class=\"bond-30\" d=\"M 99.5799,297.494 L 119.76,326.148\" style=\"fill:none;fill-rule:evenodd;stroke:#000000;stroke-width:4.0px;stroke-linecap:butt;stroke-linejoin:miter;stroke-opacity:1\"/>\n",
       "<path class=\"bond-31\" d=\"M 63.5921,322.838 L 83.7721,351.493\" style=\"fill:none;fill-rule:evenodd;stroke:#000000;stroke-width:4.0px;stroke-linecap:butt;stroke-linejoin:miter;stroke-opacity:1\"/>\n",
       "<path class=\"bond-32\" d=\"M 63.5921,322.838 L 43.4122,294.183\" style=\"fill:none;fill-rule:evenodd;stroke:#000000;stroke-width:4.0px;stroke-linecap:butt;stroke-linejoin:miter;stroke-opacity:1\"/>\n",
       "<path class=\"bond-33\" d=\"M 63.5921,322.838 L 33.5818,343.973\" style=\"fill:none;fill-rule:evenodd;stroke:#000000;stroke-width:4.0px;stroke-linecap:butt;stroke-linejoin:miter;stroke-opacity:1\"/>\n",
       "<path class=\"atom-0\" d=\"M 434.343 260.602 L 438.427 267.204 Q 438.832 267.856, 439.484 269.035 Q 440.135 270.215, 440.17 270.285 L 440.17 260.602 L 441.825 260.602 L 441.825 273.067 L 440.118 273.067 L 435.734 265.849 Q 435.223 265.003, 434.677 264.035 Q 434.149 263.067, 433.99 262.767 L 433.99 273.067 L 432.371 273.067 L 432.371 260.602 L 434.343 260.602 \" fill=\"#0000FF\"/>\n",
       "<path class=\"atom-3\" d=\"M 424.506 332.8 Q 424.506 329.807, 425.985 328.135 Q 427.464 326.462, 430.228 326.462 Q 432.992 326.462, 434.471 328.135 Q 435.95 329.807, 435.95 332.8 Q 435.95 335.829, 434.454 337.554 Q 432.957 339.262, 430.228 339.262 Q 427.481 339.262, 425.985 337.554 Q 424.506 335.846, 424.506 332.8 M 430.228 337.854 Q 432.129 337.854, 433.151 336.586 Q 434.189 335.301, 434.189 332.8 Q 434.189 330.353, 433.151 329.121 Q 432.129 327.871, 430.228 327.871 Q 428.326 327.871, 427.288 329.103 Q 426.266 330.336, 426.266 332.8 Q 426.266 335.318, 427.288 336.586 Q 428.326 337.854, 430.228 337.854 \" fill=\"#FF0000\"/>\n",
       "<path class=\"atom-5\" d=\"M 301.541 269.166 Q 301.682 269.218, 302.263 269.465 Q 302.844 269.711, 303.478 269.87 Q 304.13 270.011, 304.763 270.011 Q 305.943 270.011, 306.63 269.447 Q 307.316 268.866, 307.316 267.863 Q 307.316 267.176, 306.964 266.753 Q 306.63 266.331, 306.102 266.102 Q 305.573 265.873, 304.693 265.609 Q 303.584 265.275, 302.915 264.958 Q 302.263 264.641, 301.788 263.972 Q 301.33 263.303, 301.33 262.176 Q 301.33 260.609, 302.387 259.64 Q 303.461 258.672, 305.573 258.672 Q 307.017 258.672, 308.655 259.359 L 308.25 260.714 Q 306.753 260.098, 305.626 260.098 Q 304.411 260.098, 303.742 260.609 Q 303.073 261.102, 303.091 261.964 Q 303.091 262.634, 303.425 263.038 Q 303.777 263.443, 304.27 263.672 Q 304.781 263.901, 305.626 264.165 Q 306.753 264.517, 307.422 264.87 Q 308.091 265.222, 308.566 265.944 Q 309.059 266.648, 309.059 267.863 Q 309.059 269.588, 307.897 270.521 Q 306.753 271.437, 304.834 271.437 Q 303.725 271.437, 302.88 271.19 Q 302.052 270.961, 301.066 270.557 L 301.541 269.166 \" fill=\"#CCCC00\"/>\n",
       "<path class=\"atom-7\" d=\"M 211.508 183.578 L 215.592 190.18 Q 215.997 190.832, 216.649 192.011 Q 217.3 193.191, 217.335 193.261 L 217.335 183.578 L 218.99 183.578 L 218.99 196.043 L 217.282 196.043 L 212.898 188.824 Q 212.388 187.979, 211.842 187.011 Q 211.314 186.043, 211.155 185.743 L 211.155 196.043 L 209.536 196.043 L 209.536 183.578 L 211.508 183.578 \" fill=\"#0000FF\"/>\n",
       "<path class=\"atom-10\" d=\"M 207.49 261.058 Q 207.49 258.065, 208.969 256.392 Q 210.448 254.72, 213.213 254.72 Q 215.977 254.72, 217.456 256.392 Q 218.935 258.065, 218.935 261.058 Q 218.935 264.086, 217.438 265.812 Q 215.942 267.52, 213.213 267.52 Q 210.466 267.52, 208.969 265.812 Q 207.49 264.104, 207.49 261.058 M 213.213 266.111 Q 215.114 266.111, 216.135 264.844 Q 217.174 263.558, 217.174 261.058 Q 217.174 258.611, 216.135 257.378 Q 215.114 256.128, 213.213 256.128 Q 211.311 256.128, 210.272 257.361 Q 209.251 258.593, 209.251 261.058 Q 209.251 263.576, 210.272 264.844 Q 211.311 266.111, 213.213 266.111 \" fill=\"#FF0000\"/>\n",
       "<path class=\"atom-12\" d=\"M 303.432 182.424 L 307.516 189.026 Q 307.921 189.678, 308.573 190.857 Q 309.224 192.037, 309.259 192.107 L 309.259 182.424 L 310.914 182.424 L 310.914 194.889 L 309.207 194.889 L 304.823 187.671 Q 304.312 186.825, 303.766 185.857 Q 303.238 184.889, 303.08 184.589 L 303.08 194.889 L 301.46 194.889 L 301.46 182.424 L 303.432 182.424 \" fill=\"#0000FF\"/>\n",
       "<path class=\"atom-17\" d=\"M 454.789 222.811 L 456.479 222.811 L 456.479 228.111 L 462.853 228.111 L 462.853 222.811 L 464.543 222.811 L 464.543 235.277 L 462.853 235.277 L 462.853 229.519 L 456.479 229.519 L 456.479 235.277 L 454.789 235.277 L 454.789 222.811 \" fill=\"#000000\"/>\n",
       "<path class=\"atom-18\" d=\"M 388.858 215.941 L 390.549 215.941 L 390.549 221.241 L 396.922 221.241 L 396.922 215.941 L 398.612 215.941 L 398.612 228.406 L 396.922 228.406 L 396.922 222.649 L 390.549 222.649 L 390.549 228.406 L 388.858 228.406 L 388.858 215.941 \" fill=\"#000000\"/>\n",
       "<path class=\"atom-19\" d=\"M 338.188 302.908 L 339.879 302.908 L 339.879 308.208 L 346.252 308.208 L 346.252 302.908 L 347.942 302.908 L 347.942 315.374 L 346.252 315.374 L 346.252 309.616 L 339.879 309.616 L 339.879 315.374 L 338.188 315.374 L 338.188 302.908 \" fill=\"#000000\"/>\n",
       "<path class=\"atom-20\" d=\"M 344.847 215.292 L 346.537 215.292 L 346.537 220.591 L 352.91 220.591 L 352.91 215.292 L 354.601 215.292 L 354.601 227.757 L 352.91 227.757 L 352.91 222 L 346.537 222 L 346.537 227.757 L 344.847 227.757 L 344.847 215.292 \" fill=\"#000000\"/>\n",
       "<path class=\"atom-21\" d=\"M 156.035 301.905 L 157.725 301.905 L 157.725 307.204 L 164.099 307.204 L 164.099 301.905 L 165.789 301.905 L 165.789 314.37 L 164.099 314.37 L 164.099 308.613 L 157.725 308.613 L 157.725 314.37 L 156.035 314.37 L 156.035 301.905 \" fill=\"#000000\"/>\n",
       "<path class=\"atom-22\" d=\"M 101.149 233.287 L 102.839 233.287 L 102.839 238.586 L 109.212 238.586 L 109.212 233.287 L 110.903 233.287 L 110.903 245.752 L 109.212 245.752 L 109.212 239.995 L 102.839 239.995 L 102.839 245.752 L 101.149 245.752 L 101.149 233.287 \" fill=\"#000000\"/>\n",
       "<path class=\"atom-23\" d=\"M 158.498 134.941 L 160.188 134.941 L 160.188 140.241 L 166.561 140.241 L 166.561 134.941 L 168.252 134.941 L 168.252 147.407 L 166.561 147.407 L 166.561 141.649 L 160.188 141.649 L 160.188 147.407 L 158.498 147.407 L 158.498 134.941 \" fill=\"#000000\"/>\n",
       "<path class=\"atom-24\" d=\"M 101.611 201.911 L 103.302 201.911 L 103.302 207.21 L 109.675 207.21 L 109.675 201.911 L 111.365 201.911 L 111.365 214.376 L 109.675 214.376 L 109.675 208.619 L 103.302 208.619 L 103.302 214.376 L 101.611 214.376 L 101.611 201.911 \" fill=\"#000000\"/>\n",
       "<path class=\"atom-25\" d=\"M 96.8782 143.771 L 98.5684 143.771 L 98.5684 149.071 L 104.942 149.071 L 104.942 143.771 L 106.632 143.771 L 106.632 156.237 L 104.942 156.237 L 104.942 150.48 L 98.5684 150.48 L 98.5684 156.237 L 96.8782 156.237 L 96.8782 143.771 \" fill=\"#000000\"/>\n",
       "<path class=\"atom-26\" d=\"M 279.866 143.984 L 281.557 143.984 L 281.557 149.284 L 287.93 149.284 L 287.93 143.984 L 289.62 143.984 L 289.62 156.449 L 287.93 156.449 L 287.93 150.692 L 281.557 150.692 L 281.557 156.449 L 279.866 156.449 L 279.866 143.984 \" fill=\"#000000\"/>\n",
       "<path class=\"atom-27\" d=\"M 69.3586 255.273 L 71.0488 255.273 L 71.0488 260.573 L 77.4224 260.573 L 77.4224 255.273 L 79.1127 255.273 L 79.1127 267.739 L 77.4224 267.739 L 77.4224 261.981 L 71.0488 261.981 L 71.0488 267.739 L 69.3586 267.739 L 69.3586 255.273 \" fill=\"#000000\"/>\n",
       "<path class=\"atom-28\" d=\"M 120.047 327.249 L 121.737 327.249 L 121.737 332.548 L 128.111 332.548 L 128.111 327.249 L 129.801 327.249 L 129.801 339.714 L 128.111 339.714 L 128.111 333.957 L 121.737 333.957 L 121.737 339.714 L 120.047 339.714 L 120.047 327.249 \" fill=\"#000000\"/>\n",
       "<path class=\"atom-29\" d=\"M 84.0594 352.593 L 85.7496 352.593 L 85.7496 357.893 L 92.1232 357.893 L 92.1232 352.593 L 93.8135 352.593 L 93.8135 365.059 L 92.1232 365.059 L 92.1232 359.301 L 85.7496 359.301 L 85.7496 365.059 L 84.0594 365.059 L 84.0594 352.593 \" fill=\"#000000\"/>\n",
       "<path class=\"atom-30\" d=\"M 33.3708 280.618 L 35.061 280.618 L 35.061 285.917 L 41.4346 285.917 L 41.4346 280.618 L 43.1248 280.618 L 43.1248 293.083 L 41.4346 293.083 L 41.4346 287.326 L 35.061 287.326 L 35.061 293.083 L 33.3708 293.083 L 33.3708 280.618 \" fill=\"#000000\"/>\n",
       "<path class=\"atom-31\" d=\"M 22.7273 341.95 L 24.4175 341.95 L 24.4175 347.249 L 30.7911 347.249 L 30.7911 341.95 L 32.4813 341.95 L 32.4813 354.415 L 30.7911 354.415 L 30.7911 348.658 L 24.4175 348.658 L 24.4175 354.415 L 22.7273 354.415 L 22.7273 341.95 \" fill=\"#000000\"/>\n",
       "<path class=\"atom-32\" d=\"M 453.665 299.042 L 455.355 299.042 L 455.355 304.341 L 461.729 304.341 L 461.729 299.042 L 463.419 299.042 L 463.419 311.507 L 461.729 311.507 L 461.729 305.75 L 455.355 305.75 L 455.355 311.507 L 453.665 311.507 L 453.665 299.042 \" fill=\"#000000\"/>\n",
       "<path class=\"atom-33\" d=\"M 352.021 329.934 L 353.711 329.934 L 353.711 335.234 L 360.085 335.234 L 360.085 329.934 L 361.775 329.934 L 361.775 342.399 L 360.085 342.399 L 360.085 336.642 L 353.711 336.642 L 353.711 342.399 L 352.021 342.399 L 352.021 329.934 \" fill=\"#000000\"/>\n",
       "</svg>"
      ],
      "text/plain": [
       "<IPython.core.display.SVG object>"
      ]
     },
     "metadata": {},
     "output_type": "display_data"
    }
   ],
   "source": [
    "display(rotamer_library)"
   ]
  },
  {
   "cell_type": "code",
   "execution_count": 17,
   "metadata": {},
   "outputs": [],
   "source": [
    "openff = OpenForceField('openff_unconstrained-1.2.1.offxml')"
   ]
  },
  {
   "cell_type": "code",
   "execution_count": 18,
   "metadata": {},
   "outputs": [],
   "source": [
    "parameters = openff.parameterize(molecule)"
   ]
  },
  {
   "cell_type": "code",
   "execution_count": 19,
   "metadata": {},
   "outputs": [],
   "source": [
    "topology = Topology(molecule, parameters)"
   ]
  },
  {
   "cell_type": "code",
   "execution_count": 20,
   "metadata": {},
   "outputs": [],
   "source": [
    "impact_template = Impact(topology)"
   ]
  },
  {
   "cell_type": "code",
   "execution_count": 21,
   "metadata": {},
   "outputs": [],
   "source": [
    "impact_template.to_file(molecule.tag.lower() + 'z')"
   ]
  },
  {
   "cell_type": "markdown",
   "metadata": {},
   "source": [
    "## Parameterize with `OPLS2005`"
   ]
  },
  {
   "cell_type": "markdown",
   "metadata": {},
   "source": [
    "To indicate the path to the Schrodinger's installation, `peleffy` needs the following environment variable to be set. This is the regular installation path of Schrodinger in `macOS`."
   ]
  },
  {
   "cell_type": "code",
   "execution_count": 22,
   "metadata": {},
   "outputs": [],
   "source": [
    "import os\n",
    "os.environ['SCHRODINGER'] = '/opt/schrodinger/suites2020-2/'"
   ]
  },
  {
   "cell_type": "code",
   "execution_count": 23,
   "metadata": {},
   "outputs": [
    {
     "name": "stderr",
     "output_type": "stream",
     "text": [
      " - Initializing molecule from PDB\n",
      "   - Loading molecule from RDKit\n",
      "   - Assigning stereochemistry from 3D coordinates\n",
      "   - Setting molecule name to 'modified_sidechain'\n",
      "   - Representing molecule with the Open Force Field Toolkit\n",
      " - Generating rotamer library\n",
      "   - Core forced to contain atoms: CA, C, N\n"
     ]
    }
   ],
   "source": [
    "ligand_path = get_data_file_path('ligands/modified_sidechain.pdb')\n",
    "molecule = Molecule(ligand_path, tag='GRW',\n",
    "                    core_constraints=[' CA ', ' C  ', ' N  '],\n",
    "                    exclude_terminal_rotamers=True)"
   ]
  },
  {
   "cell_type": "code",
   "execution_count": 24,
   "metadata": {},
   "outputs": [
    {
     "data": {
      "image/png": "[encoded data removed]",
      "text/plain": [
       "<rdkit.Chem.rdchem.Mol at 0x7f8d2f0ed490>"
      ]
     },
     "metadata": {},
     "output_type": "display_data"
    }
   ],
   "source": [
    "display(molecule)"
   ]
  },
  {
   "cell_type": "code",
   "execution_count": 25,
   "metadata": {},
   "outputs": [],
   "source": [
    "rotamer_library = RotamerLibrary(molecule)"
   ]
  },
  {
   "cell_type": "code",
   "execution_count": 26,
   "metadata": {},
   "outputs": [],
   "source": [
    "rotamer_library.to_file(molecule.tag.upper() + '.rot.assign')"
   ]
  },
  {
   "cell_type": "code",
   "execution_count": 27,
   "metadata": {},
   "outputs": [
    {
     "data": {
      "image/svg+xml": [
       "<svg baseProfile=\"full\" height=\"500px\" version=\"1.1\" viewBox=\"0 0 500 500\" width=\"500px\" xml:space=\"preserve\" xmlns=\"http://www.w3.org/2000/svg\" xmlns:rdkit=\"http://www.rdkit.org/xml\" xmlns:xlink=\"http://www.w3.org/1999/xlink\">\n",
       "<!-- END OF HEADER -->\n",
       "<rect height=\"500\" style=\"opacity:1.0;fill:#FFFFFF;stroke:none\" width=\"500\" x=\"0\" y=\"0\"> </rect>\n",
       "<path d=\"M 393.086,266.185 L 349.075,265.536\" style=\"fill:none;fill-rule:evenodd;stroke:#52D7FF;stroke-width:18.8px;stroke-linecap:butt;stroke-linejoin:miter;stroke-opacity:1\"/>\n",
       "<path d=\"M 349.075,265.536 L 305.063,264.887\" style=\"fill:none;fill-rule:evenodd;stroke:#52D7FF;stroke-width:18.8px;stroke-linecap:butt;stroke-linejoin:miter;stroke-opacity:1\"/>\n",
       "<path d=\"M 305.063,264.887 L 283.619,226.447\" style=\"fill:none;fill-rule:evenodd;stroke:#52D7FF;stroke-width:18.8px;stroke-linecap:butt;stroke-linejoin:miter;stroke-opacity:1\"/>\n",
       "<path d=\"M 239.607,225.798 L 283.619,226.447\" style=\"fill:none;fill-rule:evenodd;stroke:#52D7FF;stroke-width:18.8px;stroke-linecap:butt;stroke-linejoin:miter;stroke-opacity:1\"/>\n",
       "<path d=\"M 171.556,246.805 L 135.568,272.149\" style=\"fill:none;fill-rule:evenodd;stroke:#52D7FF;stroke-width:18.8px;stroke-linecap:butt;stroke-linejoin:miter;stroke-opacity:1\"/>\n",
       "<path d=\"M 135.568,272.149 L 99.5799,297.494\" style=\"fill:none;fill-rule:evenodd;stroke:#52D7FF;stroke-width:18.8px;stroke-linecap:butt;stroke-linejoin:miter;stroke-opacity:1\"/>\n",
       "<ellipse cx=\"437.098\" cy=\"266.835\" rx=\"17.6066\" ry=\"17.6066\" style=\"fill:#FFF385;fill-rule:evenodd;stroke:#FFF385;stroke-width:1px;stroke-linecap:butt;stroke-linejoin:miter;stroke-opacity:1\"/>\n",
       "<ellipse cx=\"393.086\" cy=\"266.185\" rx=\"17.6066\" ry=\"17.6066\" style=\"fill:#FFF385;fill-rule:evenodd;stroke:#FFF385;stroke-width:1px;stroke-linecap:butt;stroke-linejoin:miter;stroke-opacity:1\"/>\n",
       "<ellipse cx=\"392.437\" cy=\"310.197\" rx=\"17.6066\" ry=\"17.6066\" style=\"fill:#FFF385;fill-rule:evenodd;stroke:#FFF385;stroke-width:1px;stroke-linecap:butt;stroke-linejoin:miter;stroke-opacity:1\"/>\n",
       "<ellipse cx=\"430.228\" cy=\"332.862\" rx=\"17.6066\" ry=\"17.6066\" style=\"fill:#FFF385;fill-rule:evenodd;stroke:#FFF385;stroke-width:1px;stroke-linecap:butt;stroke-linejoin:miter;stroke-opacity:1\"/>\n",
       "<ellipse cx=\"459.666\" cy=\"229.044\" rx=\"17.6066\" ry=\"17.6066\" style=\"fill:#FFF385;fill-rule:evenodd;stroke:#FFF385;stroke-width:1px;stroke-linecap:butt;stroke-linejoin:miter;stroke-opacity:1\"/>\n",
       "<ellipse cx=\"393.735\" cy=\"222.174\" rx=\"17.6066\" ry=\"17.6066\" style=\"fill:#FFF385;fill-rule:evenodd;stroke:#FFF385;stroke-width:1px;stroke-linecap:butt;stroke-linejoin:miter;stroke-opacity:1\"/>\n",
       "<ellipse cx=\"458.542\" cy=\"305.274\" rx=\"17.6066\" ry=\"17.6066\" style=\"fill:#FFF385;fill-rule:evenodd;stroke:#FFF385;stroke-width:1px;stroke-linecap:butt;stroke-linejoin:miter;stroke-opacity:1\"/>\n",
       "<ellipse cx=\"356.898\" cy=\"336.167\" rx=\"17.6066\" ry=\"17.6066\" style=\"fill:#FFF385;fill-rule:evenodd;stroke:#FFF385;stroke-width:1px;stroke-linecap:butt;stroke-linejoin:miter;stroke-opacity:1\"/>\n",
       "<path class=\"bond-0\" d=\"M 431.27,266.749 L 412.178,266.467\" style=\"fill:none;fill-rule:evenodd;stroke:#0000FF;stroke-width:4.0px;stroke-linecap:butt;stroke-linejoin:miter;stroke-opacity:1\"/>\n",
       "<path class=\"bond-0\" d=\"M 412.178,266.467 L 393.086,266.185\" style=\"fill:none;fill-rule:evenodd;stroke:#000000;stroke-width:4.0px;stroke-linecap:butt;stroke-linejoin:miter;stroke-opacity:1\"/>\n",
       "<path class=\"bond-1\" d=\"M 441.477,259.501 L 448.446,247.832\" style=\"fill:none;fill-rule:evenodd;stroke:#0000FF;stroke-width:4.0px;stroke-linecap:butt;stroke-linejoin:miter;stroke-opacity:1\"/>\n",
       "<path class=\"bond-1\" d=\"M 448.446,247.832 L 455.414,236.163\" style=\"fill:none;fill-rule:evenodd;stroke:#000000;stroke-width:4.0px;stroke-linecap:butt;stroke-linejoin:miter;stroke-opacity:1\"/>\n",
       "<path class=\"bond-2\" d=\"M 441.189,274.168 L 447.878,286.159\" style=\"fill:none;fill-rule:evenodd;stroke:#0000FF;stroke-width:4.0px;stroke-linecap:butt;stroke-linejoin:miter;stroke-opacity:1\"/>\n",
       "<path class=\"bond-2\" d=\"M 447.878,286.159 L 454.568,298.151\" style=\"fill:none;fill-rule:evenodd;stroke:#000000;stroke-width:4.0px;stroke-linecap:butt;stroke-linejoin:miter;stroke-opacity:1\"/>\n",
       "<path class=\"bond-3\" d=\"M 393.086,266.185 L 392.437,310.197\" style=\"fill:none;fill-rule:evenodd;stroke:#000000;stroke-width:4.0px;stroke-linecap:butt;stroke-linejoin:miter;stroke-opacity:1\"/>\n",
       "<path class=\"bond-4\" d=\"M 393.086,266.185 L 349.075,265.536\" style=\"fill:none;fill-rule:evenodd;stroke:#000000;stroke-width:4.0px;stroke-linecap:butt;stroke-linejoin:miter;stroke-opacity:1\"/>\n",
       "<path class=\"bond-5\" d=\"M 393.086,266.185 L 398.028,229.572 L 389.226,229.442 Z\" style=\"fill:#000000;fill-rule:evenodd;fill-opacity:1;stroke:#000000;stroke-width:4px;stroke-linecap:butt;stroke-linejoin:miter;stroke-opacity:1;\"/>\n",
       "<path class=\"bond-6\" d=\"M 390.18,313.976 L 405.664,323.223\" style=\"fill:none;fill-rule:evenodd;stroke:#000000;stroke-width:4.0px;stroke-linecap:butt;stroke-linejoin:miter;stroke-opacity:1\"/>\n",
       "<path class=\"bond-6\" d=\"M 405.664,323.223 L 421.149,332.47\" style=\"fill:none;fill-rule:evenodd;stroke:#FF0000;stroke-width:4.0px;stroke-linecap:butt;stroke-linejoin:miter;stroke-opacity:1\"/>\n",
       "<path class=\"bond-6\" d=\"M 394.694,306.418 L 410.178,315.665\" style=\"fill:none;fill-rule:evenodd;stroke:#000000;stroke-width:4.0px;stroke-linecap:butt;stroke-linejoin:miter;stroke-opacity:1\"/>\n",
       "<path class=\"bond-6\" d=\"M 410.178,315.665 L 425.662,324.912\" style=\"fill:none;fill-rule:evenodd;stroke:#FF0000;stroke-width:4.0px;stroke-linecap:butt;stroke-linejoin:miter;stroke-opacity:1\"/>\n",
       "<path class=\"bond-7\" d=\"M 392.437,310.197 L 362.875,331.799\" style=\"fill:none;fill-rule:evenodd;stroke:#000000;stroke-width:4.0px;stroke-linecap:butt;stroke-linejoin:miter;stroke-opacity:1\"/>\n",
       "<path class=\"bond-8\" d=\"M 349.075,265.536 L 329.617,265.249\" style=\"fill:none;fill-rule:evenodd;stroke:#000000;stroke-width:4.0px;stroke-linecap:butt;stroke-linejoin:miter;stroke-opacity:1\"/>\n",
       "<path class=\"bond-8\" d=\"M 329.617,265.249 L 310.16,264.962\" style=\"fill:none;fill-rule:evenodd;stroke:#CCCC00;stroke-width:4.0px;stroke-linecap:butt;stroke-linejoin:miter;stroke-opacity:1\"/>\n",
       "<path class=\"bond-9\" d=\"M 349.075,265.536 L 344.076,301.808\" style=\"fill:none;fill-rule:evenodd;stroke:#000000;stroke-width:4.0px;stroke-linecap:butt;stroke-linejoin:miter;stroke-opacity:1\"/>\n",
       "<path class=\"bond-10\" d=\"M 349.075,265.536 L 349.615,228.858\" style=\"fill:none;fill-rule:evenodd;stroke:#000000;stroke-width:4.0px;stroke-linecap:butt;stroke-linejoin:miter;stroke-opacity:1\"/>\n",
       "<path class=\"bond-11\" d=\"M 300.982,257.572 L 292.3,242.009\" style=\"fill:none;fill-rule:evenodd;stroke:#CCCC00;stroke-width:4.0px;stroke-linecap:butt;stroke-linejoin:miter;stroke-opacity:1\"/>\n",
       "<path class=\"bond-11\" d=\"M 292.3,242.009 L 283.619,226.447\" style=\"fill:none;fill-rule:evenodd;stroke:#000000;stroke-width:4.0px;stroke-linecap:butt;stroke-linejoin:miter;stroke-opacity:1\"/>\n",
       "<path class=\"bond-12\" d=\"M 239.607,225.798 L 229.517,211.471\" style=\"fill:none;fill-rule:evenodd;stroke:#000000;stroke-width:4.0px;stroke-linecap:butt;stroke-linejoin:miter;stroke-opacity:1\"/>\n",
       "<path class=\"bond-12\" d=\"M 229.517,211.471 L 219.427,197.144\" style=\"fill:none;fill-rule:evenodd;stroke:#0000FF;stroke-width:4.0px;stroke-linecap:butt;stroke-linejoin:miter;stroke-opacity:1\"/>\n",
       "<path class=\"bond-12\" d=\"M 229.383,226.569 L 222.32,216.54\" style=\"fill:none;fill-rule:evenodd;stroke:#000000;stroke-width:4.0px;stroke-linecap:butt;stroke-linejoin:miter;stroke-opacity:1\"/>\n",
       "<path class=\"bond-12\" d=\"M 222.32,216.54 L 215.257,206.511\" style=\"fill:none;fill-rule:evenodd;stroke:#0000FF;stroke-width:4.0px;stroke-linecap:butt;stroke-linejoin:miter;stroke-opacity:1\"/>\n",
       "<path class=\"bond-13\" d=\"M 239.607,225.798 L 229.184,239.709\" style=\"fill:none;fill-rule:evenodd;stroke:#000000;stroke-width:4.0px;stroke-linecap:butt;stroke-linejoin:miter;stroke-opacity:1\"/>\n",
       "<path class=\"bond-13\" d=\"M 229.184,239.709 L 218.76,253.619\" style=\"fill:none;fill-rule:evenodd;stroke:#FF0000;stroke-width:4.0px;stroke-linecap:butt;stroke-linejoin:miter;stroke-opacity:1\"/>\n",
       "<path class=\"bond-14\" d=\"M 239.607,225.798 L 283.619,226.447\" style=\"fill:none;fill-rule:evenodd;stroke:#000000;stroke-width:4.0px;stroke-linecap:butt;stroke-linejoin:miter;stroke-opacity:1\"/>\n",
       "<path class=\"bond-15\" d=\"M 208.435,191.609 L 190.32,197.201\" style=\"fill:none;fill-rule:evenodd;stroke:#0000FF;stroke-width:4.0px;stroke-linecap:butt;stroke-linejoin:miter;stroke-opacity:1\"/>\n",
       "<path class=\"bond-15\" d=\"M 190.32,197.201 L 172.205,202.793\" style=\"fill:none;fill-rule:evenodd;stroke:#000000;stroke-width:4.0px;stroke-linecap:butt;stroke-linejoin:miter;stroke-opacity:1\"/>\n",
       "<path class=\"bond-16\" d=\"M 172.205,202.793 L 171.556,246.805\" style=\"fill:none;fill-rule:evenodd;stroke:#000000;stroke-width:4.0px;stroke-linecap:butt;stroke-linejoin:miter;stroke-opacity:1\"/>\n",
       "<path class=\"bond-16\" d=\"M 180.91,209.525 L 180.455,240.333\" style=\"fill:none;fill-rule:evenodd;stroke:#000000;stroke-width:4.0px;stroke-linecap:butt;stroke-linejoin:miter;stroke-opacity:1\"/>\n",
       "<path class=\"bond-17\" d=\"M 172.205,202.793 L 136.98,176.399\" style=\"fill:none;fill-rule:evenodd;stroke:#000000;stroke-width:4.0px;stroke-linecap:butt;stroke-linejoin:miter;stroke-opacity:1\"/>\n",
       "<path class=\"bond-18\" d=\"M 171.556,246.805 L 188.973,252.75\" style=\"fill:none;fill-rule:evenodd;stroke:#000000;stroke-width:4.0px;stroke-linecap:butt;stroke-linejoin:miter;stroke-opacity:1\"/>\n",
       "<path class=\"bond-18\" d=\"M 188.973,252.75 L 206.39,258.694\" style=\"fill:none;fill-rule:evenodd;stroke:#FF0000;stroke-width:4.0px;stroke-linecap:butt;stroke-linejoin:miter;stroke-opacity:1\"/>\n",
       "<path class=\"bond-19\" d=\"M 171.556,246.805 L 135.568,272.149\" style=\"fill:none;fill-rule:evenodd;stroke:#000000;stroke-width:4.0px;stroke-linecap:butt;stroke-linejoin:miter;stroke-opacity:1\"/>\n",
       "<path class=\"bond-20\" d=\"M 283.619,226.447 L 292.713,211.219\" style=\"fill:none;fill-rule:evenodd;stroke:#000000;stroke-width:4.0px;stroke-linecap:butt;stroke-linejoin:miter;stroke-opacity:1\"/>\n",
       "<path class=\"bond-20\" d=\"M 292.713,211.219 L 301.808,195.99\" style=\"fill:none;fill-rule:evenodd;stroke:#0000FF;stroke-width:4.0px;stroke-linecap:butt;stroke-linejoin:miter;stroke-opacity:1\"/>\n",
       "<path class=\"bond-20\" d=\"M 293.906,226.392 L 300.272,215.732\" style=\"fill:none;fill-rule:evenodd;stroke:#000000;stroke-width:4.0px;stroke-linecap:butt;stroke-linejoin:miter;stroke-opacity:1\"/>\n",
       "<path class=\"bond-20\" d=\"M 300.272,215.732 L 306.638,205.072\" style=\"fill:none;fill-rule:evenodd;stroke:#0000FF;stroke-width:4.0px;stroke-linecap:butt;stroke-linejoin:miter;stroke-opacity:1\"/>\n",
       "<path class=\"bond-21\" d=\"M 302.096,181.323 L 295.407,169.332\" style=\"fill:none;fill-rule:evenodd;stroke:#0000FF;stroke-width:4.0px;stroke-linecap:butt;stroke-linejoin:miter;stroke-opacity:1\"/>\n",
       "<path class=\"bond-21\" d=\"M 295.407,169.332 L 288.717,157.34\" style=\"fill:none;fill-rule:evenodd;stroke:#000000;stroke-width:4.0px;stroke-linecap:butt;stroke-linejoin:miter;stroke-opacity:1\"/>\n",
       "<path class=\"bond-22\" d=\"M 135.568,272.149 L 155.748,300.804\" style=\"fill:none;fill-rule:evenodd;stroke:#000000;stroke-width:4.0px;stroke-linecap:butt;stroke-linejoin:miter;stroke-opacity:1\"/>\n",
       "<path class=\"bond-23\" d=\"M 135.568,272.149 L 112.003,246.122\" style=\"fill:none;fill-rule:evenodd;stroke:#000000;stroke-width:4.0px;stroke-linecap:butt;stroke-linejoin:miter;stroke-opacity:1\"/>\n",
       "<path class=\"bond-24\" d=\"M 135.568,272.149 L 99.5799,297.494\" style=\"fill:none;fill-rule:evenodd;stroke:#000000;stroke-width:4.0px;stroke-linecap:butt;stroke-linejoin:miter;stroke-opacity:1\"/>\n",
       "<path class=\"bond-25\" d=\"M 136.98,176.399 L 157.88,148.507\" style=\"fill:none;fill-rule:evenodd;stroke:#000000;stroke-width:4.0px;stroke-linecap:butt;stroke-linejoin:miter;stroke-opacity:1\"/>\n",
       "<path class=\"bond-26\" d=\"M 136.98,176.399 L 112.466,201.92\" style=\"fill:none;fill-rule:evenodd;stroke:#000000;stroke-width:4.0px;stroke-linecap:butt;stroke-linejoin:miter;stroke-opacity:1\"/>\n",
       "<path class=\"bond-27\" d=\"M 136.98,176.399 L 107.733,154.483\" style=\"fill:none;fill-rule:evenodd;stroke:#000000;stroke-width:4.0px;stroke-linecap:butt;stroke-linejoin:miter;stroke-opacity:1\"/>\n",
       "<path class=\"bond-28\" d=\"M 99.5799,297.494 L 63.5921,322.838\" style=\"fill:none;fill-rule:evenodd;stroke:#000000;stroke-width:4.0px;stroke-linecap:butt;stroke-linejoin:miter;stroke-opacity:1\"/>\n",
       "<path class=\"bond-29\" d=\"M 99.5799,297.494 L 79.4,268.839\" style=\"fill:none;fill-rule:evenodd;stroke:#000000;stroke-width:4.0px;stroke-linecap:butt;stroke-linejoin:miter;stroke-opacity:1\"/>\n",
       "<path class=\"bond-30\" d=\"M 99.5799,297.494 L 119.76,326.148\" style=\"fill:none;fill-rule:evenodd;stroke:#000000;stroke-width:4.0px;stroke-linecap:butt;stroke-linejoin:miter;stroke-opacity:1\"/>\n",
       "<path class=\"bond-31\" d=\"M 63.5921,322.838 L 83.7721,351.493\" style=\"fill:none;fill-rule:evenodd;stroke:#000000;stroke-width:4.0px;stroke-linecap:butt;stroke-linejoin:miter;stroke-opacity:1\"/>\n",
       "<path class=\"bond-32\" d=\"M 63.5921,322.838 L 43.4122,294.183\" style=\"fill:none;fill-rule:evenodd;stroke:#000000;stroke-width:4.0px;stroke-linecap:butt;stroke-linejoin:miter;stroke-opacity:1\"/>\n",
       "<path class=\"bond-33\" d=\"M 63.5921,322.838 L 33.5818,343.973\" style=\"fill:none;fill-rule:evenodd;stroke:#000000;stroke-width:4.0px;stroke-linecap:butt;stroke-linejoin:miter;stroke-opacity:1\"/>\n",
       "<path class=\"atom-0\" d=\"M 434.343 260.602 L 438.427 267.204 Q 438.832 267.856, 439.484 269.035 Q 440.135 270.215, 440.17 270.285 L 440.17 260.602 L 441.825 260.602 L 441.825 273.067 L 440.118 273.067 L 435.734 265.849 Q 435.223 265.003, 434.677 264.035 Q 434.149 263.067, 433.99 262.767 L 433.99 273.067 L 432.371 273.067 L 432.371 260.602 L 434.343 260.602 \" fill=\"#0000FF\"/>\n",
       "<path class=\"atom-3\" d=\"M 424.506 332.8 Q 424.506 329.807, 425.985 328.135 Q 427.464 326.462, 430.228 326.462 Q 432.992 326.462, 434.471 328.135 Q 435.95 329.807, 435.95 332.8 Q 435.95 335.829, 434.454 337.554 Q 432.957 339.262, 430.228 339.262 Q 427.481 339.262, 425.985 337.554 Q 424.506 335.846, 424.506 332.8 M 430.228 337.854 Q 432.129 337.854, 433.151 336.586 Q 434.189 335.301, 434.189 332.8 Q 434.189 330.353, 433.151 329.121 Q 432.129 327.871, 430.228 327.871 Q 428.326 327.871, 427.288 329.103 Q 426.266 330.336, 426.266 332.8 Q 426.266 335.318, 427.288 336.586 Q 428.326 337.854, 430.228 337.854 \" fill=\"#FF0000\"/>\n",
       "<path class=\"atom-5\" d=\"M 301.541 269.166 Q 301.682 269.218, 302.263 269.465 Q 302.844 269.711, 303.478 269.87 Q 304.13 270.011, 304.763 270.011 Q 305.943 270.011, 306.63 269.447 Q 307.316 268.866, 307.316 267.863 Q 307.316 267.176, 306.964 266.753 Q 306.63 266.331, 306.102 266.102 Q 305.573 265.873, 304.693 265.609 Q 303.584 265.275, 302.915 264.958 Q 302.263 264.641, 301.788 263.972 Q 301.33 263.303, 301.33 262.176 Q 301.33 260.609, 302.387 259.64 Q 303.461 258.672, 305.573 258.672 Q 307.017 258.672, 308.655 259.359 L 308.25 260.714 Q 306.753 260.098, 305.626 260.098 Q 304.411 260.098, 303.742 260.609 Q 303.073 261.102, 303.091 261.964 Q 303.091 262.634, 303.425 263.038 Q 303.777 263.443, 304.27 263.672 Q 304.781 263.901, 305.626 264.165 Q 306.753 264.517, 307.422 264.87 Q 308.091 265.222, 308.566 265.944 Q 309.059 266.648, 309.059 267.863 Q 309.059 269.588, 307.897 270.521 Q 306.753 271.437, 304.834 271.437 Q 303.725 271.437, 302.88 271.19 Q 302.052 270.961, 301.066 270.557 L 301.541 269.166 \" fill=\"#CCCC00\"/>\n",
       "<path class=\"atom-7\" d=\"M 211.508 183.578 L 215.592 190.18 Q 215.997 190.832, 216.649 192.011 Q 217.3 193.191, 217.335 193.261 L 217.335 183.578 L 218.99 183.578 L 218.99 196.043 L 217.282 196.043 L 212.898 188.824 Q 212.388 187.979, 211.842 187.011 Q 211.314 186.043, 211.155 185.743 L 211.155 196.043 L 209.536 196.043 L 209.536 183.578 L 211.508 183.578 \" fill=\"#0000FF\"/>\n",
       "<path class=\"atom-10\" d=\"M 207.49 261.058 Q 207.49 258.065, 208.969 256.392 Q 210.448 254.72, 213.213 254.72 Q 215.977 254.72, 217.456 256.392 Q 218.935 258.065, 218.935 261.058 Q 218.935 264.086, 217.438 265.812 Q 215.942 267.52, 213.213 267.52 Q 210.466 267.52, 208.969 265.812 Q 207.49 264.104, 207.49 261.058 M 213.213 266.111 Q 215.114 266.111, 216.135 264.844 Q 217.174 263.558, 217.174 261.058 Q 217.174 258.611, 216.135 257.378 Q 215.114 256.128, 213.213 256.128 Q 211.311 256.128, 210.272 257.361 Q 209.251 258.593, 209.251 261.058 Q 209.251 263.576, 210.272 264.844 Q 211.311 266.111, 213.213 266.111 \" fill=\"#FF0000\"/>\n",
       "<path class=\"atom-12\" d=\"M 303.432 182.424 L 307.516 189.026 Q 307.921 189.678, 308.573 190.857 Q 309.224 192.037, 309.259 192.107 L 309.259 182.424 L 310.914 182.424 L 310.914 194.889 L 309.207 194.889 L 304.823 187.671 Q 304.312 186.825, 303.766 185.857 Q 303.238 184.889, 303.08 184.589 L 303.08 194.889 L 301.46 194.889 L 301.46 182.424 L 303.432 182.424 \" fill=\"#0000FF\"/>\n",
       "<path class=\"atom-17\" d=\"M 454.789 222.811 L 456.479 222.811 L 456.479 228.111 L 462.853 228.111 L 462.853 222.811 L 464.543 222.811 L 464.543 235.277 L 462.853 235.277 L 462.853 229.519 L 456.479 229.519 L 456.479 235.277 L 454.789 235.277 L 454.789 222.811 \" fill=\"#000000\"/>\n",
       "<path class=\"atom-18\" d=\"M 388.858 215.941 L 390.549 215.941 L 390.549 221.241 L 396.922 221.241 L 396.922 215.941 L 398.612 215.941 L 398.612 228.406 L 396.922 228.406 L 396.922 222.649 L 390.549 222.649 L 390.549 228.406 L 388.858 228.406 L 388.858 215.941 \" fill=\"#000000\"/>\n",
       "<path class=\"atom-19\" d=\"M 338.188 302.908 L 339.879 302.908 L 339.879 308.208 L 346.252 308.208 L 346.252 302.908 L 347.942 302.908 L 347.942 315.374 L 346.252 315.374 L 346.252 309.616 L 339.879 309.616 L 339.879 315.374 L 338.188 315.374 L 338.188 302.908 \" fill=\"#000000\"/>\n",
       "<path class=\"atom-20\" d=\"M 344.847 215.292 L 346.537 215.292 L 346.537 220.591 L 352.91 220.591 L 352.91 215.292 L 354.601 215.292 L 354.601 227.757 L 352.91 227.757 L 352.91 222 L 346.537 222 L 346.537 227.757 L 344.847 227.757 L 344.847 215.292 \" fill=\"#000000\"/>\n",
       "<path class=\"atom-21\" d=\"M 156.035 301.905 L 157.725 301.905 L 157.725 307.204 L 164.099 307.204 L 164.099 301.905 L 165.789 301.905 L 165.789 314.37 L 164.099 314.37 L 164.099 308.613 L 157.725 308.613 L 157.725 314.37 L 156.035 314.37 L 156.035 301.905 \" fill=\"#000000\"/>\n",
       "<path class=\"atom-22\" d=\"M 101.149 233.287 L 102.839 233.287 L 102.839 238.586 L 109.212 238.586 L 109.212 233.287 L 110.903 233.287 L 110.903 245.752 L 109.212 245.752 L 109.212 239.995 L 102.839 239.995 L 102.839 245.752 L 101.149 245.752 L 101.149 233.287 \" fill=\"#000000\"/>\n",
       "<path class=\"atom-23\" d=\"M 158.498 134.941 L 160.188 134.941 L 160.188 140.241 L 166.561 140.241 L 166.561 134.941 L 168.252 134.941 L 168.252 147.407 L 166.561 147.407 L 166.561 141.649 L 160.188 141.649 L 160.188 147.407 L 158.498 147.407 L 158.498 134.941 \" fill=\"#000000\"/>\n",
       "<path class=\"atom-24\" d=\"M 101.611 201.911 L 103.302 201.911 L 103.302 207.21 L 109.675 207.21 L 109.675 201.911 L 111.365 201.911 L 111.365 214.376 L 109.675 214.376 L 109.675 208.619 L 103.302 208.619 L 103.302 214.376 L 101.611 214.376 L 101.611 201.911 \" fill=\"#000000\"/>\n",
       "<path class=\"atom-25\" d=\"M 96.8782 143.771 L 98.5684 143.771 L 98.5684 149.071 L 104.942 149.071 L 104.942 143.771 L 106.632 143.771 L 106.632 156.237 L 104.942 156.237 L 104.942 150.48 L 98.5684 150.48 L 98.5684 156.237 L 96.8782 156.237 L 96.8782 143.771 \" fill=\"#000000\"/>\n",
       "<path class=\"atom-26\" d=\"M 279.866 143.984 L 281.557 143.984 L 281.557 149.284 L 287.93 149.284 L 287.93 143.984 L 289.62 143.984 L 289.62 156.449 L 287.93 156.449 L 287.93 150.692 L 281.557 150.692 L 281.557 156.449 L 279.866 156.449 L 279.866 143.984 \" fill=\"#000000\"/>\n",
       "<path class=\"atom-27\" d=\"M 69.3586 255.273 L 71.0488 255.273 L 71.0488 260.573 L 77.4224 260.573 L 77.4224 255.273 L 79.1127 255.273 L 79.1127 267.739 L 77.4224 267.739 L 77.4224 261.981 L 71.0488 261.981 L 71.0488 267.739 L 69.3586 267.739 L 69.3586 255.273 \" fill=\"#000000\"/>\n",
       "<path class=\"atom-28\" d=\"M 120.047 327.249 L 121.737 327.249 L 121.737 332.548 L 128.111 332.548 L 128.111 327.249 L 129.801 327.249 L 129.801 339.714 L 128.111 339.714 L 128.111 333.957 L 121.737 333.957 L 121.737 339.714 L 120.047 339.714 L 120.047 327.249 \" fill=\"#000000\"/>\n",
       "<path class=\"atom-29\" d=\"M 84.0594 352.593 L 85.7496 352.593 L 85.7496 357.893 L 92.1232 357.893 L 92.1232 352.593 L 93.8135 352.593 L 93.8135 365.059 L 92.1232 365.059 L 92.1232 359.301 L 85.7496 359.301 L 85.7496 365.059 L 84.0594 365.059 L 84.0594 352.593 \" fill=\"#000000\"/>\n",
       "<path class=\"atom-30\" d=\"M 33.3708 280.618 L 35.061 280.618 L 35.061 285.917 L 41.4346 285.917 L 41.4346 280.618 L 43.1248 280.618 L 43.1248 293.083 L 41.4346 293.083 L 41.4346 287.326 L 35.061 287.326 L 35.061 293.083 L 33.3708 293.083 L 33.3708 280.618 \" fill=\"#000000\"/>\n",
       "<path class=\"atom-31\" d=\"M 22.7273 341.95 L 24.4175 341.95 L 24.4175 347.249 L 30.7911 347.249 L 30.7911 341.95 L 32.4813 341.95 L 32.4813 354.415 L 30.7911 354.415 L 30.7911 348.658 L 24.4175 348.658 L 24.4175 354.415 L 22.7273 354.415 L 22.7273 341.95 \" fill=\"#000000\"/>\n",
       "<path class=\"atom-32\" d=\"M 453.665 299.042 L 455.355 299.042 L 455.355 304.341 L 461.729 304.341 L 461.729 299.042 L 463.419 299.042 L 463.419 311.507 L 461.729 311.507 L 461.729 305.75 L 455.355 305.75 L 455.355 311.507 L 453.665 311.507 L 453.665 299.042 \" fill=\"#000000\"/>\n",
       "<path class=\"atom-33\" d=\"M 352.021 329.934 L 353.711 329.934 L 353.711 335.234 L 360.085 335.234 L 360.085 329.934 L 361.775 329.934 L 361.775 342.399 L 360.085 342.399 L 360.085 336.642 L 353.711 336.642 L 353.711 342.399 L 352.021 342.399 L 352.021 329.934 \" fill=\"#000000\"/>\n",
       "</svg>"
      ],
      "text/plain": [
       "<IPython.core.display.SVG object>"
      ]
     },
     "metadata": {},
     "output_type": "display_data"
    }
   ],
   "source": [
    "display(rotamer_library)"
   ]
  },
  {
   "cell_type": "code",
   "execution_count": 28,
   "metadata": {},
   "outputs": [],
   "source": [
    "opls2005 = OPLS2005ForceField()"
   ]
  },
  {
   "cell_type": "code",
   "execution_count": 29,
   "metadata": {},
   "outputs": [],
   "source": [
    "parameters = opls2005.parameterize(molecule)"
   ]
  },
  {
   "cell_type": "code",
   "execution_count": 30,
   "metadata": {},
   "outputs": [],
   "source": [
    "topology = Topology(molecule, parameters)"
   ]
  },
  {
   "cell_type": "code",
   "execution_count": 31,
   "metadata": {},
   "outputs": [],
   "source": [
    "impact_template = Impact(topology)"
   ]
  },
  {
   "cell_type": "code",
   "execution_count": 32,
   "metadata": {},
   "outputs": [],
   "source": [
    "impact_template.to_file(molecule.tag.lower() + 'z')"
   ]
  }
 ],
 "metadata": {
  "kernelspec": {
   "display_name": "Python 3",
   "language": "python",
   "name": "python3"
  },
  "language_info": {
   "codemirror_mode": {
    "name": "ipython",
    "version": 3
   },
   "file_extension": ".py",
   "mimetype": "text/x-python",
   "name": "python",
   "nbconvert_exporter": "python",
   "pygments_lexer": "ipython3",
   "version": "3.7.8"
  }
 },
 "nbformat": 4,
 "nbformat_minor": 4
}
