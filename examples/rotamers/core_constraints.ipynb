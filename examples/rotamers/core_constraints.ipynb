{
 "cells": [
  {
   "cell_type": "markdown",
   "metadata": {},
   "source": [
    "# Rotamer core constraints\n",
    "These examples show how to force one atom to be in the rotamer core when building the rotamer library of a ligand"
   ]
  },
  {
   "cell_type": "code",
   "execution_count": 1,
   "metadata": {},
   "outputs": [],
   "source": [
    "from peleffy.topology import Molecule\n",
    "from peleffy.topology import RotamerLibrary"
   ]
  },
  {
   "cell_type": "markdown",
   "metadata": {},
   "source": [
    "## Using atom's index to select the atom to constrain"
   ]
  },
  {
   "cell_type": "code",
   "execution_count": 2,
   "metadata": {},
   "outputs": [
    {
     "name": "stderr",
     "output_type": "stream",
     "text": [
      " - Initializing molecule from a SMILES tag\n",
      "   - Loading molecule from RDKit\n",
      "   - Representing molecule with the Open Force Field Toolkit\n",
      " - Generating rotamer library\n",
      "   - Core forced to contain atom:  C1 \n"
     ]
    }
   ],
   "source": [
    "mol = Molecule(smiles='CCCC', name='butane', tag='BUT',\n",
    "               exclude_terminal_rotamers=False, core_constraints=[0, ],\n",
    "               hydrogens_are_explicit=False)"
   ]
  },
  {
   "cell_type": "code",
   "execution_count": 3,
   "metadata": {},
   "outputs": [
    {
     "data": {
      "image/svg+xml": [
       "<svg baseProfile=\"full\" height=\"500px\" version=\"1.1\" viewBox=\"0 0 500 500\" width=\"500px\" xml:space=\"preserve\" xmlns=\"http://www.w3.org/2000/svg\" xmlns:rdkit=\"http://www.rdkit.org/xml\" xmlns:xlink=\"http://www.w3.org/1999/xlink\">\n",
       "<!-- END OF HEADER -->\n",
       "<rect height=\"500\" style=\"opacity:1.0;fill:#FFFFFF;stroke:none\" width=\"500\" x=\"0\" y=\"0\"> </rect>\n",
       "<path class=\"bond-0 atom-0 atom-1\" d=\"M 119.424,250 L 206.475,250\" style=\"fill:none;fill-rule:evenodd;stroke:#000000;stroke-width:4.0px;stroke-linecap:butt;stroke-linejoin:miter;stroke-opacity:1\"/>\n",
       "<path class=\"bond-3 atom-0 atom-4\" d=\"M 119.424,250 L 44.194,250\" style=\"fill:none;fill-rule:evenodd;stroke:#000000;stroke-width:4.0px;stroke-linecap:butt;stroke-linejoin:miter;stroke-opacity:1\"/>\n",
       "<path class=\"bond-4 atom-0 atom-5\" d=\"M 119.424,250 L 119.424,177.452\" style=\"fill:none;fill-rule:evenodd;stroke:#000000;stroke-width:4.0px;stroke-linecap:butt;stroke-linejoin:miter;stroke-opacity:1\"/>\n",
       "<path class=\"bond-5 atom-0 atom-6\" d=\"M 119.424,250 L 119.424,322.548\" style=\"fill:none;fill-rule:evenodd;stroke:#000000;stroke-width:4.0px;stroke-linecap:butt;stroke-linejoin:miter;stroke-opacity:1\"/>\n",
       "<path class=\"bond-1 atom-1 atom-2\" d=\"M 206.475,250 L 293.525,250\" style=\"fill:none;fill-rule:evenodd;stroke:#000000;stroke-width:4.0px;stroke-linecap:butt;stroke-linejoin:miter;stroke-opacity:1\"/>\n",
       "<path class=\"bond-6 atom-1 atom-7\" d=\"M 206.475,250 L 206.475,322.548\" style=\"fill:none;fill-rule:evenodd;stroke:#000000;stroke-width:4.0px;stroke-linecap:butt;stroke-linejoin:miter;stroke-opacity:1\"/>\n",
       "<path class=\"bond-7 atom-1 atom-8\" d=\"M 206.475,250 L 206.475,177.452\" style=\"fill:none;fill-rule:evenodd;stroke:#000000;stroke-width:4.0px;stroke-linecap:butt;stroke-linejoin:miter;stroke-opacity:1\"/>\n",
       "<path class=\"bond-2 atom-2 atom-3\" d=\"M 293.525,250 L 380.576,250\" style=\"fill:none;fill-rule:evenodd;stroke:#000000;stroke-width:4.0px;stroke-linecap:butt;stroke-linejoin:miter;stroke-opacity:1\"/>\n",
       "<path class=\"bond-8 atom-2 atom-9\" d=\"M 293.525,250 L 293.525,177.452\" style=\"fill:none;fill-rule:evenodd;stroke:#000000;stroke-width:4.0px;stroke-linecap:butt;stroke-linejoin:miter;stroke-opacity:1\"/>\n",
       "<path class=\"bond-9 atom-2 atom-10\" d=\"M 293.525,250 L 293.525,322.548\" style=\"fill:none;fill-rule:evenodd;stroke:#000000;stroke-width:4.0px;stroke-linecap:butt;stroke-linejoin:miter;stroke-opacity:1\"/>\n",
       "<path class=\"bond-10 atom-3 atom-11\" d=\"M 380.576,250 L 455.806,250\" style=\"fill:none;fill-rule:evenodd;stroke:#000000;stroke-width:4.0px;stroke-linecap:butt;stroke-linejoin:miter;stroke-opacity:1\"/>\n",
       "<path class=\"bond-11 atom-3 atom-12\" d=\"M 380.576,250 L 380.576,322.548\" style=\"fill:none;fill-rule:evenodd;stroke:#000000;stroke-width:4.0px;stroke-linecap:butt;stroke-linejoin:miter;stroke-opacity:1\"/>\n",
       "<path class=\"bond-12 atom-3 atom-13\" d=\"M 380.576,250 L 380.576,177.452\" style=\"fill:none;fill-rule:evenodd;stroke:#000000;stroke-width:4.0px;stroke-linecap:butt;stroke-linejoin:miter;stroke-opacity:1\"/>\n",
       "<path class=\"atom-4\" d=\"M 22.7273 237.674 L 26.07 237.674 L 26.07 248.155 L 38.675 248.155 L 38.675 237.674 L 42.0178 237.674 L 42.0178 262.326 L 38.675 262.326 L 38.675 250.94 L 26.07 250.94 L 26.07 262.326 L 22.7273 262.326 L 22.7273 237.674 \" fill=\"#000000\"/>\n",
       "<path class=\"atom-5\" d=\"M 109.778 150.623 L 113.121 150.623 L 113.121 161.104 L 125.726 161.104 L 125.726 150.623 L 129.069 150.623 L 129.069 175.275 L 125.726 175.275 L 125.726 163.889 L 113.121 163.889 L 113.121 175.275 L 109.778 175.275 L 109.778 150.623 \" fill=\"#000000\"/>\n",
       "<path class=\"atom-6\" d=\"M 109.778 324.725 L 113.121 324.725 L 113.121 335.206 L 125.726 335.206 L 125.726 324.725 L 129.069 324.725 L 129.069 349.377 L 125.726 349.377 L 125.726 337.991 L 113.121 337.991 L 113.121 349.377 L 109.778 349.377 L 109.778 324.725 \" fill=\"#000000\"/>\n",
       "<path class=\"atom-7\" d=\"M 196.829 324.725 L 200.172 324.725 L 200.172 335.206 L 212.777 335.206 L 212.777 324.725 L 216.12 324.725 L 216.12 349.377 L 212.777 349.377 L 212.777 337.991 L 200.172 337.991 L 200.172 349.377 L 196.829 349.377 L 196.829 324.725 \" fill=\"#000000\"/>\n",
       "<path class=\"atom-8\" d=\"M 196.829 150.623 L 200.172 150.623 L 200.172 161.104 L 212.777 161.104 L 212.777 150.623 L 216.12 150.623 L 216.12 175.275 L 212.777 175.275 L 212.777 163.889 L 200.172 163.889 L 200.172 175.275 L 196.829 175.275 L 196.829 150.623 \" fill=\"#000000\"/>\n",
       "<path class=\"atom-9\" d=\"M 283.88 150.623 L 287.223 150.623 L 287.223 161.104 L 299.828 161.104 L 299.828 150.623 L 303.171 150.623 L 303.171 175.275 L 299.828 175.275 L 299.828 163.889 L 287.223 163.889 L 287.223 175.275 L 283.88 175.275 L 283.88 150.623 \" fill=\"#000000\"/>\n",
       "<path class=\"atom-10\" d=\"M 283.88 324.725 L 287.223 324.725 L 287.223 335.206 L 299.828 335.206 L 299.828 324.725 L 303.171 324.725 L 303.171 349.377 L 299.828 349.377 L 299.828 337.991 L 287.223 337.991 L 287.223 349.377 L 283.88 349.377 L 283.88 324.725 \" fill=\"#000000\"/>\n",
       "<path class=\"atom-11\" d=\"M 457.982 237.674 L 461.325 237.674 L 461.325 248.155 L 473.93 248.155 L 473.93 237.674 L 477.273 237.674 L 477.273 262.326 L 473.93 262.326 L 473.93 250.94 L 461.325 250.94 L 461.325 262.326 L 457.982 262.326 L 457.982 237.674 \" fill=\"#000000\"/>\n",
       "<path class=\"atom-12\" d=\"M 370.931 324.725 L 374.274 324.725 L 374.274 335.206 L 386.879 335.206 L 386.879 324.725 L 390.222 324.725 L 390.222 349.377 L 386.879 349.377 L 386.879 337.991 L 374.274 337.991 L 374.274 349.377 L 370.931 349.377 L 370.931 324.725 \" fill=\"#000000\"/>\n",
       "<path class=\"atom-13\" d=\"M 370.931 150.623 L 374.274 150.623 L 374.274 161.104 L 386.879 161.104 L 386.879 150.623 L 390.222 150.623 L 390.222 175.275 L 386.879 175.275 L 386.879 163.889 L 374.274 163.889 L 374.274 175.275 L 370.931 175.275 L 370.931 150.623 \" fill=\"#000000\"/>\n",
       "</svg>"
      ],
      "text/plain": [
       "<IPython.core.display.SVG object>"
      ]
     },
     "metadata": {},
     "output_type": "display_data"
    }
   ],
   "source": [
    "display(mol)"
   ]
  },
  {
   "cell_type": "code",
   "execution_count": 4,
   "metadata": {},
   "outputs": [],
   "source": [
    "rotamer_library = RotamerLibrary(mol)\n",
    "rotamer_library.to_file('butz')"
   ]
  },
  {
   "cell_type": "markdown",
   "metadata": {},
   "source": [
    "## Using atom's PDB name to select the atom to constrain"
   ]
  },
  {
   "cell_type": "code",
   "execution_count": 5,
   "metadata": {},
   "outputs": [
    {
     "name": "stderr",
     "output_type": "stream",
     "text": [
      " - Initializing molecule from a SMILES tag\n",
      "   - Loading molecule from RDKit\n",
      "   - Representing molecule with the Open Force Field Toolkit\n",
      " - Generating rotamer library\n",
      "   - Core forced to contain atom:  C1 \n"
     ]
    }
   ],
   "source": [
    "mol = Molecule(smiles='CCCC', name='butane', tag='BUT',\n",
    "               exclude_terminal_rotamers=False, core_constraints=[' C1 ', ],\n",
    "               hydrogens_are_explicit=False)"
   ]
  },
  {
   "cell_type": "code",
   "execution_count": 6,
   "metadata": {},
   "outputs": [
    {
     "data": {
      "image/svg+xml": [
       "<svg baseProfile=\"full\" height=\"500px\" version=\"1.1\" viewBox=\"0 0 500 500\" width=\"500px\" xml:space=\"preserve\" xmlns=\"http://www.w3.org/2000/svg\" xmlns:rdkit=\"http://www.rdkit.org/xml\" xmlns:xlink=\"http://www.w3.org/1999/xlink\">\n",
       "<!-- END OF HEADER -->\n",
       "<rect height=\"500\" style=\"opacity:1.0;fill:#FFFFFF;stroke:none\" width=\"500\" x=\"0\" y=\"0\"> </rect>\n",
       "<path class=\"bond-0 atom-0 atom-1\" d=\"M 119.424,250 L 206.475,250\" style=\"fill:none;fill-rule:evenodd;stroke:#000000;stroke-width:4.0px;stroke-linecap:butt;stroke-linejoin:miter;stroke-opacity:1\"/>\n",
       "<path class=\"bond-3 atom-0 atom-4\" d=\"M 119.424,250 L 44.194,250\" style=\"fill:none;fill-rule:evenodd;stroke:#000000;stroke-width:4.0px;stroke-linecap:butt;stroke-linejoin:miter;stroke-opacity:1\"/>\n",
       "<path class=\"bond-4 atom-0 atom-5\" d=\"M 119.424,250 L 119.424,177.452\" style=\"fill:none;fill-rule:evenodd;stroke:#000000;stroke-width:4.0px;stroke-linecap:butt;stroke-linejoin:miter;stroke-opacity:1\"/>\n",
       "<path class=\"bond-5 atom-0 atom-6\" d=\"M 119.424,250 L 119.424,322.548\" style=\"fill:none;fill-rule:evenodd;stroke:#000000;stroke-width:4.0px;stroke-linecap:butt;stroke-linejoin:miter;stroke-opacity:1\"/>\n",
       "<path class=\"bond-1 atom-1 atom-2\" d=\"M 206.475,250 L 293.525,250\" style=\"fill:none;fill-rule:evenodd;stroke:#000000;stroke-width:4.0px;stroke-linecap:butt;stroke-linejoin:miter;stroke-opacity:1\"/>\n",
       "<path class=\"bond-6 atom-1 atom-7\" d=\"M 206.475,250 L 206.475,322.548\" style=\"fill:none;fill-rule:evenodd;stroke:#000000;stroke-width:4.0px;stroke-linecap:butt;stroke-linejoin:miter;stroke-opacity:1\"/>\n",
       "<path class=\"bond-7 atom-1 atom-8\" d=\"M 206.475,250 L 206.475,177.452\" style=\"fill:none;fill-rule:evenodd;stroke:#000000;stroke-width:4.0px;stroke-linecap:butt;stroke-linejoin:miter;stroke-opacity:1\"/>\n",
       "<path class=\"bond-2 atom-2 atom-3\" d=\"M 293.525,250 L 380.576,250\" style=\"fill:none;fill-rule:evenodd;stroke:#000000;stroke-width:4.0px;stroke-linecap:butt;stroke-linejoin:miter;stroke-opacity:1\"/>\n",
       "<path class=\"bond-8 atom-2 atom-9\" d=\"M 293.525,250 L 293.525,177.452\" style=\"fill:none;fill-rule:evenodd;stroke:#000000;stroke-width:4.0px;stroke-linecap:butt;stroke-linejoin:miter;stroke-opacity:1\"/>\n",
       "<path class=\"bond-9 atom-2 atom-10\" d=\"M 293.525,250 L 293.525,322.548\" style=\"fill:none;fill-rule:evenodd;stroke:#000000;stroke-width:4.0px;stroke-linecap:butt;stroke-linejoin:miter;stroke-opacity:1\"/>\n",
       "<path class=\"bond-10 atom-3 atom-11\" d=\"M 380.576,250 L 455.806,250\" style=\"fill:none;fill-rule:evenodd;stroke:#000000;stroke-width:4.0px;stroke-linecap:butt;stroke-linejoin:miter;stroke-opacity:1\"/>\n",
       "<path class=\"bond-11 atom-3 atom-12\" d=\"M 380.576,250 L 380.576,322.548\" style=\"fill:none;fill-rule:evenodd;stroke:#000000;stroke-width:4.0px;stroke-linecap:butt;stroke-linejoin:miter;stroke-opacity:1\"/>\n",
       "<path class=\"bond-12 atom-3 atom-13\" d=\"M 380.576,250 L 380.576,177.452\" style=\"fill:none;fill-rule:evenodd;stroke:#000000;stroke-width:4.0px;stroke-linecap:butt;stroke-linejoin:miter;stroke-opacity:1\"/>\n",
       "<path class=\"atom-4\" d=\"M 22.7273 237.674 L 26.07 237.674 L 26.07 248.155 L 38.675 248.155 L 38.675 237.674 L 42.0178 237.674 L 42.0178 262.326 L 38.675 262.326 L 38.675 250.94 L 26.07 250.94 L 26.07 262.326 L 22.7273 262.326 L 22.7273 237.674 \" fill=\"#000000\"/>\n",
       "<path class=\"atom-5\" d=\"M 109.778 150.623 L 113.121 150.623 L 113.121 161.104 L 125.726 161.104 L 125.726 150.623 L 129.069 150.623 L 129.069 175.275 L 125.726 175.275 L 125.726 163.889 L 113.121 163.889 L 113.121 175.275 L 109.778 175.275 L 109.778 150.623 \" fill=\"#000000\"/>\n",
       "<path class=\"atom-6\" d=\"M 109.778 324.725 L 113.121 324.725 L 113.121 335.206 L 125.726 335.206 L 125.726 324.725 L 129.069 324.725 L 129.069 349.377 L 125.726 349.377 L 125.726 337.991 L 113.121 337.991 L 113.121 349.377 L 109.778 349.377 L 109.778 324.725 \" fill=\"#000000\"/>\n",
       "<path class=\"atom-7\" d=\"M 196.829 324.725 L 200.172 324.725 L 200.172 335.206 L 212.777 335.206 L 212.777 324.725 L 216.12 324.725 L 216.12 349.377 L 212.777 349.377 L 212.777 337.991 L 200.172 337.991 L 200.172 349.377 L 196.829 349.377 L 196.829 324.725 \" fill=\"#000000\"/>\n",
       "<path class=\"atom-8\" d=\"M 196.829 150.623 L 200.172 150.623 L 200.172 161.104 L 212.777 161.104 L 212.777 150.623 L 216.12 150.623 L 216.12 175.275 L 212.777 175.275 L 212.777 163.889 L 200.172 163.889 L 200.172 175.275 L 196.829 175.275 L 196.829 150.623 \" fill=\"#000000\"/>\n",
       "<path class=\"atom-9\" d=\"M 283.88 150.623 L 287.223 150.623 L 287.223 161.104 L 299.828 161.104 L 299.828 150.623 L 303.171 150.623 L 303.171 175.275 L 299.828 175.275 L 299.828 163.889 L 287.223 163.889 L 287.223 175.275 L 283.88 175.275 L 283.88 150.623 \" fill=\"#000000\"/>\n",
       "<path class=\"atom-10\" d=\"M 283.88 324.725 L 287.223 324.725 L 287.223 335.206 L 299.828 335.206 L 299.828 324.725 L 303.171 324.725 L 303.171 349.377 L 299.828 349.377 L 299.828 337.991 L 287.223 337.991 L 287.223 349.377 L 283.88 349.377 L 283.88 324.725 \" fill=\"#000000\"/>\n",
       "<path class=\"atom-11\" d=\"M 457.982 237.674 L 461.325 237.674 L 461.325 248.155 L 473.93 248.155 L 473.93 237.674 L 477.273 237.674 L 477.273 262.326 L 473.93 262.326 L 473.93 250.94 L 461.325 250.94 L 461.325 262.326 L 457.982 262.326 L 457.982 237.674 \" fill=\"#000000\"/>\n",
       "<path class=\"atom-12\" d=\"M 370.931 324.725 L 374.274 324.725 L 374.274 335.206 L 386.879 335.206 L 386.879 324.725 L 390.222 324.725 L 390.222 349.377 L 386.879 349.377 L 386.879 337.991 L 374.274 337.991 L 374.274 349.377 L 370.931 349.377 L 370.931 324.725 \" fill=\"#000000\"/>\n",
       "<path class=\"atom-13\" d=\"M 370.931 150.623 L 374.274 150.623 L 374.274 161.104 L 386.879 161.104 L 386.879 150.623 L 390.222 150.623 L 390.222 175.275 L 386.879 175.275 L 386.879 163.889 L 374.274 163.889 L 374.274 175.275 L 370.931 175.275 L 370.931 150.623 \" fill=\"#000000\"/>\n",
       "</svg>"
      ],
      "text/plain": [
       "<IPython.core.display.SVG object>"
      ]
     },
     "metadata": {},
     "output_type": "display_data"
    }
   ],
   "source": [
    "display(mol)"
   ]
  },
  {
   "cell_type": "code",
   "execution_count": 7,
   "metadata": {},
   "outputs": [],
   "source": [
    "rotamer_library = RotamerLibrary(mol)\n",
    "rotamer_library.to_file('butz')"
   ]
  }
 ],
 "metadata": {
  "kernelspec": {
   "display_name": "Python 3",
   "language": "python",
   "name": "python3"
  },
  "language_info": {
   "codemirror_mode": {
    "name": "ipython",
    "version": 3
   },
   "file_extension": ".py",
   "mimetype": "text/x-python",
   "name": "python",
   "nbconvert_exporter": "python",
   "pygments_lexer": "ipython3",
   "version": "3.7.10"
  }
 },
 "nbformat": 4,
 "nbformat_minor": 4
}
