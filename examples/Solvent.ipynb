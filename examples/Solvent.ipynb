{
 "cells": [
  {
   "cell_type": "code",
   "execution_count": 1,
   "metadata": {},
   "outputs": [],
   "source": [
    "import offpele.topology.molecule as mol\n",
    "from offpele.solvent import OBC1, OBC2"
   ]
  },
  {
   "cell_type": "code",
   "execution_count": 2,
   "metadata": {},
   "outputs": [
    {
     "name": "stdout",
     "output_type": "stream",
     "text": [
      " - Loading molecule from RDKit\n"
     ]
    },
    {
     "name": "stderr",
     "output_type": "stream",
     "text": [
      "Warning: Unable to load toolkit 'OpenEye Toolkit'. The Open Force Field Toolkit does not require the OpenEye Toolkits, and can use RDKit/AmberTools instead. However, if you have a valid license for the OpenEye Toolkits, consider installing them for faster performance and additional file format support: https://docs.eyesopen.com/toolkits/python/quickstart-python/linuxosx.html OpenEye offers free Toolkit licenses for academics: https://www.eyesopen.com/academic-licensing\n",
      " /Users/martimunicoy/repos/BSC/offpele/offpele/solvent/solvent.py:111: Warning:OBC1 is not implemented in PELE"
     ]
    }
   ],
   "source": [
    "NAME = 'TOL'\n",
    "EXTENSION = '.pdb'\n",
    "FORCEFIELD = 'openff_unconstrained-1.1.1.offxml' \n",
    "\n",
    "molecule = mol.Molecule('../data/ligands/' + NAME.upper() + EXTENSION)\n",
    "solvent = OBC1(molecule)"
   ]
  },
  {
   "cell_type": "code",
   "execution_count": 3,
   "metadata": {},
   "outputs": [
    {
     "name": "stdout",
     "output_type": "stream",
     "text": [
      " - Loading molecule from RDKit\n"
     ]
    }
   ],
   "source": [
    "NAME = 'TOL'\n",
    "EXTENSION = '.pdb'\n",
    "FORCEFIELD = 'openff_unconstrained-1.1.1.offxml' \n",
    "\n",
    "molecule = mol.Molecule('../data/ligands/' + NAME.upper() + EXTENSION)\n",
    "solvent = OBC2(molecule)\n",
    "solvent.to_json_file('../data/templates/' + NAME.lower() + '_solv.json')"
   ]
  }
 ],
 "metadata": {
  "kernelspec": {
   "display_name": "Python 3",
   "language": "python",
   "name": "python3"
  },
  "language_info": {
   "codemirror_mode": {
    "name": "ipython",
    "version": 3
   },
   "file_extension": ".py",
   "mimetype": "text/x-python",
   "name": "python",
   "nbconvert_exporter": "python",
   "pygments_lexer": "ipython3",
   "version": "3.7.4"
  }
 },
 "nbformat": 4,
 "nbformat_minor": 4
}
