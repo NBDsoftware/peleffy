{
 "cells": [
  {
   "cell_type": "code",
   "execution_count": 1,
   "metadata": {},
   "outputs": [],
   "source": [
    "from offpele.utils import get_data_file_path\n",
    "from offpele.topology import Molecule"
   ]
  },
  {
   "cell_type": "code",
   "execution_count": 2,
   "metadata": {},
   "outputs": [
    {
     "name": "stderr",
     "output_type": "stream",
     "text": [
      " - Initializing molecule from a SMILES tag\n",
      "   - Loading molecule from RDKit\n",
      "   - Setting molecule name to 'c1c(c(n(n1)S(=O)(=O)C))O'\n",
      "   - Representing molecule with the Open Force Field Toolkit\n",
      "Warning: Unable to load toolkit 'OpenEye Toolkit'. The Open Force Field Toolkit does not require the OpenEye Toolkits, and can use RDKit/AmberTools instead. However, if you have a valid license for the OpenEye Toolkits, consider installing them for faster performance and additional file format support: https://docs.eyesopen.com/toolkits/python/quickstart-python/linuxosx.html OpenEye offers free Toolkit licenses for academics: https://www.eyesopen.com/academic-licensing\n"
     ]
    },
    {
     "data": {
      "application/vnd.jupyter.widget-view+json": {
       "model_id": "44a76f00ad804d9d89d63e8e60ab3b7c",
       "version_major": 2,
       "version_minor": 0
      },
      "text/plain": []
     },
     "metadata": {},
     "output_type": "display_data"
    },
    {
     "name": "stderr",
     "output_type": "stream",
     "text": [
      " - Generating rotamer library\n",
      "   - Core set to the center of the molecule\n"
     ]
    }
   ],
   "source": [
    "molecule = Molecule(smiles='c1c(c(n(n1)S(=O)(=O)C))O')"
   ]
  },
  {
   "cell_type": "code",
   "execution_count": 3,
   "metadata": {},
   "outputs": [
    {
     "data": {
      "image/png": "[encoded data removed]",
      "text/plain": [
       "<rdkit.Chem.rdchem.Mol at 0x7feb63c7d760>"
      ]
     },
     "metadata": {},
     "output_type": "display_data"
    }
   ],
   "source": [
    "display(molecule)"
   ]
  },
  {
   "cell_type": "code",
   "execution_count": 4,
   "metadata": {},
   "outputs": [
    {
     "name": "stderr",
     "output_type": "stream",
     "text": [
      " - Loading forcefield\n",
      " - Computing partial charges with gasteiger\n"
     ]
    }
   ],
   "source": [
    "molecule.parameterize('openff_unconstrained-1.2.0.offxml',\n",
    "                      charges_method='gasteiger')"
   ]
  },
  {
   "cell_type": "code",
   "execution_count": 11,
   "metadata": {},
   "outputs": [
    {
     "name": "stdout",
     "output_type": "stream",
     "text": [
      "(0, 1, 2, 3) 180.0 deg\n",
      "(0, 1, 2, 11) 180.0 deg\n",
      "(0, 1, 9, 15) 180.0 deg\n",
      "(0, 4, 3, 2) 0.0 deg\n",
      "(0, 4, 3, 2) 180.0 deg\n",
      "(0, 4, 3, 5) 0.0 deg\n",
      "(0, 4, 3, 5) 180.0 deg\n",
      "(1, 0, 4, 3) 180.0 deg\n",
      "(1, 2, 3, 4) 180.0 deg\n",
      "(1, 2, 3, 5) 180.0 deg\n",
      "(2, 1, 0, 4) 180.0 deg\n",
      "(2, 1, 0, 10) 180.0 deg\n",
      "(2, 1, 9, 15) 180.0 deg\n",
      "(2, 3, 5, 6) 0.0 deg\n",
      "(2, 3, 5, 7) 0.0 deg\n",
      "(2, 3, 5, 8) 90.0 deg\n",
      "(2, 3, 5, 8) 0.0 deg\n",
      "(3, 2, 1, 9) 180.0 deg\n",
      "(3, 4, 0, 10) 180.0 deg\n",
      "(3, 5, 8, 12) 0.0 deg\n",
      "(3, 5, 8, 13) 0.0 deg\n",
      "(3, 5, 8, 14) 0.0 deg\n",
      "(4, 0, 1, 9) 180.0 deg\n",
      "(4, 3, 2, 11) 180.0 deg\n",
      "(4, 3, 5, 6) 0.0 deg\n",
      "(4, 3, 5, 7) 0.0 deg\n",
      "(4, 3, 5, 8) 0.0 deg\n",
      "(5, 3, 2, 11) 180.0 deg\n",
      "(6, 5, 8, 12) 0.0 deg\n",
      "(6, 5, 8, 13) 0.0 deg\n",
      "(6, 5, 8, 14) 0.0 deg\n",
      "(7, 5, 8, 12) 0.0 deg\n",
      "(7, 5, 8, 13) 0.0 deg\n",
      "(7, 5, 8, 14) 0.0 deg\n",
      "(9, 1, 0, 10) 180.0 deg\n",
      "(9, 1, 2, 11) 180.0 deg\n"
     ]
    }
   ],
   "source": [
    "from simtk import unit\n",
    "for indexes, properties in dict(\n",
    "        molecule.parameters['ProperTorsions']).items():\n",
    "    for i, (k, phase, periodicity, idivf) in enumerate(\n",
    "            zip(properties.k, properties.phase,\n",
    "                properties.periodicity, properties.idivf)):\n",
    "        print(indexes, phase)"
   ]
  },
  {
   "cell_type": "code",
   "execution_count": 6,
   "metadata": {},
   "outputs": [
    {
     "data": {
      "text/plain": [
       "[3, 4, 5, 6, 10.5, -1, 2]"
      ]
     },
     "execution_count": 6,
     "metadata": {},
     "output_type": "execute_result"
    }
   ],
   "source": [
    "w_parameters"
   ]
  },
  {
   "cell_type": "code",
   "execution_count": null,
   "metadata": {},
   "outputs": [],
   "source": []
  }
 ],
 "metadata": {
  "kernelspec": {
   "display_name": "Python 3",
   "language": "python",
   "name": "python3"
  },
  "language_info": {
   "codemirror_mode": {
    "name": "ipython",
    "version": 3
   },
   "file_extension": ".py",
   "mimetype": "text/x-python",
   "name": "python",
   "nbconvert_exporter": "python",
   "pygments_lexer": "ipython3",
   "version": "3.7.8"
  }
 },
 "nbformat": 4,
 "nbformat_minor": 4
}
