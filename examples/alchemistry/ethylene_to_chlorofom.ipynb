{
 "cells": [
  {
   "cell_type": "markdown",
   "id": "39a83a13",
   "metadata": {},
   "source": [
    "# Alchemical transformation example\n",
    "This example shows how to transform ethylene to chloroform using the Alchemistry module of peleffy."
   ]
  },
  {
   "cell_type": "markdown",
   "id": "3c3f4dfc",
   "metadata": {},
   "source": [
    "## Initialize both molecules\n",
    "The alchemical transformation requires the end states to be previously defined. We can initialize both molecules with peleffy with the standard `Molecule` representation. In this case, we define them using SMILES notation. However, we can also initialize them from PDB files."
   ]
  },
  {
   "cell_type": "code",
   "execution_count": 1,
   "id": "ac61ec6b",
   "metadata": {},
   "outputs": [],
   "source": [
    "from peleffy.topology import Molecule"
   ]
  },
  {
   "cell_type": "code",
   "execution_count": 2,
   "id": "c0edf576",
   "metadata": {},
   "outputs": [
    {
     "name": "stdout",
     "output_type": "stream",
     "text": [
      " - Initializing molecule from a SMILES tag\n",
      "   - Loading molecule from RDKit\n",
      "   - Representing molecule with the Open Force Field Toolkit\n",
      " - Generating rotamer library\n",
      "   - Core set to the center of the molecule\n"
     ]
    }
   ],
   "source": [
    "ethylene = Molecule(smiles='C=C', hydrogens_are_explicit=False,\n",
    "                    name='ethylene', tag='ETH')"
   ]
  },
  {
   "cell_type": "code",
   "execution_count": 3,
   "id": "688db3ee",
   "metadata": {},
   "outputs": [
    {
     "name": "stdout",
     "output_type": "stream",
     "text": [
      " - Initializing molecule from a SMILES tag\n",
      "   - Loading molecule from RDKit\n",
      "   - Representing molecule with the Open Force Field Toolkit\n",
      " - Generating rotamer library\n",
      "   - Core set to the center of the molecule\n"
     ]
    }
   ],
   "source": [
    "chloroform = Molecule(smiles='ClC(Cl)Cl', hydrogens_are_explicit=False,\n",
    "                      name='chloroform', tag='CHL')"
   ]
  },
  {
   "cell_type": "markdown",
   "id": "07bce84e",
   "metadata": {},
   "source": [
    "Once they are loaded, we can check if they were properly defined:"
   ]
  },
  {
   "cell_type": "code",
   "execution_count": 4,
   "id": "bb8ff83d",
   "metadata": {},
   "outputs": [
    {
     "data": {
      "image/svg+xml": [
       "<svg xmlns=\"http://www.w3.org/2000/svg\" xmlns:rdkit=\"http://www.rdkit.org/xml\" xmlns:xlink=\"http://www.w3.org/1999/xlink\" version=\"1.1\" baseProfile=\"full\" xml:space=\"preserve\" width=\"500px\" height=\"500px\" viewBox=\"0 0 500 500\">\n",
       "<!-- END OF HEADER -->\n",
       "<rect style=\"opacity:1.0;fill:#FFFFFF;stroke:none\" width=\"500.0\" height=\"500.0\" x=\"0.0\" y=\"0.0\"> </rect>\n",
       "<path class=\"bond-0 atom-0 atom-1\" d=\"M 147.7,250.0 L 352.3,250.0\" style=\"fill:none;fill-rule:evenodd;stroke:#000000;stroke-width:4.0px;stroke-linecap:butt;stroke-linejoin:miter;stroke-opacity:1\"/>\n",
       "<path class=\"bond-0 atom-0 atom-1\" d=\"M 178.4,209.1 L 321.6,209.1\" style=\"fill:none;fill-rule:evenodd;stroke:#000000;stroke-width:4.0px;stroke-linecap:butt;stroke-linejoin:miter;stroke-opacity:1\"/>\n",
       "<path class=\"bond-1 atom-0 atom-2\" d=\"M 147.7,250.0 L 57.5,93.7\" style=\"fill:none;fill-rule:evenodd;stroke:#000000;stroke-width:4.0px;stroke-linecap:butt;stroke-linejoin:miter;stroke-opacity:1\"/>\n",
       "<path class=\"bond-2 atom-0 atom-3\" d=\"M 147.7,250.0 L 57.5,406.3\" style=\"fill:none;fill-rule:evenodd;stroke:#000000;stroke-width:4.0px;stroke-linecap:butt;stroke-linejoin:miter;stroke-opacity:1\"/>\n",
       "<path class=\"bond-3 atom-1 atom-4\" d=\"M 352.3,250.0 L 442.5,406.3\" style=\"fill:none;fill-rule:evenodd;stroke:#000000;stroke-width:4.0px;stroke-linecap:butt;stroke-linejoin:miter;stroke-opacity:1\"/>\n",
       "<path class=\"bond-4 atom-1 atom-5\" d=\"M 352.3,250.0 L 442.5,93.7\" style=\"fill:none;fill-rule:evenodd;stroke:#000000;stroke-width:4.0px;stroke-linecap:butt;stroke-linejoin:miter;stroke-opacity:1\"/>\n",
       "<path class=\"atom-2\" d=\"M 34.3 58.6 L 38.2 58.6 L 38.2 70.7 L 52.6 70.7 L 52.6 58.6 L 56.5 58.6 L 56.5 87.0 L 52.6 87.0 L 52.6 73.9 L 38.2 73.9 L 38.2 87.0 L 34.3 87.0 L 34.3 58.6 \" fill=\"#000000\"/>\n",
       "<path class=\"atom-3\" d=\"M 34.3 413.0 L 38.2 413.0 L 38.2 425.1 L 52.6 425.1 L 52.6 413.0 L 56.5 413.0 L 56.5 441.4 L 52.6 441.4 L 52.6 428.3 L 38.2 428.3 L 38.2 441.4 L 34.3 441.4 L 34.3 413.0 \" fill=\"#000000\"/>\n",
       "<path class=\"atom-4\" d=\"M 443.5 413.0 L 447.4 413.0 L 447.4 425.1 L 461.8 425.1 L 461.8 413.0 L 465.7 413.0 L 465.7 441.4 L 461.8 441.4 L 461.8 428.3 L 447.4 428.3 L 447.4 441.4 L 443.5 441.4 L 443.5 413.0 \" fill=\"#000000\"/>\n",
       "<path class=\"atom-5\" d=\"M 443.5 58.6 L 447.4 58.6 L 447.4 70.7 L 461.8 70.7 L 461.8 58.6 L 465.7 58.6 L 465.7 87.0 L 461.8 87.0 L 461.8 73.9 L 447.4 73.9 L 447.4 87.0 L 443.5 87.0 L 443.5 58.6 \" fill=\"#000000\"/>\n",
       "</svg>"
      ],
      "text/plain": [
       "<IPython.core.display.SVG object>"
      ]
     },
     "metadata": {},
     "output_type": "display_data"
    }
   ],
   "source": [
    "display(ethylene)"
   ]
  },
  {
   "cell_type": "code",
   "execution_count": 5,
   "id": "9e50d36e",
   "metadata": {},
   "outputs": [
    {
     "data": {
      "image/svg+xml": [
       "<svg xmlns=\"http://www.w3.org/2000/svg\" xmlns:rdkit=\"http://www.rdkit.org/xml\" xmlns:xlink=\"http://www.w3.org/1999/xlink\" version=\"1.1\" baseProfile=\"full\" xml:space=\"preserve\" width=\"500px\" height=\"500px\" viewBox=\"0 0 500 500\">\n",
       "<!-- END OF HEADER -->\n",
       "<rect style=\"opacity:1.0;fill:#FFFFFF;stroke:none\" width=\"500.0\" height=\"500.0\" x=\"0.0\" y=\"0.0\"> </rect>\n",
       "<path class=\"bond-0 atom-0 atom-1\" d=\"M 425.6,250.5 L 340.1,250.5\" style=\"fill:none;fill-rule:evenodd;stroke:#00CC00;stroke-width:4.0px;stroke-linecap:butt;stroke-linejoin:miter;stroke-opacity:1\"/>\n",
       "<path class=\"bond-0 atom-0 atom-1\" d=\"M 340.1,250.5 L 254.5,250.5\" style=\"fill:none;fill-rule:evenodd;stroke:#000000;stroke-width:4.0px;stroke-linecap:butt;stroke-linejoin:miter;stroke-opacity:1\"/>\n",
       "<path class=\"bond-1 atom-1 atom-2\" d=\"M 254.5,250.5 L 164.4,250.5\" style=\"fill:none;fill-rule:evenodd;stroke:#000000;stroke-width:4.0px;stroke-linecap:butt;stroke-linejoin:miter;stroke-opacity:1\"/>\n",
       "<path class=\"bond-1 atom-1 atom-2\" d=\"M 164.4,250.5 L 74.4,250.5\" style=\"fill:none;fill-rule:evenodd;stroke:#00CC00;stroke-width:4.0px;stroke-linecap:butt;stroke-linejoin:miter;stroke-opacity:1\"/>\n",
       "<path class=\"bond-2 atom-1 atom-3\" d=\"M 254.5,250.5 L 254.5,167.3\" style=\"fill:none;fill-rule:evenodd;stroke:#000000;stroke-width:4.0px;stroke-linecap:butt;stroke-linejoin:miter;stroke-opacity:1\"/>\n",
       "<path class=\"bond-2 atom-1 atom-3\" d=\"M 254.5,167.3 L 254.5,84.0\" style=\"fill:none;fill-rule:evenodd;stroke:#00CC00;stroke-width:4.0px;stroke-linecap:butt;stroke-linejoin:miter;stroke-opacity:1\"/>\n",
       "<path class=\"bond-3 atom-1 atom-4\" d=\"M 254.5,250.5 L 254.5,418.4\" style=\"fill:none;fill-rule:evenodd;stroke:#000000;stroke-width:4.0px;stroke-linecap:butt;stroke-linejoin:miter;stroke-opacity:1\"/>\n",
       "<path class=\"atom-0\" d=\"M 431.9 251.5 Q 431.9 244.4, 435.1 240.8 Q 438.5 237.1, 444.7 237.1 Q 450.6 237.1, 453.7 241.2 L 451.1 243.3 Q 448.8 240.3, 444.7 240.3 Q 440.5 240.3, 438.2 243.2 Q 435.9 246.1, 435.9 251.5 Q 435.9 257.1, 438.3 260.0 Q 440.6 262.9, 445.2 262.9 Q 448.3 262.9, 451.9 261.0 L 453.1 264.0 Q 451.6 264.9, 449.3 265.5 Q 447.1 266.1, 444.6 266.1 Q 438.5 266.1, 435.1 262.3 Q 431.9 258.5, 431.9 251.5 \" fill=\"#00CC00\"/>\n",
       "<path class=\"atom-0\" d=\"M 455.3 235.3 L 459.0 235.3 L 459.0 265.7 L 455.3 265.7 L 455.3 235.3 \" fill=\"#00CC00\"/>\n",
       "<path class=\"atom-2\" d=\"M 41.0 251.5 Q 41.0 244.4, 44.3 240.8 Q 47.6 237.0, 53.9 237.0 Q 59.7 237.0, 62.9 241.2 L 60.2 243.3 Q 57.9 240.3, 53.9 240.3 Q 49.6 240.3, 47.3 243.2 Q 45.1 246.0, 45.1 251.5 Q 45.1 257.1, 47.4 260.0 Q 49.8 262.8, 54.3 262.8 Q 57.5 262.8, 61.1 261.0 L 62.2 264.0 Q 60.7 264.9, 58.5 265.5 Q 56.3 266.0, 53.8 266.0 Q 47.6 266.0, 44.3 262.3 Q 41.0 258.5, 41.0 251.5 \" fill=\"#00CC00\"/>\n",
       "<path class=\"atom-2\" d=\"M 64.5 235.3 L 68.1 235.3 L 68.1 265.7 L 64.5 265.7 L 64.5 235.3 \" fill=\"#00CC00\"/>\n",
       "<path class=\"atom-3\" d=\"M 243.6 63.3 Q 243.6 56.2, 246.9 52.5 Q 250.2 48.8, 256.5 48.8 Q 262.3 48.8, 265.5 52.9 L 262.8 55.1 Q 260.5 52.1, 256.5 52.1 Q 252.2 52.1, 249.9 55.0 Q 247.7 57.8, 247.7 63.3 Q 247.7 68.9, 250.0 71.7 Q 252.4 74.6, 256.9 74.6 Q 260.1 74.6, 263.7 72.7 L 264.8 75.7 Q 263.3 76.7, 261.1 77.3 Q 258.9 77.8, 256.4 77.8 Q 250.2 77.8, 246.9 74.1 Q 243.6 70.3, 243.6 63.3 \" fill=\"#00CC00\"/>\n",
       "<path class=\"atom-3\" d=\"M 267.1 47.1 L 270.7 47.1 L 270.7 77.5 L 267.1 77.5 L 267.1 47.1 \" fill=\"#00CC00\"/>\n",
       "<path class=\"atom-4\" d=\"M 243.5 424.6 L 247.3 424.6 L 247.3 436.6 L 261.8 436.6 L 261.8 424.6 L 265.6 424.6 L 265.6 452.9 L 261.8 452.9 L 261.8 439.8 L 247.3 439.8 L 247.3 452.9 L 243.5 452.9 L 243.5 424.6 \" fill=\"#000000\"/>\n",
       "</svg>"
      ],
      "text/plain": [
       "<IPython.core.display.SVG object>"
      ]
     },
     "metadata": {},
     "output_type": "display_data"
    }
   ],
   "source": [
    "display(chloroform)"
   ]
  },
  {
   "cell_type": "markdown",
   "id": "efd3c369",
   "metadata": {},
   "source": [
    "## Parametrization and topology generation\n",
    "The next step is to obtain the parameters and the topology for both molecules. This procedure can be done using peleffy's regular methods."
   ]
  },
  {
   "cell_type": "code",
   "execution_count": 6,
   "id": "a768829e",
   "metadata": {},
   "outputs": [],
   "source": [
    "from peleffy.forcefield import OpenForceField\n",
    "from peleffy.topology import Topology"
   ]
  },
  {
   "cell_type": "code",
   "execution_count": 7,
   "id": "156a1ee5",
   "metadata": {},
   "outputs": [],
   "source": [
    "openff = OpenForceField('openff_unconstrained-2.0.0.offxml')"
   ]
  },
  {
   "cell_type": "code",
   "execution_count": 8,
   "id": "3298309b",
   "metadata": {},
   "outputs": [],
   "source": [
    "ethylene_params = openff.parameterize(ethylene)"
   ]
  },
  {
   "cell_type": "code",
   "execution_count": 9,
   "id": "f01f410c",
   "metadata": {},
   "outputs": [],
   "source": [
    "chloroform_params = openff.parameterize(chloroform)"
   ]
  },
  {
   "cell_type": "code",
   "execution_count": 10,
   "id": "f9b98091",
   "metadata": {},
   "outputs": [],
   "source": [
    "ethylene_top = Topology(ethylene, ethylene_params)"
   ]
  },
  {
   "cell_type": "code",
   "execution_count": 11,
   "id": "22d036e7",
   "metadata": {},
   "outputs": [],
   "source": [
    "chloroform_top = Topology(chloroform, chloroform_params)"
   ]
  },
  {
   "cell_type": "markdown",
   "id": "f4c62fb5",
   "metadata": {},
   "source": [
    "## Alchemical transformation\n",
    "Once we get the topology of both end states, we can initialize the `Alchemizer` module which will be able to generate the intermediate states according to the lambda values we supply."
   ]
  },
  {
   "cell_type": "code",
   "execution_count": 12,
   "id": "a9f217ad",
   "metadata": {},
   "outputs": [],
   "source": [
    "from peleffy.topology import Alchemizer"
   ]
  },
  {
   "cell_type": "code",
   "execution_count": 13,
   "id": "0f48e95d",
   "metadata": {},
   "outputs": [],
   "source": [
    "alchemizer = Alchemizer(ethylene_top, chloroform_top)"
   ]
  },
  {
   "cell_type": "markdown",
   "id": "060e1d8a",
   "metadata": {},
   "source": [
    "When `Alchemizer` is initialized, it tries to pair as many atom as possible between both end states, considering the Maximum Common Substructure (MCS). We can check this pairing:"
   ]
  },
  {
   "cell_type": "code",
   "execution_count": 14,
   "id": "e3abc972",
   "metadata": {},
   "outputs": [
    {
     "data": {
      "image/png": "[encoded data removed]",
      "text/plain": [
       "<PIL.PngImagePlugin.PngImageFile image mode=RGB size=600x300 at 0x7F831A92C940>"
      ]
     },
     "metadata": {},
     "output_type": "display_data"
    }
   ],
   "source": [
    "display(alchemizer)"
   ]
  },
  {
   "cell_type": "markdown",
   "id": "6f4e03a3",
   "metadata": {},
   "source": [
    "We can save end states and their hybrid structure to a PDB file. All PDB structures will be aligned according to the MCS to facilitate their comparison. The hybrid structure is the one that needs to be used in the PELE simulation since it contains all the required atoms to go from ethylene (state 1) to chloroform (state 2)."
   ]
  },
  {
   "cell_type": "code",
   "execution_count": 15,
   "id": "3f9e1fa7",
   "metadata": {},
   "outputs": [],
   "source": [
    "alchemizer.to_png('mapping.png')"
   ]
  },
  {
   "cell_type": "code",
   "execution_count": 15,
   "id": "dfd5d180",
   "metadata": {},
   "outputs": [],
   "source": [
    "alchemizer.molecule1_to_pdb('state1.pdb')\n",
    "alchemizer.molecule2_to_pdb('state2.pdb')\n",
    "alchemizer.hybrid_to_pdb('hybrid.pdb')"
   ]
  },
  {
   "cell_type": "markdown",
   "id": "0d969206",
   "metadata": {},
   "source": [
    "We can generate Impact templates with the `get_alchemical_topology()` method. It assigns the parameters to the hybrid structure according to the lambda value that we supply. Lambda values need to be contained between 0 and 1. A lambda of 0 represent state 1, a lambda of 1 represents state 2 and any value in between will be used to interpolate the parameters of each end state. There are different types of lambdas depending on the subset of parameters they modify:\n",
    "- `fep_lambda`: it affects all the parameters.\n",
    "- `coul_lambda`: it only affects coulombic parameters of both molecules. It has precedence over `fep_lambda`.\n",
    "- `coul1_lambda`: it only affects coulombic parameters of exclusive atoms of molecule 1. It has precedence over `coul_lambda` and `fep_lambda`.\n",
    "- `coul2_lambda`: it only affects coulombic parameters of exclusive atoms of molecule 2. It has precedence over `coul_lambda` and `fep_lambda`.\n",
    "- `vdw_lambda`: it only affects van der Waals parameters. It has precedence over `fep_lambda`.\n",
    "- `bonded_lambda`: it only affects bonded parameters. It has precedence over `fep_lambda`."
   ]
  },
  {
   "cell_type": "markdown",
   "id": "dca8fe33",
   "metadata": {},
   "source": [
    "### Generate 9 alchemical states with `fep_lambda`"
   ]
  },
  {
   "cell_type": "code",
   "execution_count": 16,
   "id": "d2755d38",
   "metadata": {},
   "outputs": [],
   "source": [
    "from peleffy.template import Impact"
   ]
  },
  {
   "cell_type": "code",
   "execution_count": 17,
   "id": "c122989b",
   "metadata": {},
   "outputs": [],
   "source": [
    "fep_lambdas = [0.0, 0.1, 0.2, 0.3, 0.4, 0.5, 0.6, 0.7, 0.8, 0.9, 1.0]"
   ]
  },
  {
   "cell_type": "code",
   "execution_count": 18,
   "id": "3de20abb",
   "metadata": {},
   "outputs": [],
   "source": [
    "for fep_lambda in fep_lambdas:\n",
    "    alchemical_top = alchemizer.get_alchemical_topology(fep_lambda=fep_lambda)\n",
    "    \n",
    "    template = Impact(alchemical_top)\n",
    "    template.to_file(f'hybz_{fep_lambda}')"
   ]
  },
  {
   "cell_type": "code",
   "execution_count": 19,
   "id": "1daf5d3d",
   "metadata": {},
   "outputs": [],
   "source": [
    "for fep_lambda in fep_lambdas:\n",
    "    alchemizer.rotamer_library_to_file(\n",
    "        f'HYB.rot.assign{fep_lambda}',\n",
    "        fep_lambda=fep_lambda)"
   ]
  },
  {
   "cell_type": "code",
   "execution_count": 20,
   "id": "88c3359e",
   "metadata": {},
   "outputs": [],
   "source": [
    "for fep_lambda in fep_lambdas:\n",
    "    alchemizer.obc_parameters_to_file(\n",
    "        f'ligandParams_{fep_lambda}.txt',\n",
    "        fep_lambda=fep_lambda)"
   ]
  },
  {
   "cell_type": "markdown",
   "id": "c0a3df45",
   "metadata": {},
   "source": [
    "### Generate 14 alchemical states decoupling coulombic parameters"
   ]
  },
  {
   "cell_type": "code",
   "execution_count": 21,
   "id": "8fedaec6",
   "metadata": {},
   "outputs": [],
   "source": [
    "fep_lambdas =   [0.0, 0.0, 0.0, 0.0, 0.0,\n",
    "                 0.0, 0.2, 0.4, 0.6, 0.8,\n",
    "                 1.0, 1.0, 1.0, 1.0, 1.0, 1.0]\n",
    "coul1_lambdas = [0.0, 0.2, 0.4, 0.6, 0.8,\n",
    "                 1.0, 1.0, 1.0, 1.0, 1.0,\n",
    "                 1.0, 1.0, 1.0, 1.0, 1.0, 1.0]\n",
    "coul2_lambdas = [0.0, 0.0, 0.0, 0.0, 0.0,\n",
    "                 0.0, 0.0, 0.0, 0.0, 0.0,\n",
    "                 0.0, 0.2, 0.4, 0.6, 0.8, 1.0]"
   ]
  },
  {
   "cell_type": "code",
   "execution_count": 22,
   "id": "aa62b7ce",
   "metadata": {},
   "outputs": [],
   "source": [
    "for i, (fep_lambda, coul1_lambda, coul2_lambda) \\\n",
    "        in enumerate(zip(fep_lambdas, coul1_lambdas, coul2_lambdas)):\n",
    "    alchemical_top = alchemizer.get_alchemical_topology(\n",
    "        fep_lambda=fep_lambda,\n",
    "        coul1_lambda=coul1_lambda,\n",
    "        coul2_lambda=coul2_lambda)\n",
    "    \n",
    "    template = Impact(alchemical_top)\n",
    "    template.to_file(f'hybz_{i}')"
   ]
  },
  {
   "cell_type": "code",
   "execution_count": 23,
   "id": "619ed3b0",
   "metadata": {},
   "outputs": [],
   "source": [
    "for i, (fep_lambda, coul1_lambda, coul2_lambda) \\\n",
    "        in enumerate(zip(fep_lambdas, coul1_lambdas, coul2_lambdas)):\n",
    "    alchemizer.rotamer_library_to_file(\n",
    "        f'HYB.rot.assign{i}',\n",
    "        fep_lambda=fep_lambda,\n",
    "        coul1_lambda=coul1_lambda,\n",
    "        coul2_lambda=coul2_lambda)"
   ]
  },
  {
   "cell_type": "code",
   "execution_count": 24,
   "id": "f230a7cc",
   "metadata": {},
   "outputs": [],
   "source": [
    "for i, (fep_lambda, coul1_lambda, coul2_lambda) \\\n",
    "        in enumerate(zip(fep_lambdas, coul1_lambdas, coul2_lambdas)):\n",
    "    alchemizer.obc_parameters_to_file(\n",
    "        f'ligandParams_{i}.txt',\n",
    "        fep_lambda=fep_lambda,\n",
    "        coul1_lambda=coul1_lambda,\n",
    "        coul2_lambda=coul2_lambda)"
   ]
  }
 ],
 "metadata": {
  "kernelspec": {
   "display_name": "Python 3 (ipykernel)",
   "language": "python",
   "name": "python3"
  },
  "language_info": {
   "codemirror_mode": {
    "name": "ipython",
    "version": 3
   },
   "file_extension": ".py",
   "mimetype": "text/x-python",
   "name": "python",
   "nbconvert_exporter": "python",
   "pygments_lexer": "ipython3",
   "version": "3.8.12"
  }
 },
 "nbformat": 4,
 "nbformat_minor": 5
}
