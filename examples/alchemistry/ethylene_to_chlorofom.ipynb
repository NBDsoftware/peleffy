{
 "cells": [
  {
   "cell_type": "markdown",
   "id": "39a83a13",
   "metadata": {},
   "source": [
    "# Alchemical transformation example\n",
    "This example shows how to transform ethylene to chloroform using the Alchemistry module of peleffy."
   ]
  },
  {
   "cell_type": "markdown",
   "id": "3c3f4dfc",
   "metadata": {},
   "source": [
    "## Initialize both molecules\n",
    "The alchemical transformation requires the end states to be previously defined. We can initialize both molecules with peleffy with the standard `Molecule` representation. In this case, we define them using SMILES notation. However, we can also initialize them from PDB files."
   ]
  },
  {
   "cell_type": "code",
   "execution_count": 1,
   "id": "ac61ec6b",
   "metadata": {},
   "outputs": [],
   "source": [
    "from peleffy.topology import Molecule"
   ]
  },
  {
   "cell_type": "code",
   "execution_count": 2,
   "id": "c0edf576",
   "metadata": {},
   "outputs": [
    {
     "name": "stderr",
     "output_type": "stream",
     "text": [
      " - Initializing molecule from a SMILES tag\n",
      "   - Loading molecule from RDKit\n",
      "   - Representing molecule with the Open Force Field Toolkit\n",
      " - Generating rotamer library\n",
      "   - Core set to the center of the molecule\n"
     ]
    }
   ],
   "source": [
    "ethylene = Molecule(smiles='C=C', hydrogens_are_explicit=False,\n",
    "                    name='ethylene', tag='ETH')"
   ]
  },
  {
   "cell_type": "code",
   "execution_count": 3,
   "id": "688db3ee",
   "metadata": {},
   "outputs": [
    {
     "name": "stderr",
     "output_type": "stream",
     "text": [
      " - Initializing molecule from a SMILES tag\n",
      "   - Loading molecule from RDKit\n",
      "   - Representing molecule with the Open Force Field Toolkit\n",
      " - Generating rotamer library\n",
      "   - Core set to the center of the molecule\n"
     ]
    }
   ],
   "source": [
    "chloroform = Molecule(smiles='ClC(Cl)Cl', hydrogens_are_explicit=False,\n",
    "                      name='chloroform', tag='CHL')"
   ]
  },
  {
   "cell_type": "markdown",
   "id": "07bce84e",
   "metadata": {},
   "source": [
    "Once they are loaded, we can check if they were properly defined:"
   ]
  },
  {
   "cell_type": "code",
   "execution_count": 4,
   "id": "bb8ff83d",
   "metadata": {},
   "outputs": [
    {
     "data": {
      "image/svg+xml": [
       "<svg baseProfile=\"full\" height=\"500px\" version=\"1.1\" viewBox=\"0 0 500 500\" width=\"500px\" xml:space=\"preserve\" xmlns=\"http://www.w3.org/2000/svg\" xmlns:rdkit=\"http://www.rdkit.org/xml\" xmlns:xlink=\"http://www.w3.org/1999/xlink\">\n",
       "<!-- END OF HEADER -->\n",
       "<rect height=\"500\" style=\"opacity:1.0;fill:#FFFFFF;stroke:none\" width=\"500\" x=\"0\" y=\"0\"> </rect>\n",
       "<path class=\"bond-0 atom-0 atom-1\" d=\"M 141.4,250 L 358.6,250\" style=\"fill:none;fill-rule:evenodd;stroke:#000000;stroke-width:4.0px;stroke-linecap:butt;stroke-linejoin:miter;stroke-opacity:1\"/>\n",
       "<path class=\"bond-0 atom-0 atom-1\" d=\"M 173.98,206.56 L 326.02,206.56\" style=\"fill:none;fill-rule:evenodd;stroke:#000000;stroke-width:4.0px;stroke-linecap:butt;stroke-linejoin:miter;stroke-opacity:1\"/>\n",
       "<path class=\"bond-1 atom-0 atom-2\" d=\"M 141.4,250 L 44.1095,81.4886\" style=\"fill:none;fill-rule:evenodd;stroke:#000000;stroke-width:4.0px;stroke-linecap:butt;stroke-linejoin:miter;stroke-opacity:1\"/>\n",
       "<path class=\"bond-2 atom-0 atom-3\" d=\"M 141.4,250 L 44.1095,418.511\" style=\"fill:none;fill-rule:evenodd;stroke:#000000;stroke-width:4.0px;stroke-linecap:butt;stroke-linejoin:miter;stroke-opacity:1\"/>\n",
       "<path class=\"bond-3 atom-1 atom-4\" d=\"M 358.6,250 L 455.891,418.511\" style=\"fill:none;fill-rule:evenodd;stroke:#000000;stroke-width:4.0px;stroke-linecap:butt;stroke-linejoin:miter;stroke-opacity:1\"/>\n",
       "<path class=\"bond-4 atom-1 atom-5\" d=\"M 358.6,250 L 455.891,81.4886\" style=\"fill:none;fill-rule:evenodd;stroke:#000000;stroke-width:4.0px;stroke-linecap:butt;stroke-linejoin:miter;stroke-opacity:1\"/>\n",
       "<path class=\"atom-2\" d=\"M 21.7192 47.7386 L 25.5592 47.7386 L 25.5592 59.7786 L 40.0392 59.7786 L 40.0392 47.7386 L 43.8792 47.7386 L 43.8792 76.0586 L 40.0392 76.0586 L 40.0392 62.9786 L 25.5592 62.9786 L 25.5592 76.0586 L 21.7192 76.0586 L 21.7192 47.7386 \" fill=\"#000000\"/>\n",
       "<path class=\"atom-3\" d=\"M 21.7192 423.941 L 25.5592 423.941 L 25.5592 435.981 L 40.0392 435.981 L 40.0392 423.941 L 43.8792 423.941 L 43.8792 452.261 L 40.0392 452.261 L 40.0392 439.181 L 25.5592 439.181 L 25.5592 452.261 L 21.7192 452.261 L 21.7192 423.941 \" fill=\"#000000\"/>\n",
       "<path class=\"atom-4\" d=\"M 456.121 423.941 L 459.961 423.941 L 459.961 435.981 L 474.441 435.981 L 474.441 423.941 L 478.281 423.941 L 478.281 452.261 L 474.441 452.261 L 474.441 439.181 L 459.961 439.181 L 459.961 452.261 L 456.121 452.261 L 456.121 423.941 \" fill=\"#000000\"/>\n",
       "<path class=\"atom-5\" d=\"M 456.121 47.7386 L 459.961 47.7386 L 459.961 59.7786 L 474.441 59.7786 L 474.441 47.7386 L 478.281 47.7386 L 478.281 76.0586 L 474.441 76.0586 L 474.441 62.9786 L 459.961 62.9786 L 459.961 76.0586 L 456.121 76.0586 L 456.121 47.7386 \" fill=\"#000000\"/>\n",
       "</svg>"
      ],
      "text/plain": [
       "<IPython.core.display.SVG object>"
      ]
     },
     "metadata": {},
     "output_type": "display_data"
    }
   ],
   "source": [
    "display(ethylene)"
   ]
  },
  {
   "cell_type": "code",
   "execution_count": 5,
   "id": "9e50d36e",
   "metadata": {},
   "outputs": [
    {
     "data": {
      "image/svg+xml": [
       "<svg baseProfile=\"full\" height=\"500px\" version=\"1.1\" viewBox=\"0 0 500 500\" width=\"500px\" xml:space=\"preserve\" xmlns=\"http://www.w3.org/2000/svg\" xmlns:rdkit=\"http://www.rdkit.org/xml\" xmlns:xlink=\"http://www.w3.org/1999/xlink\">\n",
       "<!-- END OF HEADER -->\n",
       "<rect height=\"500\" style=\"opacity:1.0;fill:#FFFFFF;stroke:none\" width=\"500\" x=\"0\" y=\"0\"> </rect>\n",
       "<path class=\"bond-0 atom-0 atom-1\" d=\"M 444.785,250.464 L 349.456,250.464\" style=\"fill:none;fill-rule:evenodd;stroke:#00CC00;stroke-width:4.0px;stroke-linecap:butt;stroke-linejoin:miter;stroke-opacity:1\"/>\n",
       "<path class=\"bond-0 atom-0 atom-1\" d=\"M 349.456,250.464 L 254.127,250.464\" style=\"fill:none;fill-rule:evenodd;stroke:#000000;stroke-width:4.0px;stroke-linecap:butt;stroke-linejoin:miter;stroke-opacity:1\"/>\n",
       "<path class=\"bond-1 atom-1 atom-2\" d=\"M 254.127,250.464 L 154.258,250.464\" style=\"fill:none;fill-rule:evenodd;stroke:#000000;stroke-width:4.0px;stroke-linecap:butt;stroke-linejoin:miter;stroke-opacity:1\"/>\n",
       "<path class=\"bond-1 atom-1 atom-2\" d=\"M 154.258,250.464 L 54.389,250.464\" style=\"fill:none;fill-rule:evenodd;stroke:#00CC00;stroke-width:4.0px;stroke-linecap:butt;stroke-linejoin:miter;stroke-opacity:1\"/>\n",
       "<path class=\"bond-2 atom-1 atom-3\" d=\"M 254.127,250.464 L 254.127,157.445\" style=\"fill:none;fill-rule:evenodd;stroke:#000000;stroke-width:4.0px;stroke-linecap:butt;stroke-linejoin:miter;stroke-opacity:1\"/>\n",
       "<path class=\"bond-2 atom-1 atom-3\" d=\"M 254.127,157.445 L 254.127,64.4256\" style=\"fill:none;fill-rule:evenodd;stroke:#00CC00;stroke-width:4.0px;stroke-linecap:butt;stroke-linejoin:miter;stroke-opacity:1\"/>\n",
       "<path class=\"bond-3 atom-1 atom-4\" d=\"M 254.127,250.464 L 254.127,437.882\" style=\"fill:none;fill-rule:evenodd;stroke:#000000;stroke-width:4.0px;stroke-linecap:butt;stroke-linejoin:miter;stroke-opacity:1\"/>\n",
       "<path class=\"atom-0\" d=\"M 449.954 251.444 Q 449.954 244.404, 453.234 240.724 Q 456.554 237.004, 462.834 237.004 Q 468.674 237.004, 471.794 241.124 L 469.154 243.284 Q 466.874 240.284, 462.834 240.284 Q 458.554 240.284, 456.274 243.164 Q 454.034 246.004, 454.034 251.444 Q 454.034 257.044, 456.354 259.924 Q 458.714 262.804, 463.274 262.804 Q 466.394 262.804, 470.034 260.924 L 471.154 263.924 Q 469.674 264.884, 467.434 265.444 Q 465.194 266.004, 462.714 266.004 Q 456.554 266.004, 453.234 262.244 Q 449.954 258.484, 449.954 251.444 \" fill=\"#00CC00\"/>\n",
       "<path class=\"atom-0\" d=\"M 475.234 235.284 L 478.914 235.284 L 478.914 265.644 L 475.234 265.644 L 475.234 235.284 \" fill=\"#00CC00\"/>\n",
       "<path class=\"atom-2\" d=\"M 20.2603 251.444 Q 20.2603 244.404, 23.5403 240.724 Q 26.8603 237.004, 33.1403 237.004 Q 38.9803 237.004, 42.1003 241.124 L 39.4603 243.284 Q 37.1803 240.284, 33.1403 240.284 Q 28.8603 240.284, 26.5803 243.164 Q 24.3403 246.004, 24.3403 251.444 Q 24.3403 257.044, 26.6603 259.924 Q 29.0203 262.804, 33.5803 262.804 Q 36.7003 262.804, 40.3403 260.924 L 41.4603 263.924 Q 39.9803 264.884, 37.7403 265.444 Q 35.5003 266.004, 33.0203 266.004 Q 26.8603 266.004, 23.5403 262.244 Q 20.2603 258.484, 20.2603 251.444 \" fill=\"#00CC00\"/>\n",
       "<path class=\"atom-2\" d=\"M 45.5403 235.284 L 49.2203 235.284 L 49.2203 265.644 L 45.5403 265.644 L 45.5403 235.284 \" fill=\"#00CC00\"/>\n",
       "<path class=\"atom-3\" d=\"M 243.207 44.6969 Q 243.207 37.6569, 246.487 33.9769 Q 249.807 30.2569, 256.087 30.2569 Q 261.927 30.2569, 265.047 34.3769 L 262.407 36.5369 Q 260.127 33.5369, 256.087 33.5369 Q 251.807 33.5369, 249.527 36.4169 Q 247.287 39.2569, 247.287 44.6969 Q 247.287 50.2969, 249.607 53.1769 Q 251.967 56.0569, 256.527 56.0569 Q 259.647 56.0569, 263.287 54.1769 L 264.407 57.1769 Q 262.927 58.1369, 260.687 58.6969 Q 258.447 59.2569, 255.967 59.2569 Q 249.807 59.2569, 246.487 55.4969 Q 243.207 51.7369, 243.207 44.6969 \" fill=\"#00CC00\"/>\n",
       "<path class=\"atom-3\" d=\"M 268.487 28.5369 L 272.167 28.5369 L 272.167 58.8969 L 268.487 58.8969 L 268.487 28.5369 \" fill=\"#00CC00\"/>\n",
       "<path class=\"atom-4\" d=\"M 243.047 443.05 L 246.887 443.05 L 246.887 455.09 L 261.367 455.09 L 261.367 443.05 L 265.207 443.05 L 265.207 471.37 L 261.367 471.37 L 261.367 458.29 L 246.887 458.29 L 246.887 471.37 L 243.047 471.37 L 243.047 443.05 \" fill=\"#000000\"/>\n",
       "</svg>"
      ],
      "text/plain": [
       "<IPython.core.display.SVG object>"
      ]
     },
     "metadata": {},
     "output_type": "display_data"
    }
   ],
   "source": [
    "display(chloroform)"
   ]
  },
  {
   "cell_type": "markdown",
   "id": "efd3c369",
   "metadata": {},
   "source": [
    "## Parametrization and topology generation\n",
    "The next step is to obtain the parameters and the topology for both molecules. This procedure can be done using peleffy's regular methods."
   ]
  },
  {
   "cell_type": "code",
   "execution_count": 6,
   "id": "a768829e",
   "metadata": {},
   "outputs": [],
   "source": [
    "from peleffy.forcefield import OpenForceField\n",
    "from peleffy.topology import Topology"
   ]
  },
  {
   "cell_type": "code",
   "execution_count": 7,
   "id": "156a1ee5",
   "metadata": {},
   "outputs": [],
   "source": [
    "openff = OpenForceField('openff_unconstrained-2.0.0.offxml')"
   ]
  },
  {
   "cell_type": "code",
   "execution_count": 8,
   "id": "3298309b",
   "metadata": {},
   "outputs": [],
   "source": [
    "ethylene_params = openff.parameterize(ethylene)"
   ]
  },
  {
   "cell_type": "code",
   "execution_count": 9,
   "id": "f01f410c",
   "metadata": {},
   "outputs": [],
   "source": [
    "chloroform_params = openff.parameterize(chloroform)"
   ]
  },
  {
   "cell_type": "code",
   "execution_count": 10,
   "id": "f9b98091",
   "metadata": {},
   "outputs": [],
   "source": [
    "ethylene_top = Topology(ethylene, ethylene_params)"
   ]
  },
  {
   "cell_type": "code",
   "execution_count": 11,
   "id": "22d036e7",
   "metadata": {},
   "outputs": [],
   "source": [
    "chloroform_top = Topology(chloroform, chloroform_params)"
   ]
  },
  {
   "cell_type": "markdown",
   "id": "f4c62fb5",
   "metadata": {},
   "source": [
    "## Alchemical transformation\n",
    "Once we get the topology of both end states, we can initialize the `Alchemizer` module which will be able to generate the intermediate states according to the lambda values we supply."
   ]
  },
  {
   "cell_type": "code",
   "execution_count": 12,
   "id": "a9f217ad",
   "metadata": {},
   "outputs": [],
   "source": [
    "from peleffy.topology import Alchemizer"
   ]
  },
  {
   "cell_type": "code",
   "execution_count": 13,
   "id": "0f48e95d",
   "metadata": {},
   "outputs": [],
   "source": [
    "alchemizer = Alchemizer(ethylene_top, chloroform_top)"
   ]
  },
  {
   "cell_type": "markdown",
   "id": "060e1d8a",
   "metadata": {},
   "source": [
    "When `Alchemizer` is initialized, it tries to pair as many atom as possible between both end states, considering the Maximum Common Substructure (MCS). We can check this pairing:"
   ]
  },
  {
   "cell_type": "code",
   "execution_count": 14,
   "id": "e3abc972",
   "metadata": {},
   "outputs": [
    {
     "data": {
      "image/png": "[encoded data removed]",
      "text/plain": [
       "<IPython.core.display.Image object>"
      ]
     },
     "metadata": {},
     "output_type": "display_data"
    }
   ],
   "source": [
    "display(alchemizer)"
   ]
  },
  {
   "cell_type": "markdown",
   "id": "6f4e03a3",
   "metadata": {},
   "source": [
    "We can save end states and their hybrid structure to a PDB file. All PDB structures will be aligned according to the MCS to facilitate their comparison. The hybrid structure is the one that needs to be used in the PELE simulation since it contains all the required atoms to go from ethylene (state 1) to chloroform (state 2)."
   ]
  },
  {
   "cell_type": "code",
   "execution_count": 15,
   "id": "dfd5d180",
   "metadata": {},
   "outputs": [],
   "source": [
    "alchemizer.molecule1_to_pdb('state1.pdb')\n",
    "alchemizer.molecule2_to_pdb('state2.pdb')\n",
    "alchemizer.hybrid_to_pdb('hybrid.pdb')"
   ]
  },
  {
   "cell_type": "markdown",
   "id": "0d969206",
   "metadata": {},
   "source": [
    "We can generate Impact templates with the `get_alchemical_topology()` method. It assigns the parameters to the hybrid structure according to the lambda value that we supply. Lambda values need to be contained between 0 and 1. A lambda of 0 represent state 1, a lambda of 1 represents state 2 and any value in between will be used to interpolate the parameters of each end state. There are different types of lambdas depending on the subset of parameters they modify:\n",
    "- `fep_lambda`: it affects all the parameters.\n",
    "- `coul_lambda`: it only affects coulombic parameters of both molecules. It has precedence over `fep_lambda`.\n",
    "- `coul1_lambda`: it only affects coulombic parameters of exclusive atoms of molecule 1. It has precedence over `coul_lambda` and `fep_lambda`.\n",
    "- `coul2_lambda`: it only affects coulombic parameters of exclusive atoms of molecule 2. It has precedence over `coul_lambda` and `fep_lambda`.\n",
    "- `vdw_lambda`: it only affects van der Waals parameters. It has precedence over `fep_lambda`.\n",
    "- `bonded_lambda`: it only affects bonded parameters. It has precedence over `fep_lambda`."
   ]
  },
  {
   "cell_type": "markdown",
   "id": "dca8fe33",
   "metadata": {},
   "source": [
    "### Generate 9 alchemical states with `fep_lambda`"
   ]
  },
  {
   "cell_type": "code",
   "execution_count": 16,
   "id": "d2755d38",
   "metadata": {},
   "outputs": [],
   "source": [
    "from peleffy.template import Impact"
   ]
  },
  {
   "cell_type": "code",
   "execution_count": 17,
   "id": "c122989b",
   "metadata": {},
   "outputs": [],
   "source": [
    "fep_lambdas = [0.0, 0.1, 0.2, 0.3, 0.4, 0.5, 0.6, 0.7, 0.8, 0.9, 1.0]"
   ]
  },
  {
   "cell_type": "code",
   "execution_count": 18,
   "id": "3de20abb",
   "metadata": {},
   "outputs": [],
   "source": [
    "for fep_lambda in fep_lambdas:\n",
    "    alchemical_top = alchemizer.get_alchemical_topology(fep_lambda=fep_lambda)\n",
    "    \n",
    "    template = Impact(alchemical_top)\n",
    "    template.to_file(f'hybz_{fep_lambda}')"
   ]
  },
  {
   "cell_type": "code",
   "execution_count": 19,
   "id": "1daf5d3d",
   "metadata": {},
   "outputs": [],
   "source": [
    "for fep_lambda in fep_lambdas:\n",
    "    alchemizer.rotamer_library_to_file(\n",
    "        f'HYB.rot.assign{fep_lambda}',\n",
    "        fep_lambda=fep_lambda)"
   ]
  },
  {
   "cell_type": "code",
   "execution_count": 20,
   "id": "7119e7ef",
   "metadata": {},
   "outputs": [],
   "source": [
    "for fep_lambda in fep_lambdas:\n",
    "    alchemizer.obc_parameters_to_file(\n",
    "        f'ligandParams_{fep_lambda}.txt',\n",
    "        fep_lambda=fep_lambda)"
   ]
  },
  {
   "cell_type": "markdown",
   "id": "c0a3df45",
   "metadata": {},
   "source": [
    "### Generate 14 alchemical states decoupling coulombic parameters"
   ]
  },
  {
   "cell_type": "code",
   "execution_count": 21,
   "id": "8fedaec6",
   "metadata": {},
   "outputs": [],
   "source": [
    "fep_lambdas =   [0.0, 0.0, 0.0, 0.0, 0.0,\n",
    "                 0.0, 0.2, 0.4, 0.6, 0.8,\n",
    "                 1.0, 1.0, 1.0, 1.0, 1.0, 1.0]\n",
    "coul1_lambdas = [0.0, 0.2, 0.4, 0.6, 0.8,\n",
    "                 1.0, 1.0, 1.0, 1.0, 1.0,\n",
    "                 1.0, 1.0, 1.0, 1.0, 1.0, 1.0]\n",
    "coul2_lambdas = [0.0, 0.0, 0.0, 0.0, 0.0,\n",
    "                 0.0, 0.0, 0.0, 0.0, 0.0,\n",
    "                 0.0, 0.2, 0.4, 0.6, 0.8, 1.0]"
   ]
  },
  {
   "cell_type": "code",
   "execution_count": 22,
   "id": "aa62b7ce",
   "metadata": {},
   "outputs": [],
   "source": [
    "for i, (fep_lambda, coul1_lambda, coul2_lambda) \\\n",
    "        in enumerate(zip(fep_lambdas, coul1_lambdas, coul2_lambdas)):\n",
    "    alchemical_top = alchemizer.get_alchemical_topology(\n",
    "        fep_lambda=fep_lambda,\n",
    "        coul1_lambda=coul1_lambda,\n",
    "        coul2_lambda=coul2_lambda)\n",
    "    \n",
    "    template = Impact(alchemical_top)\n",
    "    template.to_file(f'hybz_{i}')"
   ]
  },
  {
   "cell_type": "code",
   "execution_count": 23,
   "id": "619ed3b0",
   "metadata": {},
   "outputs": [],
   "source": [
    "for i, (fep_lambda, coul1_lambda, coul2_lambda) \\\n",
    "        in enumerate(zip(fep_lambdas, coul1_lambdas, coul2_lambdas)):\n",
    "    alchemizer.rotamer_library_to_file(\n",
    "        f'HYB.rot.assign{i}',\n",
    "        fep_lambda=fep_lambda,\n",
    "        coul1_lambda=coul1_lambda,\n",
    "        coul2_lambda=coul2_lambda)"
   ]
  },
  {
   "cell_type": "code",
   "execution_count": 24,
   "id": "615e7dea",
   "metadata": {},
   "outputs": [],
   "source": [
    "for i, (fep_lambda, coul1_lambda, coul2_lambda) \\\n",
    "        in enumerate(zip(fep_lambdas, coul1_lambdas, coul2_lambdas)):\n",
    "    alchemizer.obc_parameters_to_file(\n",
    "        f'ligandParams_{i}.txt',\n",
    "        fep_lambda=fep_lambda,\n",
    "        coul1_lambda=coul1_lambda,\n",
    "        coul2_lambda=coul2_lambda)"
   ]
  }
 ],
 "metadata": {
  "kernelspec": {
   "display_name": "Python 3",
   "language": "python",
   "name": "python3"
  },
  "language_info": {
   "codemirror_mode": {
    "name": "ipython",
    "version": 3
   },
   "file_extension": ".py",
   "mimetype": "text/x-python",
   "name": "python",
   "nbconvert_exporter": "python",
   "pygments_lexer": "ipython3",
   "version": "3.7.10"
  }
 },
 "nbformat": 4,
 "nbformat_minor": 5
}
