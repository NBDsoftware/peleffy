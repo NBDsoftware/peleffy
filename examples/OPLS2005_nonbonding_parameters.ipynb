{
 "cells": [
  {
   "cell_type": "markdown",
   "metadata": {},
   "source": [
    "# Combining OPLS2005 nonbonding parameters with OFF"
   ]
  },
  {
   "cell_type": "code",
   "execution_count": 1,
   "metadata": {},
   "outputs": [],
   "source": [
    "import os\n",
    "os.environ[\"SCHRODINGER\"] = \"/opt/schrodinger/suites2020-2/\""
   ]
  },
  {
   "cell_type": "code",
   "execution_count": 2,
   "metadata": {},
   "outputs": [],
   "source": [
    "from offpele.topology import Molecule"
   ]
  },
  {
   "cell_type": "code",
   "execution_count": 3,
   "metadata": {},
   "outputs": [
    {
     "name": "stdout",
     "output_type": "stream",
     "text": [
      " - Constructing molecule from a SMILES tag with RDKit\n"
     ]
    },
    {
     "name": "stderr",
     "output_type": "stream",
     "text": [
      "Warning: Unable to load toolkit 'OpenEye Toolkit'. The Open Force Field Toolkit does not require the OpenEye Toolkits, and can use RDKit/AmberTools instead. However, if you have a valid license for the OpenEye Toolkits, consider installing them for faster performance and additional file format support: https://docs.eyesopen.com/toolkits/python/quickstart-python/linuxosx.html OpenEye offers free Toolkit licenses for academics: https://www.eyesopen.com/academic-licensing\n"
     ]
    },
    {
     "data": {
      "application/vnd.jupyter.widget-view+json": {
       "model_id": "c7dbd752c9a3475a8764ba14de2df36c",
       "version_major": 2,
       "version_minor": 0
      },
      "text/plain": []
     },
     "metadata": {},
     "output_type": "display_data"
    },
    {
     "name": "stdout",
     "output_type": "stream",
     "text": [
      " - Generating rotamer library\n"
     ]
    },
    {
     "data": {
      "image/png": "[encoded data removed]",
      "text/plain": [
       "<rdkit.Chem.rdchem.Mol at 0x7fb031a96530>"
      ]
     },
     "execution_count": 3,
     "metadata": {},
     "output_type": "execute_result"
    }
   ],
   "source": [
    "molecule = Molecule(smiles='CC(=O)[O-]')\n",
    "molecule.rdkit_molecule"
   ]
  },
  {
   "cell_type": "code",
   "execution_count": 4,
   "metadata": {},
   "outputs": [
    {
     "name": "stdout",
     "output_type": "stream",
     "text": [
      "C\n",
      "C\n",
      "O\n",
      "O\n",
      "H\n",
      "H\n",
      "H\n"
     ]
    }
   ],
   "source": [
    "atoms = molecule.rdkit_molecule.GetAtoms()\n",
    "for atom in atoms:\n",
    "    print(atom.GetSymbol())"
   ]
  },
  {
   "cell_type": "code",
   "execution_count": 5,
   "metadata": {},
   "outputs": [],
   "source": [
    "from offpele.utils.toolkits import SchrodingerToolkitWrapper"
   ]
  },
  {
   "cell_type": "code",
   "execution_count": 6,
   "metadata": {},
   "outputs": [],
   "source": [
    "schrodinger_toolkit = SchrodingerToolkitWrapper()\n",
    "OPLS_params = schrodinger_toolkit.get_OPLS_parameters(molecule)"
   ]
  },
  {
   "cell_type": "code",
   "execution_count": 7,
   "metadata": {
    "scrolled": true
   },
   "outputs": [
    {
     "data": {
      "text/plain": [
       "['CT', 'CO3', 'O2Z', 'O2Z', 'HC', 'HC', 'HC']"
      ]
     },
     "execution_count": 7,
     "metadata": {},
     "output_type": "execute_result"
    }
   ],
   "source": [
    "OPLS_params['atom_types']"
   ]
  },
  {
   "cell_type": "code",
   "execution_count": 8,
   "metadata": {},
   "outputs": [
    {
     "name": "stdout",
     "output_type": "stream",
     "text": [
      " - Loading forcefield\n",
      " - Computing partial charges with am1bcc\n"
     ]
    }
   ],
   "source": [
    "molecule.parameterize('openff_unconstrained-1.2.0.offxml', use_OPLS_bonds_and_angles=True)"
   ]
  },
  {
   "cell_type": "code",
   "execution_count": 9,
   "metadata": {},
   "outputs": [
    {
     "name": "stdout",
     "output_type": "stream",
     "text": [
      "_C1_\n",
      "_C2_\n",
      "_O1_\n",
      "_O2_\n",
      "_H1_\n",
      "_H2_\n",
      "_H3_\n"
     ]
    }
   ],
   "source": [
    "atoms = molecule.atoms\n",
    "for atom in atoms:\n",
    "    print(atom.PDB_name)"
   ]
  },
  {
   "cell_type": "code",
   "execution_count": 10,
   "metadata": {},
   "outputs": [],
   "source": [
    "molecule.add_OPLS_nonbonding_params()"
   ]
  },
  {
   "cell_type": "code",
   "execution_count": 11,
   "metadata": {},
   "outputs": [],
   "source": [
    "from offpele.template import Impact\n",
    "\n",
    "impact_template = Impact(molecule)\n",
    "impact_template.write('test')"
   ]
  },
  {
   "cell_type": "code",
   "execution_count": 6,
   "metadata": {},
   "outputs": [],
   "source": [
    "from simtk import unit\n",
    "\n",
    "a = unit.Quantity(1, unit.angstrom)"
   ]
  },
  {
   "cell_type": "code",
   "execution_count": 4,
   "metadata": {},
   "outputs": [],
   "source": [
    "molecule.to_pdb_file('met.pdb')"
   ]
  },
  {
   "cell_type": "code",
   "execution_count": 23,
   "metadata": {},
   "outputs": [
    {
     "name": "stdout",
     "output_type": "stream",
     "text": [
      " - Constructing molecule from a SMILES tag with RDKit\n",
      " - Generating rotamer library\n",
      " - Loading forcefield\n",
      " - Computing partial charges with am1bcc\n"
     ]
    }
   ],
   "source": [
    "molecule = Molecule(smiles='C=CCO')\n",
    "molecule.parameterize('openff_unconstrained-1.2.0.offxml')"
   ]
  },
  {
   "cell_type": "code",
   "execution_count": 18,
   "metadata": {},
   "outputs": [
    {
     "data": {
      "text/plain": [
       "[Proper(atom1_idx=0, atom2_idx=1, atom3_idx=2, atom4_idx=3, constant=0.1703506220295 kcal/mol, prefactor=1, periodicity=3),\n",
       " Proper(atom1_idx=0, atom2_idx=1, atom3_idx=2, atom4_idx=10, constant=0.05630164829856 kcal/mol, prefactor=1, periodicity=3),\n",
       " Proper(atom1_idx=0, atom2_idx=1, atom3_idx=2, atom4_idx=11, constant=0.05630164829856 kcal/mol, prefactor=1, periodicity=3),\n",
       " Proper(atom1_idx=1, atom2_idx=2, atom3_idx=3, atom4_idx=4, constant=0.1787345451317 kcal/mol, prefactor=1, periodicity=3),\n",
       " Proper(atom1_idx=1, atom2_idx=2, atom3_idx=3, atom4_idx=12, constant=0.05630164829856 kcal/mol, prefactor=1, periodicity=3),\n",
       " Proper(atom1_idx=1, atom2_idx=2, atom3_idx=3, atom4_idx=13, constant=0.05630164829856 kcal/mol, prefactor=1, periodicity=3),\n",
       " Proper(atom1_idx=2, atom2_idx=1, atom3_idx=0, atom4_idx=5, constant=0.05630164829856 kcal/mol, prefactor=1, periodicity=3),\n",
       " Proper(atom1_idx=2, atom2_idx=1, atom3_idx=0, atom4_idx=6, constant=0.05630164829856 kcal/mol, prefactor=1, periodicity=3),\n",
       " Proper(atom1_idx=2, atom2_idx=1, atom3_idx=0, atom4_idx=7, constant=0.05630164829856 kcal/mol, prefactor=1, periodicity=3),\n",
       " Proper(atom1_idx=2, atom2_idx=3, atom3_idx=4, atom4_idx=14, constant=0.595460130483 kcal/mol, prefactor=1, periodicity=3),\n",
       " Proper(atom1_idx=3, atom2_idx=2, atom3_idx=1, atom4_idx=8, constant=0.05630164829856 kcal/mol, prefactor=1, periodicity=3),\n",
       " Proper(atom1_idx=3, atom2_idx=2, atom3_idx=1, atom4_idx=9, constant=0.05630164829856 kcal/mol, prefactor=1, periodicity=3),\n",
       " Proper(atom1_idx=4, atom2_idx=3, atom3_idx=2, atom4_idx=10, constant=0.1121124146002 kcal/mol, prefactor=1, periodicity=3),\n",
       " Proper(atom1_idx=4, atom2_idx=3, atom3_idx=2, atom4_idx=11, constant=0.1121124146002 kcal/mol, prefactor=1, periodicity=3),\n",
       " Proper(atom1_idx=5, atom2_idx=0, atom3_idx=1, atom4_idx=8, constant=0.1576775373073 kcal/mol, prefactor=1, periodicity=3),\n",
       " Proper(atom1_idx=5, atom2_idx=0, atom3_idx=1, atom4_idx=9, constant=0.1576775373073 kcal/mol, prefactor=1, periodicity=3),\n",
       " Proper(atom1_idx=6, atom2_idx=0, atom3_idx=1, atom4_idx=8, constant=0.1576775373073 kcal/mol, prefactor=1, periodicity=3),\n",
       " Proper(atom1_idx=6, atom2_idx=0, atom3_idx=1, atom4_idx=9, constant=0.1576775373073 kcal/mol, prefactor=1, periodicity=3),\n",
       " Proper(atom1_idx=7, atom2_idx=0, atom3_idx=1, atom4_idx=8, constant=0.1576775373073 kcal/mol, prefactor=1, periodicity=3),\n",
       " Proper(atom1_idx=7, atom2_idx=0, atom3_idx=1, atom4_idx=9, constant=0.1576775373073 kcal/mol, prefactor=1, periodicity=3),\n",
       " Proper(atom1_idx=8, atom2_idx=1, atom3_idx=2, atom4_idx=10, constant=0.1576775373073 kcal/mol, prefactor=1, periodicity=3),\n",
       " Proper(atom1_idx=8, atom2_idx=1, atom3_idx=2, atom4_idx=11, constant=0.1576775373073 kcal/mol, prefactor=1, periodicity=3),\n",
       " Proper(atom1_idx=9, atom2_idx=1, atom3_idx=2, atom4_idx=10, constant=0.1576775373073 kcal/mol, prefactor=1, periodicity=3),\n",
       " Proper(atom1_idx=9, atom2_idx=1, atom3_idx=2, atom4_idx=11, constant=0.1576775373073 kcal/mol, prefactor=1, periodicity=3),\n",
       " Proper(atom1_idx=10, atom2_idx=2, atom3_idx=3, atom4_idx=12, constant=0.1576775373073 kcal/mol, prefactor=1, periodicity=3),\n",
       " Proper(atom1_idx=10, atom2_idx=2, atom3_idx=3, atom4_idx=13, constant=0.1576775373073 kcal/mol, prefactor=1, periodicity=3),\n",
       " Proper(atom1_idx=11, atom2_idx=2, atom3_idx=3, atom4_idx=12, constant=0.1576775373073 kcal/mol, prefactor=1, periodicity=3),\n",
       " Proper(atom1_idx=11, atom2_idx=2, atom3_idx=3, atom4_idx=13, constant=0.1576775373073 kcal/mol, prefactor=1, periodicity=3),\n",
       " Proper(atom1_idx=12, atom2_idx=3, atom3_idx=4, atom4_idx=14, constant=0.23550360578946666 kcal/mol, prefactor=1, periodicity=3),\n",
       " Proper(atom1_idx=13, atom2_idx=3, atom3_idx=4, atom4_idx=14, constant=0.23550360578946666 kcal/mol, prefactor=1, periodicity=3),\n",
       " Proper(atom1_idx=0, atom2_idx=1, atom3_idx=2, atom4_idx=3, constant=0.198190228795 kcal/mol, prefactor=-1, periodicity=2),\n",
       " Proper(atom1_idx=2, atom2_idx=3, atom3_idx=4, atom4_idx=14, constant=0.01707655737107 kcal/mol, prefactor=1, periodicity=1),\n",
       " Proper(atom1_idx=4, atom2_idx=3, atom3_idx=2, atom4_idx=10, constant=0.3925917084552 kcal/mol, prefactor=1, periodicity=1),\n",
       " Proper(atom1_idx=4, atom2_idx=3, atom3_idx=2, atom4_idx=11, constant=0.3925917084552 kcal/mol, prefactor=1, periodicity=1),\n",
       " Proper(atom1_idx=0, atom2_idx=1, atom3_idx=2, atom4_idx=3, constant=0.2452303834803 kcal/mol, prefactor=-1, periodicity=1)]"
      ]
     },
     "execution_count": 18,
     "metadata": {},
     "output_type": "execute_result"
    }
   ],
   "source": [
    "molecule.propers"
   ]
  },
  {
   "cell_type": "code",
   "execution_count": 24,
   "metadata": {},
   "outputs": [
    {
     "data": {
      "text/plain": [
       "{(0,\n",
       "  1,\n",
       "  2,\n",
       "  3): <ProperTorsionType with smirks: [*:1]-[#6X4:2]-[#6X3:3]=[*:4]  periodicity1: 2  phase1: 0.0 deg  id: t20  k1: -0.3997707339638 kcal/mol  idivf1: 1.0  >,\n",
       " (0,\n",
       "  1,\n",
       "  2,\n",
       "  7): <ProperTorsionType with smirks: [#1:1]-[#6X4:2]-[#6X3:3]=[#6X3:4]  periodicity1: 3  periodicity2: 1  phase1: 180.0 deg  phase2: 0.0 deg  id: t19  k1: 0.1601667655315 kcal/mol  k2: -0.006328248045669 kcal/mol  idivf1: 1.0  idivf2: 1.0  >,\n",
       " (0,\n",
       "  1,\n",
       "  2,\n",
       "  8): <ProperTorsionType with smirks: [#1:1]-[#6X4:2]-[#6X3:3]=[#6X3:4]  periodicity1: 3  periodicity2: 1  phase1: 180.0 deg  phase2: 0.0 deg  id: t19  k1: 0.1601667655315 kcal/mol  k2: -0.006328248045669 kcal/mol  idivf1: 1.0  idivf2: 1.0  >,\n",
       " (1,\n",
       "  2,\n",
       "  3,\n",
       "  9): <ProperTorsionType with smirks: [*:1]-[#6X4:2]-[#8X2:3]-[#1:4]  periodicity1: 3  phase1: 0.0 deg  id: t84  k1: 0.7065108173684 kcal/mol  idivf1: 3.0  >,\n",
       " (2,\n",
       "  1,\n",
       "  0,\n",
       "  4): <ProperTorsionType with smirks: [*:1]-,:[#6X3:2]=[#6X3:3]-,:[*:4]  periodicity1: 2  phase1: 180.0 deg  id: t45  k1: 5.376019778605 kcal/mol  idivf1: 1.0  >,\n",
       " (2,\n",
       "  1,\n",
       "  0,\n",
       "  5): <ProperTorsionType with smirks: [*:1]-,:[#6X3:2]=[#6X3:3]-,:[*:4]  periodicity1: 2  phase1: 180.0 deg  id: t45  k1: 5.376019778605 kcal/mol  idivf1: 1.0  >,\n",
       " (3,\n",
       "  2,\n",
       "  1,\n",
       "  6): <ProperTorsionType with smirks: [*:1]~[#6X3:2]-[#6X4:3]-[*:4]  periodicity1: 3  phase1: 0.0 deg  id: t17  k1: 0.1493988458474 kcal/mol  idivf1: 1.0  >,\n",
       " (4,\n",
       "  0,\n",
       "  1,\n",
       "  6): <ProperTorsionType with smirks: [*:1]-,:[#6X3:2]=[#6X3:3]-,:[*:4]  periodicity1: 2  phase1: 180.0 deg  id: t45  k1: 5.376019778605 kcal/mol  idivf1: 1.0  >,\n",
       " (5,\n",
       "  0,\n",
       "  1,\n",
       "  6): <ProperTorsionType with smirks: [*:1]-,:[#6X3:2]=[#6X3:3]-,:[*:4]  periodicity1: 2  phase1: 180.0 deg  id: t45  k1: 5.376019778605 kcal/mol  idivf1: 1.0  >,\n",
       " (6,\n",
       "  1,\n",
       "  2,\n",
       "  7): <ProperTorsionType with smirks: [*:1]~[#6X3:2]-[#6X4:3]-[*:4]  periodicity1: 3  phase1: 0.0 deg  id: t17  k1: 0.1493988458474 kcal/mol  idivf1: 1.0  >,\n",
       " (6,\n",
       "  1,\n",
       "  2,\n",
       "  8): <ProperTorsionType with smirks: [*:1]~[#6X3:2]-[#6X4:3]-[*:4]  periodicity1: 3  phase1: 0.0 deg  id: t17  k1: 0.1493988458474 kcal/mol  idivf1: 1.0  >,\n",
       " (7,\n",
       "  2,\n",
       "  3,\n",
       "  9): <ProperTorsionType with smirks: [*:1]-[#6X4:2]-[#8X2:3]-[#1:4]  periodicity1: 3  phase1: 0.0 deg  id: t84  k1: 0.7065108173684 kcal/mol  idivf1: 3.0  >,\n",
       " (8,\n",
       "  2,\n",
       "  3,\n",
       "  9): <ProperTorsionType with smirks: [*:1]-[#6X4:2]-[#8X2:3]-[#1:4]  periodicity1: 3  phase1: 0.0 deg  id: t84  k1: 0.7065108173684 kcal/mol  idivf1: 3.0  >}"
      ]
     },
     "execution_count": 24,
     "metadata": {},
     "output_type": "execute_result"
    }
   ],
   "source": [
    "dict(molecule.parameters['ProperTorsions'])"
   ]
  },
  {
   "cell_type": "code",
   "execution_count": 26,
   "metadata": {},
   "outputs": [
    {
     "data": {
      "text/plain": [
       "{(0,\n",
       "  1,\n",
       "  2,\n",
       "  6): <ImproperTorsionType with smirks: [*:1]~[#6X3:2](~[*:3])~[*:4]  periodicity1: 2  phase1: 180.0 deg  k1: 1.1 kcal/mol  id: i1  >,\n",
       " (1,\n",
       "  0,\n",
       "  4,\n",
       "  5): <ImproperTorsionType with smirks: [*:1]~[#6X3:2](~[*:3])~[*:4]  periodicity1: 2  phase1: 180.0 deg  k1: 1.1 kcal/mol  id: i1  >}"
      ]
     },
     "execution_count": 26,
     "metadata": {},
     "output_type": "execute_result"
    }
   ],
   "source": [
    "dict(molecule.parameters['ImproperTorsions'])"
   ]
  },
  {
   "cell_type": "code",
   "execution_count": 27,
   "metadata": {},
   "outputs": [
    {
     "data": {
      "text/plain": [
       "[Improper(atom1_idx=0, atom2_idx=1, atom3_idx=2, atom4_idx=6, constant=1.1 kcal/mol, prefactor=-1, periodicity=2),\n",
       " Improper(atom1_idx=1, atom2_idx=0, atom3_idx=4, atom4_idx=5, constant=1.1 kcal/mol, prefactor=-1, periodicity=2)]"
      ]
     },
     "execution_count": 27,
     "metadata": {},
     "output_type": "execute_result"
    }
   ],
   "source": [
    "molecule.impropers"
   ]
  },
  {
   "cell_type": "code",
   "execution_count": 7,
   "metadata": {},
   "outputs": [
    {
     "name": "stdout",
     "output_type": "stream",
     "text": [
      "{(0, 1, 2, 3): 3, (0, 1, 2, 10): 3, (0, 1, 2, 11): 3, (1, 2, 3, 4): 3, (1, 2, 3, 12): 3, (1, 2, 3, 13): 3, (2, 1, 0, 5): 3, (2, 1, 0, 6): 3, (2, 1, 0, 7): 3, (2, 3, 4, 14): 3, (3, 2, 1, 8): 3, (3, 2, 1, 9): 3, (4, 3, 2, 10): 3, (4, 3, 2, 11): 3, (5, 0, 1, 8): 3, (5, 0, 1, 9): 3, (6, 0, 1, 8): 3, (6, 0, 1, 9): 3, (7, 0, 1, 8): 3, (7, 0, 1, 9): 3, (8, 1, 2, 10): 3, (8, 1, 2, 11): 3, (9, 1, 2, 10): 3, (9, 1, 2, 11): 3, (10, 2, 3, 12): 3, (10, 2, 3, 13): 3, (11, 2, 3, 12): 3, (11, 2, 3, 13): 3, (12, 3, 4, 14): 3, (13, 3, 4, 14): 3} {(0, 1, 2, 3): Quantity(value=0.0, unit=degree), (0, 1, 2, 10): Quantity(value=0.0, unit=degree), (0, 1, 2, 11): Quantity(value=0.0, unit=degree), (1, 2, 3, 4): Quantity(value=0.0, unit=degree), (1, 2, 3, 12): Quantity(value=0.0, unit=degree), (1, 2, 3, 13): Quantity(value=0.0, unit=degree), (2, 1, 0, 5): Quantity(value=0.0, unit=degree), (2, 1, 0, 6): Quantity(value=0.0, unit=degree), (2, 1, 0, 7): Quantity(value=0.0, unit=degree), (2, 3, 4, 14): Quantity(value=0.0, unit=degree), (3, 2, 1, 8): Quantity(value=0.0, unit=degree), (3, 2, 1, 9): Quantity(value=0.0, unit=degree), (4, 3, 2, 10): Quantity(value=0.0, unit=degree), (4, 3, 2, 11): Quantity(value=0.0, unit=degree), (5, 0, 1, 8): Quantity(value=0.0, unit=degree), (5, 0, 1, 9): Quantity(value=0.0, unit=degree), (6, 0, 1, 8): Quantity(value=0.0, unit=degree), (6, 0, 1, 9): Quantity(value=0.0, unit=degree), (7, 0, 1, 8): Quantity(value=0.0, unit=degree), (7, 0, 1, 9): Quantity(value=0.0, unit=degree), (8, 1, 2, 10): Quantity(value=0.0, unit=degree), (8, 1, 2, 11): Quantity(value=0.0, unit=degree), (9, 1, 2, 10): Quantity(value=0.0, unit=degree), (9, 1, 2, 11): Quantity(value=0.0, unit=degree), (10, 2, 3, 12): Quantity(value=0.0, unit=degree), (10, 2, 3, 13): Quantity(value=0.0, unit=degree), (11, 2, 3, 12): Quantity(value=0.0, unit=degree), (11, 2, 3, 13): Quantity(value=0.0, unit=degree), (12, 3, 4, 14): Quantity(value=0.0, unit=degree), (13, 3, 4, 14): Quantity(value=0.0, unit=degree)} {(0, 1, 2, 3): Quantity(value=0.1703506220295, unit=kilocalorie/mole), (0, 1, 2, 10): Quantity(value=0.05630164829856, unit=kilocalorie/mole), (0, 1, 2, 11): Quantity(value=0.05630164829856, unit=kilocalorie/mole), (1, 2, 3, 4): Quantity(value=0.1787345451317, unit=kilocalorie/mole), (1, 2, 3, 12): Quantity(value=0.05630164829856, unit=kilocalorie/mole), (1, 2, 3, 13): Quantity(value=0.05630164829856, unit=kilocalorie/mole), (2, 1, 0, 5): Quantity(value=0.05630164829856, unit=kilocalorie/mole), (2, 1, 0, 6): Quantity(value=0.05630164829856, unit=kilocalorie/mole), (2, 1, 0, 7): Quantity(value=0.05630164829856, unit=kilocalorie/mole), (2, 3, 4, 14): Quantity(value=0.595460130483, unit=kilocalorie/mole), (3, 2, 1, 8): Quantity(value=0.05630164829856, unit=kilocalorie/mole), (3, 2, 1, 9): Quantity(value=0.05630164829856, unit=kilocalorie/mole), (4, 3, 2, 10): Quantity(value=0.1121124146002, unit=kilocalorie/mole), (4, 3, 2, 11): Quantity(value=0.1121124146002, unit=kilocalorie/mole), (5, 0, 1, 8): Quantity(value=0.1576775373073, unit=kilocalorie/mole), (5, 0, 1, 9): Quantity(value=0.1576775373073, unit=kilocalorie/mole), (6, 0, 1, 8): Quantity(value=0.1576775373073, unit=kilocalorie/mole), (6, 0, 1, 9): Quantity(value=0.1576775373073, unit=kilocalorie/mole), (7, 0, 1, 8): Quantity(value=0.1576775373073, unit=kilocalorie/mole), (7, 0, 1, 9): Quantity(value=0.1576775373073, unit=kilocalorie/mole), (8, 1, 2, 10): Quantity(value=0.1576775373073, unit=kilocalorie/mole), (8, 1, 2, 11): Quantity(value=0.1576775373073, unit=kilocalorie/mole), (9, 1, 2, 10): Quantity(value=0.1576775373073, unit=kilocalorie/mole), (9, 1, 2, 11): Quantity(value=0.1576775373073, unit=kilocalorie/mole), (10, 2, 3, 12): Quantity(value=0.1576775373073, unit=kilocalorie/mole), (10, 2, 3, 13): Quantity(value=0.1576775373073, unit=kilocalorie/mole), (11, 2, 3, 12): Quantity(value=0.1576775373073, unit=kilocalorie/mole), (11, 2, 3, 13): Quantity(value=0.1576775373073, unit=kilocalorie/mole), (12, 3, 4, 14): Quantity(value=0.7065108173684, unit=kilocalorie/mole), (13, 3, 4, 14): Quantity(value=0.7065108173684, unit=kilocalorie/mole)} {(0, 1, 2, 3): 1.0, (0, 1, 2, 10): 1.0, (0, 1, 2, 11): 1.0, (1, 2, 3, 4): 1.0, (1, 2, 3, 12): 1.0, (1, 2, 3, 13): 1.0, (2, 1, 0, 5): 1.0, (2, 1, 0, 6): 1.0, (2, 1, 0, 7): 1.0, (2, 3, 4, 14): 1.0, (3, 2, 1, 8): 1.0, (3, 2, 1, 9): 1.0, (4, 3, 2, 10): 1.0, (4, 3, 2, 11): 1.0, (5, 0, 1, 8): 1.0, (5, 0, 1, 9): 1.0, (6, 0, 1, 8): 1.0, (6, 0, 1, 9): 1.0, (7, 0, 1, 8): 1.0, (7, 0, 1, 9): 1.0, (8, 1, 2, 10): 1.0, (8, 1, 2, 11): 1.0, (9, 1, 2, 10): 1.0, (9, 1, 2, 11): 1.0, (10, 2, 3, 12): 1.0, (10, 2, 3, 13): 1.0, (11, 2, 3, 12): 1.0, (11, 2, 3, 13): 1.0, (12, 3, 4, 14): 3.0, (13, 3, 4, 14): 3.0}\n",
      "{(0, 1, 2, 3): 2, (0, 1, 2, 10): None, (0, 1, 2, 11): None, (1, 2, 3, 4): None, (1, 2, 3, 12): None, (1, 2, 3, 13): None, (2, 1, 0, 5): None, (2, 1, 0, 6): None, (2, 1, 0, 7): None, (2, 3, 4, 14): 1, (3, 2, 1, 8): None, (3, 2, 1, 9): None, (4, 3, 2, 10): 1, (4, 3, 2, 11): 1, (5, 0, 1, 8): None, (5, 0, 1, 9): None, (6, 0, 1, 8): None, (6, 0, 1, 9): None, (7, 0, 1, 8): None, (7, 0, 1, 9): None, (8, 1, 2, 10): None, (8, 1, 2, 11): None, (9, 1, 2, 10): None, (9, 1, 2, 11): None, (10, 2, 3, 12): None, (10, 2, 3, 13): None, (11, 2, 3, 12): None, (11, 2, 3, 13): None, (12, 3, 4, 14): None, (13, 3, 4, 14): None} {(0, 1, 2, 3): Quantity(value=180.0, unit=degree), (0, 1, 2, 10): None, (0, 1, 2, 11): None, (1, 2, 3, 4): None, (1, 2, 3, 12): None, (1, 2, 3, 13): None, (2, 1, 0, 5): None, (2, 1, 0, 6): None, (2, 1, 0, 7): None, (2, 3, 4, 14): Quantity(value=0.0, unit=degree), (3, 2, 1, 8): None, (3, 2, 1, 9): None, (4, 3, 2, 10): Quantity(value=0.0, unit=degree), (4, 3, 2, 11): Quantity(value=0.0, unit=degree), (5, 0, 1, 8): None, (5, 0, 1, 9): None, (6, 0, 1, 8): None, (6, 0, 1, 9): None, (7, 0, 1, 8): None, (7, 0, 1, 9): None, (8, 1, 2, 10): None, (8, 1, 2, 11): None, (9, 1, 2, 10): None, (9, 1, 2, 11): None, (10, 2, 3, 12): None, (10, 2, 3, 13): None, (11, 2, 3, 12): None, (11, 2, 3, 13): None, (12, 3, 4, 14): None, (13, 3, 4, 14): None} {(0, 1, 2, 3): Quantity(value=0.198190228795, unit=kilocalorie/mole), (0, 1, 2, 10): None, (0, 1, 2, 11): None, (1, 2, 3, 4): None, (1, 2, 3, 12): None, (1, 2, 3, 13): None, (2, 1, 0, 5): None, (2, 1, 0, 6): None, (2, 1, 0, 7): None, (2, 3, 4, 14): Quantity(value=0.01707655737107, unit=kilocalorie/mole), (3, 2, 1, 8): None, (3, 2, 1, 9): None, (4, 3, 2, 10): Quantity(value=0.3925917084552, unit=kilocalorie/mole), (4, 3, 2, 11): Quantity(value=0.3925917084552, unit=kilocalorie/mole), (5, 0, 1, 8): None, (5, 0, 1, 9): None, (6, 0, 1, 8): None, (6, 0, 1, 9): None, (7, 0, 1, 8): None, (7, 0, 1, 9): None, (8, 1, 2, 10): None, (8, 1, 2, 11): None, (9, 1, 2, 10): None, (9, 1, 2, 11): None, (10, 2, 3, 12): None, (10, 2, 3, 13): None, (11, 2, 3, 12): None, (11, 2, 3, 13): None, (12, 3, 4, 14): None, (13, 3, 4, 14): None} {(0, 1, 2, 3): 1.0, (0, 1, 2, 10): None, (0, 1, 2, 11): None, (1, 2, 3, 4): None, (1, 2, 3, 12): None, (1, 2, 3, 13): None, (2, 1, 0, 5): None, (2, 1, 0, 6): None, (2, 1, 0, 7): None, (2, 3, 4, 14): 1.0, (3, 2, 1, 8): None, (3, 2, 1, 9): None, (4, 3, 2, 10): 1.0, (4, 3, 2, 11): 1.0, (5, 0, 1, 8): None, (5, 0, 1, 9): None, (6, 0, 1, 8): None, (6, 0, 1, 9): None, (7, 0, 1, 8): None, (7, 0, 1, 9): None, (8, 1, 2, 10): None, (8, 1, 2, 11): None, (9, 1, 2, 10): None, (9, 1, 2, 11): None, (10, 2, 3, 12): None, (10, 2, 3, 13): None, (11, 2, 3, 12): None, (11, 2, 3, 13): None, (12, 3, 4, 14): None, (13, 3, 4, 14): None}\n",
      "{(0, 1, 2, 3): 1, (0, 1, 2, 10): None, (0, 1, 2, 11): None, (1, 2, 3, 4): None, (1, 2, 3, 12): None, (1, 2, 3, 13): None, (2, 1, 0, 5): None, (2, 1, 0, 6): None, (2, 1, 0, 7): None, (2, 3, 4, 14): None, (3, 2, 1, 8): None, (3, 2, 1, 9): None, (4, 3, 2, 10): None, (4, 3, 2, 11): None, (5, 0, 1, 8): None, (5, 0, 1, 9): None, (6, 0, 1, 8): None, (6, 0, 1, 9): None, (7, 0, 1, 8): None, (7, 0, 1, 9): None, (8, 1, 2, 10): None, (8, 1, 2, 11): None, (9, 1, 2, 10): None, (9, 1, 2, 11): None, (10, 2, 3, 12): None, (10, 2, 3, 13): None, (11, 2, 3, 12): None, (11, 2, 3, 13): None, (12, 3, 4, 14): None, (13, 3, 4, 14): None} {(0, 1, 2, 3): Quantity(value=180.0, unit=degree), (0, 1, 2, 10): None, (0, 1, 2, 11): None, (1, 2, 3, 4): None, (1, 2, 3, 12): None, (1, 2, 3, 13): None, (2, 1, 0, 5): None, (2, 1, 0, 6): None, (2, 1, 0, 7): None, (2, 3, 4, 14): None, (3, 2, 1, 8): None, (3, 2, 1, 9): None, (4, 3, 2, 10): None, (4, 3, 2, 11): None, (5, 0, 1, 8): None, (5, 0, 1, 9): None, (6, 0, 1, 8): None, (6, 0, 1, 9): None, (7, 0, 1, 8): None, (7, 0, 1, 9): None, (8, 1, 2, 10): None, (8, 1, 2, 11): None, (9, 1, 2, 10): None, (9, 1, 2, 11): None, (10, 2, 3, 12): None, (10, 2, 3, 13): None, (11, 2, 3, 12): None, (11, 2, 3, 13): None, (12, 3, 4, 14): None, (13, 3, 4, 14): None} {(0, 1, 2, 3): Quantity(value=0.2452303834803, unit=kilocalorie/mole), (0, 1, 2, 10): None, (0, 1, 2, 11): None, (1, 2, 3, 4): None, (1, 2, 3, 12): None, (1, 2, 3, 13): None, (2, 1, 0, 5): None, (2, 1, 0, 6): None, (2, 1, 0, 7): None, (2, 3, 4, 14): None, (3, 2, 1, 8): None, (3, 2, 1, 9): None, (4, 3, 2, 10): None, (4, 3, 2, 11): None, (5, 0, 1, 8): None, (5, 0, 1, 9): None, (6, 0, 1, 8): None, (6, 0, 1, 9): None, (7, 0, 1, 8): None, (7, 0, 1, 9): None, (8, 1, 2, 10): None, (8, 1, 2, 11): None, (9, 1, 2, 10): None, (9, 1, 2, 11): None, (10, 2, 3, 12): None, (10, 2, 3, 13): None, (11, 2, 3, 12): None, (11, 2, 3, 13): None, (12, 3, 4, 14): None, (13, 3, 4, 14): None} {(0, 1, 2, 3): 1.0, (0, 1, 2, 10): None, (0, 1, 2, 11): None, (1, 2, 3, 4): None, (1, 2, 3, 12): None, (1, 2, 3, 13): None, (2, 1, 0, 5): None, (2, 1, 0, 6): None, (2, 1, 0, 7): None, (2, 3, 4, 14): None, (3, 2, 1, 8): None, (3, 2, 1, 9): None, (4, 3, 2, 10): None, (4, 3, 2, 11): None, (5, 0, 1, 8): None, (5, 0, 1, 9): None, (6, 0, 1, 8): None, (6, 0, 1, 9): None, (7, 0, 1, 8): None, (7, 0, 1, 9): None, (8, 1, 2, 10): None, (8, 1, 2, 11): None, (9, 1, 2, 10): None, (9, 1, 2, 11): None, (10, 2, 3, 12): None, (10, 2, 3, 13): None, (11, 2, 3, 12): None, (11, 2, 3, 13): None, (12, 3, 4, 14): None, (13, 3, 4, 14): None}\n"
     ]
    }
   ],
   "source": [
    "periodicities = molecule.parameters.get_dihedral_periodicities()\n",
    "phases = molecule.parameters.get_dihedral_phases()\n",
    "ks = molecule.parameters.get_dihedral_ks()\n",
    "idivfs = molecule.parameters.get_dihedral_idivfs()\n",
    "\n",
    "for pe, ph, k, d in zip(periodicities, phases, ks, idivfs):\n",
    "    print(pe, ph, k, d)"
   ]
  },
  {
   "cell_type": "code",
   "execution_count": 12,
   "metadata": {},
   "outputs": [
    {
     "name": "stdout",
     "output_type": "stream",
     "text": [
      "2\n",
      "180.0 deg\n",
      "0.198190228795 kcal/mol\n",
      "1.0\n",
      "True\n",
      "None\n",
      "None\n",
      "None\n",
      "None\n",
      "False\n",
      "None\n",
      "None\n",
      "None\n",
      "None\n",
      "False\n",
      "None\n",
      "None\n",
      "None\n",
      "None\n",
      "False\n",
      "None\n",
      "None\n",
      "None\n",
      "None\n",
      "False\n",
      "None\n",
      "None\n",
      "None\n",
      "None\n",
      "False\n",
      "None\n",
      "None\n",
      "None\n",
      "None\n",
      "False\n",
      "None\n",
      "None\n",
      "None\n",
      "None\n",
      "False\n",
      "None\n",
      "None\n",
      "None\n",
      "None\n",
      "False\n",
      "1\n",
      "0.0 deg\n",
      "0.01707655737107 kcal/mol\n",
      "1.0\n",
      "False\n",
      "None\n",
      "None\n",
      "None\n",
      "None\n",
      "False\n",
      "None\n",
      "None\n",
      "None\n",
      "None\n",
      "False\n",
      "1\n",
      "0.0 deg\n",
      "0.3925917084552 kcal/mol\n",
      "1.0\n",
      "False\n",
      "1\n",
      "0.0 deg\n",
      "0.3925917084552 kcal/mol\n",
      "1.0\n",
      "False\n",
      "None\n",
      "None\n",
      "None\n",
      "None\n",
      "False\n",
      "None\n",
      "None\n",
      "None\n",
      "None\n",
      "False\n",
      "None\n",
      "None\n",
      "None\n",
      "None\n",
      "False\n",
      "None\n",
      "None\n",
      "None\n",
      "None\n",
      "False\n",
      "None\n",
      "None\n",
      "None\n",
      "None\n",
      "False\n",
      "None\n",
      "None\n",
      "None\n",
      "None\n",
      "False\n",
      "None\n",
      "None\n",
      "None\n",
      "None\n",
      "False\n",
      "None\n",
      "None\n",
      "None\n",
      "None\n",
      "False\n",
      "None\n",
      "None\n",
      "None\n",
      "None\n",
      "False\n",
      "None\n",
      "None\n",
      "None\n",
      "None\n",
      "False\n",
      "None\n",
      "None\n",
      "None\n",
      "None\n",
      "False\n",
      "None\n",
      "None\n",
      "None\n",
      "None\n",
      "False\n",
      "None\n",
      "None\n",
      "None\n",
      "None\n",
      "False\n",
      "None\n",
      "None\n",
      "None\n",
      "None\n",
      "False\n",
      "None\n",
      "None\n",
      "None\n",
      "None\n",
      "False\n",
      "None\n",
      "None\n",
      "None\n",
      "None\n",
      "False\n"
     ]
    }
   ],
   "source": [
    "for index in periodicities[0].keys():\n",
    "    print(periodicities[1][index])\n",
    "    print(phases[1][index])\n",
    "    print(ks[1][index])\n",
    "    print(idivfs[1][index])\n",
    "    print(bool(periodicities[1][index] and phases[1][index] and ks[1][index] and idivfs[1][index]))"
   ]
  },
  {
   "cell_type": "code",
   "execution_count": 13,
   "metadata": {},
   "outputs": [
    {
     "ename": "KeyError",
     "evalue": "(7, 10, 1, 11)",
     "output_type": "error",
     "traceback": [
      "\u001b[0;31m---------------------------------------------------------------------------\u001b[0m",
      "\u001b[0;31mKeyError\u001b[0m                                  Traceback (most recent call last)",
      "\u001b[0;32m<ipython-input-13-dec6556ba07c>\u001b[0m in \u001b[0;36m<module>\u001b[0;34m()\u001b[0m\n\u001b[0;32m----> 1\u001b[0;31m \u001b[0mperiodicities\u001b[0m\u001b[0;34m[\u001b[0m\u001b[0;36m0\u001b[0m\u001b[0;34m]\u001b[0m\u001b[0;34m[\u001b[0m\u001b[0;34m(\u001b[0m\u001b[0;36m7\u001b[0m\u001b[0;34m,\u001b[0m \u001b[0;36m10\u001b[0m \u001b[0;34m,\u001b[0m \u001b[0;36m1\u001b[0m\u001b[0;34m,\u001b[0m \u001b[0;36m11\u001b[0m\u001b[0;34m)\u001b[0m\u001b[0;34m]\u001b[0m\u001b[0;34m\u001b[0m\u001b[0;34m\u001b[0m\u001b[0m\n\u001b[0m",
      "\u001b[0;31mKeyError\u001b[0m: (7, 10, 1, 11)"
     ]
    }
   ],
   "source": [
    "periodicities[0][(7, 10 , 1, 11)]"
   ]
  },
  {
   "cell_type": "code",
   "execution_count": null,
   "metadata": {},
   "outputs": [],
   "source": []
  }
 ],
 "metadata": {
  "kernelspec": {
   "display_name": "Python 3",
   "language": "python",
   "name": "python3"
  },
  "language_info": {
   "codemirror_mode": {
    "name": "ipython",
    "version": 3
   },
   "file_extension": ".py",
   "mimetype": "text/x-python",
   "name": "python",
   "nbconvert_exporter": "python",
   "pygments_lexer": "ipython3",
   "version": "3.7.8"
  }
 },
 "nbformat": 4,
 "nbformat_minor": 4
}
