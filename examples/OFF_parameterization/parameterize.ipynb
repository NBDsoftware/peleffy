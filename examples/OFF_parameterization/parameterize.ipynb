{
 "cells": [
  {
   "cell_type": "markdown",
   "metadata": {},
   "source": [
    "# Parameterization with the Open Force Field Toolkit\n",
    "This notebook shows how to use the API of `peleffy` to parameterize a molecule with a force field from the Open Force Field initiative. Then, it generates the three files that PELE requires:\n",
    "- Rotamer library\n",
    "- Impact template\n",
    "- Solvent parameters"
   ]
  },
  {
   "cell_type": "markdown",
   "metadata": {},
   "source": [
    "## Example 1: benzene\n",
    "This example shows how to load and parameterize the benzene molecule with `peleffy`."
   ]
  },
  {
   "cell_type": "markdown",
   "metadata": {},
   "source": [
    "### Load required files for this test"
   ]
  },
  {
   "cell_type": "code",
   "execution_count": 1,
   "metadata": {},
   "outputs": [],
   "source": [
    "from peleffy.utils import get_data_file_path\n",
    "bnz_pdb_path = get_data_file_path('ligands/benzene.pdb')"
   ]
  },
  {
   "cell_type": "markdown",
   "metadata": {},
   "source": [
    "### Load `peleffy`'s molecule representation with a PDB file of benzene"
   ]
  },
  {
   "cell_type": "code",
   "execution_count": 2,
   "metadata": {},
   "outputs": [],
   "source": [
    "from peleffy.topology import Molecule"
   ]
  },
  {
   "cell_type": "code",
   "execution_count": 3,
   "metadata": {},
   "outputs": [
    {
     "name": "stderr",
     "output_type": "stream",
     "text": [
      " - Initializing molecule from PDB\n",
      "   - Loading molecule from RDKit\n",
      "   - Assigning stereochemistry from 3D coordinates\n",
      "   - Setting molecule name to 'benzene'\n",
      "   - Setting molecule tag to 'BNZ'\n",
      "   - Representing molecule with the Open Force Field Toolkit\n",
      " - Generating rotamer library\n",
      "   - Core set to the center of the molecule\n"
     ]
    },
    {
     "data": {
      "image/svg+xml": [
       "<svg baseProfile=\"full\" height=\"500px\" version=\"1.1\" viewBox=\"0 0 500 500\" width=\"500px\" xml:space=\"preserve\" xmlns=\"http://www.w3.org/2000/svg\" xmlns:rdkit=\"http://www.rdkit.org/xml\" xmlns:xlink=\"http://www.w3.org/1999/xlink\">\n",
       "<!-- END OF HEADER -->\n",
       "<rect height=\"500\" style=\"opacity:1.0;fill:#FFFFFF;stroke:none\" width=\"500\" x=\"0\" y=\"0\"> </rect>\n",
       "<path class=\"bond-0 atom-0 atom-1\" d=\"M 358.6,250 L 304.3,344.051\" style=\"fill:none;fill-rule:evenodd;stroke:#000000;stroke-width:4.0px;stroke-linecap:butt;stroke-linejoin:miter;stroke-opacity:1\"/>\n",
       "<path class=\"bond-0 atom-0 atom-1\" d=\"M 331.645,253.248 L 293.635,319.083\" style=\"fill:none;fill-rule:evenodd;stroke:#000000;stroke-width:4.0px;stroke-linecap:butt;stroke-linejoin:miter;stroke-opacity:1\"/>\n",
       "<path class=\"bond-1 atom-0 atom-5\" d=\"M 358.6,250 L 304.3,155.949\" style=\"fill:none;fill-rule:evenodd;stroke:#000000;stroke-width:4.0px;stroke-linecap:butt;stroke-linejoin:miter;stroke-opacity:1\"/>\n",
       "<path class=\"bond-2 atom-0 atom-6\" d=\"M 358.6,250 L 453.406,250\" style=\"fill:none;fill-rule:evenodd;stroke:#000000;stroke-width:4.0px;stroke-linecap:butt;stroke-linejoin:miter;stroke-opacity:1\"/>\n",
       "<path class=\"bond-3 atom-1 atom-2\" d=\"M 304.3,344.051 L 195.7,344.051\" style=\"fill:none;fill-rule:evenodd;stroke:#000000;stroke-width:4.0px;stroke-linecap:butt;stroke-linejoin:miter;stroke-opacity:1\"/>\n",
       "<path class=\"bond-4 atom-1 atom-7\" d=\"M 304.3,344.051 L 348.858,421.226\" style=\"fill:none;fill-rule:evenodd;stroke:#000000;stroke-width:4.0px;stroke-linecap:butt;stroke-linejoin:miter;stroke-opacity:1\"/>\n",
       "<path class=\"bond-5 atom-2 atom-3\" d=\"M 195.7,344.051 L 141.4,250\" style=\"fill:none;fill-rule:evenodd;stroke:#000000;stroke-width:4.0px;stroke-linecap:butt;stroke-linejoin:miter;stroke-opacity:1\"/>\n",
       "<path class=\"bond-5 atom-2 atom-3\" d=\"M 206.365,319.083 L 168.355,253.248\" style=\"fill:none;fill-rule:evenodd;stroke:#000000;stroke-width:4.0px;stroke-linecap:butt;stroke-linejoin:miter;stroke-opacity:1\"/>\n",
       "<path class=\"bond-6 atom-2 atom-8\" d=\"M 195.7,344.051 L 151.142,421.226\" style=\"fill:none;fill-rule:evenodd;stroke:#000000;stroke-width:4.0px;stroke-linecap:butt;stroke-linejoin:miter;stroke-opacity:1\"/>\n",
       "<path class=\"bond-7 atom-3 atom-4\" d=\"M 141.4,250 L 195.7,155.949\" style=\"fill:none;fill-rule:evenodd;stroke:#000000;stroke-width:4.0px;stroke-linecap:butt;stroke-linejoin:miter;stroke-opacity:1\"/>\n",
       "<path class=\"bond-8 atom-3 atom-9\" d=\"M 141.4,250 L 46.5942,250\" style=\"fill:none;fill-rule:evenodd;stroke:#000000;stroke-width:4.0px;stroke-linecap:butt;stroke-linejoin:miter;stroke-opacity:1\"/>\n",
       "<path class=\"bond-9 atom-4 atom-5\" d=\"M 195.7,155.949 L 304.3,155.949\" style=\"fill:none;fill-rule:evenodd;stroke:#000000;stroke-width:4.0px;stroke-linecap:butt;stroke-linejoin:miter;stroke-opacity:1\"/>\n",
       "<path class=\"bond-9 atom-4 atom-5\" d=\"M 211.99,177.669 L 288.01,177.669\" style=\"fill:none;fill-rule:evenodd;stroke:#000000;stroke-width:4.0px;stroke-linecap:butt;stroke-linejoin:miter;stroke-opacity:1\"/>\n",
       "<path class=\"bond-10 atom-4 atom-10\" d=\"M 195.7,155.949 L 151.142,78.7736\" style=\"fill:none;fill-rule:evenodd;stroke:#000000;stroke-width:4.0px;stroke-linecap:butt;stroke-linejoin:miter;stroke-opacity:1\"/>\n",
       "<path class=\"bond-11 atom-5 atom-11\" d=\"M 304.3,155.949 L 348.858,78.7736\" style=\"fill:none;fill-rule:evenodd;stroke:#000000;stroke-width:4.0px;stroke-linecap:butt;stroke-linejoin:miter;stroke-opacity:1\"/>\n",
       "<path class=\"atom-6\" d=\"M 456.121 235.84 L 459.961 235.84 L 459.961 247.88 L 474.441 247.88 L 474.441 235.84 L 478.281 235.84 L 478.281 264.16 L 474.441 264.16 L 474.441 251.08 L 459.961 251.08 L 459.961 264.16 L 456.121 264.16 L 456.121 235.84 \" fill=\"#000000\"/>\n",
       "<path class=\"atom-7\" d=\"M 347.52 423.941 L 351.36 423.941 L 351.36 435.981 L 365.84 435.981 L 365.84 423.941 L 369.68 423.941 L 369.68 452.261 L 365.84 452.261 L 365.84 439.181 L 351.36 439.181 L 351.36 452.261 L 347.52 452.261 L 347.52 423.941 \" fill=\"#000000\"/>\n",
       "<path class=\"atom-8\" d=\"M 130.32 423.941 L 134.16 423.941 L 134.16 435.981 L 148.64 435.981 L 148.64 423.941 L 152.48 423.941 L 152.48 452.261 L 148.64 452.261 L 148.64 439.181 L 134.16 439.181 L 134.16 452.261 L 130.32 452.261 L 130.32 423.941 \" fill=\"#000000\"/>\n",
       "<path class=\"atom-9\" d=\"M 21.7192 235.84 L 25.5592 235.84 L 25.5592 247.88 L 40.0392 247.88 L 40.0392 235.84 L 43.8792 235.84 L 43.8792 264.16 L 40.0392 264.16 L 40.0392 251.08 L 25.5592 251.08 L 25.5592 264.16 L 21.7192 264.16 L 21.7192 235.84 \" fill=\"#000000\"/>\n",
       "<path class=\"atom-10\" d=\"M 130.32 47.7386 L 134.16 47.7386 L 134.16 59.7786 L 148.64 59.7786 L 148.64 47.7386 L 152.48 47.7386 L 152.48 76.0586 L 148.64 76.0586 L 148.64 62.9786 L 134.16 62.9786 L 134.16 76.0586 L 130.32 76.0586 L 130.32 47.7386 \" fill=\"#000000\"/>\n",
       "<path class=\"atom-11\" d=\"M 347.52 47.7386 L 351.36 47.7386 L 351.36 59.7786 L 365.84 59.7786 L 365.84 47.7386 L 369.68 47.7386 L 369.68 76.0586 L 365.84 76.0586 L 365.84 62.9786 L 351.36 62.9786 L 351.36 76.0586 L 347.52 76.0586 L 347.52 47.7386 \" fill=\"#000000\"/>\n",
       "</svg>"
      ],
      "text/plain": [
       "<IPython.core.display.SVG object>"
      ]
     },
     "metadata": {},
     "output_type": "display_data"
    }
   ],
   "source": [
    "molecule = Molecule(bnz_pdb_path)\n",
    "display(molecule)"
   ]
  },
  {
   "cell_type": "markdown",
   "metadata": {},
   "source": [
    "### Generate the Rotamer library file\n",
    "The `RotamerLibrary` method handles the rotamer library generation. Here, we are generating it and saving it to a file named __BNZ.rot.assign__."
   ]
  },
  {
   "cell_type": "code",
   "execution_count": 4,
   "metadata": {},
   "outputs": [],
   "source": [
    "from peleffy.topology import RotamerLibrary"
   ]
  },
  {
   "cell_type": "code",
   "execution_count": 5,
   "metadata": {},
   "outputs": [],
   "source": [
    "rotamer_library = RotamerLibrary(molecule)\n",
    "rotamer_library.to_file('BNZ.rot.assign')"
   ]
  },
  {
   "cell_type": "markdown",
   "metadata": {},
   "source": [
    "### Parameterize with Open Force Field Toolkit and generate the Impact template\n",
    "Please, note that before generating the Impact template, we need to parameterize the molecule using the `OpenForceField` class. Then, with the resulting parameters, we can generate the `Topology` representation of our molecule, which is required by the `Impact` template generator.\n",
    "\n",
    "In this way, Impact template, named __bnzz__, can be built following these steps."
   ]
  },
  {
   "cell_type": "code",
   "execution_count": 6,
   "metadata": {},
   "outputs": [],
   "source": [
    "from peleffy.forcefield import OpenForceField\n",
    "from peleffy.topology import Topology\n",
    "from peleffy.template import Impact"
   ]
  },
  {
   "cell_type": "code",
   "execution_count": 7,
   "metadata": {},
   "outputs": [],
   "source": [
    "openff = OpenForceField('openff_unconstrained-1.2.0.offxml')\n",
    "parameters = openff.parameterize(molecule)"
   ]
  },
  {
   "cell_type": "code",
   "execution_count": 8,
   "metadata": {},
   "outputs": [],
   "source": [
    "topology = Topology(molecule, parameters)"
   ]
  },
  {
   "cell_type": "code",
   "execution_count": 9,
   "metadata": {},
   "outputs": [],
   "source": [
    "impact = Impact(topology)\n",
    "impact.to_file('bnzz')"
   ]
  },
  {
   "cell_type": "markdown",
   "metadata": {},
   "source": [
    "### Generate the Solvent parameters file\n",
    "Please, note that before generating the Solvent parameters file, a `Topology` representation of the molecule has to be previously built, following the steps above.\n",
    "\n",
    "Here, we generate the OBC2 Solvent parameters file, named __ligandParams.txt__."
   ]
  },
  {
   "cell_type": "code",
   "execution_count": 10,
   "metadata": {},
   "outputs": [],
   "source": [
    "from peleffy.solvent import OBC2"
   ]
  },
  {
   "cell_type": "code",
   "execution_count": 11,
   "metadata": {},
   "outputs": [
    {
     "name": "stderr",
     "output_type": "stream",
     "text": [
      " - Generating solvent parameters\n"
     ]
    }
   ],
   "source": [
    "solvent = OBC2(topology)\n",
    "solvent.to_file('ligandParams.txt')"
   ]
  },
  {
   "cell_type": "markdown",
   "metadata": {},
   "source": [
    "## Example 2: oleic acid\n",
    "This example shows how to load and parameterize the oleic acid molecule with `peleffy` with some customized settings."
   ]
  },
  {
   "cell_type": "markdown",
   "metadata": {},
   "source": [
    "### Load required files for this test"
   ]
  },
  {
   "cell_type": "code",
   "execution_count": 12,
   "metadata": {},
   "outputs": [],
   "source": [
    "from peleffy.utils import get_data_file_path\n",
    "olc_pdb_path = get_data_file_path('ligands/oleic_acid.pdb')"
   ]
  },
  {
   "cell_type": "markdown",
   "metadata": {},
   "source": [
    "### Load `peleffy`'s molecule representation with a PDB file of oleic acid"
   ]
  },
  {
   "cell_type": "code",
   "execution_count": 13,
   "metadata": {},
   "outputs": [],
   "source": [
    "from peleffy.topology import Molecule"
   ]
  },
  {
   "cell_type": "code",
   "execution_count": 14,
   "metadata": {},
   "outputs": [
    {
     "name": "stderr",
     "output_type": "stream",
     "text": [
      " - Initializing molecule from PDB\n",
      "   - Loading molecule from RDKit\n",
      "   - Assigning stereochemistry from 3D coordinates\n",
      "   - Setting molecule name to 'oleic_acid'\n",
      "   - Setting molecule tag to 'OLC'\n",
      "   - Representing molecule with the Open Force Field Toolkit\n",
      " - Generating rotamer library\n",
      "   - Core set to the center of the molecule\n"
     ]
    },
    {
     "data": {
      "image/svg+xml": [
       "<svg baseProfile=\"full\" height=\"500px\" version=\"1.1\" viewBox=\"0 0 500 500\" width=\"500px\" xml:space=\"preserve\" xmlns=\"http://www.w3.org/2000/svg\" xmlns:rdkit=\"http://www.rdkit.org/xml\" xmlns:xlink=\"http://www.w3.org/1999/xlink\">\n",
       "<!-- END OF HEADER -->\n",
       "<rect height=\"500\" style=\"opacity:1.0;fill:#FFFFFF;stroke:none\" width=\"500\" x=\"0\" y=\"0\"> </rect>\n",
       "<path class=\"bond-0 atom-0 atom-1\" d=\"M 413.046,135.487 L 430.855,98.3531\" style=\"fill:none;fill-rule:evenodd;stroke:#000000;stroke-width:4.0px;stroke-linecap:butt;stroke-linejoin:miter;stroke-opacity:1\"/>\n",
       "<path class=\"bond-1 atom-0 atom-2\" d=\"M 413.046,135.487 L 395.236,172.621\" style=\"fill:none;fill-rule:evenodd;stroke:#000000;stroke-width:4.0px;stroke-linecap:butt;stroke-linejoin:miter;stroke-opacity:1\"/>\n",
       "<path class=\"bond-2 atom-0 atom-20\" d=\"M 413.046,135.487 L 381.504,120.36\" style=\"fill:none;fill-rule:evenodd;stroke:#000000;stroke-width:4.0px;stroke-linecap:butt;stroke-linejoin:miter;stroke-opacity:1\"/>\n",
       "<path class=\"bond-3 atom-0 atom-21\" d=\"M 413.046,135.487 L 444.587,150.614\" style=\"fill:none;fill-rule:evenodd;stroke:#000000;stroke-width:4.0px;stroke-linecap:butt;stroke-linejoin:miter;stroke-opacity:1\"/>\n",
       "<path class=\"bond-4 atom-1 atom-3\" d=\"M 431.169,102.459 L 448.51,101.132\" style=\"fill:none;fill-rule:evenodd;stroke:#000000;stroke-width:4.0px;stroke-linecap:butt;stroke-linejoin:miter;stroke-opacity:1\"/>\n",
       "<path class=\"bond-4 atom-1 atom-3\" d=\"M 448.51,101.132 L 465.85,99.8046\" style=\"fill:none;fill-rule:evenodd;stroke:#FF0000;stroke-width:4.0px;stroke-linecap:butt;stroke-linejoin:miter;stroke-opacity:1\"/>\n",
       "<path class=\"bond-4 atom-1 atom-3\" d=\"M 430.541,94.2467 L 447.881,92.9193\" style=\"fill:none;fill-rule:evenodd;stroke:#000000;stroke-width:4.0px;stroke-linecap:butt;stroke-linejoin:miter;stroke-opacity:1\"/>\n",
       "<path class=\"bond-4 atom-1 atom-3\" d=\"M 447.881,92.9193 L 465.221,91.5918\" style=\"fill:none;fill-rule:evenodd;stroke:#FF0000;stroke-width:4.0px;stroke-linecap:butt;stroke-linejoin:miter;stroke-opacity:1\"/>\n",
       "<path class=\"bond-5 atom-1 atom-4\" d=\"M 430.855,98.3531 L 421.659,84.912\" style=\"fill:none;fill-rule:evenodd;stroke:#000000;stroke-width:4.0px;stroke-linecap:butt;stroke-linejoin:miter;stroke-opacity:1\"/>\n",
       "<path class=\"bond-5 atom-1 atom-4\" d=\"M 421.659,84.912 L 412.464,71.4709\" style=\"fill:none;fill-rule:evenodd;stroke:#FF0000;stroke-width:4.0px;stroke-linecap:butt;stroke-linejoin:miter;stroke-opacity:1\"/>\n",
       "<path class=\"bond-6 atom-2 atom-5\" d=\"M 395.236,172.621 L 377.427,209.755\" style=\"fill:none;fill-rule:evenodd;stroke:#000000;stroke-width:4.0px;stroke-linecap:butt;stroke-linejoin:miter;stroke-opacity:1\"/>\n",
       "<path class=\"bond-7 atom-2 atom-22\" d=\"M 395.236,172.621 L 426.777,187.748\" style=\"fill:none;fill-rule:evenodd;stroke:#000000;stroke-width:4.0px;stroke-linecap:butt;stroke-linejoin:miter;stroke-opacity:1\"/>\n",
       "<path class=\"bond-8 atom-2 atom-23\" d=\"M 395.236,172.621 L 363.695,157.494\" style=\"fill:none;fill-rule:evenodd;stroke:#000000;stroke-width:4.0px;stroke-linecap:butt;stroke-linejoin:miter;stroke-opacity:1\"/>\n",
       "<path class=\"bond-9 atom-5 atom-6\" d=\"M 377.427,209.755 L 359.617,246.889\" style=\"fill:none;fill-rule:evenodd;stroke:#000000;stroke-width:4.0px;stroke-linecap:butt;stroke-linejoin:miter;stroke-opacity:1\"/>\n",
       "<path class=\"bond-10 atom-5 atom-24\" d=\"M 377.427,209.755 L 345.885,194.628\" style=\"fill:none;fill-rule:evenodd;stroke:#000000;stroke-width:4.0px;stroke-linecap:butt;stroke-linejoin:miter;stroke-opacity:1\"/>\n",
       "<path class=\"bond-11 atom-5 atom-25\" d=\"M 377.427,209.755 L 408.968,224.882\" style=\"fill:none;fill-rule:evenodd;stroke:#000000;stroke-width:4.0px;stroke-linecap:butt;stroke-linejoin:miter;stroke-opacity:1\"/>\n",
       "<path class=\"bond-12 atom-6 atom-7\" d=\"M 359.617,246.889 L 341.808,284.023\" style=\"fill:none;fill-rule:evenodd;stroke:#000000;stroke-width:4.0px;stroke-linecap:butt;stroke-linejoin:miter;stroke-opacity:1\"/>\n",
       "<path class=\"bond-13 atom-6 atom-26\" d=\"M 359.617,246.889 L 391.158,262.017\" style=\"fill:none;fill-rule:evenodd;stroke:#000000;stroke-width:4.0px;stroke-linecap:butt;stroke-linejoin:miter;stroke-opacity:1\"/>\n",
       "<path class=\"bond-14 atom-6 atom-27\" d=\"M 359.617,246.889 L 328.076,231.762\" style=\"fill:none;fill-rule:evenodd;stroke:#000000;stroke-width:4.0px;stroke-linecap:butt;stroke-linejoin:miter;stroke-opacity:1\"/>\n",
       "<path class=\"bond-15 atom-7 atom-8\" d=\"M 341.808,284.023 L 323.998,321.158\" style=\"fill:none;fill-rule:evenodd;stroke:#000000;stroke-width:4.0px;stroke-linecap:butt;stroke-linejoin:miter;stroke-opacity:1\"/>\n",
       "<path class=\"bond-16 atom-7 atom-28\" d=\"M 341.808,284.023 L 373.349,299.151\" style=\"fill:none;fill-rule:evenodd;stroke:#000000;stroke-width:4.0px;stroke-linecap:butt;stroke-linejoin:miter;stroke-opacity:1\"/>\n",
       "<path class=\"bond-17 atom-7 atom-29\" d=\"M 341.808,284.023 L 310.266,268.896\" style=\"fill:none;fill-rule:evenodd;stroke:#000000;stroke-width:4.0px;stroke-linecap:butt;stroke-linejoin:miter;stroke-opacity:1\"/>\n",
       "<path class=\"bond-18 atom-8 atom-9\" d=\"M 323.998,321.158 L 306.189,358.292\" style=\"fill:none;fill-rule:evenodd;stroke:#000000;stroke-width:4.0px;stroke-linecap:butt;stroke-linejoin:miter;stroke-opacity:1\"/>\n",
       "<path class=\"bond-19 atom-8 atom-30\" d=\"M 323.998,321.158 L 292.457,306.03\" style=\"fill:none;fill-rule:evenodd;stroke:#000000;stroke-width:4.0px;stroke-linecap:butt;stroke-linejoin:miter;stroke-opacity:1\"/>\n",
       "<path class=\"bond-20 atom-8 atom-31\" d=\"M 323.998,321.158 L 355.539,336.285\" style=\"fill:none;fill-rule:evenodd;stroke:#000000;stroke-width:4.0px;stroke-linecap:butt;stroke-linejoin:miter;stroke-opacity:1\"/>\n",
       "<path class=\"bond-21 atom-9 atom-10\" d=\"M 306.189,358.292 L 288.379,395.426\" style=\"fill:none;fill-rule:evenodd;stroke:#000000;stroke-width:4.0px;stroke-linecap:butt;stroke-linejoin:miter;stroke-opacity:1\"/>\n",
       "<path class=\"bond-22 atom-9 atom-32\" d=\"M 306.189,358.292 L 283.49,343.762\" style=\"fill:none;fill-rule:evenodd;stroke:#000000;stroke-width:4.0px;stroke-linecap:butt;stroke-linejoin:miter;stroke-opacity:1\"/>\n",
       "<path class=\"bond-23 atom-9 atom-33\" d=\"M 306.189,358.292 L 337.73,373.419\" style=\"fill:none;fill-rule:evenodd;stroke:#000000;stroke-width:4.0px;stroke-linecap:butt;stroke-linejoin:miter;stroke-opacity:1\"/>\n",
       "<path class=\"bond-24 atom-10 atom-11\" d=\"M 288.379,395.426 L 247.315,398.569\" style=\"fill:none;fill-rule:evenodd;stroke:#000000;stroke-width:4.0px;stroke-linecap:butt;stroke-linejoin:miter;stroke-opacity:1\"/>\n",
       "<path class=\"bond-24 atom-10 atom-11\" d=\"M 281.591,387.684 L 252.846,389.885\" style=\"fill:none;fill-rule:evenodd;stroke:#000000;stroke-width:4.0px;stroke-linecap:butt;stroke-linejoin:miter;stroke-opacity:1\"/>\n",
       "<path class=\"bond-25 atom-10 atom-34\" d=\"M 288.379,395.426 L 306.939,422.555\" style=\"fill:none;fill-rule:evenodd;stroke:#000000;stroke-width:4.0px;stroke-linecap:butt;stroke-linejoin:miter;stroke-opacity:1\"/>\n",
       "<path class=\"bond-26 atom-11 atom-12\" d=\"M 247.315,398.569 L 224.061,364.579\" style=\"fill:none;fill-rule:evenodd;stroke:#000000;stroke-width:4.0px;stroke-linecap:butt;stroke-linejoin:miter;stroke-opacity:1\"/>\n",
       "<path class=\"bond-27 atom-11 atom-35\" d=\"M 247.315,398.569 L 232.797,428.842\" style=\"fill:none;fill-rule:evenodd;stroke:#000000;stroke-width:4.0px;stroke-linecap:butt;stroke-linejoin:miter;stroke-opacity:1\"/>\n",
       "<path class=\"bond-28 atom-12 atom-13\" d=\"M 224.061,364.579 L 200.807,330.588\" style=\"fill:none;fill-rule:evenodd;stroke:#000000;stroke-width:4.0px;stroke-linecap:butt;stroke-linejoin:miter;stroke-opacity:1\"/>\n",
       "<path class=\"bond-29 atom-12 atom-36\" d=\"M 224.061,364.579 L 195.663,384.007\" style=\"fill:none;fill-rule:evenodd;stroke:#000000;stroke-width:4.0px;stroke-linecap:butt;stroke-linejoin:miter;stroke-opacity:1\"/>\n",
       "<path class=\"bond-30 atom-12 atom-37\" d=\"M 224.061,364.579 L 243.695,347.282\" style=\"fill:none;fill-rule:evenodd;stroke:#000000;stroke-width:4.0px;stroke-linecap:butt;stroke-linejoin:miter;stroke-opacity:1\"/>\n",
       "<path class=\"bond-31 atom-13 atom-14\" d=\"M 200.807,330.588 L 177.552,296.598\" style=\"fill:none;fill-rule:evenodd;stroke:#000000;stroke-width:4.0px;stroke-linecap:butt;stroke-linejoin:miter;stroke-opacity:1\"/>\n",
       "<path class=\"bond-32 atom-13 atom-38\" d=\"M 200.807,330.588 L 229.205,311.16\" style=\"fill:none;fill-rule:evenodd;stroke:#000000;stroke-width:4.0px;stroke-linecap:butt;stroke-linejoin:miter;stroke-opacity:1\"/>\n",
       "<path class=\"bond-33 atom-13 atom-51\" d=\"M 200.807,330.588 L 172.409,350.016\" style=\"fill:none;fill-rule:evenodd;stroke:#000000;stroke-width:4.0px;stroke-linecap:butt;stroke-linejoin:miter;stroke-opacity:1\"/>\n",
       "<path class=\"bond-34 atom-14 atom-15\" d=\"M 177.552,296.598 L 154.298,262.607\" style=\"fill:none;fill-rule:evenodd;stroke:#000000;stroke-width:4.0px;stroke-linecap:butt;stroke-linejoin:miter;stroke-opacity:1\"/>\n",
       "<path class=\"bond-35 atom-14 atom-39\" d=\"M 177.552,296.598 L 149.155,316.026\" style=\"fill:none;fill-rule:evenodd;stroke:#000000;stroke-width:4.0px;stroke-linecap:butt;stroke-linejoin:miter;stroke-opacity:1\"/>\n",
       "<path class=\"bond-36 atom-14 atom-52\" d=\"M 177.552,296.598 L 205.95,277.17\" style=\"fill:none;fill-rule:evenodd;stroke:#000000;stroke-width:4.0px;stroke-linecap:butt;stroke-linejoin:miter;stroke-opacity:1\"/>\n",
       "<path class=\"bond-37 atom-15 atom-16\" d=\"M 154.298,262.607 L 131.044,228.617\" style=\"fill:none;fill-rule:evenodd;stroke:#000000;stroke-width:4.0px;stroke-linecap:butt;stroke-linejoin:miter;stroke-opacity:1\"/>\n",
       "<path class=\"bond-38 atom-15 atom-40\" d=\"M 154.298,262.607 L 182.696,243.179\" style=\"fill:none;fill-rule:evenodd;stroke:#000000;stroke-width:4.0px;stroke-linecap:butt;stroke-linejoin:miter;stroke-opacity:1\"/>\n",
       "<path class=\"bond-39 atom-15 atom-41\" d=\"M 154.298,262.607 L 125.9,282.035\" style=\"fill:none;fill-rule:evenodd;stroke:#000000;stroke-width:4.0px;stroke-linecap:butt;stroke-linejoin:miter;stroke-opacity:1\"/>\n",
       "<path class=\"bond-40 atom-16 atom-17\" d=\"M 131.044,228.617 L 107.79,194.626\" style=\"fill:none;fill-rule:evenodd;stroke:#000000;stroke-width:4.0px;stroke-linecap:butt;stroke-linejoin:miter;stroke-opacity:1\"/>\n",
       "<path class=\"bond-41 atom-16 atom-42\" d=\"M 131.044,228.617 L 102.646,248.045\" style=\"fill:none;fill-rule:evenodd;stroke:#000000;stroke-width:4.0px;stroke-linecap:butt;stroke-linejoin:miter;stroke-opacity:1\"/>\n",
       "<path class=\"bond-42 atom-16 atom-43\" d=\"M 131.044,228.617 L 159.442,209.189\" style=\"fill:none;fill-rule:evenodd;stroke:#000000;stroke-width:4.0px;stroke-linecap:butt;stroke-linejoin:miter;stroke-opacity:1\"/>\n",
       "<path class=\"bond-43 atom-17 atom-18\" d=\"M 107.79,194.626 L 84.5353,160.636\" style=\"fill:none;fill-rule:evenodd;stroke:#000000;stroke-width:4.0px;stroke-linecap:butt;stroke-linejoin:miter;stroke-opacity:1\"/>\n",
       "<path class=\"bond-44 atom-17 atom-44\" d=\"M 107.79,194.626 L 136.187,175.198\" style=\"fill:none;fill-rule:evenodd;stroke:#000000;stroke-width:4.0px;stroke-linecap:butt;stroke-linejoin:miter;stroke-opacity:1\"/>\n",
       "<path class=\"bond-45 atom-17 atom-45\" d=\"M 107.79,194.626 L 79.3919,214.054\" style=\"fill:none;fill-rule:evenodd;stroke:#000000;stroke-width:4.0px;stroke-linecap:butt;stroke-linejoin:miter;stroke-opacity:1\"/>\n",
       "<path class=\"bond-46 atom-18 atom-19\" d=\"M 84.5353,160.636 L 61.2809,126.645\" style=\"fill:none;fill-rule:evenodd;stroke:#000000;stroke-width:4.0px;stroke-linecap:butt;stroke-linejoin:miter;stroke-opacity:1\"/>\n",
       "<path class=\"bond-47 atom-18 atom-46\" d=\"M 84.5353,160.636 L 56.1375,180.064\" style=\"fill:none;fill-rule:evenodd;stroke:#000000;stroke-width:4.0px;stroke-linecap:butt;stroke-linejoin:miter;stroke-opacity:1\"/>\n",
       "<path class=\"bond-48 atom-18 atom-47\" d=\"M 84.5353,160.636 L 112.933,141.208\" style=\"fill:none;fill-rule:evenodd;stroke:#000000;stroke-width:4.0px;stroke-linecap:butt;stroke-linejoin:miter;stroke-opacity:1\"/>\n",
       "<path class=\"bond-49 atom-19 atom-48\" d=\"M 61.2809,126.645 L 89.6787,107.217\" style=\"fill:none;fill-rule:evenodd;stroke:#000000;stroke-width:4.0px;stroke-linecap:butt;stroke-linejoin:miter;stroke-opacity:1\"/>\n",
       "<path class=\"bond-50 atom-19 atom-49\" d=\"M 61.2809,126.645 L 32.8832,146.073\" style=\"fill:none;fill-rule:evenodd;stroke:#000000;stroke-width:4.0px;stroke-linecap:butt;stroke-linejoin:miter;stroke-opacity:1\"/>\n",
       "<path class=\"bond-51 atom-19 atom-50\" d=\"M 61.2809,126.645 L 42.7207,99.516\" style=\"fill:none;fill-rule:evenodd;stroke:#000000;stroke-width:4.0px;stroke-linecap:butt;stroke-linejoin:miter;stroke-opacity:1\"/>\n",
       "<path class=\"atom-3\" d=\"M 466.565 95.2425 Q 466.565 92.442, 467.949 90.877 Q 469.332 89.312, 471.919 89.312 Q 474.505 89.312, 475.889 90.877 Q 477.273 92.442, 477.273 95.2425 Q 477.273 98.0759, 475.872 99.6903 Q 474.472 101.288, 471.919 101.288 Q 469.349 101.288, 467.949 99.6903 Q 466.565 98.0924, 466.565 95.2425 M 471.919 99.9704 Q 473.698 99.9704, 474.653 98.7843 Q 475.625 97.5817, 475.625 95.2425 Q 475.625 92.9526, 474.653 91.7995 Q 473.698 90.6299, 471.919 90.6299 Q 470.14 90.6299, 469.168 91.783 Q 468.212 92.9362, 468.212 95.2425 Q 468.212 97.5982, 469.168 98.7843 Q 470.14 99.9704, 471.919 99.9704 \" fill=\"#FF0000\"/>\n",
       "<path class=\"atom-4\" d=\"M 402.247 64.3955 Q 402.247 61.595, 403.631 60.03 Q 405.014 58.4651, 407.601 58.4651 Q 410.187 58.4651, 411.571 60.03 Q 412.955 61.595, 412.955 64.3955 Q 412.955 67.229, 411.554 68.8434 Q 410.154 70.4413, 407.601 70.4413 Q 405.031 70.4413, 403.631 68.8434 Q 402.247 67.2455, 402.247 64.3955 M 407.601 69.1235 Q 409.38 69.1235, 410.335 67.9374 Q 411.307 66.7348, 411.307 64.3955 Q 411.307 62.1057, 410.335 60.9526 Q 409.38 59.7829, 407.601 59.7829 Q 405.822 59.7829, 404.85 60.9361 Q 403.894 62.0892, 403.894 64.3955 Q 403.894 66.7513, 404.85 67.9374 Q 405.822 69.1235, 407.601 69.1235 \" fill=\"#FF0000\"/>\n",
       "<path class=\"atom-4\" d=\"M 413.498 60.3687 L 417.488 60.3687 L 417.488 61.2385 L 413.498 61.2385 L 413.498 60.3687 \" fill=\"#FF0000\"/>\n",
       "<path class=\"atom-20\" d=\"M 371.348 111.846 L 372.93 111.846 L 372.93 116.805 L 378.893 116.805 L 378.893 111.846 L 380.475 111.846 L 380.475 123.509 L 378.893 123.509 L 378.893 118.122 L 372.93 118.122 L 372.93 123.509 L 371.348 123.509 L 371.348 111.846 \" fill=\"#000000\"/>\n",
       "<path class=\"atom-21\" d=\"M 445.616 147.465 L 447.198 147.465 L 447.198 152.424 L 453.161 152.424 L 453.161 147.465 L 454.743 147.465 L 454.743 159.128 L 453.161 159.128 L 453.161 153.741 L 447.198 153.741 L 447.198 159.128 L 445.616 159.128 L 445.616 147.465 \" fill=\"#000000\"/>\n",
       "<path class=\"atom-22\" d=\"M 427.807 184.599 L 429.388 184.599 L 429.388 189.558 L 435.352 189.558 L 435.352 184.599 L 436.933 184.599 L 436.933 196.262 L 435.352 196.262 L 435.352 190.875 L 429.388 190.875 L 429.388 196.262 L 427.807 196.262 L 427.807 184.599 \" fill=\"#000000\"/>\n",
       "<path class=\"atom-23\" d=\"M 353.539 148.98 L 355.12 148.98 L 355.12 153.939 L 361.084 153.939 L 361.084 148.98 L 362.665 148.98 L 362.665 160.643 L 361.084 160.643 L 361.084 155.257 L 355.12 155.257 L 355.12 160.643 L 353.539 160.643 L 353.539 148.98 \" fill=\"#000000\"/>\n",
       "<path class=\"atom-24\" d=\"M 335.729 186.114 L 337.311 186.114 L 337.311 191.073 L 343.274 191.073 L 343.274 186.114 L 344.856 186.114 L 344.856 197.777 L 343.274 197.777 L 343.274 192.391 L 337.311 192.391 L 337.311 197.777 L 335.729 197.777 L 335.729 186.114 \" fill=\"#000000\"/>\n",
       "<path class=\"atom-25\" d=\"M 409.997 221.733 L 411.579 221.733 L 411.579 226.692 L 417.542 226.692 L 417.542 221.733 L 419.124 221.733 L 419.124 233.396 L 417.542 233.396 L 417.542 228.01 L 411.579 228.01 L 411.579 233.396 L 409.997 233.396 L 409.997 221.733 \" fill=\"#000000\"/>\n",
       "<path class=\"atom-26\" d=\"M 392.188 258.867 L 393.769 258.867 L 393.769 263.826 L 399.733 263.826 L 399.733 258.867 L 401.314 258.867 L 401.314 270.53 L 399.733 270.53 L 399.733 265.144 L 393.769 265.144 L 393.769 270.53 L 392.188 270.53 L 392.188 258.867 \" fill=\"#000000\"/>\n",
       "<path class=\"atom-27\" d=\"M 317.92 223.248 L 319.501 223.248 L 319.501 228.207 L 325.465 228.207 L 325.465 223.248 L 327.046 223.248 L 327.046 234.912 L 325.465 234.912 L 325.465 229.525 L 319.501 229.525 L 319.501 234.912 L 317.92 234.912 L 317.92 223.248 \" fill=\"#000000\"/>\n",
       "<path class=\"atom-28\" d=\"M 374.379 296.001 L 375.96 296.001 L 375.96 300.96 L 381.923 300.96 L 381.923 296.001 L 383.505 296.001 L 383.505 307.665 L 381.923 307.665 L 381.923 302.278 L 375.96 302.278 L 375.96 307.665 L 374.379 307.665 L 374.379 296.001 \" fill=\"#000000\"/>\n",
       "<path class=\"atom-29\" d=\"M 300.11 260.382 L 301.692 260.382 L 301.692 265.341 L 307.655 265.341 L 307.655 260.382 L 309.237 260.382 L 309.237 272.046 L 307.655 272.046 L 307.655 266.659 L 301.692 266.659 L 301.692 272.046 L 300.11 272.046 L 300.11 260.382 \" fill=\"#000000\"/>\n",
       "<path class=\"atom-30\" d=\"M 282.301 297.516 L 283.882 297.516 L 283.882 302.475 L 289.846 302.475 L 289.846 297.516 L 291.427 297.516 L 291.427 309.18 L 289.846 309.18 L 289.846 303.793 L 283.882 303.793 L 283.882 309.18 L 282.301 309.18 L 282.301 297.516 \" fill=\"#000000\"/>\n",
       "<path class=\"atom-31\" d=\"M 356.569 333.135 L 358.151 333.135 L 358.151 338.094 L 364.114 338.094 L 364.114 333.135 L 365.695 333.135 L 365.695 344.799 L 364.114 344.799 L 364.114 339.412 L 358.151 339.412 L 358.151 344.799 L 356.569 344.799 L 356.569 333.135 \" fill=\"#000000\"/>\n",
       "<path class=\"atom-32\" d=\"M 273.53 334.475 L 275.111 334.475 L 275.111 339.434 L 281.075 339.434 L 281.075 334.475 L 282.656 334.475 L 282.656 346.139 L 281.075 346.139 L 281.075 340.752 L 275.111 340.752 L 275.111 346.139 L 273.53 346.139 L 273.53 334.475 \" fill=\"#000000\"/>\n",
       "<path class=\"atom-33\" d=\"M 338.76 370.269 L 340.341 370.269 L 340.341 375.228 L 346.304 375.228 L 346.304 370.269 L 347.886 370.269 L 347.886 381.933 L 346.304 381.933 L 346.304 376.546 L 340.341 376.546 L 340.341 381.933 L 338.76 381.933 L 338.76 370.269 \" fill=\"#000000\"/>\n",
       "<path class=\"atom-34\" d=\"M 307.07 423.585 L 308.652 423.585 L 308.652 428.543 L 314.615 428.543 L 314.615 423.585 L 316.197 423.585 L 316.197 435.248 L 314.615 435.248 L 314.615 429.861 L 308.652 429.861 L 308.652 435.248 L 307.07 435.248 L 307.07 423.585 \" fill=\"#000000\"/>\n",
       "<path class=\"atom-35\" d=\"M 224.943 429.872 L 226.524 429.872 L 226.524 434.83 L 232.488 434.83 L 232.488 429.872 L 234.069 429.872 L 234.069 441.535 L 232.488 441.535 L 232.488 436.148 L 226.524 436.148 L 226.524 441.535 L 224.943 441.535 L 224.943 429.872 \" fill=\"#000000\"/>\n",
       "<path class=\"atom-36\" d=\"M 185.507 382.001 L 187.089 382.001 L 187.089 386.96 L 193.052 386.96 L 193.052 382.001 L 194.634 382.001 L 194.634 393.665 L 193.052 393.665 L 193.052 388.278 L 187.089 388.278 L 187.089 393.665 L 185.507 393.665 L 185.507 382.001 \" fill=\"#000000\"/>\n",
       "<path class=\"atom-37\" d=\"M 244.529 336.695 L 246.11 336.695 L 246.11 341.654 L 252.074 341.654 L 252.074 336.695 L 253.655 336.695 L 253.655 348.359 L 252.074 348.359 L 252.074 342.972 L 246.11 342.972 L 246.11 348.359 L 244.529 348.359 L 244.529 336.695 \" fill=\"#000000\"/>\n",
       "<path class=\"atom-38\" d=\"M 230.234 301.502 L 231.816 301.502 L 231.816 306.461 L 237.779 306.461 L 237.779 301.502 L 239.36 301.502 L 239.36 313.166 L 237.779 313.166 L 237.779 307.779 L 231.816 307.779 L 231.816 313.166 L 230.234 313.166 L 230.234 301.502 \" fill=\"#000000\"/>\n",
       "<path class=\"atom-39\" d=\"M 138.999 314.02 L 140.58 314.02 L 140.58 318.979 L 146.544 318.979 L 146.544 314.02 L 148.125 314.02 L 148.125 325.684 L 146.544 325.684 L 146.544 320.297 L 140.58 320.297 L 140.58 325.684 L 138.999 325.684 L 138.999 314.02 \" fill=\"#000000\"/>\n",
       "<path class=\"atom-40\" d=\"M 183.725 233.521 L 185.307 233.521 L 185.307 238.48 L 191.27 238.48 L 191.27 233.521 L 192.852 233.521 L 192.852 245.185 L 191.27 245.185 L 191.27 239.798 L 185.307 239.798 L 185.307 245.185 L 183.725 245.185 L 183.725 233.521 \" fill=\"#000000\"/>\n",
       "<path class=\"atom-41\" d=\"M 115.745 280.03 L 117.326 280.03 L 117.326 284.988 L 123.289 284.988 L 123.289 280.03 L 124.871 280.03 L 124.871 291.693 L 123.289 291.693 L 123.289 286.306 L 117.326 286.306 L 117.326 291.693 L 115.745 291.693 L 115.745 280.03 \" fill=\"#000000\"/>\n",
       "<path class=\"atom-42\" d=\"M 92.4902 246.039 L 94.0717 246.039 L 94.0717 250.998 L 100.035 250.998 L 100.035 246.039 L 101.617 246.039 L 101.617 257.703 L 100.035 257.703 L 100.035 252.316 L 94.0717 252.316 L 94.0717 257.703 L 92.4902 257.703 L 92.4902 246.039 \" fill=\"#000000\"/>\n",
       "<path class=\"atom-43\" d=\"M 160.471 199.531 L 162.053 199.531 L 162.053 204.489 L 168.016 204.489 L 168.016 199.531 L 169.598 199.531 L 169.598 211.194 L 168.016 211.194 L 168.016 205.807 L 162.053 205.807 L 162.053 211.194 L 160.471 211.194 L 160.471 199.531 \" fill=\"#000000\"/>\n",
       "<path class=\"atom-44\" d=\"M 137.217 165.54 L 138.798 165.54 L 138.798 170.499 L 144.762 170.499 L 144.762 165.54 L 146.343 165.54 L 146.343 177.204 L 144.762 177.204 L 144.762 171.817 L 138.798 171.817 L 138.798 177.204 L 137.217 177.204 L 137.217 165.54 \" fill=\"#000000\"/>\n",
       "<path class=\"atom-45\" d=\"M 69.2359 212.049 L 70.8174 212.049 L 70.8174 217.007 L 76.7808 217.007 L 76.7808 212.049 L 78.3623 212.049 L 78.3623 223.712 L 76.7808 223.712 L 76.7808 218.325 L 70.8174 218.325 L 70.8174 223.712 L 69.2359 223.712 L 69.2359 212.049 \" fill=\"#000000\"/>\n",
       "<path class=\"atom-46\" d=\"M 45.9816 178.058 L 47.563 178.058 L 47.563 183.017 L 53.5265 183.017 L 53.5265 178.058 L 55.1079 178.058 L 55.1079 189.722 L 53.5265 189.722 L 53.5265 184.335 L 47.563 184.335 L 47.563 189.722 L 45.9816 189.722 L 45.9816 178.058 \" fill=\"#000000\"/>\n",
       "<path class=\"atom-47\" d=\"M 113.963 131.55 L 115.544 131.55 L 115.544 136.508 L 121.507 136.508 L 121.507 131.55 L 123.089 131.55 L 123.089 143.213 L 121.507 143.213 L 121.507 137.826 L 115.544 137.826 L 115.544 143.213 L 113.963 143.213 L 113.963 131.55 \" fill=\"#000000\"/>\n",
       "<path class=\"atom-48\" d=\"M 90.7083 97.5593 L 92.2897 97.5593 L 92.2897 102.518 L 98.2532 102.518 L 98.2532 97.5593 L 99.8346 97.5593 L 99.8346 109.223 L 98.2532 109.223 L 98.2532 103.836 L 92.2897 103.836 L 92.2897 109.223 L 90.7083 109.223 L 90.7083 97.5593 \" fill=\"#000000\"/>\n",
       "<path class=\"atom-49\" d=\"M 22.7273 144.068 L 24.3087 144.068 L 24.3087 149.026 L 30.2722 149.026 L 30.2722 144.068 L 31.8536 144.068 L 31.8536 155.731 L 30.2722 155.731 L 30.2722 150.344 L 24.3087 150.344 L 24.3087 155.731 L 22.7273 155.731 L 22.7273 144.068 \" fill=\"#000000\"/>\n",
       "<path class=\"atom-50\" d=\"M 33.4635 86.8231 L 35.0449 86.8231 L 35.0449 91.7817 L 41.0084 91.7817 L 41.0084 86.8231 L 42.5898 86.8231 L 42.5898 98.4864 L 41.0084 98.4864 L 41.0084 93.0996 L 35.0449 93.0996 L 35.0449 98.4864 L 33.4635 98.4864 L 33.4635 86.8231 \" fill=\"#000000\"/>\n",
       "<path class=\"atom-51\" d=\"M 162.253 348.011 L 163.835 348.011 L 163.835 352.969 L 169.798 352.969 L 169.798 348.011 L 171.379 348.011 L 171.379 359.674 L 169.798 359.674 L 169.798 354.287 L 163.835 354.287 L 163.835 359.674 L 162.253 359.674 L 162.253 348.011 \" fill=\"#000000\"/>\n",
       "<path class=\"atom-52\" d=\"M 206.98 267.512 L 208.561 267.512 L 208.561 272.47 L 214.525 272.47 L 214.525 267.512 L 216.106 267.512 L 216.106 279.175 L 214.525 279.175 L 214.525 273.788 L 208.561 273.788 L 208.561 279.175 L 206.98 279.175 L 206.98 267.512 \" fill=\"#000000\"/>\n",
       "</svg>"
      ],
      "text/plain": [
       "<IPython.core.display.SVG object>"
      ]
     },
     "metadata": {},
     "output_type": "display_data"
    }
   ],
   "source": [
    "molecule = Molecule(olc_pdb_path, rotamer_resolution=60)\n",
    "display(molecule)"
   ]
  },
  {
   "cell_type": "markdown",
   "metadata": {},
   "source": [
    "### Generate the Rotamer library file\n",
    "We are generating the Rotamer library and saving it to a file named __OLC.rot.assign__. Please, note that in this case the employed rotamer resolution is 60 degrees because we set the __rotamer_resolution__ to __60__ when initializing the `Molecule` class."
   ]
  },
  {
   "cell_type": "code",
   "execution_count": 15,
   "metadata": {},
   "outputs": [],
   "source": [
    "from peleffy.topology import RotamerLibrary"
   ]
  },
  {
   "cell_type": "code",
   "execution_count": 16,
   "metadata": {},
   "outputs": [],
   "source": [
    "rotamer_library = RotamerLibrary(molecule)\n",
    "rotamer_library.to_file('OLC.rot.assign')"
   ]
  },
  {
   "cell_type": "markdown",
   "metadata": {},
   "source": [
    "### Parameterize with Open Force Field Toolkit and generate the Impact template\n",
    "We parameterize the `Molecule`, using the __openff_unconstrained-1.2.0.offxml__ force field. However, in this case, we use another method to compute partial charges rather than the default one, the __gasteiger__ method.\n",
    "\n",
    "Then, the Impact template, named __olcz__, is generated."
   ]
  },
  {
   "cell_type": "code",
   "execution_count": 17,
   "metadata": {},
   "outputs": [],
   "source": [
    "from peleffy.forcefield import OpenForceField\n",
    "from peleffy.topology import Topology\n",
    "from peleffy.template import Impact"
   ]
  },
  {
   "cell_type": "code",
   "execution_count": 18,
   "metadata": {},
   "outputs": [],
   "source": [
    "openff = OpenForceField('openff_unconstrained-1.2.0.offxml')\n",
    "parameters = openff.parameterize(molecule, charge_method='gasteiger')"
   ]
  },
  {
   "cell_type": "code",
   "execution_count": 19,
   "metadata": {},
   "outputs": [],
   "source": [
    "topology = Topology(molecule, parameters)"
   ]
  },
  {
   "cell_type": "code",
   "execution_count": 20,
   "metadata": {},
   "outputs": [],
   "source": [
    "impact = Impact(topology)\n",
    "impact.to_file('olcz')"
   ]
  },
  {
   "cell_type": "markdown",
   "metadata": {},
   "source": [
    "### Generate the Solvent parameters file\n",
    "We generate the OBC2 Solvent parameters file, named __ligandParams.txt__."
   ]
  },
  {
   "cell_type": "code",
   "execution_count": 21,
   "metadata": {},
   "outputs": [],
   "source": [
    "from peleffy.solvent import OBC2"
   ]
  },
  {
   "cell_type": "code",
   "execution_count": 22,
   "metadata": {},
   "outputs": [
    {
     "name": "stderr",
     "output_type": "stream",
     "text": [
      " - Generating solvent parameters\n"
     ]
    }
   ],
   "source": [
    "solvent = OBC2(topology)\n",
    "solvent.to_file('ligandParams.txt')"
   ]
  },
  {
   "cell_type": "markdown",
   "metadata": {},
   "source": [
    "## Example 3: anisole\n",
    "This example shows how to load and parameterize the anisole molecule with `peleffy` from a SMILES tag."
   ]
  },
  {
   "cell_type": "markdown",
   "metadata": {},
   "source": [
    "### Load `peleffy`'s molecule representation with a PDB file of anisole"
   ]
  },
  {
   "cell_type": "code",
   "execution_count": 23,
   "metadata": {},
   "outputs": [],
   "source": [
    "from peleffy.topology import Molecule"
   ]
  },
  {
   "cell_type": "code",
   "execution_count": 24,
   "metadata": {},
   "outputs": [
    {
     "name": "stderr",
     "output_type": "stream",
     "text": [
      " - Initializing molecule from a SMILES tag\n",
      "   - Loading molecule from RDKit\n",
      "   - Setting molecule name to 'COc1ccccc1'\n",
      "   - Representing molecule with the Open Force Field Toolkit\n",
      " - Generating rotamer library\n",
      "   - Core set to the center of the molecule\n"
     ]
    },
    {
     "data": {
      "image/svg+xml": [
       "<svg baseProfile=\"full\" height=\"500px\" version=\"1.1\" viewBox=\"0 0 500 500\" width=\"500px\" xml:space=\"preserve\" xmlns=\"http://www.w3.org/2000/svg\" xmlns:rdkit=\"http://www.rdkit.org/xml\" xmlns:xlink=\"http://www.w3.org/1999/xlink\">\n",
       "<!-- END OF HEADER -->\n",
       "<rect height=\"500\" style=\"opacity:1.0;fill:#FFFFFF;stroke:none\" width=\"500\" x=\"0\" y=\"0\"> </rect>\n",
       "<path class=\"bond-0 atom-0 atom-1\" d=\"M 95.939,257.065 L 121.582,277.859\" style=\"fill:none;fill-rule:evenodd;stroke:#000000;stroke-width:4.0px;stroke-linecap:butt;stroke-linejoin:miter;stroke-opacity:1\"/>\n",
       "<path class=\"bond-0 atom-0 atom-1\" d=\"M 121.582,277.859 L 147.225,298.652\" style=\"fill:none;fill-rule:evenodd;stroke:#FF0000;stroke-width:4.0px;stroke-linecap:butt;stroke-linejoin:miter;stroke-opacity:1\"/>\n",
       "<path class=\"bond-8 atom-0 atom-8\" d=\"M 95.939,257.065 L 43.0692,214.194\" style=\"fill:none;fill-rule:evenodd;stroke:#000000;stroke-width:4.0px;stroke-linecap:butt;stroke-linejoin:miter;stroke-opacity:1\"/>\n",
       "<path class=\"bond-9 atom-0 atom-9\" d=\"M 95.939,257.065 L 55.1276,307.394\" style=\"fill:none;fill-rule:evenodd;stroke:#000000;stroke-width:4.0px;stroke-linecap:butt;stroke-linejoin:miter;stroke-opacity:1\"/>\n",
       "<path class=\"bond-10 atom-0 atom-10\" d=\"M 95.939,257.065 L 136.75,206.736\" style=\"fill:none;fill-rule:evenodd;stroke:#000000;stroke-width:4.0px;stroke-linecap:butt;stroke-linejoin:miter;stroke-opacity:1\"/>\n",
       "<path class=\"bond-1 atom-1 atom-2\" d=\"M 172.797,304.122 L 204.919,291.816\" style=\"fill:none;fill-rule:evenodd;stroke:#FF0000;stroke-width:4.0px;stroke-linecap:butt;stroke-linejoin:miter;stroke-opacity:1\"/>\n",
       "<path class=\"bond-1 atom-1 atom-2\" d=\"M 204.919,291.816 L 237.041,279.51\" style=\"fill:none;fill-rule:evenodd;stroke:#000000;stroke-width:4.0px;stroke-linecap:butt;stroke-linejoin:miter;stroke-opacity:1\"/>\n",
       "<path class=\"bond-2 atom-2 atom-3\" d=\"M 237.041,279.51 L 250,198.045\" style=\"fill:none;fill-rule:evenodd;stroke:#000000;stroke-width:4.0px;stroke-linecap:butt;stroke-linejoin:miter;stroke-opacity:1\"/>\n",
       "<path class=\"bond-2 atom-2 atom-3\" d=\"M 255.278,269.882 L 264.349,212.856\" style=\"fill:none;fill-rule:evenodd;stroke:#000000;stroke-width:4.0px;stroke-linecap:butt;stroke-linejoin:miter;stroke-opacity:1\"/>\n",
       "<path class=\"bond-7 atom-7 atom-2\" d=\"M 301.113,331.465 L 237.041,279.51\" style=\"fill:none;fill-rule:evenodd;stroke:#000000;stroke-width:4.0px;stroke-linecap:butt;stroke-linejoin:miter;stroke-opacity:1\"/>\n",
       "<path class=\"bond-3 atom-3 atom-4\" d=\"M 250,198.045 L 327.031,168.535\" style=\"fill:none;fill-rule:evenodd;stroke:#000000;stroke-width:4.0px;stroke-linecap:butt;stroke-linejoin:miter;stroke-opacity:1\"/>\n",
       "<path class=\"bond-11 atom-3 atom-11\" d=\"M 250,198.045 L 197.13,155.173\" style=\"fill:none;fill-rule:evenodd;stroke:#000000;stroke-width:4.0px;stroke-linecap:butt;stroke-linejoin:miter;stroke-opacity:1\"/>\n",
       "<path class=\"bond-4 atom-4 atom-5\" d=\"M 327.031,168.535 L 391.102,220.49\" style=\"fill:none;fill-rule:evenodd;stroke:#000000;stroke-width:4.0px;stroke-linecap:butt;stroke-linejoin:miter;stroke-opacity:1\"/>\n",
       "<path class=\"bond-4 atom-4 atom-5\" d=\"M 326.25,189.142 L 371.101,225.511\" style=\"fill:none;fill-rule:evenodd;stroke:#000000;stroke-width:4.0px;stroke-linecap:butt;stroke-linejoin:miter;stroke-opacity:1\"/>\n",
       "<path class=\"bond-12 atom-4 atom-12\" d=\"M 327.031,168.535 L 337.803,100.812\" style=\"fill:none;fill-rule:evenodd;stroke:#000000;stroke-width:4.0px;stroke-linecap:butt;stroke-linejoin:miter;stroke-opacity:1\"/>\n",
       "<path class=\"bond-5 atom-5 atom-6\" d=\"M 391.102,220.49 L 378.144,301.955\" style=\"fill:none;fill-rule:evenodd;stroke:#000000;stroke-width:4.0px;stroke-linecap:butt;stroke-linejoin:miter;stroke-opacity:1\"/>\n",
       "<path class=\"bond-13 atom-5 atom-13\" d=\"M 391.102,220.49 L 456.931,195.271\" style=\"fill:none;fill-rule:evenodd;stroke:#000000;stroke-width:4.0px;stroke-linecap:butt;stroke-linejoin:miter;stroke-opacity:1\"/>\n",
       "<path class=\"bond-6 atom-6 atom-7\" d=\"M 378.144,301.955 L 301.113,331.465\" style=\"fill:none;fill-rule:evenodd;stroke:#000000;stroke-width:4.0px;stroke-linecap:butt;stroke-linejoin:miter;stroke-opacity:1\"/>\n",
       "<path class=\"bond-6 atom-6 atom-7\" d=\"M 360.687,290.976 L 306.766,311.633\" style=\"fill:none;fill-rule:evenodd;stroke:#000000;stroke-width:4.0px;stroke-linecap:butt;stroke-linejoin:miter;stroke-opacity:1\"/>\n",
       "<path class=\"bond-14 atom-6 atom-14\" d=\"M 378.144,301.955 L 431.013,344.827\" style=\"fill:none;fill-rule:evenodd;stroke:#000000;stroke-width:4.0px;stroke-linecap:butt;stroke-linejoin:miter;stroke-opacity:1\"/>\n",
       "<path class=\"bond-15 atom-7 atom-15\" d=\"M 301.113,331.465 L 290.341,399.188\" style=\"fill:none;fill-rule:evenodd;stroke:#000000;stroke-width:4.0px;stroke-linecap:butt;stroke-linejoin:miter;stroke-opacity:1\"/>\n",
       "<path class=\"atom-1\" d=\"M 149.287 309.086 Q 149.287 303.477, 152.059 300.343 Q 154.83 297.208, 160.011 297.208 Q 165.191 297.208, 167.963 300.343 Q 170.734 303.477, 170.734 309.086 Q 170.734 314.762, 167.93 317.995 Q 165.125 321.196, 160.011 321.196 Q 154.863 321.196, 152.059 317.995 Q 149.287 314.795, 149.287 309.086 M 160.011 318.556 Q 163.574 318.556, 165.488 316.181 Q 167.435 313.772, 167.435 309.086 Q 167.435 304.5, 165.488 302.19 Q 163.574 299.848, 160.011 299.848 Q 156.447 299.848, 154.501 302.157 Q 152.587 304.467, 152.587 309.086 Q 152.587 313.805, 154.501 316.181 Q 156.447 318.556, 160.011 318.556 \" fill=\"#FF0000\"/>\n",
       "<path class=\"atom-8\" d=\"M 22.7273 193.429 L 25.8949 193.429 L 25.8949 203.361 L 37.8394 203.361 L 37.8394 193.429 L 41.007 193.429 L 41.007 216.79 L 37.8394 216.79 L 37.8394 206.001 L 25.8949 206.001 L 25.8949 216.79 L 22.7273 216.79 L 22.7273 193.429 \" fill=\"#000000\"/>\n",
       "<path class=\"atom-9\" d=\"M 34.8439 309.456 L 38.0115 309.456 L 38.0115 319.388 L 49.956 319.388 L 49.956 309.456 L 53.1236 309.456 L 53.1236 332.818 L 49.956 332.818 L 49.956 322.028 L 38.0115 322.028 L 38.0115 332.818 L 34.8439 332.818 L 34.8439 309.456 \" fill=\"#000000\"/>\n",
       "<path class=\"atom-10\" d=\"M 138.754 181.313 L 141.922 181.313 L 141.922 191.245 L 153.867 191.245 L 153.867 181.313 L 157.034 181.313 L 157.034 204.674 L 153.867 204.674 L 153.867 193.884 L 141.922 193.884 L 141.922 204.674 L 138.754 204.674 L 138.754 181.313 \" fill=\"#000000\"/>\n",
       "<path class=\"atom-11\" d=\"M 176.788 134.409 L 179.956 134.409 L 179.956 144.341 L 191.9 144.341 L 191.9 134.409 L 195.068 134.409 L 195.068 157.77 L 191.9 157.77 L 191.9 146.98 L 179.956 146.98 L 179.956 157.77 L 176.788 157.77 L 176.788 134.409 \" fill=\"#000000\"/>\n",
       "<path class=\"atom-12\" d=\"M 330.849 75.3885 L 334.017 75.3885 L 334.017 85.3202 L 345.961 85.3202 L 345.961 75.3885 L 349.129 75.3885 L 349.129 98.7496 L 345.961 98.7496 L 345.961 87.9599 L 334.017 87.9599 L 334.017 98.7496 L 330.849 98.7496 L 330.849 75.3885 \" fill=\"#000000\"/>\n",
       "<path class=\"atom-13\" d=\"M 458.993 179.299 L 462.161 179.299 L 462.161 189.231 L 474.105 189.231 L 474.105 179.299 L 477.273 179.299 L 477.273 202.66 L 474.105 202.66 L 474.105 191.87 L 462.161 191.87 L 462.161 202.66 L 458.993 202.66 L 458.993 179.299 \" fill=\"#000000\"/>\n",
       "<path class=\"atom-14\" d=\"M 433.076 342.23 L 436.243 342.23 L 436.243 352.162 L 448.188 352.162 L 448.188 342.23 L 451.355 342.23 L 451.355 365.591 L 448.188 365.591 L 448.188 354.801 L 436.243 354.801 L 436.243 365.591 L 433.076 365.591 L 433.076 342.23 \" fill=\"#000000\"/>\n",
       "<path class=\"atom-15\" d=\"M 279.015 401.25 L 282.182 401.25 L 282.182 411.182 L 294.127 411.182 L 294.127 401.25 L 297.294 401.25 L 297.294 424.612 L 294.127 424.612 L 294.127 413.822 L 282.182 413.822 L 282.182 424.612 L 279.015 424.612 L 279.015 401.25 \" fill=\"#000000\"/>\n",
       "</svg>"
      ],
      "text/plain": [
       "<IPython.core.display.SVG object>"
      ]
     },
     "metadata": {},
     "output_type": "display_data"
    }
   ],
   "source": [
    "molecule = Molecule(smiles='COc1ccccc1', hydrogens_are_explicit=False)\n",
    "display(molecule)"
   ]
  },
  {
   "cell_type": "markdown",
   "metadata": {},
   "source": [
    "### Save PDB file for PELE\n",
    "PELE still needs a PDB file to run a simulation. `peleffy` can extract a PDB file with the structure of the molecule with PDB atom names correctly assigned."
   ]
  },
  {
   "cell_type": "code",
   "execution_count": 25,
   "metadata": {},
   "outputs": [],
   "source": [
    "molecule.to_pdb_file('ANI.pdb')"
   ]
  },
  {
   "cell_type": "markdown",
   "metadata": {},
   "source": [
    "### Generate the Rotamer library file\n",
    "We are generating the Rotamer library and saving it to a file named __ANI.rot.assign__."
   ]
  },
  {
   "cell_type": "code",
   "execution_count": 26,
   "metadata": {},
   "outputs": [],
   "source": [
    "from peleffy.topology import RotamerLibrary"
   ]
  },
  {
   "cell_type": "code",
   "execution_count": 27,
   "metadata": {},
   "outputs": [],
   "source": [
    "rotamer_library = RotamerLibrary(molecule)\n",
    "rotamer_library.to_file('ANI.rot.assign')"
   ]
  },
  {
   "cell_type": "markdown",
   "metadata": {},
   "source": [
    "### Parameterize with Open Force Field Toolkit and generate the Impact template\n",
    "Parameters from the __openff_unconstrained-1.2.0.offxml__ force field are obtained and employed to construct the molecular `Topology`. Then, the Impact template, named __aniz__, is generated."
   ]
  },
  {
   "cell_type": "code",
   "execution_count": 28,
   "metadata": {},
   "outputs": [],
   "source": [
    "from peleffy.forcefield import OpenForceField\n",
    "from peleffy.topology import Topology\n",
    "from peleffy.template import Impact"
   ]
  },
  {
   "cell_type": "code",
   "execution_count": 29,
   "metadata": {},
   "outputs": [],
   "source": [
    "openff = OpenForceField('openff_unconstrained-1.2.0.offxml')\n",
    "parameters = openff.parameterize(molecule)"
   ]
  },
  {
   "cell_type": "code",
   "execution_count": 30,
   "metadata": {},
   "outputs": [],
   "source": [
    "topology = Topology(molecule, parameters)"
   ]
  },
  {
   "cell_type": "code",
   "execution_count": 31,
   "metadata": {},
   "outputs": [],
   "source": [
    "impact = Impact(topology)\n",
    "impact.to_file('aniz')"
   ]
  },
  {
   "cell_type": "markdown",
   "metadata": {},
   "source": [
    "### Generate the Solvent parameters file\n",
    "We generate the OBC2 Solvent parameters file, named ligandParams.txt."
   ]
  },
  {
   "cell_type": "code",
   "execution_count": 32,
   "metadata": {},
   "outputs": [],
   "source": [
    "from peleffy.solvent import OBC2"
   ]
  },
  {
   "cell_type": "code",
   "execution_count": 33,
   "metadata": {},
   "outputs": [
    {
     "name": "stderr",
     "output_type": "stream",
     "text": [
      " - Generating solvent parameters\n"
     ]
    }
   ],
   "source": [
    "solvent = OBC2(topology)\n",
    "solvent.to_file('ligandParams.txt')"
   ]
  },
  {
   "cell_type": "markdown",
   "metadata": {},
   "source": [
    "## Example 4: BHP\n",
    "This example shows how to load and parameterize the phosphine-borane molecule with `peleffy` assigning the partial charges from an external file."
   ]
  },
  {
   "cell_type": "markdown",
   "metadata": {},
   "source": [
    "### Load required files for this test"
   ]
  },
  {
   "cell_type": "code",
   "execution_count": 34,
   "metadata": {},
   "outputs": [],
   "source": [
    "from peleffy.utils import get_data_file_path\n",
    "BHP_pdb_path = get_data_file_path('ligands/BHP.pdb')\n",
    "BHP_mae_path = get_data_file_path('ligands/BHP.mae')"
   ]
  },
  {
   "cell_type": "markdown",
   "metadata": {},
   "source": [
    "### Load `peleffy`'s molecule representation with a PDB file of BHP"
   ]
  },
  {
   "cell_type": "code",
   "execution_count": 35,
   "metadata": {},
   "outputs": [],
   "source": [
    "from peleffy.topology import Molecule"
   ]
  },
  {
   "cell_type": "code",
   "execution_count": 36,
   "metadata": {},
   "outputs": [
    {
     "name": "stderr",
     "output_type": "stream",
     "text": [
      " - Initializing molecule from PDB\n",
      "   - Loading molecule from RDKit\n",
      "   - Assigning stereochemistry from 3D coordinates\n",
      "   - Setting molecule name to 'BHP'\n",
      "   - Setting molecule tag to 'BHP'\n",
      "   - Representing molecule with the Open Force Field Toolkit\n",
      " - Generating rotamer library\n",
      "   - Core set to the center of the molecule\n"
     ]
    },
    {
     "data": {
      "image/svg+xml": [
       "<svg baseProfile=\"full\" height=\"500px\" version=\"1.1\" viewBox=\"0 0 500 500\" width=\"500px\" xml:space=\"preserve\" xmlns=\"http://www.w3.org/2000/svg\" xmlns:rdkit=\"http://www.rdkit.org/xml\" xmlns:xlink=\"http://www.w3.org/1999/xlink\">\n",
       "<!-- END OF HEADER -->\n",
       "<rect height=\"500\" style=\"opacity:1.0;fill:#FFFFFF;stroke:none\" width=\"500\" x=\"0\" y=\"0\"> </rect>\n",
       "<path class=\"bond-0 atom-0 atom-6\" d=\"M 228.032,297.595 L 245.488,290.191\" style=\"fill:none;fill-rule:evenodd;stroke:#FF0000;stroke-width:4.0px;stroke-linecap:butt;stroke-linejoin:miter;stroke-opacity:1\"/>\n",
       "<path class=\"bond-0 atom-0 atom-6\" d=\"M 245.488,290.191 L 262.943,282.787\" style=\"fill:none;fill-rule:evenodd;stroke:#000000;stroke-width:4.0px;stroke-linecap:butt;stroke-linejoin:miter;stroke-opacity:1\"/>\n",
       "<path class=\"bond-1 atom-0 atom-9\" d=\"M 213.897,295.264 L 199.226,284.203\" style=\"fill:none;fill-rule:evenodd;stroke:#FF0000;stroke-width:4.0px;stroke-linecap:butt;stroke-linejoin:miter;stroke-opacity:1\"/>\n",
       "<path class=\"bond-1 atom-0 atom-9\" d=\"M 199.226,284.203 L 184.555,273.142\" style=\"fill:none;fill-rule:evenodd;stroke:#000000;stroke-width:4.0px;stroke-linecap:butt;stroke-linejoin:miter;stroke-opacity:1\"/>\n",
       "<path class=\"bond-2 atom-1 atom-4\" d=\"M 328.694,332.361 L 314.023,321.3\" style=\"fill:none;fill-rule:evenodd;stroke:#FF0000;stroke-width:4.0px;stroke-linecap:butt;stroke-linejoin:miter;stroke-opacity:1\"/>\n",
       "<path class=\"bond-2 atom-1 atom-4\" d=\"M 314.023,321.3 L 299.352,310.238\" style=\"fill:none;fill-rule:evenodd;stroke:#000000;stroke-width:4.0px;stroke-linecap:butt;stroke-linejoin:miter;stroke-opacity:1\"/>\n",
       "<path class=\"bond-3 atom-1 atom-28\" d=\"M 334.793,345.56 L 332.948,360.554\" style=\"fill:none;fill-rule:evenodd;stroke:#FF0000;stroke-width:4.0px;stroke-linecap:butt;stroke-linejoin:miter;stroke-opacity:1\"/>\n",
       "<path class=\"bond-3 atom-1 atom-28\" d=\"M 332.948,360.554 L 331.103,375.548\" style=\"fill:none;fill-rule:evenodd;stroke:#000000;stroke-width:4.0px;stroke-linecap:butt;stroke-linejoin:miter;stroke-opacity:1\"/>\n",
       "<path class=\"bond-4 atom-2 atom-6\" d=\"M 258.392,245.058 L 258.387,263.922\" style=\"fill:none;fill-rule:evenodd;stroke:#FF0000;stroke-width:4.0px;stroke-linecap:butt;stroke-linejoin:miter;stroke-opacity:1\"/>\n",
       "<path class=\"bond-4 atom-2 atom-6\" d=\"M 258.387,263.922 L 258.383,282.786\" style=\"fill:none;fill-rule:evenodd;stroke:#000000;stroke-width:4.0px;stroke-linecap:butt;stroke-linejoin:miter;stroke-opacity:1\"/>\n",
       "<path class=\"bond-4 atom-2 atom-6\" d=\"M 267.511,245.06 L 267.507,263.924\" style=\"fill:none;fill-rule:evenodd;stroke:#FF0000;stroke-width:4.0px;stroke-linecap:butt;stroke-linejoin:miter;stroke-opacity:1\"/>\n",
       "<path class=\"bond-4 atom-2 atom-6\" d=\"M 267.507,263.924 L 267.503,282.788\" style=\"fill:none;fill-rule:evenodd;stroke:#000000;stroke-width:4.0px;stroke-linecap:butt;stroke-linejoin:miter;stroke-opacity:1\"/>\n",
       "<path class=\"bond-5 atom-3 atom-4\" d=\"M 326.804,273.829 L 299.352,310.238\" style=\"fill:none;fill-rule:evenodd;stroke:#000000;stroke-width:4.0px;stroke-linecap:butt;stroke-linejoin:miter;stroke-opacity:1\"/>\n",
       "<path class=\"bond-6 atom-3 atom-5\" d=\"M 326.804,273.829 L 354.255,237.419\" style=\"fill:none;fill-rule:evenodd;stroke:#000000;stroke-width:4.0px;stroke-linecap:butt;stroke-linejoin:miter;stroke-opacity:1\"/>\n",
       "<path class=\"bond-7 atom-3 atom-19\" d=\"M 326.804,273.829 L 300.204,248.127\" style=\"fill:none;fill-rule:evenodd;stroke:#000000;stroke-width:4.0px;stroke-linecap:butt;stroke-linejoin:miter;stroke-opacity:1\"/>\n",
       "<path class=\"bond-8 atom-3 atom-20\" d=\"M 326.804,273.829 L 357.021,296.611\" style=\"fill:none;fill-rule:evenodd;stroke:#000000;stroke-width:4.0px;stroke-linecap:butt;stroke-linejoin:miter;stroke-opacity:1\"/>\n",
       "<path class=\"bond-9 atom-4 atom-6\" d=\"M 299.352,310.238 L 262.943,282.787\" style=\"fill:none;fill-rule:evenodd;stroke:#000000;stroke-width:4.0px;stroke-linecap:butt;stroke-linejoin:miter;stroke-opacity:1\"/>\n",
       "<path class=\"bond-10 atom-4 atom-21\" d=\"M 294.279,315.452 L 295.736,316.55\" style=\"fill:none;fill-rule:evenodd;stroke:#000000;stroke-width:1.0px;stroke-linecap:butt;stroke-linejoin:miter;stroke-opacity:1\"/>\n",
       "<path class=\"bond-10 atom-4 atom-21\" d=\"M 289.206,320.665 L 292.119,322.861\" style=\"fill:none;fill-rule:evenodd;stroke:#000000;stroke-width:1.0px;stroke-linecap:butt;stroke-linejoin:miter;stroke-opacity:1\"/>\n",
       "<path class=\"bond-10 atom-4 atom-21\" d=\"M 284.134,325.879 L 288.503,329.173\" style=\"fill:none;fill-rule:evenodd;stroke:#000000;stroke-width:1.0px;stroke-linecap:butt;stroke-linejoin:miter;stroke-opacity:1\"/>\n",
       "<path class=\"bond-10 atom-4 atom-21\" d=\"M 279.061,331.092 L 284.886,335.485\" style=\"fill:none;fill-rule:evenodd;stroke:#000000;stroke-width:1.0px;stroke-linecap:butt;stroke-linejoin:miter;stroke-opacity:1\"/>\n",
       "<path class=\"bond-10 atom-4 atom-21\" d=\"M 273.988,336.306 L 281.27,341.796\" style=\"fill:none;fill-rule:evenodd;stroke:#000000;stroke-width:1.0px;stroke-linecap:butt;stroke-linejoin:miter;stroke-opacity:1\"/>\n",
       "<path class=\"bond-11 atom-5 atom-7\" d=\"M 354.255,237.419 L 336.449,195.441\" style=\"fill:none;fill-rule:evenodd;stroke:#000000;stroke-width:4.0px;stroke-linecap:butt;stroke-linejoin:miter;stroke-opacity:1\"/>\n",
       "<path class=\"bond-11 atom-5 atom-7\" d=\"M 359.98,227.561 L 347.515,198.177\" style=\"fill:none;fill-rule:evenodd;stroke:#000000;stroke-width:4.0px;stroke-linecap:butt;stroke-linejoin:miter;stroke-opacity:1\"/>\n",
       "<path class=\"bond-12 atom-5 atom-8\" d=\"M 354.255,237.419 L 399.512,242.988\" style=\"fill:none;fill-rule:evenodd;stroke:#000000;stroke-width:4.0px;stroke-linecap:butt;stroke-linejoin:miter;stroke-opacity:1\"/>\n",
       "<path class=\"bond-13 atom-7 atom-11\" d=\"M 336.449,195.441 L 363.9,159.032\" style=\"fill:none;fill-rule:evenodd;stroke:#000000;stroke-width:4.0px;stroke-linecap:butt;stroke-linejoin:miter;stroke-opacity:1\"/>\n",
       "<path class=\"bond-14 atom-7 atom-22\" d=\"M 336.449,195.441 L 297.384,190.634\" style=\"fill:none;fill-rule:evenodd;stroke:#000000;stroke-width:4.0px;stroke-linecap:butt;stroke-linejoin:miter;stroke-opacity:1\"/>\n",
       "<path class=\"bond-15 atom-8 atom-12\" d=\"M 399.512,242.988 L 426.963,206.578\" style=\"fill:none;fill-rule:evenodd;stroke:#000000;stroke-width:4.0px;stroke-linecap:butt;stroke-linejoin:miter;stroke-opacity:1\"/>\n",
       "<path class=\"bond-15 atom-8 atom-12\" d=\"M 396.348,232.036 L 415.564,206.55\" style=\"fill:none;fill-rule:evenodd;stroke:#000000;stroke-width:4.0px;stroke-linecap:butt;stroke-linejoin:miter;stroke-opacity:1\"/>\n",
       "<path class=\"bond-16 atom-8 atom-23\" d=\"M 399.512,242.988 L 414.096,277.369\" style=\"fill:none;fill-rule:evenodd;stroke:#000000;stroke-width:4.0px;stroke-linecap:butt;stroke-linejoin:miter;stroke-opacity:1\"/>\n",
       "<path class=\"bond-17 atom-9 atom-10\" d=\"M 184.555,273.142 L 148.146,245.691\" style=\"fill:none;fill-rule:evenodd;stroke:#000000;stroke-width:4.0px;stroke-linecap:butt;stroke-linejoin:miter;stroke-opacity:1\"/>\n",
       "<path class=\"bond-18 atom-9 atom-24\" d=\"M 184.555,273.142 L 162.831,301.955\" style=\"fill:none;fill-rule:evenodd;stroke:#000000;stroke-width:4.0px;stroke-linecap:butt;stroke-linejoin:miter;stroke-opacity:1\"/>\n",
       "<path class=\"bond-19 atom-9 atom-25\" d=\"M 184.555,273.142 L 206.279,244.329\" style=\"fill:none;fill-rule:evenodd;stroke:#000000;stroke-width:4.0px;stroke-linecap:butt;stroke-linejoin:miter;stroke-opacity:1\"/>\n",
       "<path class=\"bond-20 atom-10 atom-14\" d=\"M 148.146,245.691 L 153.714,200.433\" style=\"fill:none;fill-rule:evenodd;stroke:#000000;stroke-width:4.0px;stroke-linecap:butt;stroke-linejoin:miter;stroke-opacity:1\"/>\n",
       "<path class=\"bond-20 atom-10 atom-14\" d=\"M 139.929,237.788 L 143.828,206.108\" style=\"fill:none;fill-rule:evenodd;stroke:#000000;stroke-width:4.0px;stroke-linecap:butt;stroke-linejoin:miter;stroke-opacity:1\"/>\n",
       "<path class=\"bond-21 atom-10 atom-15\" d=\"M 148.146,245.691 L 106.167,263.496\" style=\"fill:none;fill-rule:evenodd;stroke:#000000;stroke-width:4.0px;stroke-linecap:butt;stroke-linejoin:miter;stroke-opacity:1\"/>\n",
       "<path class=\"bond-22 atom-11 atom-13\" d=\"M 363.9,159.032 L 409.157,164.6\" style=\"fill:none;fill-rule:evenodd;stroke:#000000;stroke-width:4.0px;stroke-linecap:butt;stroke-linejoin:miter;stroke-opacity:1\"/>\n",
       "<path class=\"bond-22 atom-11 atom-13\" d=\"M 369.575,168.918 L 401.255,172.816\" style=\"fill:none;fill-rule:evenodd;stroke:#000000;stroke-width:4.0px;stroke-linecap:butt;stroke-linejoin:miter;stroke-opacity:1\"/>\n",
       "<path class=\"bond-23 atom-11 atom-26\" d=\"M 363.9,159.032 L 349.316,124.65\" style=\"fill:none;fill-rule:evenodd;stroke:#000000;stroke-width:4.0px;stroke-linecap:butt;stroke-linejoin:miter;stroke-opacity:1\"/>\n",
       "<path class=\"bond-24 atom-12 atom-13\" d=\"M 426.963,206.578 L 409.157,164.6\" style=\"fill:none;fill-rule:evenodd;stroke:#000000;stroke-width:4.0px;stroke-linecap:butt;stroke-linejoin:miter;stroke-opacity:1\"/>\n",
       "<path class=\"bond-25 atom-12 atom-27\" d=\"M 426.963,206.578 L 466.028,211.385\" style=\"fill:none;fill-rule:evenodd;stroke:#000000;stroke-width:4.0px;stroke-linecap:butt;stroke-linejoin:miter;stroke-opacity:1\"/>\n",
       "<path class=\"bond-26 atom-13 atom-29\" d=\"M 409.157,164.6 L 430.881,135.787\" style=\"fill:none;fill-rule:evenodd;stroke:#000000;stroke-width:4.0px;stroke-linecap:butt;stroke-linejoin:miter;stroke-opacity:1\"/>\n",
       "<path class=\"bond-27 atom-14 atom-16\" d=\"M 153.714,200.433 L 117.305,172.982\" style=\"fill:none;fill-rule:evenodd;stroke:#000000;stroke-width:4.0px;stroke-linecap:butt;stroke-linejoin:miter;stroke-opacity:1\"/>\n",
       "<path class=\"bond-28 atom-14 atom-30\" d=\"M 153.714,200.433 L 189.5,185.254\" style=\"fill:none;fill-rule:evenodd;stroke:#000000;stroke-width:4.0px;stroke-linecap:butt;stroke-linejoin:miter;stroke-opacity:1\"/>\n",
       "<path class=\"bond-29 atom-15 atom-17\" d=\"M 106.167,263.496 L 69.7578,236.045\" style=\"fill:none;fill-rule:evenodd;stroke:#000000;stroke-width:4.0px;stroke-linecap:butt;stroke-linejoin:miter;stroke-opacity:1\"/>\n",
       "<path class=\"bond-29 atom-15 atom-17\" d=\"M 106.196,252.097 L 80.7095,232.881\" style=\"fill:none;fill-rule:evenodd;stroke:#000000;stroke-width:4.0px;stroke-linecap:butt;stroke-linejoin:miter;stroke-opacity:1\"/>\n",
       "<path class=\"bond-30 atom-15 atom-31\" d=\"M 106.167,263.496 L 101.533,301.157\" style=\"fill:none;fill-rule:evenodd;stroke:#000000;stroke-width:4.0px;stroke-linecap:butt;stroke-linejoin:miter;stroke-opacity:1\"/>\n",
       "<path class=\"bond-31 atom-16 atom-18\" d=\"M 117.305,172.982 L 75.3265,190.788\" style=\"fill:none;fill-rule:evenodd;stroke:#000000;stroke-width:4.0px;stroke-linecap:butt;stroke-linejoin:miter;stroke-opacity:1\"/>\n",
       "<path class=\"bond-31 atom-16 atom-18\" d=\"M 114.569,184.049 L 85.1845,196.513\" style=\"fill:none;fill-rule:evenodd;stroke:#000000;stroke-width:4.0px;stroke-linecap:butt;stroke-linejoin:miter;stroke-opacity:1\"/>\n",
       "<path class=\"bond-32 atom-16 atom-32\" d=\"M 117.305,172.982 L 121.939,135.322\" style=\"fill:none;fill-rule:evenodd;stroke:#000000;stroke-width:4.0px;stroke-linecap:butt;stroke-linejoin:miter;stroke-opacity:1\"/>\n",
       "<path class=\"bond-33 atom-17 atom-18\" d=\"M 69.7578,236.045 L 75.3265,190.788\" style=\"fill:none;fill-rule:evenodd;stroke:#000000;stroke-width:4.0px;stroke-linecap:butt;stroke-linejoin:miter;stroke-opacity:1\"/>\n",
       "<path class=\"bond-34 atom-17 atom-33\" d=\"M 69.7578,236.045 L 33.9719,251.225\" style=\"fill:none;fill-rule:evenodd;stroke:#000000;stroke-width:4.0px;stroke-linecap:butt;stroke-linejoin:miter;stroke-opacity:1\"/>\n",
       "<path class=\"bond-35 atom-18 atom-34\" d=\"M 75.3265,190.788 L 45.1093,168.006\" style=\"fill:none;fill-rule:evenodd;stroke:#000000;stroke-width:4.0px;stroke-linecap:butt;stroke-linejoin:miter;stroke-opacity:1\"/>\n",
       "<path class=\"atom-0\" d=\"M 215.037 300.629 Q 215.037 297.529, 216.569 295.796 Q 218.101 294.063, 220.965 294.063 Q 223.828 294.063, 225.36 295.796 Q 226.892 297.529, 226.892 300.629 Q 226.892 303.767, 225.342 305.554 Q 223.792 307.323, 220.965 307.323 Q 218.119 307.323, 216.569 305.554 Q 215.037 303.785, 215.037 300.629 M 220.965 305.864 Q 222.934 305.864, 223.992 304.551 Q 225.068 303.219, 225.068 300.629 Q 225.068 298.094, 223.992 296.817 Q 222.934 295.522, 220.965 295.522 Q 218.995 295.522, 217.919 296.799 Q 216.861 298.076, 216.861 300.629 Q 216.861 303.238, 217.919 304.551 Q 218.995 305.864, 220.965 305.864 \" fill=\"#FF0000\"/>\n",
       "<path class=\"atom-1\" d=\"M 329.834 337.726 Q 329.834 334.625, 331.366 332.893 Q 332.898 331.16, 335.762 331.16 Q 338.625 331.16, 340.158 332.893 Q 341.69 334.625, 341.69 337.726 Q 341.69 340.863, 340.139 342.651 Q 338.589 344.42, 335.762 344.42 Q 332.916 344.42, 331.366 342.651 Q 329.834 340.881, 329.834 337.726 M 335.762 342.961 Q 337.732 342.961, 338.79 341.647 Q 339.866 340.316, 339.866 337.726 Q 339.866 335.191, 338.79 333.914 Q 337.732 332.619, 335.762 332.619 Q 333.792 332.619, 332.716 333.896 Q 331.658 335.172, 331.658 337.726 Q 331.658 340.334, 332.716 341.647 Q 333.792 342.961, 335.762 342.961 \" fill=\"#FF0000\"/>\n",
       "<path class=\"atom-2\" d=\"M 257.026 237.225 Q 257.026 234.124, 258.558 232.392 Q 260.09 230.659, 262.953 230.659 Q 265.817 230.659, 267.349 232.392 Q 268.881 234.124, 268.881 237.225 Q 268.881 240.362, 267.331 242.15 Q 265.78 243.919, 262.953 243.919 Q 260.108 243.919, 258.558 242.15 Q 257.026 240.38, 257.026 237.225 M 262.953 242.46 Q 264.923 242.46, 265.981 241.146 Q 267.057 239.815, 267.057 237.225 Q 267.057 234.69, 265.981 233.413 Q 264.923 232.118, 262.953 232.118 Q 260.983 232.118, 259.907 233.395 Q 258.849 234.672, 258.849 237.225 Q 258.849 239.833, 259.907 241.146 Q 260.983 242.46, 262.953 242.46 \" fill=\"#FF0000\"/>\n",
       "<path class=\"atom-19\" d=\"M 288.959 235.687 L 290.71 235.687 L 290.71 241.177 L 297.313 241.177 L 297.313 235.687 L 299.064 235.687 L 299.064 248.601 L 297.313 248.601 L 297.313 242.637 L 290.71 242.637 L 290.71 248.601 L 288.959 248.601 L 288.959 235.687 \" fill=\"#000000\"/>\n",
       "<path class=\"atom-20\" d=\"M 358.161 294.823 L 359.912 294.823 L 359.912 300.313 L 366.514 300.313 L 366.514 294.823 L 368.265 294.823 L 368.265 307.737 L 366.514 307.737 L 366.514 301.772 L 359.912 301.772 L 359.912 307.737 L 358.161 307.737 L 358.161 294.823 \" fill=\"#000000\"/>\n",
       "<path class=\"atom-21\" d=\"M 266.849 340.191 L 268.6 340.191 L 268.6 345.681 L 275.202 345.681 L 275.202 340.191 L 276.953 340.191 L 276.953 353.105 L 275.202 353.105 L 275.202 347.14 L 268.6 347.14 L 268.6 353.105 L 266.849 353.105 L 266.849 340.191 \" fill=\"#000000\"/>\n",
       "<path class=\"atom-22\" d=\"M 286.139 183.416 L 287.89 183.416 L 287.89 188.906 L 294.493 188.906 L 294.493 183.416 L 296.244 183.416 L 296.244 196.329 L 294.493 196.329 L 294.493 190.365 L 287.89 190.365 L 287.89 196.329 L 286.139 196.329 L 286.139 183.416 \" fill=\"#000000\"/>\n",
       "<path class=\"atom-23\" d=\"M 412.266 278.509 L 414.017 278.509 L 414.017 284 L 420.619 284 L 420.619 278.509 L 422.37 278.509 L 422.37 291.423 L 420.619 291.423 L 420.619 285.459 L 414.017 285.459 L 414.017 291.423 L 412.266 291.423 L 412.266 278.509 \" fill=\"#000000\"/>\n",
       "<path class=\"atom-24\" d=\"M 152.052 303.095 L 153.802 303.095 L 153.802 308.585 L 160.405 308.585 L 160.405 303.095 L 162.156 303.095 L 162.156 316.008 L 160.405 316.008 L 160.405 310.044 L 153.802 310.044 L 153.802 316.008 L 152.052 316.008 L 152.052 303.095 \" fill=\"#000000\"/>\n",
       "<path class=\"atom-25\" d=\"M 206.954 230.275 L 208.705 230.275 L 208.705 235.766 L 215.308 235.766 L 215.308 230.275 L 217.059 230.275 L 217.059 243.189 L 215.308 243.189 L 215.308 237.225 L 208.705 237.225 L 208.705 243.189 L 206.954 243.189 L 206.954 230.275 \" fill=\"#000000\"/>\n",
       "<path class=\"atom-26\" d=\"M 341.042 110.597 L 342.793 110.597 L 342.793 116.087 L 349.395 116.087 L 349.395 110.597 L 351.146 110.597 L 351.146 123.51 L 349.395 123.51 L 349.395 117.546 L 342.793 117.546 L 342.793 123.51 L 341.042 123.51 L 341.042 110.597 \" fill=\"#000000\"/>\n",
       "<path class=\"atom-27\" d=\"M 467.168 205.69 L 468.919 205.69 L 468.919 211.18 L 475.522 211.18 L 475.522 205.69 L 477.273 205.69 L 477.273 218.604 L 475.522 218.604 L 475.522 212.64 L 468.919 212.64 L 468.919 218.604 L 467.168 218.604 L 467.168 205.69 \" fill=\"#000000\"/>\n",
       "<path class=\"atom-28\" d=\"M 325.141 376.49 L 326.892 376.49 L 326.892 381.98 L 333.494 381.98 L 333.494 376.49 L 335.245 376.49 L 335.245 389.403 L 333.494 389.403 L 333.494 383.439 L 326.892 383.439 L 326.892 389.403 L 325.141 389.403 L 325.141 376.49 \" fill=\"#000000\"/>\n",
       "<path class=\"atom-29\" d=\"M 431.556 121.734 L 433.307 121.734 L 433.307 127.224 L 439.91 127.224 L 439.91 121.734 L 441.661 121.734 L 441.661 134.647 L 439.91 134.647 L 439.91 128.683 L 433.307 128.683 L 433.307 134.647 L 431.556 134.647 L 431.556 121.734 \" fill=\"#000000\"/>\n",
       "<path class=\"atom-30\" d=\"M 190.64 176.171 L 192.391 176.171 L 192.391 181.661 L 198.994 181.661 L 198.994 176.171 L 200.745 176.171 L 200.745 189.084 L 198.994 189.084 L 198.994 183.12 L 192.391 183.12 L 192.391 189.084 L 190.64 189.084 L 190.64 176.171 \" fill=\"#000000\"/>\n",
       "<path class=\"atom-31\" d=\"M 95.5463 302.297 L 97.2973 302.297 L 97.2973 307.787 L 103.9 307.787 L 103.9 302.297 L 105.651 302.297 L 105.651 315.21 L 103.9 315.21 L 103.9 309.246 L 97.2973 309.246 L 97.2973 315.21 L 95.5463 315.21 L 95.5463 302.297 \" fill=\"#000000\"/>\n",
       "<path class=\"atom-32\" d=\"M 117.821 121.268 L 119.572 121.268 L 119.572 126.758 L 126.175 126.758 L 126.175 121.268 L 127.926 121.268 L 127.926 134.182 L 126.175 134.182 L 126.175 128.217 L 119.572 128.217 L 119.572 134.182 L 117.821 134.182 L 117.821 121.268 \" fill=\"#000000\"/>\n",
       "<path class=\"atom-33\" d=\"M 22.7273 247.394 L 24.4783 247.394 L 24.4783 252.884 L 31.0809 252.884 L 31.0809 247.394 L 32.8319 247.394 L 32.8319 260.308 L 31.0809 260.308 L 31.0809 254.344 L 24.4783 254.344 L 24.4783 260.308 L 22.7273 260.308 L 22.7273 247.394 \" fill=\"#000000\"/>\n",
       "<path class=\"atom-34\" d=\"M 33.8647 156.88 L 35.6157 156.88 L 35.6157 162.37 L 42.2183 162.37 L 42.2183 156.88 L 43.9693 156.88 L 43.9693 169.794 L 42.2183 169.794 L 42.2183 163.829 L 35.6157 163.829 L 35.6157 169.794 L 33.8647 169.794 L 33.8647 156.88 \" fill=\"#000000\"/>\n",
       "</svg>"
      ],
      "text/plain": [
       "<IPython.core.display.SVG object>"
      ]
     },
     "metadata": {},
     "output_type": "display_data"
    }
   ],
   "source": [
    "molecule = Molecule(BHP_pdb_path)\n",
    "display(molecule)"
   ]
  },
  {
   "cell_type": "markdown",
   "metadata": {},
   "source": [
    "### Generate the Rotamer library file\n",
    "We are generating the Rotamer library and saving it to a file named __BHP.rot.assign__."
   ]
  },
  {
   "cell_type": "code",
   "execution_count": 37,
   "metadata": {},
   "outputs": [],
   "source": [
    "from peleffy.topology import RotamerLibrary"
   ]
  },
  {
   "cell_type": "code",
   "execution_count": 38,
   "metadata": {},
   "outputs": [],
   "source": [
    "rotamer_library = RotamerLibrary(molecule)\n",
    "rotamer_library.to_file('BHP.rot.assign')"
   ]
  },
  {
   "cell_type": "markdown",
   "metadata": {},
   "source": [
    "### Parameterize with Open Force Field Toolkit and generate the Impact template\n",
    "We parameterize the `Molecule`, using the __openff_unconstrained-1.2.0.offxml__ force field. However, in this case, instead of computing partial charges they are assigned from an extarnal file coming from external suites such as Jaguar. A __mae__ file with charges information is requiered. \n",
    "\n",
    "Then, the Impact template, named __bhpz__, is generated."
   ]
  },
  {
   "cell_type": "code",
   "execution_count": 39,
   "metadata": {},
   "outputs": [],
   "source": [
    "from peleffy.forcefield import OpenForceField\n",
    "from peleffy.topology import Topology\n",
    "from peleffy.template import Impact"
   ]
  },
  {
   "cell_type": "code",
   "execution_count": 40,
   "metadata": {},
   "outputs": [],
   "source": [
    "from peleffy.utils import parse_charges_from_mae"
   ]
  },
  {
   "cell_type": "code",
   "execution_count": 41,
   "metadata": {},
   "outputs": [],
   "source": [
    "openff = OpenForceField('openff_unconstrained-1.2.0.offxml')\n",
    "parameters = openff.parameterize(molecule, charge_method='dummy')\n",
    "parameters = parse_charges_from_mae(BHP_mae_path, parameters)"
   ]
  },
  {
   "cell_type": "code",
   "execution_count": 42,
   "metadata": {},
   "outputs": [],
   "source": [
    "topology = Topology(molecule, parameters)"
   ]
  },
  {
   "cell_type": "code",
   "execution_count": 43,
   "metadata": {},
   "outputs": [],
   "source": [
    "impact = Impact(topology)\n",
    "impact.to_file('bhpz')"
   ]
  },
  {
   "cell_type": "markdown",
   "metadata": {},
   "source": [
    "### Generate the Solvent parameters file\n",
    "We generate the OBC2 Solvent parameters file, named ligandParams.txt."
   ]
  },
  {
   "cell_type": "code",
   "execution_count": 44,
   "metadata": {},
   "outputs": [],
   "source": [
    "from peleffy.solvent import OBC2"
   ]
  },
  {
   "cell_type": "code",
   "execution_count": 45,
   "metadata": {},
   "outputs": [
    {
     "name": "stderr",
     "output_type": "stream",
     "text": [
      " - Generating solvent parameters\n"
     ]
    }
   ],
   "source": [
    "solvent = OBC2(topology)\n",
    "solvent.to_file('ligandParams.txt')"
   ]
  }
 ],
 "metadata": {
  "kernelspec": {
   "display_name": "Python 3",
   "language": "python",
   "name": "python3"
  },
  "language_info": {
   "codemirror_mode": {
    "name": "ipython",
    "version": 3
   },
   "file_extension": ".py",
   "mimetype": "text/x-python",
   "name": "python",
   "nbconvert_exporter": "python",
   "pygments_lexer": "ipython3",
   "version": "3.7.10"
  }
 },
 "nbformat": 4,
 "nbformat_minor": 4
}
