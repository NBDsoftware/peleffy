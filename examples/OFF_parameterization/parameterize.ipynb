{
 "cells": [
  {
   "cell_type": "markdown",
   "metadata": {},
   "source": [
    "# Parameterization with the Open Force Field Toolkit\n",
    "This notebook shows how to use the API of `offpele` to parameterize a molecule with a force field from the Open Force Field initiative. Then, it generates the three files that PELE requires:\n",
    "- Rotamer library\n",
    "- Impact template\n",
    "- Solvent parameters"
   ]
  },
  {
   "cell_type": "markdown",
   "metadata": {},
   "source": [
    "## Example 1: benzene\n",
    "This example shows how to load and parameterize the benzene molecule with `offpele`."
   ]
  },
  {
   "cell_type": "markdown",
   "metadata": {},
   "source": [
    "### Load the required classes from `offpele`'s API"
   ]
  },
  {
   "cell_type": "code",
   "execution_count": 1,
   "metadata": {},
   "outputs": [],
   "source": [
    "from offpele.topology import Molecule, RotamerLibrary\n",
    "from offpele.template import Impact\n",
    "from offpele.solvent import OBC2"
   ]
  },
  {
   "cell_type": "markdown",
   "metadata": {},
   "source": [
    "### Load `offpele`'s molecule representation with a PDB file of benzene"
   ]
  },
  {
   "cell_type": "code",
   "execution_count": 2,
   "metadata": {},
   "outputs": [
    {
     "name": "stderr",
     "output_type": "stream",
     "text": [
      "Warning: Unable to load toolkit 'OpenEye Toolkit'. The Open Force Field Toolkit does not require the OpenEye Toolkits, and can use RDKit/AmberTools instead. However, if you have a valid license for the OpenEye Toolkits, consider installing them for faster performance and additional file format support: https://docs.eyesopen.com/toolkits/python/quickstart-python/linuxosx.html OpenEye offers free Toolkit licenses for academics: https://www.eyesopen.com/academic-licensing\n"
     ]
    },
    {
     "name": "stdout",
     "output_type": "stream",
     "text": [
      " - Loading molecule from RDKit\n"
     ]
    },
    {
     "data": {
      "application/vnd.jupyter.widget-view+json": {
       "model_id": "03e469885263463d9085a59d899d0a6d",
       "version_major": 2,
       "version_minor": 0
      },
      "text/plain": []
     },
     "metadata": {},
     "output_type": "display_data"
    },
    {
     "name": "stdout",
     "output_type": "stream",
     "text": [
      " - Generating rotamer library\n"
     ]
    },
    {
     "data": {
      "image/png": "[encoded data removed]",
      "text/plain": [
       "<rdkit.Chem.rdchem.Mol at 0x7fdc8ce63b20>"
      ]
     },
     "metadata": {},
     "output_type": "display_data"
    }
   ],
   "source": [
    "molecule = Molecule('BNZ.pdb')\n",
    "display(molecule)"
   ]
  },
  {
   "cell_type": "markdown",
   "metadata": {},
   "source": [
    "### Generate the Rotamer library file\n",
    "The `RotamerLibrary` method handles the rotamer library generation. Here, we are generating it and saving it to a file named __BNZ.rot.assign__."
   ]
  },
  {
   "cell_type": "code",
   "execution_count": 3,
   "metadata": {},
   "outputs": [],
   "source": [
    "rotamer_library = RotamerLibrary(molecule)\n",
    "rotamer_library.to_file('BNZ.rot.assign')"
   ]
  },
  {
   "cell_type": "markdown",
   "metadata": {},
   "source": [
    "### Parameterize with Open Force Field Toolkit and generate the Impact template\n",
    "Please, note that before generating the Impact template, we need to parameterize the molecule by calling the `Molecule.parameterize()` method.\n",
    "Then, the Impact template, named __bnzz__, can be generated."
   ]
  },
  {
   "cell_type": "code",
   "execution_count": 4,
   "metadata": {},
   "outputs": [
    {
     "name": "stdout",
     "output_type": "stream",
     "text": [
      " - Loading forcefield\n",
      " - Computing partial charges with am1bcc\n"
     ]
    }
   ],
   "source": [
    "molecule.parameterize('openff_unconstrained-1.2.0.offxml')\n",
    "impact = Impact(molecule)\n",
    "impact.write('bnzz')"
   ]
  },
  {
   "cell_type": "markdown",
   "metadata": {},
   "source": [
    "### Generate the Solvent parameters file\n",
    "Please, note that before generating the Solvent parameters file, the molecule has to be previously parameterized. However, as we have already run the parameterization with `Molecule.parameterize()`, we can now skip this step because the molecule is already parameterized. Here, we generate the OBC2 Solvent parameters file, named __ligandParams.txt__."
   ]
  },
  {
   "cell_type": "code",
   "execution_count": 5,
   "metadata": {},
   "outputs": [
    {
     "name": "stdout",
     "output_type": "stream",
     "text": [
      " - Loading solvent parameters\n"
     ]
    }
   ],
   "source": [
    "solvent = OBC2(molecule)\n",
    "solvent.to_json_file('ligandParams.txt')"
   ]
  },
  {
   "cell_type": "markdown",
   "metadata": {},
   "source": [
    "## Example 2: oleic acid\n",
    "This example shows how to load and parameterize the oleic acid molecule with `offpele` with some customized settings."
   ]
  },
  {
   "cell_type": "markdown",
   "metadata": {},
   "source": [
    "### Load the required classes from `offpele`'s API"
   ]
  },
  {
   "cell_type": "code",
   "execution_count": 6,
   "metadata": {},
   "outputs": [],
   "source": [
    "from offpele.topology import Molecule, RotamerLibrary\n",
    "from offpele.template import Impact\n",
    "from offpele.solvent import OBC2"
   ]
  },
  {
   "cell_type": "markdown",
   "metadata": {},
   "source": [
    "### Load `offpele`'s molecule representation with a PDB file of oleic acid"
   ]
  },
  {
   "cell_type": "code",
   "execution_count": 7,
   "metadata": {},
   "outputs": [
    {
     "name": "stdout",
     "output_type": "stream",
     "text": [
      " - Loading molecule from RDKit\n",
      " - Generating rotamer library\n"
     ]
    },
    {
     "data": {
      "image/png": "[encoded data removed]",
      "text/plain": [
       "<rdkit.Chem.rdchem.Mol at 0x7fdc8d2584e0>"
      ]
     },
     "metadata": {},
     "output_type": "display_data"
    }
   ],
   "source": [
    "molecule = Molecule('OLC.pdb', rotamer_resolution=60)\n",
    "display(molecule)"
   ]
  },
  {
   "cell_type": "markdown",
   "metadata": {},
   "source": [
    "### Generate the Rotamer library file\n",
    "We are generating the Rotamer library and saving it to a file named __OLC.rot.assign__. Please, note that in this case the employed rotamer resolution is 60 degrees because we set the __rotamer_resolution__ to __60__ when initializing the `Molecule` class."
   ]
  },
  {
   "cell_type": "code",
   "execution_count": 8,
   "metadata": {},
   "outputs": [],
   "source": [
    "rotamer_library = RotamerLibrary(molecule)\n",
    "rotamer_library.to_file('OLC.rot.assign')"
   ]
  },
  {
   "cell_type": "markdown",
   "metadata": {},
   "source": [
    "### Parameterize with Open Force Field Toolkit and generate the Impact template\n",
    "Parameters from the __openff_unconstrained-1.2.0.offxml__ force field are assigned to the molecule. We can use another method to compute partial charges rather than the default one. Here, we are using the __gasteiger__ method. Then, the Impact template, named __olcz__, is generated."
   ]
  },
  {
   "cell_type": "code",
   "execution_count": 9,
   "metadata": {},
   "outputs": [
    {
     "name": "stdout",
     "output_type": "stream",
     "text": [
      " - Loading forcefield\n",
      " - Computing partial charges with gasteiger\n"
     ]
    }
   ],
   "source": [
    "molecule.parameterize('openff_unconstrained-1.2.0.offxml',\n",
    "                      charges_method='gasteiger')\n",
    "impact = Impact(molecule)\n",
    "impact.write('olcz')"
   ]
  },
  {
   "cell_type": "markdown",
   "metadata": {},
   "source": [
    "### Generate the Solvent parameters file\n",
    "We generate the OBC2 Solvent parameters file, named __ligandParams.txt__."
   ]
  },
  {
   "cell_type": "code",
   "execution_count": 10,
   "metadata": {},
   "outputs": [
    {
     "name": "stdout",
     "output_type": "stream",
     "text": [
      " - Loading solvent parameters\n"
     ]
    }
   ],
   "source": [
    "solvent = OBC2(molecule)\n",
    "solvent.to_json_file('ligandParams.txt')"
   ]
  },
  {
   "cell_type": "markdown",
   "metadata": {},
   "source": [
    "## Example 3: anisole\n",
    "This example shows how to load and parameterize the anisole molecule with `offpele` from a SMILES tag."
   ]
  },
  {
   "cell_type": "markdown",
   "metadata": {},
   "source": [
    "### Load the required classes from `offpele`'s API"
   ]
  },
  {
   "cell_type": "code",
   "execution_count": 11,
   "metadata": {},
   "outputs": [],
   "source": [
    "from offpele.topology import Molecule, RotamerLibrary\n",
    "from offpele.template import Impact\n",
    "from offpele.solvent import OBC2"
   ]
  },
  {
   "cell_type": "markdown",
   "metadata": {},
   "source": [
    "### Load `offpele`'s molecule representation with a PDB file of anisole"
   ]
  },
  {
   "cell_type": "code",
   "execution_count": 12,
   "metadata": {},
   "outputs": [
    {
     "name": "stdout",
     "output_type": "stream",
     "text": [
      " - Constructing molecule from a SMILES tag with RDKit\n",
      " - Generating rotamer library\n"
     ]
    },
    {
     "data": {
      "image/png": "[encoded data removed]",
      "text/plain": [
       "<rdkit.Chem.rdchem.Mol at 0x7fdc8d506a30>"
      ]
     },
     "metadata": {},
     "output_type": "display_data"
    }
   ],
   "source": [
    "molecule = Molecule(smiles='COc1ccccc1')\n",
    "display(molecule)"
   ]
  },
  {
   "cell_type": "markdown",
   "metadata": {},
   "source": [
    "### Save PDB file for PELE\n",
    "PELE still needs a PDB file to run a simulation. `offpele` can extract a PDB file with the structure of the molecule with PDB atom names correctly assigned."
   ]
  },
  {
   "cell_type": "code",
   "execution_count": 13,
   "metadata": {},
   "outputs": [],
   "source": [
    "molecule.to_pdb_file('ANI.pdb')"
   ]
  },
  {
   "cell_type": "markdown",
   "metadata": {},
   "source": [
    "### Generate the Rotamer library file\n",
    "We are generating the Rotamer library and saving it to a file named __ANI.rot.assign__."
   ]
  },
  {
   "cell_type": "code",
   "execution_count": 14,
   "metadata": {},
   "outputs": [],
   "source": [
    "rotamer_library = RotamerLibrary(molecule)\n",
    "rotamer_library.to_file('ANI.rot.assign')"
   ]
  },
  {
   "cell_type": "markdown",
   "metadata": {},
   "source": [
    "### Parameterize with Open Force Field Toolkit and generate the Impact template\n",
    "Parameters from the __openff_unconstrained-1.2.0.offxml__ force field are assigned to the molecule. Then, the Impact template, named __aniz__, is generated."
   ]
  },
  {
   "cell_type": "code",
   "execution_count": 15,
   "metadata": {},
   "outputs": [
    {
     "name": "stdout",
     "output_type": "stream",
     "text": [
      " - Loading forcefield\n",
      " - Computing partial charges with am1bcc\n"
     ]
    }
   ],
   "source": [
    "molecule.parameterize('openff_unconstrained-1.2.0.offxml')\n",
    "impact = Impact(molecule)\n",
    "impact.write('aniz')"
   ]
  },
  {
   "cell_type": "markdown",
   "metadata": {},
   "source": [
    "### Generate the Solvent parameters file\n",
    "We generate the OBC2 Solvent parameters file, named ligandParams.txt."
   ]
  },
  {
   "cell_type": "code",
   "execution_count": 16,
   "metadata": {},
   "outputs": [
    {
     "name": "stdout",
     "output_type": "stream",
     "text": [
      " - Loading solvent parameters\n"
     ]
    }
   ],
   "source": [
    "solvent = OBC2(molecule)\n",
    "solvent.to_json_file('ligandParams.txt')"
   ]
  }
 ],
 "metadata": {
  "kernelspec": {
   "display_name": "Python 3",
   "language": "python",
   "name": "python3"
  },
  "language_info": {
   "codemirror_mode": {
    "name": "ipython",
    "version": 3
   },
   "file_extension": ".py",
   "mimetype": "text/x-python",
   "name": "python",
   "nbconvert_exporter": "python",
   "pygments_lexer": "ipython3",
   "version": "3.7.8"
  }
 },
 "nbformat": 4,
 "nbformat_minor": 4
}
