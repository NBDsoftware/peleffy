{
 "cells": [
  {
   "cell_type": "code",
   "execution_count": 1,
   "metadata": {},
   "outputs": [],
   "source": [
    "import offPELE.topology.molecule as mol\n",
    "from offPELE.template import Impact"
   ]
  },
  {
   "cell_type": "code",
   "execution_count": 2,
   "metadata": {},
   "outputs": [
    {
     "name": "stdout",
     "output_type": "stream",
     "text": [
      " - Loading molecule from RDKit\n"
     ]
    },
    {
     "name": "stderr",
     "output_type": "stream",
     "text": [
      "Warning: Unable to load toolkit 'OpenEye Toolkit'. The Open Force Field Toolkit does not require the OpenEye Toolkits, and can use RDKit/AmberTools instead. However, if you have a valid license for the OpenEye Toolkits, consider installing them for faster performance and additional file format support: https://docs.eyesopen.com/toolkits/python/quickstart-python/linuxosx.html OpenEye offers free Toolkit licenses for academics: https://www.eyesopen.com/academic-licensing\n"
     ]
    },
    {
     "name": "stdout",
     "output_type": "stream",
     "text": [
      " - Loading forcefield\n",
      " - Computing partial charges with am1bcc\n",
      " - Generating rotamer library\n"
     ]
    }
   ],
   "source": [
    "NAME = 'BNZ'\n",
    "EXTENSION = '.pdb'\n",
    "FORCEFIELD = 'openff_unconstrained-1.1.1.offxml' \n",
    "\n",
    "molecule = mol.Molecule('../data/ligands/' + NAME.upper() + EXTENSION)\n",
    "molecule.parameterize(FORCEFIELD)\n",
    "molecule.build_rotamer_library(resolution=30)\n",
    "molecule.rotamer_library.to_file('../data/templates/' + NAME.upper() + '.rot.assign')\n",
    "impact = Impact(molecule)\n",
    "impact.write('../data/templates/' + NAME.lower() + 'z')"
   ]
  },
  {
   "cell_type": "code",
   "execution_count": 6,
   "metadata": {
    "scrolled": false
   },
   "outputs": [
    {
     "name": "stdout",
     "output_type": "stream",
     "text": [
      " - Loading molecule from RDKit\n",
      " - Loading forcefield\n",
      " - Computing partial charges with am1bcc\n",
      " - Generating rotamer library\n"
     ]
    }
   ],
   "source": [
    "NAME = 'TOL'\n",
    "EXTENSION = '.pdb'\n",
    "FORCEFIELD = 'openff_unconstrained-1.1.1.offxml' \n",
    "\n",
    "molecule = mol.Molecule('../data/ligands/' + NAME.upper() + EXTENSION)\n",
    "molecule.parameterize(FORCEFIELD)\n",
    "molecule.build_rotamer_library(resolution=30)\n",
    "molecule.rotamer_library.to_file('../data/templates/' + NAME.upper() + '.rot.assign')\n",
    "impact = Impact(molecule)\n",
    "impact.write('../data/templates/' + NAME.lower() + 'z')"
   ]
  },
  {
   "cell_type": "code",
   "execution_count": 7,
   "metadata": {},
   "outputs": [
    {
     "name": "stdout",
     "output_type": "stream",
     "text": [
      " - Loading molecule from RDKit\n",
      " - Loading forcefield\n",
      " - Computing partial charges with am1bcc\n",
      " - Generating rotamer library\n"
     ]
    }
   ],
   "source": [
    "NAME = 'OLC'\n",
    "EXTENSION = '.pdb'\n",
    "FORCEFIELD = 'openff_unconstrained-1.1.1.offxml' \n",
    "\n",
    "molecule = mol.Molecule('../data/ligands/' + NAME.upper() + EXTENSION)\n",
    "molecule.parameterize(FORCEFIELD)\n",
    "molecule.build_rotamer_library(resolution=30)\n",
    "molecule.rotamer_library.to_file('../data/templates/' + NAME.upper() + '.rot.assign')\n",
    "impact = Impact(molecule)\n",
    "impact.write('../data/templates/' + NAME.lower() + 'z')"
   ]
  },
  {
   "cell_type": "code",
   "execution_count": 8,
   "metadata": {},
   "outputs": [
    {
     "name": "stdout",
     "output_type": "stream",
     "text": [
      " - Loading molecule from RDKit\n",
      " - Loading forcefield\n",
      " - Computing partial charges with am1bcc\n",
      " - Generating rotamer library\n"
     ]
    }
   ],
   "source": [
    "NAME = 'BIA'\n",
    "EXTENSION = '.pdb'\n",
    "FORCEFIELD = 'openff_unconstrained-1.1.1.offxml' \n",
    "\n",
    "molecule = mol.Molecule('../data/ligands/' + NAME.upper() + EXTENSION)\n",
    "molecule.parameterize(FORCEFIELD)\n",
    "molecule.build_rotamer_library(resolution=30)\n",
    "molecule.rotamer_library.to_file('../data/templates/' + NAME.upper() + '.rot.assign')\n",
    "impact = Impact(molecule)\n",
    "impact.write('../data/templates/' + NAME.lower() + 'z')"
   ]
  },
  {
   "cell_type": "code",
   "execution_count": 9,
   "metadata": {},
   "outputs": [
    {
     "name": "stdout",
     "output_type": "stream",
     "text": [
      " - Loading molecule from RDKit\n",
      " - Loading forcefield\n",
      " - Computing partial charges with am1bcc\n",
      " - Generating rotamer library\n"
     ]
    }
   ],
   "source": [
    "NAME = 'LG1'\n",
    "EXTENSION = '.pdb'\n",
    "FORCEFIELD = 'openff_unconstrained-1.1.1.offxml' \n",
    "\n",
    "molecule = mol.Molecule('../data/ligands/' + NAME.upper() + EXTENSION)\n",
    "molecule.parameterize(FORCEFIELD)\n",
    "molecule.build_rotamer_library(resolution=30)\n",
    "molecule.rotamer_library.to_file('../data/templates/' + NAME.upper() + '.rot.assign')\n",
    "impact = Impact(molecule)\n",
    "impact.write('../data/templates/' + NAME.lower() + 'z')"
   ]
  },
  {
   "cell_type": "code",
   "execution_count": 10,
   "metadata": {},
   "outputs": [
    {
     "name": "stdout",
     "output_type": "stream",
     "text": [
      " - Loading molecule from RDKit\n",
      " - Loading forcefield\n",
      " - Computing partial charges with am1bcc\n",
      " - Generating rotamer library\n"
     ]
    }
   ],
   "source": [
    "NAME = 'MDB'\n",
    "EXTENSION = '.pdb'\n",
    "FORCEFIELD = 'openff_unconstrained-1.1.1.offxml' \n",
    "\n",
    "molecule = mol.Molecule('../data/ligands/' + NAME.upper() + EXTENSION)\n",
    "molecule.parameterize(FORCEFIELD)\n",
    "molecule.build_rotamer_library(resolution=30)\n",
    "molecule.rotamer_library.to_file('../data/templates/' + NAME.upper() + '.rot.assign')\n",
    "impact = Impact(molecule)\n",
    "impact.write('../data/templates/' + NAME.lower() + 'z')"
   ]
  },
  {
   "cell_type": "code",
   "execution_count": 11,
   "metadata": {},
   "outputs": [
    {
     "name": "stdout",
     "output_type": "stream",
     "text": [
      " - Loading molecule from RDKit\n",
      " - Loading forcefield\n",
      " - Computing partial charges with am1bcc\n",
      " - Generating rotamer library\n"
     ]
    }
   ],
   "source": [
    "NAME = 'SBN'\n",
    "EXTENSION = '.pdb'\n",
    "FORCEFIELD = 'openff_unconstrained-1.1.1.offxml' \n",
    "\n",
    "molecule = mol.Molecule('../data/ligands/' + NAME.upper() + EXTENSION)\n",
    "molecule.parameterize(FORCEFIELD)\n",
    "molecule.build_rotamer_library(resolution=30)\n",
    "molecule.rotamer_library.to_file('../data/templates/' + NAME.upper() + '.rot.assign')\n",
    "impact = Impact(molecule)\n",
    "impact.write('../data/templates/' + NAME.lower() + 'z')"
   ]
  }
 ],
 "metadata": {
  "kernelspec": {
   "display_name": "Python 3",
   "language": "python",
   "name": "python3"
  },
  "language_info": {
   "codemirror_mode": {
    "name": "ipython",
    "version": 3
   },
   "file_extension": ".py",
   "mimetype": "text/x-python",
   "name": "python",
   "nbconvert_exporter": "python",
   "pygments_lexer": "ipython3",
   "version": "3.7.4"
  }
 },
 "nbformat": 4,
 "nbformat_minor": 4
}
