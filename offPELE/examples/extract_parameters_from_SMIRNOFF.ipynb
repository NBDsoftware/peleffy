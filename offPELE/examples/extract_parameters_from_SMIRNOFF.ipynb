{
 "cells": [
  {
   "cell_type": "code",
   "execution_count": 41,
   "metadata": {},
   "outputs": [],
   "source": [
    "from rdkit import Chem\n",
    "from rdkit.Chem.Draw import IPythonConsole\n",
    "from rdkit.Chem.Draw.MolDrawing import MolDrawing, DrawingOptions\n",
    "\n",
    "DrawingOptions.bondLineWidth=1.8\n",
    "\n",
    "from openforcefield.topology import Molecule\n",
    "from offPELE.utils import get_data_file_path"
   ]
  },
  {
   "cell_type": "code",
   "execution_count": 46,
   "metadata": {},
   "outputs": [],
   "source": [
    "file_path = get_data_file_path('ligands/BNZ.pdb')\n",
    "ligand_rdkit_molecule = Chem.rdmolfiles.MolFromPDBFile(file_path, removeHs=False)\n",
    "ligand_molecule = Molecule.from_rdkit(ligand_rdkit_molecule)"
   ]
  },
  {
   "cell_type": "code",
   "execution_count": 47,
   "metadata": {},
   "outputs": [
    {
     "data": {
      "image/png": "[encoded data removed]",
      "text/plain": [
       "<PIL.Image.Image image mode=RGB size=300x300 at 0x7FECBEDF7E10>"
      ]
     },
     "execution_count": 47,
     "metadata": {},
     "output_type": "execute_result"
    }
   ],
   "source": [
    "ligand_rdkit_molecule.Compute2DCoords()\n",
    "Chem.Draw.MolToImage(ligand_rdkit_molecule)"
   ]
  },
  {
   "cell_type": "code",
   "execution_count": 48,
   "metadata": {},
   "outputs": [],
   "source": [
    "from openforcefield.typing.engines.smirnoff import ForceField\n",
    "#from openforcefields import get_forcefield_dirs_paths\n",
    "forcefield = ForceField('openff-1.1.1.offxml')"
   ]
  },
  {
   "cell_type": "code",
   "execution_count": 49,
   "metadata": {},
   "outputs": [],
   "source": [
    "system = forcefield.create_openmm_system(ligand_molecule.to_topology())"
   ]
  },
  {
   "cell_type": "code",
   "execution_count": 6,
   "metadata": {},
   "outputs": [],
   "source": [
    "forces = system.getForces()"
   ]
  },
  {
   "cell_type": "code",
   "execution_count": 19,
   "metadata": {},
   "outputs": [],
   "source": [
    "force = forces[1]"
   ]
  },
  {
   "cell_type": "code",
   "execution_count": 21,
   "metadata": {},
   "outputs": [
    {
     "data": {
      "text/plain": [
       "[1,\n",
       " 3,\n",
       " 6,\n",
       " 0,\n",
       " 2,\n",
       " Quantity(value=3.141592653589793, unit=radian),\n",
       " Quantity(value=1.5341333333333336, unit=kilojoule/mole)]"
      ]
     },
     "execution_count": 21,
     "metadata": {},
     "output_type": "execute_result"
    }
   ],
   "source": [
    "force.getTorsionParameters(1)"
   ]
  },
  {
   "cell_type": "code",
   "execution_count": 23,
   "metadata": {},
   "outputs": [],
   "source": [
    "from simtk.openmm import XmlSerializer\n",
    "with open('complex.xml', 'w') as f:\n",
    "    f.write(XmlSerializer.serialize(system))"
   ]
  },
  {
   "cell_type": "markdown",
   "metadata": {},
   "source": [
    "## Get atomic mass"
   ]
  },
  {
   "cell_type": "code",
   "execution_count": 50,
   "metadata": {
    "scrolled": true
   },
   "outputs": [
    {
     "name": "stdout",
     "output_type": "stream",
     "text": [
      "TopologyAtom 0 with reference atom <Atom name='C1' atomic number='6'> and parent TopologyMolecule <openforcefield.topology.topology.TopologyMolecule object at 0x7fecbf485650>\n",
      "TopologyAtom 1 with reference atom <Atom name='C2' atomic number='6'> and parent TopologyMolecule <openforcefield.topology.topology.TopologyMolecule object at 0x7fecbf485650>\n",
      "TopologyAtom 2 with reference atom <Atom name='C3' atomic number='6'> and parent TopologyMolecule <openforcefield.topology.topology.TopologyMolecule object at 0x7fecbf485650>\n",
      "TopologyAtom 3 with reference atom <Atom name='C4' atomic number='6'> and parent TopologyMolecule <openforcefield.topology.topology.TopologyMolecule object at 0x7fecbf485650>\n",
      "TopologyAtom 4 with reference atom <Atom name='C5' atomic number='6'> and parent TopologyMolecule <openforcefield.topology.topology.TopologyMolecule object at 0x7fecbf485650>\n",
      "TopologyAtom 5 with reference atom <Atom name='C6' atomic number='6'> and parent TopologyMolecule <openforcefield.topology.topology.TopologyMolecule object at 0x7fecbf485650>\n",
      "TopologyAtom 6 with reference atom <Atom name='H1' atomic number='1'> and parent TopologyMolecule <openforcefield.topology.topology.TopologyMolecule object at 0x7fecbf485650>\n",
      "TopologyAtom 7 with reference atom <Atom name='H2' atomic number='1'> and parent TopologyMolecule <openforcefield.topology.topology.TopologyMolecule object at 0x7fecbf485650>\n",
      "TopologyAtom 8 with reference atom <Atom name='H3' atomic number='1'> and parent TopologyMolecule <openforcefield.topology.topology.TopologyMolecule object at 0x7fecbf485650>\n",
      "TopologyAtom 9 with reference atom <Atom name='H4' atomic number='1'> and parent TopologyMolecule <openforcefield.topology.topology.TopologyMolecule object at 0x7fecbf485650>\n",
      "TopologyAtom 10 with reference atom <Atom name='H5' atomic number='1'> and parent TopologyMolecule <openforcefield.topology.topology.TopologyMolecule object at 0x7fecbf485650>\n",
      "TopologyAtom 11 with reference atom <Atom name='H6' atomic number='1'> and parent TopologyMolecule <openforcefield.topology.topology.TopologyMolecule object at 0x7fecbf485650>\n"
     ]
    }
   ],
   "source": [
    "for atom in ligand_molecule.to_topology().topology_particles:\n",
    "    print(atom)\n",
    "    "
   ]
  },
  {
   "cell_type": "markdown",
   "metadata": {},
   "source": [
    "## Forcefield parameter handlers"
   ]
  },
  {
   "cell_type": "markdown",
   "metadata": {},
   "source": [
    "### Parameter handler dependencies"
   ]
  },
  {
   "cell_type": "code",
   "execution_count": 58,
   "metadata": {},
   "outputs": [
    {
     "name": "stdout",
     "output_type": "stream",
     "text": [
      "Constraints:\n",
      "Bonds:\n",
      "  - Constraints\n",
      "Angles:\n",
      "  - Constraints\n",
      "ProperTorsions:\n",
      "ImproperTorsions:\n",
      "vdW:\n",
      "Electrostatics:\n",
      "  - vdW\n",
      "LibraryCharges:\n",
      "  - vdW\n",
      "  - Electrostatics\n",
      "ToolkitAM1BCC:\n",
      "  - vdW\n",
      "  - Electrostatics\n",
      "  - LibraryCharges\n"
     ]
    }
   ],
   "source": [
    "for tagname, handler in forcefield._parameter_handlers.items():\n",
    "    print('{}:'.format(tagname))\n",
    "    if handler._DEPENDENCIES is not None:\n",
    "        for dep in handler._DEPENDENCIES:\n",
    "            print(' -', dep._TAGNAME)"
   ]
  },
  {
   "cell_type": "code",
   "execution_count": 59,
   "metadata": {},
   "outputs": [],
   "source": [
    "ordered_parameter_handlers = forcefield._resolve_parameter_handler_order()"
   ]
  },
  {
   "cell_type": "code",
   "execution_count": 63,
   "metadata": {},
   "outputs": [
    {
     "name": "stdout",
     "output_type": "stream",
     "text": [
      "vdW\n",
      "Electrostatics\n",
      "LibraryCharges\n",
      "ToolkitAM1BCC\n",
      "ImproperTorsions\n",
      "ProperTorsions\n",
      "Constraints\n",
      "Angles\n",
      "Bonds\n"
     ]
    }
   ],
   "source": [
    "for handler in ordered_parameter_handlers:\n",
    "    print(handler._TAGNAME)"
   ]
  },
  {
   "cell_type": "code",
   "execution_count": 154,
   "metadata": {},
   "outputs": [],
   "source": [
    "ligand_topology = ligand_molecule.to_topology()"
   ]
  },
  {
   "cell_type": "markdown",
   "metadata": {},
   "source": [
    "### Extract vdW parameters"
   ]
  },
  {
   "cell_type": "code",
   "execution_count": 155,
   "metadata": {},
   "outputs": [
    {
     "name": "stdout",
     "output_type": "stream",
     "text": [
      "vdW\n"
     ]
    }
   ],
   "source": [
    "from openforcefield.typing.engines.smirnoff.parameters import vdWHandler\n",
    "\n",
    "for handler in ordered_parameter_handlers:\n",
    "    if isinstance(handler, vdWHandler):\n",
    "        break\n",
    "\n",
    "vdW_handler = handler\n",
    "print(vdW_handler._TAGNAME)"
   ]
  },
  {
   "cell_type": "code",
   "execution_count": 156,
   "metadata": {},
   "outputs": [],
   "source": [
    "vdW_matches = vdW_handler.find_matches(ligand_topology)"
   ]
  },
  {
   "cell_type": "code",
   "execution_count": 157,
   "metadata": {},
   "outputs": [
    {
     "name": "stdout",
     "output_type": "stream",
     "text": [
      "(0,) 0.086 kcal/mol None 1.908 A\n",
      "(1,) 0.086 kcal/mol None 1.908 A\n",
      "(2,) 0.086 kcal/mol None 1.908 A\n",
      "(3,) 0.086 kcal/mol None 1.908 A\n",
      "(4,) 0.086 kcal/mol None 1.908 A\n",
      "(5,) 0.086 kcal/mol None 1.908 A\n",
      "(6,) 0.015 kcal/mol None 1.459 A\n",
      "(7,) 0.015 kcal/mol None 1.459 A\n",
      "(8,) 0.015 kcal/mol None 1.459 A\n",
      "(9,) 0.015 kcal/mol None 1.459 A\n",
      "(10,) 0.015 kcal/mol None 1.459 A\n",
      "(11,) 0.015 kcal/mol None 1.459 A\n"
     ]
    }
   ],
   "source": [
    "for topology_atom_indices, vdW_match in vdW_matches.items():\n",
    "    print(topology_atom_indices, vdW_match.parameter_type.epsilon, vdW_match.parameter_type.sigma,\n",
    "          vdW_match.parameter_type.rmin_half)"
   ]
  },
  {
   "cell_type": "markdown",
   "metadata": {},
   "source": [
    "### Extract electrostatic parameters"
   ]
  },
  {
   "cell_type": "code",
   "execution_count": 183,
   "metadata": {},
   "outputs": [
    {
     "name": "stdout",
     "output_type": "stream",
     "text": [
      "Electrostatics\n"
     ]
    }
   ],
   "source": [
    "from openforcefield.typing.engines.smirnoff.parameters import ElectrostaticsHandler\n",
    "\n",
    "for handler in ordered_parameter_handlers:\n",
    "    if isinstance(handler, ElectrostaticsHandler):\n",
    "        break\n",
    "\n",
    "electrostatics_handler = handler\n",
    "print(electrostatics_handler._TAGNAME)"
   ]
  },
  {
   "cell_type": "code",
   "execution_count": 184,
   "metadata": {},
   "outputs": [],
   "source": [
    "electrostatics_matches = electrostatics_handler.find_matches(ligand_topology)"
   ]
  },
  {
   "cell_type": "code",
   "execution_count": 185,
   "metadata": {},
   "outputs": [],
   "source": [
    "for topology_atom_indices, electrostatics_match in electrostatics_matches.items():\n",
    "    print(topology_atom_indices, electrostatics_match.parameter_type.epsilon, electrostatics_match.parameter_type.sigma,\n",
    "          electrostatics_match.parameter_type.rmin_half)"
   ]
  },
  {
   "cell_type": "markdown",
   "metadata": {},
   "source": [
    "### Extract library charge parameters"
   ]
  },
  {
   "cell_type": "code",
   "execution_count": 186,
   "metadata": {},
   "outputs": [
    {
     "name": "stdout",
     "output_type": "stream",
     "text": [
      "LibraryCharges\n"
     ]
    }
   ],
   "source": [
    "from openforcefield.typing.engines.smirnoff.parameters import LibraryChargeHandler\n",
    "\n",
    "for handler in ordered_parameter_handlers:\n",
    "    if isinstance(handler, LibraryChargeHandler):\n",
    "        break\n",
    "\n",
    "library_charge_handler = handler\n",
    "print(library_charge_handler._TAGNAME)"
   ]
  },
  {
   "cell_type": "code",
   "execution_count": 187,
   "metadata": {},
   "outputs": [],
   "source": [
    "library_charge_matches = library_charge_handler.find_matches(ligand_topology)"
   ]
  },
  {
   "cell_type": "code",
   "execution_count": 188,
   "metadata": {},
   "outputs": [],
   "source": [
    "for topology_atom_indices, library_charge_match in library_charge_matches.items():\n",
    "    print(topology_atom_indices, library_charge_match.parameter_type.epsilon, library_charge_match.parameter_type.sigma,\n",
    "          library_charge_match.parameter_type.rmin_half)"
   ]
  },
  {
   "cell_type": "markdown",
   "metadata": {},
   "source": [
    "### Extract ToolkitAM1BCC parameters"
   ]
  },
  {
   "cell_type": "code",
   "execution_count": 189,
   "metadata": {},
   "outputs": [
    {
     "name": "stdout",
     "output_type": "stream",
     "text": [
      "ToolkitAM1BCC\n"
     ]
    }
   ],
   "source": [
    "from openforcefield.typing.engines.smirnoff.parameters import ToolkitAM1BCCHandler\n",
    "\n",
    "for handler in ordered_parameter_handlers:\n",
    "    if isinstance(handler, ToolkitAM1BCCHandler):\n",
    "        break\n",
    "\n",
    "toolkit_AM1BCC_handler = handler\n",
    "print(toolkit_AM1BCC_handler._TAGNAME)"
   ]
  },
  {
   "cell_type": "code",
   "execution_count": 190,
   "metadata": {},
   "outputs": [],
   "source": [
    "toolkit_AM1BCC_matches = toolkit_AM1BCC_handler.find_matches(ligand_topology)"
   ]
  },
  {
   "cell_type": "code",
   "execution_count": 191,
   "metadata": {},
   "outputs": [],
   "source": [
    "for topology_atom_indices, toolkit_AM1BCC_match in toolkit_AM1BCC_matches.items():\n",
    "    print(topology_atom_indices, library_charge_match.parameter_type.epsilon, library_charge_match.parameter_type.sigma,\n",
    "          library_charge_match.parameter_type.rmin_half)"
   ]
  },
  {
   "cell_type": "code",
   "execution_count": 192,
   "metadata": {},
   "outputs": [
    {
     "ename": "SyntaxError",
     "evalue": "invalid syntax (<ipython-input-192-61b93e4afa3f>, line 1)",
     "output_type": "error",
     "traceback": [
      "\u001b[0;36m  File \u001b[0;32m\"<ipython-input-192-61b93e4afa3f>\"\u001b[0;36m, line \u001b[0;32m1\u001b[0m\n\u001b[0;31m    toolkit_AM1BCC_match.\u001b[0m\n\u001b[0m                         ^\u001b[0m\n\u001b[0;31mSyntaxError\u001b[0m\u001b[0;31m:\u001b[0m invalid syntax\n"
     ]
    }
   ],
   "source": [
    "toolkit_AM1BCC_match."
   ]
  },
  {
   "cell_type": "code",
   "execution_count": 169,
   "metadata": {},
   "outputs": [
    {
     "data": {
      "text/plain": [
       "<openforcefield.topology.topology.Topology at 0x7fecbd5e5e50>"
      ]
     },
     "execution_count": 169,
     "metadata": {},
     "output_type": "execute_result"
    }
   ],
   "source": [
    "ligand_topology"
   ]
  },
  {
   "cell_type": "code",
   "execution_count": 177,
   "metadata": {},
   "outputs": [
    {
     "name": "stdout",
     "output_type": "stream",
     "text": [
      "Molecule with name 'HYDROLASE' and SMILES '[H][c]1[c]([H])[c]([H])[c]([H])[c]([H])[c]1[H]'\n"
     ]
    }
   ],
   "source": [
    "for molecule in ligand_topology.reference_molecules:\n",
    "    print(molecule)"
   ]
  },
  {
   "cell_type": "code",
   "execution_count": 180,
   "metadata": {},
   "outputs": [],
   "source": [
    "molecule.compute_partial_charges_am1bcc()"
   ]
  },
  {
   "cell_type": "code",
   "execution_count": 182,
   "metadata": {},
   "outputs": [
    {
     "ename": "NotImplementedError",
     "evalue": "",
     "output_type": "error",
     "traceback": [
      "\u001b[0;31m---------------------------------------------------------------------------\u001b[0m",
      "\u001b[0;31mNotImplementedError\u001b[0m                       Traceback (most recent call last)",
      "\u001b[0;32m<ipython-input-182-08e7e942a194>\u001b[0m in \u001b[0;36m<module>\u001b[0;34m\u001b[0m\n\u001b[0;32m----> 1\u001b[0;31m \u001b[0mmolecule\u001b[0m\u001b[0;34m.\u001b[0m\u001b[0mcompute_partial_charges\u001b[0m\u001b[0;34m(\u001b[0m\u001b[0;34m)\u001b[0m\u001b[0;34m\u001b[0m\u001b[0;34m\u001b[0m\u001b[0m\n\u001b[0m",
      "\u001b[0;32m~/environments/boost_1_68_0/lib/python3.7/site-packages/openforcefield-0.6.0+422.gd36894a-py3.7.egg/openforcefield/topology/molecule.py\u001b[0m in \u001b[0;36mcompute_partial_charges\u001b[0;34m(self, toolkit_registry)\u001b[0m\n\u001b[1;32m   2355\u001b[0m \u001b[0;34m\u001b[0m\u001b[0m\n\u001b[1;32m   2356\u001b[0m         \"\"\"\n\u001b[0;32m-> 2357\u001b[0;31m         \u001b[0;32mraise\u001b[0m \u001b[0mNotImplementedError\u001b[0m\u001b[0;34m\u001b[0m\u001b[0;34m\u001b[0m\u001b[0m\n\u001b[0m\u001b[1;32m   2358\u001b[0m         \u001b[0;31m# TODO: Implement this in a way that's compliant with SMIRNOFF's <ChargeIncrementModel> tag when the spec gets finalized\u001b[0m\u001b[0;34m\u001b[0m\u001b[0;34m\u001b[0m\u001b[0;34m\u001b[0m\u001b[0m\n\u001b[1;32m   2359\u001b[0m         \u001b[0;31m# if isinstance(toolkit_registry, ToolkitRegistry):\u001b[0m\u001b[0;34m\u001b[0m\u001b[0;34m\u001b[0m\u001b[0;34m\u001b[0m\u001b[0m\n",
      "\u001b[0;31mNotImplementedError\u001b[0m: "
     ]
    }
   ],
   "source": [
    "molecule.compute_partial_charges()"
   ]
  },
  {
   "cell_type": "code",
   "execution_count": 181,
   "metadata": {},
   "outputs": [
    {
     "data": {
      "text/plain": [
       "Quantity(value=array([-0.13, -0.13, -0.13, -0.13, -0.13, -0.13,  0.13,  0.13,  0.13,\n",
       "        0.13,  0.13,  0.13]), unit=elementary charge)"
      ]
     },
     "execution_count": 181,
     "metadata": {},
     "output_type": "execute_result"
    }
   ],
   "source": [
    "molecule.partial_charges"
   ]
  },
  {
   "cell_type": "markdown",
   "metadata": {},
   "source": [
    "### Extract bond parameters"
   ]
  },
  {
   "cell_type": "code",
   "execution_count": 90,
   "metadata": {},
   "outputs": [
    {
     "name": "stdout",
     "output_type": "stream",
     "text": [
      "Bonds\n"
     ]
    }
   ],
   "source": [
    "from openforcefield.typing.engines.smirnoff.parameters import BondHandler\n",
    "\n",
    "for handler in ordered_parameter_handlers:\n",
    "    if isinstance(handler, BondHandler):\n",
    "        break\n",
    "\n",
    "bond_handler = handler\n",
    "print(bond_handler._TAGNAME)"
   ]
  },
  {
   "cell_type": "code",
   "execution_count": 91,
   "metadata": {},
   "outputs": [],
   "source": [
    "bond_matches = bond_handler.find_matches(ligand_topology)"
   ]
  },
  {
   "cell_type": "code",
   "execution_count": 92,
   "metadata": {},
   "outputs": [
    {
     "name": "stdout",
     "output_type": "stream",
     "text": [
      "(0, 1) 1.388684811982 A 703.7861640732 kcal/(A**2 mol)\n",
      "(0, 5) 1.388684811982 A 703.7861640732 kcal/(A**2 mol)\n",
      "(0, 6) 1.085028902395 A 808.0585583296 kcal/(A**2 mol)\n",
      "(1, 2) 1.388684811982 A 703.7861640732 kcal/(A**2 mol)\n",
      "(1, 7) 1.085028902395 A 808.0585583296 kcal/(A**2 mol)\n",
      "(2, 3) 1.388684811982 A 703.7861640732 kcal/(A**2 mol)\n",
      "(2, 8) 1.085028902395 A 808.0585583296 kcal/(A**2 mol)\n",
      "(3, 4) 1.388684811982 A 703.7861640732 kcal/(A**2 mol)\n",
      "(3, 9) 1.085028902395 A 808.0585583296 kcal/(A**2 mol)\n",
      "(4, 5) 1.388684811982 A 703.7861640732 kcal/(A**2 mol)\n",
      "(4, 10) 1.085028902395 A 808.0585583296 kcal/(A**2 mol)\n",
      "(5, 11) 1.085028902395 A 808.0585583296 kcal/(A**2 mol)\n"
     ]
    }
   ],
   "source": [
    "for topology_atom_indices, bond_match in bond_matches.items():\n",
    "    print(topology_atom_indices, bond_match.parameter_type.length, bond_match.parameter_type.k)"
   ]
  },
  {
   "cell_type": "markdown",
   "metadata": {},
   "source": [
    "### Extract angle parameters"
   ]
  },
  {
   "cell_type": "code",
   "execution_count": 93,
   "metadata": {},
   "outputs": [
    {
     "name": "stdout",
     "output_type": "stream",
     "text": [
      "Angles\n"
     ]
    }
   ],
   "source": [
    "from openforcefield.typing.engines.smirnoff.parameters import AngleHandler\n",
    "\n",
    "for handler in ordered_parameter_handlers:\n",
    "    if isinstance(handler, AngleHandler):\n",
    "        break\n",
    "\n",
    "angle_handler = handler\n",
    "print(angle_handler._TAGNAME)"
   ]
  },
  {
   "cell_type": "code",
   "execution_count": 98,
   "metadata": {},
   "outputs": [],
   "source": [
    "angle_matches = angle_handler.find_matches(ligand_topology)"
   ]
  },
  {
   "cell_type": "code",
   "execution_count": 100,
   "metadata": {},
   "outputs": [
    {
     "name": "stdout",
     "output_type": "stream",
     "text": [
      "(0, 1, 2) 132.0554838002 deg 153.7825131248 kcal/(mol rad**2)\n",
      "(0, 1, 7) 137.9694119749 deg 66.76856405714 kcal/(mol rad**2)\n",
      "(0, 5, 4) 132.0554838002 deg 153.7825131248 kcal/(mol rad**2)\n",
      "(0, 5, 11) 137.9694119749 deg 66.76856405714 kcal/(mol rad**2)\n",
      "(1, 0, 5) 132.0554838002 deg 153.7825131248 kcal/(mol rad**2)\n",
      "(1, 0, 6) 137.9694119749 deg 66.76856405714 kcal/(mol rad**2)\n",
      "(1, 2, 3) 132.0554838002 deg 153.7825131248 kcal/(mol rad**2)\n",
      "(1, 2, 8) 137.9694119749 deg 66.76856405714 kcal/(mol rad**2)\n",
      "(2, 1, 7) 137.9694119749 deg 66.76856405714 kcal/(mol rad**2)\n",
      "(2, 3, 4) 132.0554838002 deg 153.7825131248 kcal/(mol rad**2)\n",
      "(2, 3, 9) 137.9694119749 deg 66.76856405714 kcal/(mol rad**2)\n",
      "(3, 2, 8) 137.9694119749 deg 66.76856405714 kcal/(mol rad**2)\n",
      "(3, 4, 5) 132.0554838002 deg 153.7825131248 kcal/(mol rad**2)\n",
      "(3, 4, 10) 137.9694119749 deg 66.76856405714 kcal/(mol rad**2)\n",
      "(4, 3, 9) 137.9694119749 deg 66.76856405714 kcal/(mol rad**2)\n",
      "(4, 5, 11) 137.9694119749 deg 66.76856405714 kcal/(mol rad**2)\n",
      "(5, 0, 6) 137.9694119749 deg 66.76856405714 kcal/(mol rad**2)\n",
      "(5, 4, 10) 137.9694119749 deg 66.76856405714 kcal/(mol rad**2)\n"
     ]
    }
   ],
   "source": [
    "for topology_atom_indices, angle_match in angle_matches.items():\n",
    "    print(topology_atom_indices, angle_match.parameter_type.angle, angle_match.parameter_type.k)"
   ]
  },
  {
   "cell_type": "markdown",
   "metadata": {},
   "source": [
    "### Extract proper torsion parameters"
   ]
  },
  {
   "cell_type": "code",
   "execution_count": 104,
   "metadata": {},
   "outputs": [
    {
     "name": "stdout",
     "output_type": "stream",
     "text": [
      "ProperTorsions\n"
     ]
    }
   ],
   "source": [
    "from openforcefield.typing.engines.smirnoff.parameters import ProperTorsionHandler\n",
    "\n",
    "for handler in ordered_parameter_handlers:\n",
    "    if isinstance(handler, ProperTorsionHandler):\n",
    "        break\n",
    "\n",
    "proper_torsion_handler = handler\n",
    "print(proper_torsion_handler._TAGNAME)"
   ]
  },
  {
   "cell_type": "code",
   "execution_count": 105,
   "metadata": {},
   "outputs": [],
   "source": [
    "proper_torsion_matches = proper_torsion_handler.find_matches(ligand_topology)"
   ]
  },
  {
   "cell_type": "code",
   "execution_count": 110,
   "metadata": {},
   "outputs": [
    {
     "name": "stdout",
     "output_type": "stream",
     "text": [
      "(0, 1, 2, 3) [2] [Quantity(value=180.0, unit=degree)] [Quantity(value=2.639861699998, unit=kilocalorie/mole)]\n",
      "(0, 1, 2, 8) [2] [Quantity(value=180.0, unit=degree)] [Quantity(value=2.639861699998, unit=kilocalorie/mole)]\n",
      "(0, 5, 4, 3) [2] [Quantity(value=180.0, unit=degree)] [Quantity(value=2.639861699998, unit=kilocalorie/mole)]\n",
      "(0, 5, 4, 10) [2] [Quantity(value=180.0, unit=degree)] [Quantity(value=2.639861699998, unit=kilocalorie/mole)]\n",
      "(1, 0, 5, 4) [2] [Quantity(value=180.0, unit=degree)] [Quantity(value=2.639861699998, unit=kilocalorie/mole)]\n",
      "(1, 0, 5, 11) [2] [Quantity(value=180.0, unit=degree)] [Quantity(value=2.639861699998, unit=kilocalorie/mole)]\n",
      "(1, 2, 3, 4) [2] [Quantity(value=180.0, unit=degree)] [Quantity(value=2.639861699998, unit=kilocalorie/mole)]\n",
      "(1, 2, 3, 9) [2] [Quantity(value=180.0, unit=degree)] [Quantity(value=2.639861699998, unit=kilocalorie/mole)]\n",
      "(2, 1, 0, 5) [2] [Quantity(value=180.0, unit=degree)] [Quantity(value=2.639861699998, unit=kilocalorie/mole)]\n",
      "(2, 1, 0, 6) [2] [Quantity(value=180.0, unit=degree)] [Quantity(value=2.639861699998, unit=kilocalorie/mole)]\n",
      "(2, 3, 4, 5) [2] [Quantity(value=180.0, unit=degree)] [Quantity(value=2.639861699998, unit=kilocalorie/mole)]\n",
      "(2, 3, 4, 10) [2] [Quantity(value=180.0, unit=degree)] [Quantity(value=2.639861699998, unit=kilocalorie/mole)]\n",
      "(3, 2, 1, 7) [2] [Quantity(value=180.0, unit=degree)] [Quantity(value=2.639861699998, unit=kilocalorie/mole)]\n",
      "(3, 4, 5, 11) [2] [Quantity(value=180.0, unit=degree)] [Quantity(value=2.639861699998, unit=kilocalorie/mole)]\n",
      "(4, 3, 2, 8) [2] [Quantity(value=180.0, unit=degree)] [Quantity(value=2.639861699998, unit=kilocalorie/mole)]\n",
      "(4, 5, 0, 6) [2] [Quantity(value=180.0, unit=degree)] [Quantity(value=2.639861699998, unit=kilocalorie/mole)]\n",
      "(5, 0, 1, 7) [2] [Quantity(value=180.0, unit=degree)] [Quantity(value=2.639861699998, unit=kilocalorie/mole)]\n",
      "(5, 4, 3, 9) [2] [Quantity(value=180.0, unit=degree)] [Quantity(value=2.639861699998, unit=kilocalorie/mole)]\n",
      "(6, 0, 1, 7) [2] [Quantity(value=180.0, unit=degree)] [Quantity(value=2.639861699998, unit=kilocalorie/mole)]\n",
      "(6, 0, 5, 11) [2] [Quantity(value=180.0, unit=degree)] [Quantity(value=2.639861699998, unit=kilocalorie/mole)]\n",
      "(7, 1, 2, 8) [2] [Quantity(value=180.0, unit=degree)] [Quantity(value=2.639861699998, unit=kilocalorie/mole)]\n",
      "(8, 2, 3, 9) [2] [Quantity(value=180.0, unit=degree)] [Quantity(value=2.639861699998, unit=kilocalorie/mole)]\n",
      "(9, 3, 4, 10) [2] [Quantity(value=180.0, unit=degree)] [Quantity(value=2.639861699998, unit=kilocalorie/mole)]\n",
      "(10, 4, 5, 11) [2] [Quantity(value=180.0, unit=degree)] [Quantity(value=2.639861699998, unit=kilocalorie/mole)]\n"
     ]
    }
   ],
   "source": [
    "for topology_atom_indices, proper_torsion_match in proper_torsion_matches.items():\n",
    "    print(topology_atom_indices, proper_torsion_match.parameter_type.periodicity,\n",
    "          proper_torsion_match.parameter_type.phase, proper_torsion_match.parameter_type.k)"
   ]
  },
  {
   "cell_type": "markdown",
   "metadata": {},
   "source": [
    "### Extract improper torsion parameters"
   ]
  },
  {
   "cell_type": "code",
   "execution_count": 111,
   "metadata": {},
   "outputs": [
    {
     "name": "stdout",
     "output_type": "stream",
     "text": [
      "ImproperTorsions\n"
     ]
    }
   ],
   "source": [
    "from openforcefield.typing.engines.smirnoff.parameters import ImproperTorsionHandler\n",
    "\n",
    "for handler in ordered_parameter_handlers:\n",
    "    if isinstance(handler, ImproperTorsionHandler):\n",
    "        break\n",
    "\n",
    "improper_torsion_handler = handler\n",
    "print(improper_torsion_handler._TAGNAME)"
   ]
  },
  {
   "cell_type": "code",
   "execution_count": 112,
   "metadata": {},
   "outputs": [],
   "source": [
    "improper_torsion_matches = improper_torsion_handler.find_matches(ligand_topology)"
   ]
  },
  {
   "cell_type": "code",
   "execution_count": 113,
   "metadata": {},
   "outputs": [
    {
     "name": "stdout",
     "output_type": "stream",
     "text": [
      "(0, 1, 2, 7) [2] [Quantity(value=180.0, unit=degree)] [Quantity(value=1.1, unit=kilocalorie/mole)]\n",
      "(0, 5, 4, 11) [2] [Quantity(value=180.0, unit=degree)] [Quantity(value=1.1, unit=kilocalorie/mole)]\n",
      "(1, 0, 5, 6) [2] [Quantity(value=180.0, unit=degree)] [Quantity(value=1.1, unit=kilocalorie/mole)]\n",
      "(1, 2, 3, 8) [2] [Quantity(value=180.0, unit=degree)] [Quantity(value=1.1, unit=kilocalorie/mole)]\n",
      "(2, 3, 4, 9) [2] [Quantity(value=180.0, unit=degree)] [Quantity(value=1.1, unit=kilocalorie/mole)]\n",
      "(3, 4, 5, 10) [2] [Quantity(value=180.0, unit=degree)] [Quantity(value=1.1, unit=kilocalorie/mole)]\n"
     ]
    }
   ],
   "source": [
    "for topology_atom_indices, improper_torsion_match in improper_torsion_matches.items():\n",
    "    print(topology_atom_indices, improper_torsion_match.parameter_type.periodicity,\n",
    "          improper_torsion_match.parameter_type.phase, improper_torsion_match.parameter_type.k)"
   ]
  },
  {
   "cell_type": "code",
   "execution_count": null,
   "metadata": {},
   "outputs": [],
   "source": []
  }
 ],
 "metadata": {
  "kernelspec": {
   "display_name": "Python 3",
   "language": "python",
   "name": "python3"
  },
  "language_info": {
   "codemirror_mode": {
    "name": "ipython",
    "version": 3
   },
   "file_extension": ".py",
   "mimetype": "text/x-python",
   "name": "python",
   "nbconvert_exporter": "python",
   "pygments_lexer": "ipython3",
   "version": "3.7.4"
  }
 },
 "nbformat": 4,
 "nbformat_minor": 4
}
